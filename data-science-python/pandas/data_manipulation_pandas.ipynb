{
 "cells": [
  {
   "cell_type": "markdown",
   "metadata": {},
   "source": [
    "### Topics"
   ]
  },
  {
   "cell_type": "markdown",
   "metadata": {},
   "source": [
    "- Subsetting and sorting\n",
    "- Adding new columns\n",
    "- Aggregating and grouping\n",
    "- Summary Statistics\n",
    "- Indexing\n",
    "- Slicing\n",
    "- Visualizations"
   ]
  },
  {
   "cell_type": "markdown",
   "metadata": {},
   "source": [
    "## Transforming DataFrames"
   ]
  },
  {
   "cell_type": "code",
   "execution_count": 1,
   "metadata": {},
   "outputs": [],
   "source": [
    "import pandas as pd"
   ]
  },
  {
   "cell_type": "code",
   "execution_count": 2,
   "metadata": {},
   "outputs": [],
   "source": [
    "homelessness = pd.read_csv('../data/pandas_datasets/homelessness.csv')"
   ]
  },
  {
   "cell_type": "code",
   "execution_count": 3,
   "metadata": {},
   "outputs": [
    {
     "data": {
      "text/html": [
       "<div>\n",
       "<style scoped>\n",
       "    .dataframe tbody tr th:only-of-type {\n",
       "        vertical-align: middle;\n",
       "    }\n",
       "\n",
       "    .dataframe tbody tr th {\n",
       "        vertical-align: top;\n",
       "    }\n",
       "\n",
       "    .dataframe thead th {\n",
       "        text-align: right;\n",
       "    }\n",
       "</style>\n",
       "<table border=\"1\" class=\"dataframe\">\n",
       "  <thead>\n",
       "    <tr style=\"text-align: right;\">\n",
       "      <th></th>\n",
       "      <th>Unnamed: 0</th>\n",
       "      <th>region</th>\n",
       "      <th>state</th>\n",
       "      <th>individuals</th>\n",
       "      <th>family_members</th>\n",
       "      <th>state_pop</th>\n",
       "    </tr>\n",
       "  </thead>\n",
       "  <tbody>\n",
       "    <tr>\n",
       "      <th>0</th>\n",
       "      <td>0</td>\n",
       "      <td>East South Central</td>\n",
       "      <td>Alabama</td>\n",
       "      <td>2570.0</td>\n",
       "      <td>864.0</td>\n",
       "      <td>4887681</td>\n",
       "    </tr>\n",
       "    <tr>\n",
       "      <th>1</th>\n",
       "      <td>1</td>\n",
       "      <td>Pacific</td>\n",
       "      <td>Alaska</td>\n",
       "      <td>1434.0</td>\n",
       "      <td>582.0</td>\n",
       "      <td>735139</td>\n",
       "    </tr>\n",
       "    <tr>\n",
       "      <th>2</th>\n",
       "      <td>2</td>\n",
       "      <td>Mountain</td>\n",
       "      <td>Arizona</td>\n",
       "      <td>7259.0</td>\n",
       "      <td>2606.0</td>\n",
       "      <td>7158024</td>\n",
       "    </tr>\n",
       "    <tr>\n",
       "      <th>3</th>\n",
       "      <td>3</td>\n",
       "      <td>West South Central</td>\n",
       "      <td>Arkansas</td>\n",
       "      <td>2280.0</td>\n",
       "      <td>432.0</td>\n",
       "      <td>3009733</td>\n",
       "    </tr>\n",
       "    <tr>\n",
       "      <th>4</th>\n",
       "      <td>4</td>\n",
       "      <td>Pacific</td>\n",
       "      <td>California</td>\n",
       "      <td>109008.0</td>\n",
       "      <td>20964.0</td>\n",
       "      <td>39461588</td>\n",
       "    </tr>\n",
       "  </tbody>\n",
       "</table>\n",
       "</div>"
      ],
      "text/plain": [
       "   Unnamed: 0              region       state  individuals  family_members  \\\n",
       "0           0  East South Central     Alabama       2570.0           864.0   \n",
       "1           1             Pacific      Alaska       1434.0           582.0   \n",
       "2           2            Mountain     Arizona       7259.0          2606.0   \n",
       "3           3  West South Central    Arkansas       2280.0           432.0   \n",
       "4           4             Pacific  California     109008.0         20964.0   \n",
       "\n",
       "   state_pop  \n",
       "0    4887681  \n",
       "1     735139  \n",
       "2    7158024  \n",
       "3    3009733  \n",
       "4   39461588  "
      ]
     },
     "execution_count": 3,
     "metadata": {},
     "output_type": "execute_result"
    }
   ],
   "source": [
    "# First five rows of the dataset\n",
    "homelessness.head(5)"
   ]
  },
  {
   "cell_type": "code",
   "execution_count": 4,
   "metadata": {},
   "outputs": [
    {
     "name": "stdout",
     "output_type": "stream",
     "text": [
      "<class 'pandas.core.frame.DataFrame'>\n",
      "RangeIndex: 51 entries, 0 to 50\n",
      "Data columns (total 6 columns):\n",
      " #   Column          Non-Null Count  Dtype  \n",
      "---  ------          --------------  -----  \n",
      " 0   Unnamed: 0      51 non-null     int64  \n",
      " 1   region          51 non-null     object \n",
      " 2   state           51 non-null     object \n",
      " 3   individuals     51 non-null     float64\n",
      " 4   family_members  51 non-null     float64\n",
      " 5   state_pop       51 non-null     int64  \n",
      "dtypes: float64(2), int64(2), object(2)\n",
      "memory usage: 2.5+ KB\n"
     ]
    }
   ],
   "source": [
    "# number of rows and columns of the DataFrame.\n",
    "homelessness.info()"
   ]
  },
  {
   "cell_type": "code",
   "execution_count": 5,
   "metadata": {},
   "outputs": [
    {
     "name": "stdout",
     "output_type": "stream",
     "text": [
      "(51, 6)\n"
     ]
    }
   ],
   "source": [
    "# Number of rows and columns of the DataFrame\n",
    "print(homelessness.shape)"
   ]
  },
  {
   "cell_type": "code",
   "execution_count": 6,
   "metadata": {},
   "outputs": [
    {
     "name": "stdout",
     "output_type": "stream",
     "text": [
      "       Unnamed: 0    individuals  family_members     state_pop\n",
      "count   51.000000      51.000000       51.000000  5.100000e+01\n",
      "mean    25.000000    7225.784314     3504.882353  6.405637e+06\n",
      "std     14.866069   15991.025083     7805.411811  7.327258e+06\n",
      "min      0.000000     434.000000       75.000000  5.776010e+05\n",
      "25%     12.500000    1446.500000      592.000000  1.777414e+06\n",
      "50%     25.000000    3082.000000     1482.000000  4.461153e+06\n",
      "75%     37.500000    6781.500000     3196.000000  7.340946e+06\n",
      "max     50.000000  109008.000000    52070.000000  3.946159e+07\n"
     ]
    }
   ],
   "source": [
    "# Summary Statistics\n",
    "print(homelessness.describe())"
   ]
  },
  {
   "cell_type": "markdown",
   "metadata": {},
   "source": [
    "**i. Parts of a DataFrame**"
   ]
  },
  {
   "cell_type": "markdown",
   "metadata": {},
   "source": [
    "To better understand DataFrame objects, it's useful to know that they consist of three components, stored as attributes:\n",
    "\n",
    "- .values: A two-dimensional NumPy array of values.\n",
    "- .columns: An index of columns: the column names.\n",
    "- .index: An index for the rows: either row numbers or row names.\n",
    "- \n",
    "Indexes can be thought of as a list of strings or numbers, though the pandas Index data type allows for more sophisticated options. "
   ]
  },
  {
   "cell_type": "code",
   "execution_count": 7,
   "metadata": {},
   "outputs": [
    {
     "name": "stdout",
     "output_type": "stream",
     "text": [
      "[[0 'East South Central' 'Alabama' 2570.0 864.0 4887681]\n",
      " [1 'Pacific' 'Alaska' 1434.0 582.0 735139]\n",
      " [2 'Mountain' 'Arizona' 7259.0 2606.0 7158024]\n",
      " [3 'West South Central' 'Arkansas' 2280.0 432.0 3009733]\n",
      " [4 'Pacific' 'California' 109008.0 20964.0 39461588]\n",
      " [5 'Mountain' 'Colorado' 7607.0 3250.0 5691287]\n",
      " [6 'New England' 'Connecticut' 2280.0 1696.0 3571520]\n",
      " [7 'South Atlantic' 'Delaware' 708.0 374.0 965479]\n",
      " [8 'South Atlantic' 'District of Columbia' 3770.0 3134.0 701547]\n",
      " [9 'South Atlantic' 'Florida' 21443.0 9587.0 21244317]\n",
      " [10 'South Atlantic' 'Georgia' 6943.0 2556.0 10511131]\n",
      " [11 'Pacific' 'Hawaii' 4131.0 2399.0 1420593]\n",
      " [12 'Mountain' 'Idaho' 1297.0 715.0 1750536]\n",
      " [13 'East North Central' 'Illinois' 6752.0 3891.0 12723071]\n",
      " [14 'East North Central' 'Indiana' 3776.0 1482.0 6695497]\n",
      " [15 'West North Central' 'Iowa' 1711.0 1038.0 3148618]\n",
      " [16 'West North Central' 'Kansas' 1443.0 773.0 2911359]\n",
      " [17 'East South Central' 'Kentucky' 2735.0 953.0 4461153]\n",
      " [18 'West South Central' 'Louisiana' 2540.0 519.0 4659690]\n",
      " [19 'New England' 'Maine' 1450.0 1066.0 1339057]\n",
      " [20 'South Atlantic' 'Maryland' 4914.0 2230.0 6035802]\n",
      " [21 'New England' 'Massachusetts' 6811.0 13257.0 6882635]\n",
      " [22 'East North Central' 'Michigan' 5209.0 3142.0 9984072]\n",
      " [23 'West North Central' 'Minnesota' 3993.0 3250.0 5606249]\n",
      " [24 'East South Central' 'Mississippi' 1024.0 328.0 2981020]\n",
      " [25 'West North Central' 'Missouri' 3776.0 2107.0 6121623]\n",
      " [26 'Mountain' 'Montana' 983.0 422.0 1060665]\n",
      " [27 'West North Central' 'Nebraska' 1745.0 676.0 1925614]\n",
      " [28 'Mountain' 'Nevada' 7058.0 486.0 3027341]\n",
      " [29 'New England' 'New Hampshire' 835.0 615.0 1353465]\n",
      " [30 'Mid-Atlantic' 'New Jersey' 6048.0 3350.0 8886025]\n",
      " [31 'Mountain' 'New Mexico' 1949.0 602.0 2092741]\n",
      " [32 'Mid-Atlantic' 'New York' 39827.0 52070.0 19530351]\n",
      " [33 'South Atlantic' 'North Carolina' 6451.0 2817.0 10381615]\n",
      " [34 'West North Central' 'North Dakota' 467.0 75.0 758080]\n",
      " [35 'East North Central' 'Ohio' 6929.0 3320.0 11676341]\n",
      " [36 'West South Central' 'Oklahoma' 2823.0 1048.0 3940235]\n",
      " [37 'Pacific' 'Oregon' 11139.0 3337.0 4181886]\n",
      " [38 'Mid-Atlantic' 'Pennsylvania' 8163.0 5349.0 12800922]\n",
      " [39 'New England' 'Rhode Island' 747.0 354.0 1058287]\n",
      " [40 'South Atlantic' 'South Carolina' 3082.0 851.0 5084156]\n",
      " [41 'West North Central' 'South Dakota' 836.0 323.0 878698]\n",
      " [42 'East South Central' 'Tennessee' 6139.0 1744.0 6771631]\n",
      " [43 'West South Central' 'Texas' 19199.0 6111.0 28628666]\n",
      " [44 'Mountain' 'Utah' 1904.0 972.0 3153550]\n",
      " [45 'New England' 'Vermont' 780.0 511.0 624358]\n",
      " [46 'South Atlantic' 'Virginia' 3928.0 2047.0 8501286]\n",
      " [47 'Pacific' 'Washington' 16424.0 5880.0 7523869]\n",
      " [48 'South Atlantic' 'West Virginia' 1021.0 222.0 1804291]\n",
      " [49 'East North Central' 'Wisconsin' 2740.0 2167.0 5807406]\n",
      " [50 'Mountain' 'Wyoming' 434.0 205.0 577601]]\n"
     ]
    }
   ],
   "source": [
    "print(homelessness.values)"
   ]
  },
  {
   "cell_type": "code",
   "execution_count": 8,
   "metadata": {},
   "outputs": [
    {
     "name": "stdout",
     "output_type": "stream",
     "text": [
      "Index(['Unnamed: 0', 'region', 'state', 'individuals', 'family_members',\n",
      "       'state_pop'],\n",
      "      dtype='object')\n"
     ]
    }
   ],
   "source": [
    "print(homelessness.columns)\n"
   ]
  },
  {
   "cell_type": "code",
   "execution_count": 9,
   "metadata": {},
   "outputs": [
    {
     "name": "stdout",
     "output_type": "stream",
     "text": [
      "RangeIndex(start=0, stop=51, step=1)\n"
     ]
    }
   ],
   "source": [
    "print(homelessness.index)"
   ]
  },
  {
   "cell_type": "markdown",
   "metadata": {},
   "source": [
    "**ii. Sorting and Subsetting**"
   ]
  },
  {
   "cell_type": "code",
   "execution_count": 10,
   "metadata": {},
   "outputs": [
    {
     "name": "stdout",
     "output_type": "stream",
     "text": [
      "    Unnamed: 0              region         state  individuals  family_members  \\\n",
      "50          50            Mountain       Wyoming        434.0           205.0   \n",
      "34          34  West North Central  North Dakota        467.0            75.0   \n",
      "7            7      South Atlantic      Delaware        708.0           374.0   \n",
      "39          39         New England  Rhode Island        747.0           354.0   \n",
      "45          45         New England       Vermont        780.0           511.0   \n",
      "\n",
      "    state_pop  \n",
      "50     577601  \n",
      "34     758080  \n",
      "7      965479  \n",
      "39    1058287  \n",
      "45     624358  \n"
     ]
    }
   ],
   "source": [
    "# Sort homelessness by individuals\n",
    "homelessness_ind = homelessness.sort_values('individuals', ascending = True)\n",
    "\n",
    "# Print the top few rows\n",
    "print(homelessness_ind.head())"
   ]
  },
  {
   "cell_type": "code",
   "execution_count": 11,
   "metadata": {},
   "outputs": [
    {
     "name": "stdout",
     "output_type": "stream",
     "text": [
      "    Unnamed: 0              region          state  individuals  \\\n",
      "32          32        Mid-Atlantic       New York      39827.0   \n",
      "4            4             Pacific     California     109008.0   \n",
      "21          21         New England  Massachusetts       6811.0   \n",
      "9            9      South Atlantic        Florida      21443.0   \n",
      "43          43  West South Central          Texas      19199.0   \n",
      "\n",
      "    family_members  state_pop  \n",
      "32         52070.0   19530351  \n",
      "4          20964.0   39461588  \n",
      "21         13257.0    6882635  \n",
      "9           9587.0   21244317  \n",
      "43          6111.0   28628666  \n"
     ]
    }
   ],
   "source": [
    "# Sort homelessness by descending family members\n",
    "homelessness_fam = homelessness.sort_values('family_members', ascending=False)\n",
    "\n",
    "print(homelessness_fam.head())"
   ]
  },
  {
   "cell_type": "code",
   "execution_count": 12,
   "metadata": {},
   "outputs": [
    {
     "name": "stdout",
     "output_type": "stream",
     "text": [
      "    Unnamed: 0              region      state  individuals  family_members  \\\n",
      "13          13  East North Central   Illinois       6752.0          3891.0   \n",
      "35          35  East North Central       Ohio       6929.0          3320.0   \n",
      "22          22  East North Central   Michigan       5209.0          3142.0   \n",
      "49          49  East North Central  Wisconsin       2740.0          2167.0   \n",
      "14          14  East North Central    Indiana       3776.0          1482.0   \n",
      "\n",
      "    state_pop  \n",
      "13   12723071  \n",
      "35   11676341  \n",
      "22    9984072  \n",
      "49    5807406  \n",
      "14    6695497  \n"
     ]
    }
   ],
   "source": [
    "# Sort homelessness by region, then descending family members\n",
    "homelessness_reg_fam = homelessness.sort_values(['region', 'family_members'], ascending = [True, False])\n",
    "\n",
    "# Print the top few rows\n",
    "print(homelessness_reg_fam.head())"
   ]
  },
  {
   "cell_type": "code",
   "execution_count": 13,
   "metadata": {},
   "outputs": [
    {
     "name": "stdout",
     "output_type": "stream",
     "text": [
      "0      2570.0\n",
      "1      1434.0\n",
      "2      7259.0\n",
      "3      2280.0\n",
      "4    109008.0\n",
      "Name: individuals, dtype: float64\n"
     ]
    }
   ],
   "source": [
    "# Select the individuals column\n",
    "individuals = homelessness['individuals']\n",
    "\n",
    "print(individuals.head())"
   ]
  },
  {
   "cell_type": "code",
   "execution_count": 14,
   "metadata": {},
   "outputs": [
    {
     "name": "stdout",
     "output_type": "stream",
     "text": [
      "        state  family_members\n",
      "0     Alabama           864.0\n",
      "1      Alaska           582.0\n",
      "2     Arizona          2606.0\n",
      "3    Arkansas           432.0\n",
      "4  California         20964.0\n"
     ]
    }
   ],
   "source": [
    "# Select the state and family_members columns\n",
    "state_fam = homelessness[['state', 'family_members']]\n",
    "\n",
    "print(state_fam.head())"
   ]
  },
  {
   "cell_type": "code",
   "execution_count": 15,
   "metadata": {},
   "outputs": [
    {
     "name": "stdout",
     "output_type": "stream",
     "text": [
      "   individuals       state\n",
      "0       2570.0     Alabama\n",
      "1       1434.0      Alaska\n",
      "2       7259.0     Arizona\n",
      "3       2280.0    Arkansas\n",
      "4     109008.0  California\n"
     ]
    }
   ],
   "source": [
    "# Select only the individuals and state columns, in that order\n",
    "ind_state = homelessness[['individuals', 'state']]\n",
    "\n",
    "print(ind_state.head())"
   ]
  },
  {
   "cell_type": "code",
   "execution_count": 16,
   "metadata": {},
   "outputs": [
    {
     "name": "stdout",
     "output_type": "stream",
     "text": [
      "    Unnamed: 0              region       state  individuals  family_members  \\\n",
      "4            4             Pacific  California     109008.0         20964.0   \n",
      "9            9      South Atlantic     Florida      21443.0          9587.0   \n",
      "32          32        Mid-Atlantic    New York      39827.0         52070.0   \n",
      "37          37             Pacific      Oregon      11139.0          3337.0   \n",
      "43          43  West South Central       Texas      19199.0          6111.0   \n",
      "47          47             Pacific  Washington      16424.0          5880.0   \n",
      "\n",
      "    state_pop  \n",
      "4    39461588  \n",
      "9    21244317  \n",
      "32   19530351  \n",
      "37    4181886  \n",
      "43   28628666  \n",
      "47    7523869  \n"
     ]
    }
   ],
   "source": [
    "# Filter for rows where individuals is greater than 10000\n",
    "ind_gt_10k = homelessness[homelessness['individuals'] > 10000]\n",
    "\n",
    "# See the result\n",
    "print(ind_gt_10k)"
   ]
  },
  {
   "cell_type": "code",
   "execution_count": 17,
   "metadata": {},
   "outputs": [
    {
     "name": "stdout",
     "output_type": "stream",
     "text": [
      "    Unnamed: 0    region       state  individuals  family_members  state_pop\n",
      "2            2  Mountain     Arizona       7259.0          2606.0    7158024\n",
      "5            5  Mountain    Colorado       7607.0          3250.0    5691287\n",
      "12          12  Mountain       Idaho       1297.0           715.0    1750536\n",
      "26          26  Mountain     Montana        983.0           422.0    1060665\n",
      "28          28  Mountain      Nevada       7058.0           486.0    3027341\n",
      "31          31  Mountain  New Mexico       1949.0           602.0    2092741\n",
      "44          44  Mountain        Utah       1904.0           972.0    3153550\n",
      "50          50  Mountain     Wyoming        434.0           205.0     577601\n"
     ]
    }
   ],
   "source": [
    "# Filter for rows where region is Mountain\n",
    "mountain_reg = homelessness[homelessness['region'] == 'Mountain']\n",
    "\n",
    "# See the result\n",
    "print(mountain_reg)"
   ]
  },
  {
   "cell_type": "code",
   "execution_count": 18,
   "metadata": {},
   "outputs": [
    {
     "name": "stdout",
     "output_type": "stream",
     "text": [
      "   Unnamed: 0   region   state  individuals  family_members  state_pop\n",
      "1           1  Pacific  Alaska       1434.0           582.0     735139\n"
     ]
    }
   ],
   "source": [
    "# Filter for rows where family_members is less than 1000 \n",
    "# and region is Pacific\n",
    "fam_lt_1k_pac = homelessness[(homelessness['region'] == 'Pacific') & (homelessness['family_members'] < 1000)]\n",
    "\n",
    "# See the result\n",
    "print(fam_lt_1k_pac)"
   ]
  },
  {
   "cell_type": "code",
   "execution_count": 19,
   "metadata": {},
   "outputs": [
    {
     "name": "stdout",
     "output_type": "stream",
     "text": [
      "    Unnamed: 0    region       state  individuals  family_members  state_pop\n",
      "2            2  Mountain     Arizona       7259.0          2606.0    7158024\n",
      "4            4   Pacific  California     109008.0         20964.0   39461588\n",
      "28          28  Mountain      Nevada       7058.0           486.0    3027341\n",
      "44          44  Mountain        Utah       1904.0           972.0    3153550\n"
     ]
    }
   ],
   "source": [
    "# The Mojave Desert states\n",
    "canu = [\"California\", \"Arizona\", \"Nevada\", \"Utah\"]\n",
    "\n",
    "# Filter for rows in the Mojave Desert states\n",
    "mojave_homelessness = homelessness[homelessness['state'].isin(canu)]\n",
    "\n",
    "# See the result\n",
    "print(mojave_homelessness)"
   ]
  },
  {
   "cell_type": "markdown",
   "metadata": {},
   "source": [
    "**iii. Adding new columns**"
   ]
  },
  {
   "cell_type": "code",
   "execution_count": 20,
   "metadata": {},
   "outputs": [],
   "source": [
    "homelessness[\"total\"] = homelessness[\"individuals\"] + homelessness[\"family_members\"]"
   ]
  },
  {
   "cell_type": "code",
   "execution_count": 21,
   "metadata": {},
   "outputs": [
    {
     "name": "stdout",
     "output_type": "stream",
     "text": [
      "    Unnamed: 0              region                 state  individuals  \\\n",
      "0            0  East South Central               Alabama       2570.0   \n",
      "1            1             Pacific                Alaska       1434.0   \n",
      "2            2            Mountain               Arizona       7259.0   \n",
      "3            3  West South Central              Arkansas       2280.0   \n",
      "4            4             Pacific            California     109008.0   \n",
      "5            5            Mountain              Colorado       7607.0   \n",
      "6            6         New England           Connecticut       2280.0   \n",
      "7            7      South Atlantic              Delaware        708.0   \n",
      "8            8      South Atlantic  District of Columbia       3770.0   \n",
      "9            9      South Atlantic               Florida      21443.0   \n",
      "10          10      South Atlantic               Georgia       6943.0   \n",
      "11          11             Pacific                Hawaii       4131.0   \n",
      "12          12            Mountain                 Idaho       1297.0   \n",
      "13          13  East North Central              Illinois       6752.0   \n",
      "14          14  East North Central               Indiana       3776.0   \n",
      "15          15  West North Central                  Iowa       1711.0   \n",
      "16          16  West North Central                Kansas       1443.0   \n",
      "17          17  East South Central              Kentucky       2735.0   \n",
      "18          18  West South Central             Louisiana       2540.0   \n",
      "19          19         New England                 Maine       1450.0   \n",
      "20          20      South Atlantic              Maryland       4914.0   \n",
      "21          21         New England         Massachusetts       6811.0   \n",
      "22          22  East North Central              Michigan       5209.0   \n",
      "23          23  West North Central             Minnesota       3993.0   \n",
      "24          24  East South Central           Mississippi       1024.0   \n",
      "25          25  West North Central              Missouri       3776.0   \n",
      "26          26            Mountain               Montana        983.0   \n",
      "27          27  West North Central              Nebraska       1745.0   \n",
      "28          28            Mountain                Nevada       7058.0   \n",
      "29          29         New England         New Hampshire        835.0   \n",
      "30          30        Mid-Atlantic            New Jersey       6048.0   \n",
      "31          31            Mountain            New Mexico       1949.0   \n",
      "32          32        Mid-Atlantic              New York      39827.0   \n",
      "33          33      South Atlantic        North Carolina       6451.0   \n",
      "34          34  West North Central          North Dakota        467.0   \n",
      "35          35  East North Central                  Ohio       6929.0   \n",
      "36          36  West South Central              Oklahoma       2823.0   \n",
      "37          37             Pacific                Oregon      11139.0   \n",
      "38          38        Mid-Atlantic          Pennsylvania       8163.0   \n",
      "39          39         New England          Rhode Island        747.0   \n",
      "40          40      South Atlantic        South Carolina       3082.0   \n",
      "41          41  West North Central          South Dakota        836.0   \n",
      "42          42  East South Central             Tennessee       6139.0   \n",
      "43          43  West South Central                 Texas      19199.0   \n",
      "44          44            Mountain                  Utah       1904.0   \n",
      "45          45         New England               Vermont        780.0   \n",
      "46          46      South Atlantic              Virginia       3928.0   \n",
      "47          47             Pacific            Washington      16424.0   \n",
      "48          48      South Atlantic         West Virginia       1021.0   \n",
      "49          49  East North Central             Wisconsin       2740.0   \n",
      "50          50            Mountain               Wyoming        434.0   \n",
      "\n",
      "    family_members  state_pop     total  p_homeless  \n",
      "0            864.0    4887681    3434.0    0.000703  \n",
      "1            582.0     735139    2016.0    0.002742  \n",
      "2           2606.0    7158024    9865.0    0.001378  \n",
      "3            432.0    3009733    2712.0    0.000901  \n",
      "4          20964.0   39461588  129972.0    0.003294  \n",
      "5           3250.0    5691287   10857.0    0.001908  \n",
      "6           1696.0    3571520    3976.0    0.001113  \n",
      "7            374.0     965479    1082.0    0.001121  \n",
      "8           3134.0     701547    6904.0    0.009841  \n",
      "9           9587.0   21244317   31030.0    0.001461  \n",
      "10          2556.0   10511131    9499.0    0.000904  \n",
      "11          2399.0    1420593    6530.0    0.004597  \n",
      "12           715.0    1750536    2012.0    0.001149  \n",
      "13          3891.0   12723071   10643.0    0.000837  \n",
      "14          1482.0    6695497    5258.0    0.000785  \n",
      "15          1038.0    3148618    2749.0    0.000873  \n",
      "16           773.0    2911359    2216.0    0.000761  \n",
      "17           953.0    4461153    3688.0    0.000827  \n",
      "18           519.0    4659690    3059.0    0.000656  \n",
      "19          1066.0    1339057    2516.0    0.001879  \n",
      "20          2230.0    6035802    7144.0    0.001184  \n",
      "21         13257.0    6882635   20068.0    0.002916  \n",
      "22          3142.0    9984072    8351.0    0.000836  \n",
      "23          3250.0    5606249    7243.0    0.001292  \n",
      "24           328.0    2981020    1352.0    0.000454  \n",
      "25          2107.0    6121623    5883.0    0.000961  \n",
      "26           422.0    1060665    1405.0    0.001325  \n",
      "27           676.0    1925614    2421.0    0.001257  \n",
      "28           486.0    3027341    7544.0    0.002492  \n",
      "29           615.0    1353465    1450.0    0.001071  \n",
      "30          3350.0    8886025    9398.0    0.001058  \n",
      "31           602.0    2092741    2551.0    0.001219  \n",
      "32         52070.0   19530351   91897.0    0.004705  \n",
      "33          2817.0   10381615    9268.0    0.000893  \n",
      "34            75.0     758080     542.0    0.000715  \n",
      "35          3320.0   11676341   10249.0    0.000878  \n",
      "36          1048.0    3940235    3871.0    0.000982  \n",
      "37          3337.0    4181886   14476.0    0.003462  \n",
      "38          5349.0   12800922   13512.0    0.001056  \n",
      "39           354.0    1058287    1101.0    0.001040  \n",
      "40           851.0    5084156    3933.0    0.000774  \n",
      "41           323.0     878698    1159.0    0.001319  \n",
      "42          1744.0    6771631    7883.0    0.001164  \n",
      "43          6111.0   28628666   25310.0    0.000884  \n",
      "44           972.0    3153550    2876.0    0.000912  \n",
      "45           511.0     624358    1291.0    0.002068  \n",
      "46          2047.0    8501286    5975.0    0.000703  \n",
      "47          5880.0    7523869   22304.0    0.002964  \n",
      "48           222.0    1804291    1243.0    0.000689  \n",
      "49          2167.0    5807406    4907.0    0.000845  \n",
      "50           205.0     577601     639.0    0.001106  \n"
     ]
    }
   ],
   "source": [
    "# Add total col as sum of individuals and family_members\n",
    "homelessness[\"total\"] = homelessness[\"individuals\"] + homelessness[\"family_members\"]\n",
    "\n",
    "# Add p_homeless col as proportion of total homeless population to the state population\n",
    "homelessness['p_homeless'] = homelessness['total']/homelessness['state_pop']\n",
    "\n",
    "# See the result\n",
    "print(homelessness)"
   ]
  },
  {
   "cell_type": "code",
   "execution_count": 22,
   "metadata": {},
   "outputs": [
    {
     "name": "stdout",
     "output_type": "stream",
     "text": [
      "                   state  indiv_per_10k\n",
      "8   District of Columbia      53.738381\n",
      "11                Hawaii      29.079406\n",
      "4             California      27.623825\n",
      "37                Oregon      26.636307\n",
      "28                Nevada      23.314189\n",
      "47            Washington      21.829195\n",
      "32              New York      20.392363\n"
     ]
    }
   ],
   "source": [
    "# Create indiv_per_10k col as homeless individuals per 10k state pop\n",
    "homelessness[\"indiv_per_10k\"] = 10000 * (homelessness['individuals'] / homelessness['state_pop'])\n",
    "\n",
    "# Subset rows for indiv_per_10k greater than 20\n",
    "high_homelessness = homelessness[homelessness['indiv_per_10k'] > 20]\n",
    "\n",
    "# Sort high_homelessness by descending indiv_per_10k\n",
    "high_homelessness_srt = high_homelessness.sort_values('indiv_per_10k', ascending=False)\n",
    "\n",
    "# From high_homelessness_srt, select the state and indiv_per_10k cols\n",
    "result = high_homelessness_srt[['state','indiv_per_10k']]\n",
    "\n",
    "# See the result\n",
    "print(result)"
   ]
  },
  {
   "cell_type": "markdown",
   "metadata": {},
   "source": [
    "District of Columbia has the highest number of homeless individuals - almost 54 per ten thousand people. This is almost double the number of the next-highest state, Hawaii. "
   ]
  },
  {
   "cell_type": "markdown",
   "metadata": {},
   "source": [
    "## Aggregating DataFrames"
   ]
  },
  {
   "cell_type": "markdown",
   "metadata": {},
   "source": [
    "**Walmart Dataset:** Walmart stores is a chain of department stores in the US. The dataset contains weekly sales in US dollars in various stores. Each store has an ID number and a specific store type. The sales are also separated by department ID. Along with weekly sales, there is information about whether it was a holiday week or not, the average temperature during the week in that location, the average fuel price in dollars per liter that week, and the national unemployment rate that week.\n",
    "\n",
    "Walmart distinguishes three types of stores: \"**supercenters**,\" \"**discount stores**,\" and \"**neighborhood markets**,\" encoded in this dataset as type \"A,\" \"B,\" and \"C.\""
   ]
  },
  {
   "cell_type": "code",
   "execution_count": 23,
   "metadata": {},
   "outputs": [],
   "source": [
    "import warnings"
   ]
  },
  {
   "cell_type": "code",
   "execution_count": 24,
   "metadata": {},
   "outputs": [],
   "source": [
    "sales = pd.read_csv('../data/pandas_datasets/sales_subset.csv')"
   ]
  },
  {
   "cell_type": "code",
   "execution_count": 25,
   "metadata": {},
   "outputs": [
    {
     "name": "stdout",
     "output_type": "stream",
     "text": [
      "   Unnamed: 0  store type  department        date  weekly_sales  is_holiday  \\\n",
      "0           0      1    A           1  2010-02-05      24924.50       False   \n",
      "1           1      1    A           1  2010-03-05      21827.90       False   \n",
      "2           2      1    A           1  2010-04-02      57258.43       False   \n",
      "3           3      1    A           1  2010-05-07      17413.94       False   \n",
      "4           4      1    A           1  2010-06-04      17558.09       False   \n",
      "\n",
      "   temperature_c  fuel_price_usd_per_l  unemployment  \n",
      "0       5.727778              0.679451         8.106  \n",
      "1       8.055556              0.693452         8.106  \n",
      "2      16.816667              0.718284         7.808  \n",
      "3      22.527778              0.748928         7.808  \n",
      "4      27.050000              0.714586         7.808  \n"
     ]
    }
   ],
   "source": [
    "# Print the head of the sales DataFrame\n",
    "print(sales.head())"
   ]
  },
  {
   "cell_type": "code",
   "execution_count": 26,
   "metadata": {},
   "outputs": [
    {
     "name": "stdout",
     "output_type": "stream",
     "text": [
      "<class 'pandas.core.frame.DataFrame'>\n",
      "RangeIndex: 10774 entries, 0 to 10773\n",
      "Data columns (total 10 columns):\n",
      " #   Column                Non-Null Count  Dtype  \n",
      "---  ------                --------------  -----  \n",
      " 0   Unnamed: 0            10774 non-null  int64  \n",
      " 1   store                 10774 non-null  int64  \n",
      " 2   type                  10774 non-null  object \n",
      " 3   department            10774 non-null  int64  \n",
      " 4   date                  10774 non-null  object \n",
      " 5   weekly_sales          10774 non-null  float64\n",
      " 6   is_holiday            10774 non-null  bool   \n",
      " 7   temperature_c         10774 non-null  float64\n",
      " 8   fuel_price_usd_per_l  10774 non-null  float64\n",
      " 9   unemployment          10774 non-null  float64\n",
      "dtypes: bool(1), float64(4), int64(3), object(2)\n",
      "memory usage: 768.2+ KB\n",
      "None\n"
     ]
    }
   ],
   "source": [
    "\n",
    "# Print the info about the sales DataFrame\n",
    "print(sales.info())"
   ]
  },
  {
   "cell_type": "code",
   "execution_count": 27,
   "metadata": {},
   "outputs": [
    {
     "name": "stdout",
     "output_type": "stream",
     "text": [
      "Mean: 23843.95014850566\n",
      "Median: 12049.064999999999\n"
     ]
    }
   ],
   "source": [
    "\n",
    "# Print the mean of weekly_sales\n",
    "print('Mean:',sales['weekly_sales'].mean())\n",
    "\n",
    "# Print the median of weekly_sales\n",
    "print('Median:',sales['weekly_sales'].median())"
   ]
  },
  {
   "cell_type": "markdown",
   "metadata": {},
   "source": [
    "The mean weekly sales amount is almost double the median weekly sales amount! This can tell us that there are a few very high sales weeks that are making the mean so much higher than the median."
   ]
  },
  {
   "cell_type": "code",
   "execution_count": 28,
   "metadata": {},
   "outputs": [
    {
     "name": "stdout",
     "output_type": "stream",
     "text": [
      "Max: 2012-10-26\n",
      "Min: 2010-02-05\n"
     ]
    }
   ],
   "source": [
    "# The date range our dataset covers\n",
    "\n",
    "# Print the maximum of the date column\n",
    "print('Max:', sales['date'].max())\n",
    "\n",
    "# Print the minimum of the date column\n",
    "print('Min:', sales['date'].min())"
   ]
  },
  {
   "cell_type": "markdown",
   "metadata": {},
   "source": [
    "In this case, there are data from February of 2010 to October of 2012."
   ]
  },
  {
   "cell_type": "markdown",
   "metadata": {},
   "source": [
    "**Efficient summaries**\n",
    "\n",
    "The .agg() method allows to apply custom functions to a DataFrame, as well as apply functions to more than one column of a DataFrame at once, making aggregations super-efficient. For example,\n",
    "\n",
    "`df['column'].agg(function)`\n"
   ]
  },
  {
   "cell_type": "code",
   "execution_count": 29,
   "metadata": {},
   "outputs": [
    {
     "name": "stdout",
     "output_type": "stream",
     "text": [
      "        temperature_c  fuel_price_usd_per_l  unemployment\n",
      "iqr         16.583333              0.073176         0.565\n",
      "median      16.966667              0.743381         8.099\n"
     ]
    },
    {
     "name": "stderr",
     "output_type": "stream",
     "text": [
      "/var/folders/jn/9nlkdx3s70bfdjtw_1q5jnvm0000gn/T/ipykernel_32465/448815662.py:7: FutureWarning: The provided callable <function median at 0x105afb6a0> is currently using Series.median. In a future version of pandas, the provided callable will be used directly. To keep current behavior pass the string \"median\" instead.\n",
      "  print(sales[[\"temperature_c\", \"fuel_price_usd_per_l\", \"unemployment\"]].agg([iqr, np.median]))\n",
      "/var/folders/jn/9nlkdx3s70bfdjtw_1q5jnvm0000gn/T/ipykernel_32465/448815662.py:7: FutureWarning: The provided callable <function median at 0x105afb6a0> is currently using Series.median. In a future version of pandas, the provided callable will be used directly. To keep current behavior pass the string \"median\" instead.\n",
      "  print(sales[[\"temperature_c\", \"fuel_price_usd_per_l\", \"unemployment\"]].agg([iqr, np.median]))\n",
      "/var/folders/jn/9nlkdx3s70bfdjtw_1q5jnvm0000gn/T/ipykernel_32465/448815662.py:7: FutureWarning: The provided callable <function median at 0x105afb6a0> is currently using Series.median. In a future version of pandas, the provided callable will be used directly. To keep current behavior pass the string \"median\" instead.\n",
      "  print(sales[[\"temperature_c\", \"fuel_price_usd_per_l\", \"unemployment\"]].agg([iqr, np.median]))\n"
     ]
    }
   ],
   "source": [
    "# Import NumPy and create custom IQR function\n",
    "import numpy as np\n",
    "def iqr(column):\n",
    "    return column.quantile(0.75) - column.quantile(0.25)\n",
    "\n",
    "# Update to print IQR and median of temperature_c, fuel_price_usd_per_l, & unemployment\n",
    "print(sales[[\"temperature_c\", \"fuel_price_usd_per_l\", \"unemployment\"]].agg([iqr, np.median]))"
   ]
  },
  {
   "cell_type": "markdown",
   "metadata": {},
   "source": [
    "**Cumulative statistics**\n",
    "\n",
    "Cumulative statistics can be helpful in tracking summary statistics over time. We'll calculate the cumulative sum and cumulative max of a department's weekly sales, which will allow to identify what the total sales were so far as well as what the highest weekly sales were so far."
   ]
  },
  {
   "cell_type": "code",
   "execution_count": 30,
   "metadata": {},
   "outputs": [],
   "source": [
    "# sales_1_1 - A DataFrame called sales_1_1 contains the sales data for department 1 of store 1.\n",
    "\n",
    "sales_1_1 = sales[(sales['department'] == 1) & (sales['store'] == 1)]"
   ]
  },
  {
   "cell_type": "code",
   "execution_count": 31,
   "metadata": {},
   "outputs": [
    {
     "data": {
      "text/html": [
       "<div>\n",
       "<style scoped>\n",
       "    .dataframe tbody tr th:only-of-type {\n",
       "        vertical-align: middle;\n",
       "    }\n",
       "\n",
       "    .dataframe tbody tr th {\n",
       "        vertical-align: top;\n",
       "    }\n",
       "\n",
       "    .dataframe thead th {\n",
       "        text-align: right;\n",
       "    }\n",
       "</style>\n",
       "<table border=\"1\" class=\"dataframe\">\n",
       "  <thead>\n",
       "    <tr style=\"text-align: right;\">\n",
       "      <th></th>\n",
       "      <th>Unnamed: 0</th>\n",
       "      <th>store</th>\n",
       "      <th>type</th>\n",
       "      <th>department</th>\n",
       "      <th>date</th>\n",
       "      <th>weekly_sales</th>\n",
       "      <th>is_holiday</th>\n",
       "      <th>temperature_c</th>\n",
       "      <th>fuel_price_usd_per_l</th>\n",
       "      <th>unemployment</th>\n",
       "    </tr>\n",
       "  </thead>\n",
       "  <tbody>\n",
       "    <tr>\n",
       "      <th>0</th>\n",
       "      <td>0</td>\n",
       "      <td>1</td>\n",
       "      <td>A</td>\n",
       "      <td>1</td>\n",
       "      <td>2010-02-05</td>\n",
       "      <td>24924.50</td>\n",
       "      <td>False</td>\n",
       "      <td>5.727778</td>\n",
       "      <td>0.679451</td>\n",
       "      <td>8.106</td>\n",
       "    </tr>\n",
       "    <tr>\n",
       "      <th>1</th>\n",
       "      <td>1</td>\n",
       "      <td>1</td>\n",
       "      <td>A</td>\n",
       "      <td>1</td>\n",
       "      <td>2010-03-05</td>\n",
       "      <td>21827.90</td>\n",
       "      <td>False</td>\n",
       "      <td>8.055556</td>\n",
       "      <td>0.693452</td>\n",
       "      <td>8.106</td>\n",
       "    </tr>\n",
       "    <tr>\n",
       "      <th>2</th>\n",
       "      <td>2</td>\n",
       "      <td>1</td>\n",
       "      <td>A</td>\n",
       "      <td>1</td>\n",
       "      <td>2010-04-02</td>\n",
       "      <td>57258.43</td>\n",
       "      <td>False</td>\n",
       "      <td>16.816667</td>\n",
       "      <td>0.718284</td>\n",
       "      <td>7.808</td>\n",
       "    </tr>\n",
       "    <tr>\n",
       "      <th>3</th>\n",
       "      <td>3</td>\n",
       "      <td>1</td>\n",
       "      <td>A</td>\n",
       "      <td>1</td>\n",
       "      <td>2010-05-07</td>\n",
       "      <td>17413.94</td>\n",
       "      <td>False</td>\n",
       "      <td>22.527778</td>\n",
       "      <td>0.748928</td>\n",
       "      <td>7.808</td>\n",
       "    </tr>\n",
       "    <tr>\n",
       "      <th>4</th>\n",
       "      <td>4</td>\n",
       "      <td>1</td>\n",
       "      <td>A</td>\n",
       "      <td>1</td>\n",
       "      <td>2010-06-04</td>\n",
       "      <td>17558.09</td>\n",
       "      <td>False</td>\n",
       "      <td>27.050000</td>\n",
       "      <td>0.714586</td>\n",
       "      <td>7.808</td>\n",
       "    </tr>\n",
       "  </tbody>\n",
       "</table>\n",
       "</div>"
      ],
      "text/plain": [
       "   Unnamed: 0  store type  department        date  weekly_sales  is_holiday  \\\n",
       "0           0      1    A           1  2010-02-05      24924.50       False   \n",
       "1           1      1    A           1  2010-03-05      21827.90       False   \n",
       "2           2      1    A           1  2010-04-02      57258.43       False   \n",
       "3           3      1    A           1  2010-05-07      17413.94       False   \n",
       "4           4      1    A           1  2010-06-04      17558.09       False   \n",
       "\n",
       "   temperature_c  fuel_price_usd_per_l  unemployment  \n",
       "0       5.727778              0.679451         8.106  \n",
       "1       8.055556              0.693452         8.106  \n",
       "2      16.816667              0.718284         7.808  \n",
       "3      22.527778              0.748928         7.808  \n",
       "4      27.050000              0.714586         7.808  "
      ]
     },
     "execution_count": 31,
     "metadata": {},
     "output_type": "execute_result"
    }
   ],
   "source": [
    "sales_1_1.head()"
   ]
  },
  {
   "cell_type": "code",
   "execution_count": 32,
   "metadata": {},
   "outputs": [
    {
     "name": "stdout",
     "output_type": "stream",
     "text": [
      "          date  weekly_sales  cum_weekly_sales  cum_max_sales\n",
      "0   2010-02-05      24924.50          24924.50       24924.50\n",
      "1   2010-03-05      21827.90          46752.40       24924.50\n",
      "2   2010-04-02      57258.43         104010.83       57258.43\n",
      "3   2010-05-07      17413.94         121424.77       57258.43\n",
      "4   2010-06-04      17558.09         138982.86       57258.43\n",
      "5   2010-07-02      16333.14         155316.00       57258.43\n",
      "6   2010-08-06      17508.41         172824.41       57258.43\n",
      "7   2010-09-03      16241.78         189066.19       57258.43\n",
      "8   2010-10-01      20094.19         209160.38       57258.43\n",
      "9   2010-11-05      34238.88         243399.26       57258.43\n",
      "10  2010-12-03      22517.56         265916.82       57258.43\n",
      "11  2011-01-07      15984.24         281901.06       57258.43\n"
     ]
    }
   ],
   "source": [
    "# Sort sales_1_1 by date\n",
    "sales_1_1 = sales_1_1.sort_values('date', ascending = True)\n",
    "\n",
    "# Get the cumulative sum of weekly_sales, add as cum_weekly_sales col\n",
    "sales_1_1['cum_weekly_sales'] = sales_1_1['weekly_sales'].cumsum()\n",
    "\n",
    "# Get the cumulative max of weekly_sales, add as cum_max_sales col\n",
    "sales_1_1['cum_max_sales'] = sales_1_1['weekly_sales'].cummax()\n",
    "\n",
    "# See the columns calculated\n",
    "print(sales_1_1[[\"date\", \"weekly_sales\", \"cum_weekly_sales\", \"cum_max_sales\"]])"
   ]
  },
  {
   "cell_type": "markdown",
   "metadata": {},
   "source": [
    "**Dropping duplicates**"
   ]
  },
  {
   "cell_type": "code",
   "execution_count": 33,
   "metadata": {},
   "outputs": [
    {
     "name": "stdout",
     "output_type": "stream",
     "text": [
      "      Unnamed: 0  store type  department        date  weekly_sales  \\\n",
      "0              0      1    A           1  2010-02-05      24924.50   \n",
      "901          901      2    A           1  2010-02-05      35034.06   \n",
      "1798        1798      4    A           1  2010-02-05      38724.42   \n",
      "2699        2699      6    A           1  2010-02-05      25619.00   \n",
      "3593        3593     10    B           1  2010-02-05      40212.84   \n",
      "\n",
      "      is_holiday  temperature_c  fuel_price_usd_per_l  unemployment  \n",
      "0          False       5.727778              0.679451         8.106  \n",
      "901        False       4.550000              0.679451         8.324  \n",
      "1798       False       6.533333              0.686319         8.623  \n",
      "2699       False       4.683333              0.679451         7.259  \n",
      "3593       False      12.411111              0.782478         9.765  \n",
      "    Unnamed: 0  store type  department        date  weekly_sales  is_holiday  \\\n",
      "0            0      1    A           1  2010-02-05      24924.50       False   \n",
      "12          12      1    A           2  2010-02-05      50605.27       False   \n",
      "24          24      1    A           3  2010-02-05      13740.12       False   \n",
      "36          36      1    A           4  2010-02-05      39954.04       False   \n",
      "48          48      1    A           5  2010-02-05      32229.38       False   \n",
      "\n",
      "    temperature_c  fuel_price_usd_per_l  unemployment  \n",
      "0        5.727778              0.679451         8.106  \n",
      "12       5.727778              0.679451         8.106  \n",
      "24       5.727778              0.679451         8.106  \n",
      "36       5.727778              0.679451         8.106  \n",
      "48       5.727778              0.679451         8.106  \n",
      "498     2010-09-10\n",
      "691     2011-11-25\n",
      "2315    2010-02-12\n",
      "6735    2012-09-07\n",
      "6810    2010-12-31\n",
      "6815    2012-02-10\n",
      "6820    2011-09-09\n",
      "Name: date, dtype: object\n"
     ]
    }
   ],
   "source": [
    "# Drop duplicate store/type combinations\n",
    "store_types = sales.drop_duplicates(['store', 'type'])\n",
    "print(store_types.head())\n",
    "\n",
    "# Drop duplicate store/department combinations\n",
    "store_depts = sales.drop_duplicates(['store', 'department'])\n",
    "print(store_depts.head())\n",
    "\n",
    "# Subset the rows where is_holiday is True and drop duplicate dates\n",
    "holiday_dates = sales[sales['is_holiday'] == True].drop_duplicates('date')\n",
    "\n",
    "# Print date col of holiday_dates\n",
    "print(holiday_dates['date'])"
   ]
  },
  {
   "cell_type": "markdown",
   "metadata": {},
   "source": [
    "The holiday weeks correspond to the Superbowl in February, Labor Day in September, Thanksgiving in November, and Christmas in December. "
   ]
  },
  {
   "cell_type": "markdown",
   "metadata": {},
   "source": [
    "**Counting categorical variables**"
   ]
  },
  {
   "cell_type": "code",
   "execution_count": 34,
   "metadata": {},
   "outputs": [
    {
     "name": "stdout",
     "output_type": "stream",
     "text": [
      "type\n",
      "A    11\n",
      "B     1\n",
      "Name: count, dtype: int64\n",
      "type\n",
      "A    0.916667\n",
      "B    0.083333\n",
      "Name: proportion, dtype: float64\n"
     ]
    }
   ],
   "source": [
    "# Count the number of stores of each type\n",
    "store_counts = store_types['type'].value_counts()\n",
    "print(store_counts)\n",
    "\n",
    "# Get the proportion of stores of each type\n",
    "store_props = store_types['type'].value_counts(normalize = True)\n",
    "print(store_props)"
   ]
  },
  {
   "cell_type": "code",
   "execution_count": 35,
   "metadata": {},
   "outputs": [
    {
     "name": "stdout",
     "output_type": "stream",
     "text": [
      "department\n",
      "1     12\n",
      "55    12\n",
      "72    12\n",
      "71    12\n",
      "67    12\n",
      "      ..\n",
      "37    10\n",
      "48     8\n",
      "50     6\n",
      "39     4\n",
      "43     2\n",
      "Name: count, Length: 80, dtype: int64\n",
      "department\n",
      "1     0.012917\n",
      "55    0.012917\n",
      "72    0.012917\n",
      "71    0.012917\n",
      "67    0.012917\n",
      "        ...   \n",
      "37    0.010764\n",
      "48    0.008611\n",
      "50    0.006459\n",
      "39    0.004306\n",
      "43    0.002153\n",
      "Name: proportion, Length: 80, dtype: float64\n"
     ]
    }
   ],
   "source": [
    "\n",
    "# Count the number of stores for each department and sort\n",
    "dept_counts_sorted = store_depts['department'].value_counts()\n",
    "print(dept_counts_sorted)\n",
    "\n",
    "# Get the proportion of stores in each department and sort\n",
    "dept_props_sorted = store_depts['department'].value_counts(sort=True, normalize=True)\n",
    "print(dept_props_sorted)"
   ]
  },
  {
   "cell_type": "markdown",
   "metadata": {},
   "source": [
    " Department 43 only exists in two stores."
   ]
  },
  {
   "cell_type": "markdown",
   "metadata": {},
   "source": [
    "**Grouped summary statistics**\n",
    "\n",
    "What percent of sales occurred at each store type?"
   ]
  },
  {
   "cell_type": "code",
   "execution_count": 36,
   "metadata": {},
   "outputs": [
    {
     "name": "stdout",
     "output_type": "stream",
     "text": [
      "type\n",
      "A    0.909775\n",
      "B    0.090225\n",
      "Name: weekly_sales, dtype: float64\n"
     ]
    }
   ],
   "source": [
    "# Group by type; calc total weekly sales\n",
    "sales_by_type = sales.groupby(\"type\")[\"weekly_sales\"].sum()\n",
    "\n",
    "# Get proportion for each type\n",
    "sales_propn_by_type = sales_by_type / sum(sales_by_type)\n",
    "print(sales_propn_by_type)"
   ]
  },
  {
   "cell_type": "markdown",
   "metadata": {},
   "source": [
    "About 91% of sales occurred in stores of type A', 9% in stores of type B, and there are no sales records for stores of type C"
   ]
  },
  {
   "cell_type": "code",
   "execution_count": 37,
   "metadata": {},
   "outputs": [
    {
     "name": "stdout",
     "output_type": "stream",
     "text": [
      "type  is_holiday\n",
      "A     False         2.336927e+08\n",
      "      True          2.360181e+04\n",
      "B     False         2.317678e+07\n",
      "      True          1.621410e+03\n",
      "Name: weekly_sales, dtype: float64\n"
     ]
    }
   ],
   "source": [
    "# to see if sales differ by store type depending on if it's a holiday week or not.\n",
    "\n",
    "# From previous step\n",
    "sales_by_type = sales.groupby(\"type\")[\"weekly_sales\"].sum()\n",
    "\n",
    "# Group by type and is_holiday; calc total weekly sales\n",
    "sales_by_type_is_holiday = sales.groupby(['type', 'is_holiday'])[\"weekly_sales\"].sum()\n",
    "print(sales_by_type_is_holiday)"
   ]
  },
  {
   "cell_type": "code",
   "execution_count": 38,
   "metadata": {},
   "outputs": [
    {
     "name": "stdout",
     "output_type": "stream",
     "text": [
      "type  is_holiday\n",
      "A     False         0.909683\n",
      "      True          0.000092\n",
      "B     False         0.090219\n",
      "      True          0.000006\n",
      "Name: weekly_sales, dtype: float64\n"
     ]
    }
   ],
   "source": [
    "sales_propn_by_type_holiday = sales_by_type_is_holiday/ sum(sales_by_type_is_holiday)\n",
    "print(sales_propn_by_type_holiday)"
   ]
  },
  {
   "cell_type": "code",
   "execution_count": 39,
   "metadata": {},
   "outputs": [],
   "source": [
    "warnings.simplefilter(action='ignore', category=FutureWarning)"
   ]
  },
  {
   "cell_type": "code",
   "execution_count": 40,
   "metadata": {},
   "outputs": [
    {
     "name": "stdout",
     "output_type": "stream",
     "text": [
      "         min        max          mean    median\n",
      "type                                           \n",
      "A    -1098.0  293966.05  23674.667242  11943.92\n",
      "B     -798.0  232558.51  25696.678370  13336.08\n",
      "     unemployment                         fuel_price_usd_per_l            \\\n",
      "              min    max      mean median                  min       max   \n",
      "type                                                                       \n",
      "A           3.879  8.992  7.972611  8.067             0.664129  1.107410   \n",
      "B           7.170  9.765  9.279323  9.199             0.760023  1.107674   \n",
      "\n",
      "                          \n",
      "          mean    median  \n",
      "type                      \n",
      "A     0.744619  0.735455  \n",
      "B     0.805858  0.803348  \n"
     ]
    }
   ],
   "source": [
    "# For each store type, aggregate weekly_sales: get min, max, mean, and median\n",
    "sales_stats = sales.groupby('type')[\"weekly_sales\"].agg([np.min, np.max, np.mean, np.median])\n",
    "\n",
    "# Print sales_stats\n",
    "print(sales_stats)\n",
    "\n",
    "# For each store type, aggregate unemployment and fuel_price_usd_per_l: get min, max, mean, and median\n",
    "unemp_fuel_stats = sales.groupby('type')[[\"unemployment\", \"fuel_price_usd_per_l\"]].agg([np.min, np.max, np.mean, np.median])\n",
    "\n",
    "# Print unemp_fuel_stats\n",
    "print(unemp_fuel_stats)"
   ]
  },
  {
   "cell_type": "markdown",
   "metadata": {},
   "source": [
    "The minimum `weekly_sales` is negative because some stores had more returns than sales."
   ]
  },
  {
   "cell_type": "markdown",
   "metadata": {},
   "source": [
    "**Pivot tables**"
   ]
  },
  {
   "cell_type": "code",
   "execution_count": 41,
   "metadata": {},
   "outputs": [
    {
     "name": "stdout",
     "output_type": "stream",
     "text": [
      "      weekly_sales\n",
      "type              \n",
      "A     23674.667242\n",
      "B     25696.678370\n"
     ]
    }
   ],
   "source": [
    "# Pivot for mean weekly_sales for each store type\n",
    "mean_sales_by_type = sales.pivot_table(values=\"weekly_sales\", index=\"type\")\n",
    "\n",
    "# Print mean_sales_by_type\n",
    "print(mean_sales_by_type)"
   ]
  },
  {
   "cell_type": "code",
   "execution_count": 42,
   "metadata": {},
   "outputs": [
    {
     "name": "stdout",
     "output_type": "stream",
     "text": [
      "              mean       median\n",
      "      weekly_sales weekly_sales\n",
      "type                           \n",
      "A     23674.667242     11943.92\n",
      "B     25696.678370     13336.08\n"
     ]
    }
   ],
   "source": [
    "# Import NumPy as np\n",
    "import numpy as np\n",
    "\n",
    "# Pivot for mean and median weekly_sales for each store type\n",
    "mean_med_sales_by_type = sales.pivot_table(values=\"weekly_sales\", index=\"type\", aggfunc=[np.mean, np.median])\n",
    "\n",
    "# Print mean_med_sales_by_type\n",
    "print(mean_med_sales_by_type)"
   ]
  },
  {
   "cell_type": "code",
   "execution_count": 43,
   "metadata": {},
   "outputs": [
    {
     "name": "stdout",
     "output_type": "stream",
     "text": [
      "is_holiday         False      True \n",
      "type                               \n",
      "A           23768.583523  590.04525\n",
      "B           25751.980533  810.70500\n"
     ]
    }
   ],
   "source": [
    "# Pivot for mean weekly_sales by store type and holiday \n",
    "mean_sales_by_type_holiday = sales.pivot_table(values=\"weekly_sales\", index=\"type\",columns=\"is_holiday\")\n",
    "\n",
    "# Print mean_sales_by_type_holiday\n",
    "print(mean_sales_by_type_holiday)"
   ]
  },
  {
   "cell_type": "code",
   "execution_count": 44,
   "metadata": {},
   "outputs": [
    {
     "name": "stdout",
     "output_type": "stream",
     "text": [
      "type                    A              B\n",
      "department                              \n",
      "1            30961.725379   44050.626667\n",
      "2            67600.158788  112958.526667\n",
      "3            17160.002955   30580.655000\n",
      "4            44285.399091   51219.654167\n",
      "5            34821.011364   63236.875000\n",
      "...                   ...            ...\n",
      "95          123933.787121   77082.102500\n",
      "96           21367.042857    9528.538333\n",
      "97           28471.266970    5828.873333\n",
      "98           12875.423182     217.428333\n",
      "99             379.123659       0.000000\n",
      "\n",
      "[80 rows x 2 columns]\n"
     ]
    }
   ],
   "source": [
    "# Print mean weekly_sales by department and type; fill missing values with 0\n",
    "print(sales.pivot_table(values=\"weekly_sales\", index=\"department\", columns=\"type\", fill_value=0))"
   ]
  },
  {
   "cell_type": "code",
   "execution_count": 45,
   "metadata": {},
   "outputs": [
    {
     "name": "stdout",
     "output_type": "stream",
     "text": [
      "type                   A              B           All\n",
      "department                                           \n",
      "1           30961.725379   44050.626667  32052.467153\n",
      "2           67600.158788  112958.526667  71380.022778\n",
      "3           17160.002955   30580.655000  18278.390625\n",
      "4           44285.399091   51219.654167  44863.253681\n",
      "5           34821.011364   63236.875000  37189.000000\n",
      "...                  ...            ...           ...\n",
      "96          21367.042857    9528.538333  20337.607681\n",
      "97          28471.266970    5828.873333  26584.400833\n",
      "98          12875.423182     217.428333  11820.590278\n",
      "99            379.123659       0.000000    379.123659\n",
      "All         23674.667242   25696.678370  23843.950149\n",
      "\n",
      "[81 rows x 3 columns]\n"
     ]
    }
   ],
   "source": [
    "# Print the mean weekly_sales by department and type; fill missing values with 0s; sum all rows and cols\n",
    "print(sales.pivot_table(values=\"weekly_sales\", index=\"department\", columns=\"type\", fill_value=0, margins=True))\n",
    "\n",
    "# Note: The column 'All' returns an overall mean for each department, not (A+B)/2.\n",
    "# (A+B)/2 would be a mean of means, rather than an overall mean per department!"
   ]
  },
  {
   "cell_type": "markdown",
   "metadata": {},
   "source": [
    "## Slicing and Indexing DataFrames"
   ]
  },
  {
   "cell_type": "markdown",
   "metadata": {},
   "source": [
    "**Explicit indexes**"
   ]
  },
  {
   "cell_type": "code",
   "execution_count": 46,
   "metadata": {},
   "outputs": [
    {
     "data": {
      "text/html": [
       "<div>\n",
       "<style scoped>\n",
       "    .dataframe tbody tr th:only-of-type {\n",
       "        vertical-align: middle;\n",
       "    }\n",
       "\n",
       "    .dataframe tbody tr th {\n",
       "        vertical-align: top;\n",
       "    }\n",
       "\n",
       "    .dataframe thead th {\n",
       "        text-align: right;\n",
       "    }\n",
       "</style>\n",
       "<table border=\"1\" class=\"dataframe\">\n",
       "  <thead>\n",
       "    <tr style=\"text-align: right;\">\n",
       "      <th></th>\n",
       "      <th>date</th>\n",
       "      <th>city</th>\n",
       "      <th>country</th>\n",
       "      <th>avg_temp_c</th>\n",
       "    </tr>\n",
       "  </thead>\n",
       "  <tbody>\n",
       "    <tr>\n",
       "      <th>0</th>\n",
       "      <td>2000-01-01</td>\n",
       "      <td>Abidjan</td>\n",
       "      <td>Côte D'Ivoire</td>\n",
       "      <td>27.293</td>\n",
       "    </tr>\n",
       "    <tr>\n",
       "      <th>1</th>\n",
       "      <td>2000-02-01</td>\n",
       "      <td>Abidjan</td>\n",
       "      <td>Côte D'Ivoire</td>\n",
       "      <td>27.685</td>\n",
       "    </tr>\n",
       "    <tr>\n",
       "      <th>2</th>\n",
       "      <td>2000-03-01</td>\n",
       "      <td>Abidjan</td>\n",
       "      <td>Côte D'Ivoire</td>\n",
       "      <td>29.061</td>\n",
       "    </tr>\n",
       "    <tr>\n",
       "      <th>3</th>\n",
       "      <td>2000-04-01</td>\n",
       "      <td>Abidjan</td>\n",
       "      <td>Côte D'Ivoire</td>\n",
       "      <td>28.162</td>\n",
       "    </tr>\n",
       "    <tr>\n",
       "      <th>4</th>\n",
       "      <td>2000-05-01</td>\n",
       "      <td>Abidjan</td>\n",
       "      <td>Côte D'Ivoire</td>\n",
       "      <td>27.547</td>\n",
       "    </tr>\n",
       "    <tr>\n",
       "      <th>...</th>\n",
       "      <td>...</td>\n",
       "      <td>...</td>\n",
       "      <td>...</td>\n",
       "      <td>...</td>\n",
       "    </tr>\n",
       "    <tr>\n",
       "      <th>16495</th>\n",
       "      <td>2013-05-01</td>\n",
       "      <td>Xian</td>\n",
       "      <td>China</td>\n",
       "      <td>18.979</td>\n",
       "    </tr>\n",
       "    <tr>\n",
       "      <th>16496</th>\n",
       "      <td>2013-06-01</td>\n",
       "      <td>Xian</td>\n",
       "      <td>China</td>\n",
       "      <td>23.522</td>\n",
       "    </tr>\n",
       "    <tr>\n",
       "      <th>16497</th>\n",
       "      <td>2013-07-01</td>\n",
       "      <td>Xian</td>\n",
       "      <td>China</td>\n",
       "      <td>25.251</td>\n",
       "    </tr>\n",
       "    <tr>\n",
       "      <th>16498</th>\n",
       "      <td>2013-08-01</td>\n",
       "      <td>Xian</td>\n",
       "      <td>China</td>\n",
       "      <td>24.528</td>\n",
       "    </tr>\n",
       "    <tr>\n",
       "      <th>16499</th>\n",
       "      <td>2013-09-01</td>\n",
       "      <td>Xian</td>\n",
       "      <td>China</td>\n",
       "      <td>NaN</td>\n",
       "    </tr>\n",
       "  </tbody>\n",
       "</table>\n",
       "<p>16500 rows × 4 columns</p>\n",
       "</div>"
      ],
      "text/plain": [
       "             date     city        country  avg_temp_c\n",
       "0      2000-01-01  Abidjan  Côte D'Ivoire      27.293\n",
       "1      2000-02-01  Abidjan  Côte D'Ivoire      27.685\n",
       "2      2000-03-01  Abidjan  Côte D'Ivoire      29.061\n",
       "3      2000-04-01  Abidjan  Côte D'Ivoire      28.162\n",
       "4      2000-05-01  Abidjan  Côte D'Ivoire      27.547\n",
       "...           ...      ...            ...         ...\n",
       "16495  2013-05-01     Xian          China      18.979\n",
       "16496  2013-06-01     Xian          China      23.522\n",
       "16497  2013-07-01     Xian          China      25.251\n",
       "16498  2013-08-01     Xian          China      24.528\n",
       "16499  2013-09-01     Xian          China         NaN\n",
       "\n",
       "[16500 rows x 4 columns]"
      ]
     },
     "execution_count": 46,
     "metadata": {},
     "output_type": "execute_result"
    }
   ],
   "source": [
    "temperatures = pd.read_csv(\"../data/pandas_datasets/temperatures.csv\", index_col=0)\n",
    "temperatures"
   ]
  },
  {
   "cell_type": "code",
   "execution_count": 47,
   "metadata": {},
   "outputs": [
    {
     "name": "stdout",
     "output_type": "stream",
     "text": [
      "<class 'pandas.core.frame.DataFrame'>\n",
      "Index: 16500 entries, 0 to 16499\n",
      "Data columns (total 4 columns):\n",
      " #   Column      Non-Null Count  Dtype  \n",
      "---  ------      --------------  -----  \n",
      " 0   date        16500 non-null  object \n",
      " 1   city        16500 non-null  object \n",
      " 2   country     16500 non-null  object \n",
      " 3   avg_temp_c  16407 non-null  float64\n",
      "dtypes: float64(1), object(3)\n",
      "memory usage: 644.5+ KB\n"
     ]
    }
   ],
   "source": [
    "temperatures.info()"
   ]
  },
  {
   "cell_type": "code",
   "execution_count": 48,
   "metadata": {},
   "outputs": [],
   "source": [
    "temperatures['date'] = pd.to_datetime(temperatures['date'])\n"
   ]
  },
  {
   "cell_type": "code",
   "execution_count": 73,
   "metadata": {},
   "outputs": [
    {
     "name": "stdout",
     "output_type": "stream",
     "text": [
      "<class 'pandas.core.frame.DataFrame'>\n",
      "Index: 16500 entries, 0 to 16499\n",
      "Data columns (total 5 columns):\n",
      " #   Column      Non-Null Count  Dtype         \n",
      "---  ------      --------------  -----         \n",
      " 0   date        16500 non-null  datetime64[ns]\n",
      " 1   city        16500 non-null  object        \n",
      " 2   country     16500 non-null  object        \n",
      " 3   avg_temp_c  16407 non-null  float64       \n",
      " 4   year        16500 non-null  int32         \n",
      "dtypes: datetime64[ns](1), float64(1), int32(1), object(2)\n",
      "memory usage: 709.0+ KB\n"
     ]
    }
   ],
   "source": [
    "temperatures.info()"
   ]
  },
  {
   "cell_type": "code",
   "execution_count": 49,
   "metadata": {},
   "outputs": [
    {
     "data": {
      "text/plain": [
       "Index(['date', 'city', 'country', 'avg_temp_c'], dtype='object')"
      ]
     },
     "execution_count": 49,
     "metadata": {},
     "output_type": "execute_result"
    }
   ],
   "source": [
    "temperatures.columns"
   ]
  },
  {
   "cell_type": "code",
   "execution_count": 50,
   "metadata": {},
   "outputs": [
    {
     "name": "stdout",
     "output_type": "stream",
     "text": [
      "              date        country  avg_temp_c\n",
      "city                                         \n",
      "Abidjan 2000-01-01  Côte D'Ivoire      27.293\n",
      "Abidjan 2000-02-01  Côte D'Ivoire      27.685\n",
      "Abidjan 2000-03-01  Côte D'Ivoire      29.061\n",
      "Abidjan 2000-04-01  Côte D'Ivoire      28.162\n",
      "Abidjan 2000-05-01  Côte D'Ivoire      27.547\n",
      "...            ...            ...         ...\n",
      "Xian    2013-05-01          China      18.979\n",
      "Xian    2013-06-01          China      23.522\n",
      "Xian    2013-07-01          China      25.251\n",
      "Xian    2013-08-01          China      24.528\n",
      "Xian    2013-09-01          China         NaN\n",
      "\n",
      "[16500 rows x 3 columns]\n"
     ]
    }
   ],
   "source": [
    "# Set the index of temperatures to city\n",
    "temperatures_ind = temperatures.set_index('city')\n",
    "\n",
    "# Look at temperatures_ind\n",
    "print(temperatures_ind)"
   ]
  },
  {
   "cell_type": "code",
   "execution_count": 51,
   "metadata": {},
   "outputs": [
    {
     "name": "stdout",
     "output_type": "stream",
     "text": [
      "          city       date        country  avg_temp_c\n",
      "0      Abidjan 2000-01-01  Côte D'Ivoire      27.293\n",
      "1      Abidjan 2000-02-01  Côte D'Ivoire      27.685\n",
      "2      Abidjan 2000-03-01  Côte D'Ivoire      29.061\n",
      "3      Abidjan 2000-04-01  Côte D'Ivoire      28.162\n",
      "4      Abidjan 2000-05-01  Côte D'Ivoire      27.547\n",
      "...        ...        ...            ...         ...\n",
      "16495     Xian 2013-05-01          China      18.979\n",
      "16496     Xian 2013-06-01          China      23.522\n",
      "16497     Xian 2013-07-01          China      25.251\n",
      "16498     Xian 2013-08-01          China      24.528\n",
      "16499     Xian 2013-09-01          China         NaN\n",
      "\n",
      "[16500 rows x 4 columns]\n",
      "            date        country  avg_temp_c\n",
      "0     2000-01-01  Côte D'Ivoire      27.293\n",
      "1     2000-02-01  Côte D'Ivoire      27.685\n",
      "2     2000-03-01  Côte D'Ivoire      29.061\n",
      "3     2000-04-01  Côte D'Ivoire      28.162\n",
      "4     2000-05-01  Côte D'Ivoire      27.547\n",
      "...          ...            ...         ...\n",
      "16495 2013-05-01          China      18.979\n",
      "16496 2013-06-01          China      23.522\n",
      "16497 2013-07-01          China      25.251\n",
      "16498 2013-08-01          China      24.528\n",
      "16499 2013-09-01          China         NaN\n",
      "\n",
      "[16500 rows x 3 columns]\n"
     ]
    }
   ],
   "source": [
    "# Reset the temperatures_ind index, keeping its contents\n",
    "print(temperatures_ind.reset_index())\n",
    "\n",
    "# Reset the temperatures_ind index, dropping its contents\n",
    "print(temperatures_ind.reset_index(drop=True))"
   ]
  },
  {
   "cell_type": "markdown",
   "metadata": {},
   "source": [
    "*Subsetting with .loc[]*\n",
    "\n",
    "- The killer feature for indexes is .loc[]: a subsetting method that accepts index values. When passed with a single argument, it will take a subset of rows.\n",
    "\n",
    "- The code for subsetting using .loc[] can be easier to read than standard square bracket subsetting, which can make the code less burdensome to maintain."
   ]
  },
  {
   "cell_type": "code",
   "execution_count": 52,
   "metadata": {},
   "outputs": [
    {
     "name": "stdout",
     "output_type": "stream",
     "text": [
      "            date              city country  avg_temp_c\n",
      "10725 2000-01-01            Moscow  Russia      -7.313\n",
      "10726 2000-02-01            Moscow  Russia      -3.551\n",
      "10727 2000-03-01            Moscow  Russia      -1.661\n",
      "10728 2000-04-01            Moscow  Russia      10.096\n",
      "10729 2000-05-01            Moscow  Russia      10.357\n",
      "...          ...               ...     ...         ...\n",
      "13360 2013-05-01  Saint Petersburg  Russia      12.355\n",
      "13361 2013-06-01  Saint Petersburg  Russia      17.185\n",
      "13362 2013-07-01  Saint Petersburg  Russia      17.234\n",
      "13363 2013-08-01  Saint Petersburg  Russia      17.153\n",
      "13364 2013-09-01  Saint Petersburg  Russia         NaN\n",
      "\n",
      "[330 rows x 4 columns]\n"
     ]
    }
   ],
   "source": [
    "# Make a list of cities to subset on\n",
    "cities = [\"Moscow\", \"Saint Petersburg\"]\n",
    "\n",
    "# Subset temperatures using square brackets\n",
    "print(temperatures[temperatures['city'].isin(cities)])"
   ]
  },
  {
   "cell_type": "code",
   "execution_count": 53,
   "metadata": {},
   "outputs": [
    {
     "name": "stdout",
     "output_type": "stream",
     "text": [
      "                       date country  avg_temp_c\n",
      "city                                           \n",
      "Moscow           2000-01-01  Russia      -7.313\n",
      "Moscow           2000-02-01  Russia      -3.551\n",
      "Moscow           2000-03-01  Russia      -1.661\n",
      "Moscow           2000-04-01  Russia      10.096\n",
      "Moscow           2000-05-01  Russia      10.357\n",
      "...                     ...     ...         ...\n",
      "Saint Petersburg 2013-05-01  Russia      12.355\n",
      "Saint Petersburg 2013-06-01  Russia      17.185\n",
      "Saint Petersburg 2013-07-01  Russia      17.234\n",
      "Saint Petersburg 2013-08-01  Russia      17.153\n",
      "Saint Petersburg 2013-09-01  Russia         NaN\n",
      "\n",
      "[330 rows x 3 columns]\n"
     ]
    }
   ],
   "source": [
    "\n",
    "# Subset temperatures_ind using .loc[]\n",
    "print(temperatures_ind.loc[cities])"
   ]
  },
  {
   "cell_type": "markdown",
   "metadata": {},
   "source": [
    "*Setting multi-level indexes*\n",
    "\n",
    "- Indexes can also be made out of multiple columns, forming a multi-level index (sometimes called a hierarchical index). There is a trade-off to using these.\n",
    "- The benefit is that multi-level indexes make it more natural to reason about nested categorical variables. For example, in a clinical trial, you might have control and treatment groups. Then each test subject belongs to one or another group, and we can say that a test subject is nested inside the treatment group. Similarly, in the temperature dataset, the city is located in the country, so we can say a city is nested inside the country.\n",
    "- The main downside is that the code for manipulating indexes is different from the code for manipulating columns, so you have to learn two syntaxes and keep track of how your data is represented."
   ]
  },
  {
   "cell_type": "code",
   "execution_count": 54,
   "metadata": {},
   "outputs": [
    {
     "data": {
      "text/html": [
       "<div>\n",
       "<style scoped>\n",
       "    .dataframe tbody tr th:only-of-type {\n",
       "        vertical-align: middle;\n",
       "    }\n",
       "\n",
       "    .dataframe tbody tr th {\n",
       "        vertical-align: top;\n",
       "    }\n",
       "\n",
       "    .dataframe thead th {\n",
       "        text-align: right;\n",
       "    }\n",
       "</style>\n",
       "<table border=\"1\" class=\"dataframe\">\n",
       "  <thead>\n",
       "    <tr style=\"text-align: right;\">\n",
       "      <th></th>\n",
       "      <th></th>\n",
       "      <th>date</th>\n",
       "      <th>avg_temp_c</th>\n",
       "    </tr>\n",
       "    <tr>\n",
       "      <th>country</th>\n",
       "      <th>city</th>\n",
       "      <th></th>\n",
       "      <th></th>\n",
       "    </tr>\n",
       "  </thead>\n",
       "  <tbody>\n",
       "    <tr>\n",
       "      <th rowspan=\"5\" valign=\"top\">Côte D'Ivoire</th>\n",
       "      <th>Abidjan</th>\n",
       "      <td>2000-01-01</td>\n",
       "      <td>27.293</td>\n",
       "    </tr>\n",
       "    <tr>\n",
       "      <th>Abidjan</th>\n",
       "      <td>2000-02-01</td>\n",
       "      <td>27.685</td>\n",
       "    </tr>\n",
       "    <tr>\n",
       "      <th>Abidjan</th>\n",
       "      <td>2000-03-01</td>\n",
       "      <td>29.061</td>\n",
       "    </tr>\n",
       "    <tr>\n",
       "      <th>Abidjan</th>\n",
       "      <td>2000-04-01</td>\n",
       "      <td>28.162</td>\n",
       "    </tr>\n",
       "    <tr>\n",
       "      <th>Abidjan</th>\n",
       "      <td>2000-05-01</td>\n",
       "      <td>27.547</td>\n",
       "    </tr>\n",
       "    <tr>\n",
       "      <th>...</th>\n",
       "      <th>...</th>\n",
       "      <td>...</td>\n",
       "      <td>...</td>\n",
       "    </tr>\n",
       "    <tr>\n",
       "      <th rowspan=\"5\" valign=\"top\">China</th>\n",
       "      <th>Xian</th>\n",
       "      <td>2013-05-01</td>\n",
       "      <td>18.979</td>\n",
       "    </tr>\n",
       "    <tr>\n",
       "      <th>Xian</th>\n",
       "      <td>2013-06-01</td>\n",
       "      <td>23.522</td>\n",
       "    </tr>\n",
       "    <tr>\n",
       "      <th>Xian</th>\n",
       "      <td>2013-07-01</td>\n",
       "      <td>25.251</td>\n",
       "    </tr>\n",
       "    <tr>\n",
       "      <th>Xian</th>\n",
       "      <td>2013-08-01</td>\n",
       "      <td>24.528</td>\n",
       "    </tr>\n",
       "    <tr>\n",
       "      <th>Xian</th>\n",
       "      <td>2013-09-01</td>\n",
       "      <td>NaN</td>\n",
       "    </tr>\n",
       "  </tbody>\n",
       "</table>\n",
       "<p>16500 rows × 2 columns</p>\n",
       "</div>"
      ],
      "text/plain": [
       "                            date  avg_temp_c\n",
       "country       city                          \n",
       "Côte D'Ivoire Abidjan 2000-01-01      27.293\n",
       "              Abidjan 2000-02-01      27.685\n",
       "              Abidjan 2000-03-01      29.061\n",
       "              Abidjan 2000-04-01      28.162\n",
       "              Abidjan 2000-05-01      27.547\n",
       "...                          ...         ...\n",
       "China         Xian    2013-05-01      18.979\n",
       "              Xian    2013-06-01      23.522\n",
       "              Xian    2013-07-01      25.251\n",
       "              Xian    2013-08-01      24.528\n",
       "              Xian    2013-09-01         NaN\n",
       "\n",
       "[16500 rows x 2 columns]"
      ]
     },
     "execution_count": 54,
     "metadata": {},
     "output_type": "execute_result"
    }
   ],
   "source": [
    "# Index temperatures by country & city\n",
    "temperatures_ind = temperatures.set_index(['country', 'city'])\n",
    "temperatures_ind"
   ]
  },
  {
   "cell_type": "code",
   "execution_count": 55,
   "metadata": {},
   "outputs": [
    {
     "name": "stdout",
     "output_type": "stream",
     "text": [
      "                              date  avg_temp_c\n",
      "country  city                                 \n",
      "Brazil   Rio De Janeiro 2000-01-01      25.974\n",
      "         Rio De Janeiro 2000-02-01      26.699\n",
      "         Rio De Janeiro 2000-03-01      26.270\n",
      "         Rio De Janeiro 2000-04-01      25.750\n",
      "         Rio De Janeiro 2000-05-01      24.356\n",
      "...                            ...         ...\n",
      "Pakistan Lahore         2013-05-01      33.457\n",
      "         Lahore         2013-06-01      34.456\n",
      "         Lahore         2013-07-01      33.279\n",
      "         Lahore         2013-08-01      31.511\n",
      "         Lahore         2013-09-01         NaN\n",
      "\n",
      "[330 rows x 2 columns]\n"
     ]
    }
   ],
   "source": [
    "\n",
    "# List of tuples: Brazil, Rio De Janeiro & Pakistan, Lahore\n",
    "rows_to_keep = [(\"Brazil\", \"Rio De Janeiro\"), (\"Pakistan\", \"Lahore\")]\n",
    "\n",
    "# Subset for rows to keep\n",
    "print(temperatures_ind.loc[rows_to_keep])"
   ]
  },
  {
   "cell_type": "markdown",
   "metadata": {},
   "source": [
    " *Sort by elements in the index. For this, you need to use* `.sort_index()`"
   ]
  },
  {
   "cell_type": "code",
   "execution_count": 56,
   "metadata": {},
   "outputs": [
    {
     "name": "stdout",
     "output_type": "stream",
     "text": [
      "                         date  avg_temp_c\n",
      "country     city                         \n",
      "Afghanistan Kabul  2000-01-01       3.326\n",
      "            Kabul  2000-02-01       3.454\n",
      "            Kabul  2000-03-01       9.612\n",
      "            Kabul  2000-04-01      17.925\n",
      "            Kabul  2000-05-01      24.658\n",
      "...                       ...         ...\n",
      "Zimbabwe    Harare 2013-05-01      18.298\n",
      "            Harare 2013-06-01      17.020\n",
      "            Harare 2013-07-01      16.299\n",
      "            Harare 2013-08-01      19.232\n",
      "            Harare 2013-09-01         NaN\n",
      "\n",
      "[16500 rows x 2 columns]\n"
     ]
    }
   ],
   "source": [
    "# Sort temperatures_ind by index values\n",
    "print(temperatures_ind.sort_index())"
   ]
  },
  {
   "cell_type": "code",
   "execution_count": 57,
   "metadata": {},
   "outputs": [
    {
     "name": "stdout",
     "output_type": "stream",
     "text": [
      "                            date  avg_temp_c\n",
      "country       city                          \n",
      "Côte D'Ivoire Abidjan 2000-01-01      27.293\n",
      "              Abidjan 2000-02-01      27.685\n",
      "              Abidjan 2000-03-01      29.061\n",
      "              Abidjan 2000-04-01      28.162\n",
      "              Abidjan 2000-05-01      27.547\n",
      "...                          ...         ...\n",
      "China         Xian    2013-05-01      18.979\n",
      "              Xian    2013-06-01      23.522\n",
      "              Xian    2013-07-01      25.251\n",
      "              Xian    2013-08-01      24.528\n",
      "              Xian    2013-09-01         NaN\n",
      "\n",
      "[16500 rows x 2 columns]\n"
     ]
    }
   ],
   "source": [
    "# Sort temperatures_ind by index values at the city level\n",
    "print(temperatures_ind.sort_index(level=[\"city\"]))"
   ]
  },
  {
   "cell_type": "code",
   "execution_count": 58,
   "metadata": {},
   "outputs": [
    {
     "name": "stdout",
     "output_type": "stream",
     "text": [
      "                         date  avg_temp_c\n",
      "country     city                         \n",
      "Afghanistan Kabul  2000-01-01       3.326\n",
      "            Kabul  2000-02-01       3.454\n",
      "            Kabul  2000-03-01       9.612\n",
      "            Kabul  2000-04-01      17.925\n",
      "            Kabul  2000-05-01      24.658\n",
      "...                       ...         ...\n",
      "Zimbabwe    Harare 2013-05-01      18.298\n",
      "            Harare 2013-06-01      17.020\n",
      "            Harare 2013-07-01      16.299\n",
      "            Harare 2013-08-01      19.232\n",
      "            Harare 2013-09-01         NaN\n",
      "\n",
      "[16500 rows x 2 columns]\n"
     ]
    }
   ],
   "source": [
    "# Sort temperatures_ind by country then descending city\n",
    "print(temperatures_ind.sort_index(level=[\"country\", \"city\"], ascending=[True, False]))"
   ]
  },
  {
   "cell_type": "markdown",
   "metadata": {},
   "source": [
    "**Slicing and subsetting with .loc and .iloc**"
   ]
  },
  {
   "cell_type": "markdown",
   "metadata": {},
   "source": [
    "*|Slicing index values|*\n",
    "\n",
    "Slicing lets you select consecutive elements of an object using `first:last` syntax. DataFrames can be sliced by index values or by row/column number.\n",
    "\n",
    "Compared to slicing lists, there are a few things to remember.\n",
    "\n",
    "- You can only slice an index if the index is sorted (using `.sort_index()`).\n",
    "- To slice at the outer level, first and last can be strings.\n",
    "- To slice at inner levels, first and last should be tuples.\n",
    "- If you pass a single slice to `.loc[]`, it will slice the rows."
   ]
  },
  {
   "cell_type": "code",
   "execution_count": 59,
   "metadata": {},
   "outputs": [],
   "source": [
    "# Sort the index of temperatures_ind\n",
    "temperatures_srt = temperatures_ind.sort_index()"
   ]
  },
  {
   "cell_type": "code",
   "execution_count": 60,
   "metadata": {},
   "outputs": [
    {
     "name": "stdout",
     "output_type": "stream",
     "text": [
      "                                date  avg_temp_c\n",
      "country  city                                   \n",
      "Pakistan Faisalabad       2000-01-01      12.792\n",
      "         Faisalabad       2000-02-01      14.339\n",
      "         Faisalabad       2000-03-01      20.309\n",
      "         Faisalabad       2000-04-01      29.072\n",
      "         Faisalabad       2000-05-01      34.845\n",
      "...                              ...         ...\n",
      "Russia   Saint Petersburg 2013-05-01      12.355\n",
      "         Saint Petersburg 2013-06-01      17.185\n",
      "         Saint Petersburg 2013-07-01      17.234\n",
      "         Saint Petersburg 2013-08-01      17.153\n",
      "         Saint Petersburg 2013-09-01         NaN\n",
      "\n",
      "[1155 rows x 2 columns]\n"
     ]
    }
   ],
   "source": [
    "\n",
    "# Subset rows from Pakistan to Russia\n",
    "print(temperatures_srt.loc[\"Pakistan\":\"Russia\"])"
   ]
  },
  {
   "cell_type": "code",
   "execution_count": 61,
   "metadata": {},
   "outputs": [
    {
     "name": "stdout",
     "output_type": "stream",
     "text": [
      "                      date  avg_temp_c\n",
      "country  city                         \n",
      "Pakistan Lahore 2000-01-01      12.792\n",
      "         Lahore 2000-02-01      14.339\n",
      "         Lahore 2000-03-01      20.309\n",
      "         Lahore 2000-04-01      29.072\n",
      "         Lahore 2000-05-01      34.845\n",
      "...                    ...         ...\n",
      "Russia   Moscow 2013-05-01      16.152\n",
      "         Moscow 2013-06-01      18.718\n",
      "         Moscow 2013-07-01      18.136\n",
      "         Moscow 2013-08-01      17.485\n",
      "         Moscow 2013-09-01         NaN\n",
      "\n",
      "[660 rows x 2 columns]\n"
     ]
    }
   ],
   "source": [
    "\n",
    "# Subset rows from Pakistan, Lahore to Russia, Moscow\n",
    "print(temperatures_srt.loc[(\"Pakistan\",\"Lahore\"):(\"Russia\",\"Moscow\")])"
   ]
  },
  {
   "cell_type": "markdown",
   "metadata": {},
   "source": [
    "*Slicing in both directions*"
   ]
  },
  {
   "cell_type": "code",
   "execution_count": 62,
   "metadata": {},
   "outputs": [
    {
     "name": "stdout",
     "output_type": "stream",
     "text": [
      "                        date  avg_temp_c\n",
      "country city                            \n",
      "India   Hyderabad 2000-01-01      23.779\n",
      "        Hyderabad 2000-02-01      25.826\n",
      "        Hyderabad 2000-03-01      28.821\n",
      "        Hyderabad 2000-04-01      32.698\n",
      "        Hyderabad 2000-05-01      32.438\n",
      "...                      ...         ...\n",
      "Iraq    Baghdad   2013-05-01      28.673\n",
      "        Baghdad   2013-06-01      33.803\n",
      "        Baghdad   2013-07-01      36.392\n",
      "        Baghdad   2013-08-01      35.463\n",
      "        Baghdad   2013-09-01         NaN\n",
      "\n",
      "[2145 rows x 2 columns]\n"
     ]
    }
   ],
   "source": [
    "# Subset rows from India, Hyderabad to Iraq, Baghdad\n",
    "print(temperatures_srt.loc[(\"India\",\"Hyderabad\"):(\"Iraq\",\"Baghdad\")])"
   ]
  },
  {
   "cell_type": "code",
   "execution_count": 63,
   "metadata": {},
   "outputs": [
    {
     "name": "stdout",
     "output_type": "stream",
     "text": [
      "                         date  avg_temp_c\n",
      "country     city                         \n",
      "Afghanistan Kabul  2000-01-01       3.326\n",
      "            Kabul  2000-02-01       3.454\n",
      "            Kabul  2000-03-01       9.612\n",
      "            Kabul  2000-04-01      17.925\n",
      "            Kabul  2000-05-01      24.658\n",
      "...                       ...         ...\n",
      "Zimbabwe    Harare 2013-05-01      18.298\n",
      "            Harare 2013-06-01      17.020\n",
      "            Harare 2013-07-01      16.299\n",
      "            Harare 2013-08-01      19.232\n",
      "            Harare 2013-09-01         NaN\n",
      "\n",
      "[16500 rows x 2 columns]\n"
     ]
    }
   ],
   "source": [
    "\n",
    "# Subset columns from date to avg_temp_c\n",
    "print(temperatures_srt.loc[:,\"date\":\"avg_temp_c\"])"
   ]
  },
  {
   "cell_type": "code",
   "execution_count": 64,
   "metadata": {},
   "outputs": [
    {
     "name": "stdout",
     "output_type": "stream",
     "text": [
      "                        date  avg_temp_c\n",
      "country city                            \n",
      "India   Hyderabad 2000-01-01      23.779\n",
      "        Hyderabad 2000-02-01      25.826\n",
      "        Hyderabad 2000-03-01      28.821\n",
      "        Hyderabad 2000-04-01      32.698\n",
      "        Hyderabad 2000-05-01      32.438\n",
      "...                      ...         ...\n",
      "Iraq    Baghdad   2013-05-01      28.673\n",
      "        Baghdad   2013-06-01      33.803\n",
      "        Baghdad   2013-07-01      36.392\n",
      "        Baghdad   2013-08-01      35.463\n",
      "        Baghdad   2013-09-01         NaN\n",
      "\n",
      "[2145 rows x 2 columns]\n"
     ]
    }
   ],
   "source": [
    "\n",
    "# Subset in both directions at once\n",
    "print(temperatures_srt.loc[(\"India\",\"Hyderabad\"):(\"Iraq\",\"Baghdad\"),\"date\":\"avg_temp_c\"])"
   ]
  },
  {
   "cell_type": "markdown",
   "metadata": {},
   "source": [
    "*Slicing time series*\n",
    "\n",
    "Slicing is particularly useful for time series since it's a common thing to want to filter for data within a date range. Add the date column to the index, then use .loc[] to perform the subsetting. \n",
    "\n",
    "The important thing to remember is to keep your dates in ISO 8601 format, that is, \"yyyy-mm-dd\" for year-month-day, \"yyyy-mm\" for year-month, and \"yyyy\" for year."
   ]
  },
  {
   "cell_type": "code",
   "execution_count": 65,
   "metadata": {},
   "outputs": [
    {
     "name": "stdout",
     "output_type": "stream",
     "text": [
      "            date     city        country  avg_temp_c\n",
      "120   2010-01-01  Abidjan  Côte D'Ivoire      28.270\n",
      "121   2010-02-01  Abidjan  Côte D'Ivoire      29.262\n",
      "122   2010-03-01  Abidjan  Côte D'Ivoire      29.596\n",
      "123   2010-04-01  Abidjan  Côte D'Ivoire      29.068\n",
      "124   2010-05-01  Abidjan  Côte D'Ivoire      28.258\n",
      "...          ...      ...            ...         ...\n",
      "16474 2011-08-01     Xian          China      23.069\n",
      "16475 2011-09-01     Xian          China      16.775\n",
      "16476 2011-10-01     Xian          China      12.587\n",
      "16477 2011-11-01     Xian          China       7.543\n",
      "16478 2011-12-01     Xian          China      -0.490\n",
      "\n",
      "[2400 rows x 4 columns]\n"
     ]
    }
   ],
   "source": [
    "# Use Boolean conditions to subset temperatures for rows in 2010 and 2011\n",
    "temperatures_bool = temperatures[(temperatures[\"date\"] >= \"2010-01-01\") & (temperatures[\"date\"] <= \"2011-12-01\")]\n",
    "print(temperatures_bool)"
   ]
  },
  {
   "cell_type": "code",
   "execution_count": 66,
   "metadata": {},
   "outputs": [
    {
     "name": "stdout",
     "output_type": "stream",
     "text": [
      "                  city    country  avg_temp_c\n",
      "date                                         \n",
      "2010-01-01  Faisalabad   Pakistan      11.810\n",
      "2010-01-01   Melbourne  Australia      20.016\n",
      "2010-01-01   Chongqing      China       7.921\n",
      "2010-01-01   São Paulo     Brazil      23.738\n",
      "2010-01-01   Guangzhou      China      14.136\n",
      "...                ...        ...         ...\n",
      "2011-12-01      Nagoya      Japan       6.476\n",
      "2011-12-01   Hyderabad      India      23.613\n",
      "2011-12-01        Cali   Colombia      21.559\n",
      "2011-12-01        Lima       Peru      18.293\n",
      "2011-12-01     Bangkok   Thailand      25.021\n",
      "\n",
      "[2400 rows x 3 columns]\n"
     ]
    }
   ],
   "source": [
    "\n",
    "# Set date as the index and sort the index\n",
    "temperatures_ind = temperatures.set_index(\"date\").sort_index()\n",
    "# Use .loc[] to subset temperatures_ind for rows in 2010 and 2011\n",
    "print(temperatures_ind.loc[\"2010\":\"2011\"])"
   ]
  },
  {
   "cell_type": "code",
   "execution_count": 67,
   "metadata": {},
   "outputs": [
    {
     "name": "stdout",
     "output_type": "stream",
     "text": [
      "                city        country  avg_temp_c\n",
      "date                                           \n",
      "2010-08-01  Calcutta          India      30.226\n",
      "2010-08-01      Pune          India      24.941\n",
      "2010-08-01     Izmir         Turkey      28.352\n",
      "2010-08-01   Tianjin          China      25.543\n",
      "2010-08-01    Manila    Philippines      27.101\n",
      "...              ...            ...         ...\n",
      "2011-02-01     Kabul    Afghanistan       3.914\n",
      "2011-02-01   Chicago  United States       0.276\n",
      "2011-02-01    Aleppo          Syria       8.246\n",
      "2011-02-01     Delhi          India      18.136\n",
      "2011-02-01   Rangoon          Burma      26.631\n",
      "\n",
      "[700 rows x 3 columns]\n"
     ]
    }
   ],
   "source": [
    "\n",
    "# Use .loc[] to subset temperatures_ind for rows from Aug 2010 to Feb 2011\n",
    "print(temperatures_ind.loc[\"2010-08\":\"2011-02\"])"
   ]
  },
  {
   "cell_type": "markdown",
   "metadata": {},
   "source": [
    "*Subsetting by row/column number*\n",
    "\n",
    "This is done using .iloc[], and like .loc[], it can take two arguments to subset by rows and columns."
   ]
  },
  {
   "cell_type": "code",
   "execution_count": 68,
   "metadata": {},
   "outputs": [
    {
     "name": "stdout",
     "output_type": "stream",
     "text": [
      "Abidjan\n"
     ]
    }
   ],
   "source": [
    "# Get 23rd row, 2nd column (index 22, 1)\n",
    "print(temperatures.iloc[22,1])"
   ]
  },
  {
   "cell_type": "code",
   "execution_count": 69,
   "metadata": {},
   "outputs": [
    {
     "name": "stdout",
     "output_type": "stream",
     "text": [
      "        date     city        country  avg_temp_c\n",
      "0 2000-01-01  Abidjan  Côte D'Ivoire      27.293\n",
      "1 2000-02-01  Abidjan  Côte D'Ivoire      27.685\n",
      "2 2000-03-01  Abidjan  Côte D'Ivoire      29.061\n",
      "3 2000-04-01  Abidjan  Côte D'Ivoire      28.162\n",
      "4 2000-05-01  Abidjan  Côte D'Ivoire      27.547\n",
      "5 2000-06-01  Abidjan  Côte D'Ivoire      25.812\n"
     ]
    }
   ],
   "source": [
    "# Use slicing to get the first 5 rows\n",
    "print(temperatures.iloc[0:6])"
   ]
  },
  {
   "cell_type": "code",
   "execution_count": 70,
   "metadata": {},
   "outputs": [
    {
     "name": "stdout",
     "output_type": "stream",
     "text": [
      "             country  avg_temp_c\n",
      "0      Côte D'Ivoire      27.293\n",
      "1      Côte D'Ivoire      27.685\n",
      "2      Côte D'Ivoire      29.061\n",
      "3      Côte D'Ivoire      28.162\n",
      "4      Côte D'Ivoire      27.547\n",
      "...              ...         ...\n",
      "16495          China      18.979\n",
      "16496          China      23.522\n",
      "16497          China      25.251\n",
      "16498          China      24.528\n",
      "16499          China         NaN\n",
      "\n",
      "[16500 rows x 2 columns]\n"
     ]
    }
   ],
   "source": [
    "# Use slicing to get columns 3 to 4\n",
    "print(temperatures.iloc[:,2:4])"
   ]
  },
  {
   "cell_type": "code",
   "execution_count": 71,
   "metadata": {},
   "outputs": [
    {
     "name": "stdout",
     "output_type": "stream",
     "text": [
      "         country  avg_temp_c\n",
      "0  Côte D'Ivoire      27.293\n",
      "1  Côte D'Ivoire      27.685\n",
      "2  Côte D'Ivoire      29.061\n",
      "3  Côte D'Ivoire      28.162\n",
      "4  Côte D'Ivoire      27.547\n",
      "5  Côte D'Ivoire      25.812\n"
     ]
    }
   ],
   "source": [
    "# Use slicing in both directions at once\n",
    "print(temperatures.iloc[0:6,2:4])"
   ]
  },
  {
   "cell_type": "markdown",
   "metadata": {},
   "source": [
    "**Working with Pivot Tables**"
   ]
  },
  {
   "cell_type": "code",
   "execution_count": 75,
   "metadata": {},
   "outputs": [
    {
     "name": "stdout",
     "output_type": "stream",
     "text": [
      "year                             2000       2001       2002       2003  \\\n",
      "country     city                                                         \n",
      "Afghanistan Kabul           15.822667  15.847917  15.714583  15.132583   \n",
      "Angola      Luanda          24.410333  24.427083  24.790917  24.867167   \n",
      "Australia   Melbourne       14.320083  14.180000  14.075833  13.985583   \n",
      "            Sydney          17.567417  17.854500  17.733833  17.592333   \n",
      "Bangladesh  Dhaka           25.905250  25.931250  26.095000  25.927417   \n",
      "Brazil      Belo Horizonte  21.694917  22.141500  22.497333  22.078917   \n",
      "            Brasília        22.456167  22.565333  23.175500  22.749000   \n",
      "            Fortaleza       27.495167  27.692833  27.853083  27.862833   \n",
      "            Rio De Janeiro  24.363083  24.989083  25.176667  24.896000   \n",
      "            Salvador        25.351667  25.592917  25.560500  25.675750   \n",
      "\n",
      "year                             2004       2005       2006       2007  \\\n",
      "country     city                                                         \n",
      "Afghanistan Kabul           16.128417  14.847500  15.798500  15.518000   \n",
      "Angola      Luanda          24.216167  24.414583  24.138417  24.241583   \n",
      "Australia   Melbourne       13.742083  14.378500  13.991083  14.991833   \n",
      "            Sydney          17.869667  18.028083  17.749500  18.020833   \n",
      "Bangladesh  Dhaka           26.136083  26.193333  26.440417  25.951333   \n",
      "Brazil      Belo Horizonte  21.588583  22.054667  21.817917  22.189333   \n",
      "            Brasília        22.606583  22.736750  22.349167  22.998000   \n",
      "            Fortaleza       27.721083  28.171000  27.759917  27.920083   \n",
      "            Rio De Janeiro  24.238250  24.792917  24.571917  24.775083   \n",
      "            Salvador        25.365833  25.697083  25.409500  25.438417   \n",
      "\n",
      "year                             2008       2009       2010       2011  \\\n",
      "country     city                                                         \n",
      "Afghanistan Kabul           15.479250  15.093333  15.676000  15.812167   \n",
      "Angola      Luanda          24.266333  24.325083  24.440250  24.150750   \n",
      "Australia   Melbourne       14.110583  14.647417  14.231667  14.190917   \n",
      "            Sydney          17.321083  18.175833  17.999000  17.713333   \n",
      "Bangladesh  Dhaka           26.004500  26.535583  26.648167  25.803250   \n",
      "Brazil      Belo Horizonte  21.857917  22.248750  22.116333  21.740500   \n",
      "            Brasília        22.595333  22.663000  23.035167  22.387167   \n",
      "            Fortaleza       27.536250  27.385417  28.179167  27.363167   \n",
      "            Rio De Janeiro  24.260333  24.983583  24.952750  24.319833   \n",
      "            Salvador        25.543750  25.999750  25.776917  25.283667   \n",
      "\n",
      "year                             2012       2013  \n",
      "country     city                                  \n",
      "Afghanistan Kabul           14.510333  16.206125  \n",
      "Angola      Luanda          24.240083  24.553875  \n",
      "Australia   Melbourne       14.268667  14.741500  \n",
      "            Sydney          17.474333  18.089750  \n",
      "Bangladesh  Dhaka           26.283583  26.587000  \n",
      "Brazil      Belo Horizonte  22.161500  21.586125  \n",
      "            Brasília        22.843583  22.601375  \n",
      "            Fortaleza       28.208917  27.705625  \n",
      "            Rio De Janeiro  24.838417  25.188000  \n",
      "            Salvador        25.648333  26.138000  \n"
     ]
    }
   ],
   "source": [
    "# Add a year column to temperatures\n",
    "temperatures[\"year\"] = temperatures[\"date\"].dt.year\n",
    "\n",
    "# Pivot avg_temp_c by country and city vs year\n",
    "temp_by_country_city_vs_year = temperatures.pivot_table(values=\"avg_temp_c\", index=[\"country\",\"city\"], columns=\"year\")\n",
    "\n",
    "# See the result\n",
    "print(temp_by_country_city_vs_year.head(10))"
   ]
  },
  {
   "cell_type": "markdown",
   "metadata": {},
   "source": [
    "*Subsetting pivot tables*"
   ]
  },
  {
   "cell_type": "code",
   "execution_count": 76,
   "metadata": {},
   "outputs": [
    {
     "name": "stdout",
     "output_type": "stream",
     "text": [
      "year                       2000       2001       2002       2003       2004  \\\n",
      "country  city                                                                 \n",
      "Egypt    Alexandria   20.744500  21.454583  21.456167  21.221417  21.064167   \n",
      "         Cairo        21.486167  22.330833  22.414083  22.170500  22.081917   \n",
      "         Gizeh        21.486167  22.330833  22.414083  22.170500  22.081917   \n",
      "Ethiopia Addis Abeba  18.241250  18.296417  18.469750  18.320917  18.292750   \n",
      "France   Paris        11.739667  11.371250  11.871333  11.909500  11.338833   \n",
      "Germany  Berlin       10.963667   9.690250  10.264417  10.065750   9.822583   \n",
      "India    Ahmadabad    27.436000  27.198083  27.719083  27.403833  27.628333   \n",
      "         Bangalore    25.337917  25.528167  25.755333  25.924750  25.252083   \n",
      "         Bombay       27.203667  27.243667  27.628667  27.578417  27.318750   \n",
      "         Calcutta     26.491333  26.515167  26.703917  26.561333  26.634333   \n",
      "         Delhi        26.048333  25.862917  26.634333  25.721083  26.239917   \n",
      "         Hyderabad    27.231833  27.555167  27.665167  27.844583  27.228500   \n",
      "         Jaipur       26.430250  26.023000  27.031667  26.027417  26.642167   \n",
      "         Kanpur       25.353917  25.326500  26.116833  25.409083  25.586500   \n",
      "         Lakhnau      25.353917  25.326500  26.116833  25.409083  25.586500   \n",
      "         Madras       28.811667  29.162917  29.246500  29.273083  28.810917   \n",
      "         Nagpur       26.181417  26.321667  26.753000  26.503833  26.406333   \n",
      "         New Delhi    26.048333  25.862917  26.634333  25.721083  26.239917   \n",
      "         Pune         25.110917  25.337833  25.583000  25.748417  25.316167   \n",
      "         Surat        27.029000  26.897250  27.347750  27.230917  27.290583   \n",
      "\n",
      "year                       2005       2006       2007       2008       2009  \\\n",
      "country  city                                                                 \n",
      "Egypt    Alexandria   21.082333  21.148167  21.507750  21.739000  21.670500   \n",
      "         Cairo        22.006500  22.050000  22.361000  22.644500  22.625000   \n",
      "         Gizeh        22.006500  22.050000  22.361000  22.644500  22.625000   \n",
      "Ethiopia Addis Abeba  18.312833  18.427083  18.142583  18.165000  18.765333   \n",
      "France   Paris        11.552917  11.788500  11.750833  11.278250  11.464083   \n",
      "Germany  Berlin        9.919083  10.545333  10.883167  10.657750  10.062500   \n",
      "India    Ahmadabad    26.828083  27.282833  27.511167  27.048500  28.095833   \n",
      "         Bangalore    25.476500  25.418250  25.464333  25.352583  25.725750   \n",
      "         Bombay       27.035750  27.381500  27.634667  27.177750  27.844500   \n",
      "         Calcutta     26.729167  26.986250  26.584583  26.522333  27.153250   \n",
      "         Delhi        25.716083  26.365917  26.145667  25.675000  26.554250   \n",
      "         Hyderabad    27.488833  27.471000  27.545333  27.446667  28.026500   \n",
      "         Jaipur       25.772250  26.429833  26.267000  25.877583  26.919500   \n",
      "         Kanpur       25.621500  25.848833  25.436083  25.109750  25.987083   \n",
      "         Lakhnau      25.621500  25.848833  25.436083  25.109750  25.987083   \n",
      "         Madras       29.099417  29.073250  28.970167  29.024083  29.417417   \n",
      "         Nagpur       26.229167  26.374833  26.393667  26.188000  27.138917   \n",
      "         New Delhi    25.716083  26.365917  26.145667  25.675000  26.554250   \n",
      "         Pune         25.085583  25.310167  25.584833  25.230250  25.868250   \n",
      "         Surat        26.724500  27.149417  27.311750  26.828750  27.819833   \n",
      "\n",
      "year                       2010       2011       2012       2013  \n",
      "country  city                                                     \n",
      "Egypt    Alexandria   22.459583  21.181500  21.552583  21.438500  \n",
      "         Cairo        23.718250  21.986917  22.484250  22.907000  \n",
      "         Gizeh        23.718250  21.986917  22.484250  22.907000  \n",
      "Ethiopia Addis Abeba  18.298250  18.606750  18.448583  19.539000  \n",
      "France   Paris        10.409833  12.325750  11.219917  11.011625  \n",
      "Germany  Berlin        8.606833  10.556417   9.964333  10.121500  \n",
      "India    Ahmadabad    28.017833  27.290417  27.027250  27.608625  \n",
      "         Bangalore    25.705250  25.362083  26.042333  26.610500  \n",
      "         Bombay       27.765417  27.384917  27.192500  26.713000  \n",
      "         Calcutta     27.288833  26.406917  26.935083  27.369250  \n",
      "         Delhi        26.520250  25.629500  25.889417  26.709250  \n",
      "         Hyderabad    27.693417  27.408833  28.018583  28.851250  \n",
      "         Jaipur       26.818417  25.916500  25.884500  26.844125  \n",
      "         Kanpur       26.021750  25.062083  25.445417  26.121250  \n",
      "         Lakhnau      26.021750  25.062083  25.445417  26.121250  \n",
      "         Madras       29.047333  29.063167  29.778417  30.411750  \n",
      "         Nagpur       26.927000  26.004667  26.327917  27.112375  \n",
      "         New Delhi    26.520250  25.629500  25.889417  26.709250  \n",
      "         Pune         25.749167  25.161417  25.296833  25.847625  \n",
      "         Surat        27.681667  27.016583  26.889250  27.437750  \n"
     ]
    }
   ],
   "source": [
    "# Subset for Egypt to India\n",
    "print(temp_by_country_city_vs_year.loc[\"Egypt\":\"India\"])"
   ]
  },
  {
   "cell_type": "code",
   "execution_count": 77,
   "metadata": {},
   "outputs": [
    {
     "name": "stdout",
     "output_type": "stream",
     "text": [
      "year                       2000       2001       2002       2003       2004  \\\n",
      "country  city                                                                 \n",
      "Egypt    Cairo        21.486167  22.330833  22.414083  22.170500  22.081917   \n",
      "         Gizeh        21.486167  22.330833  22.414083  22.170500  22.081917   \n",
      "Ethiopia Addis Abeba  18.241250  18.296417  18.469750  18.320917  18.292750   \n",
      "France   Paris        11.739667  11.371250  11.871333  11.909500  11.338833   \n",
      "Germany  Berlin       10.963667   9.690250  10.264417  10.065750   9.822583   \n",
      "India    Ahmadabad    27.436000  27.198083  27.719083  27.403833  27.628333   \n",
      "         Bangalore    25.337917  25.528167  25.755333  25.924750  25.252083   \n",
      "         Bombay       27.203667  27.243667  27.628667  27.578417  27.318750   \n",
      "         Calcutta     26.491333  26.515167  26.703917  26.561333  26.634333   \n",
      "         Delhi        26.048333  25.862917  26.634333  25.721083  26.239917   \n",
      "\n",
      "year                       2005       2006       2007       2008       2009  \\\n",
      "country  city                                                                 \n",
      "Egypt    Cairo        22.006500  22.050000  22.361000  22.644500  22.625000   \n",
      "         Gizeh        22.006500  22.050000  22.361000  22.644500  22.625000   \n",
      "Ethiopia Addis Abeba  18.312833  18.427083  18.142583  18.165000  18.765333   \n",
      "France   Paris        11.552917  11.788500  11.750833  11.278250  11.464083   \n",
      "Germany  Berlin        9.919083  10.545333  10.883167  10.657750  10.062500   \n",
      "India    Ahmadabad    26.828083  27.282833  27.511167  27.048500  28.095833   \n",
      "         Bangalore    25.476500  25.418250  25.464333  25.352583  25.725750   \n",
      "         Bombay       27.035750  27.381500  27.634667  27.177750  27.844500   \n",
      "         Calcutta     26.729167  26.986250  26.584583  26.522333  27.153250   \n",
      "         Delhi        25.716083  26.365917  26.145667  25.675000  26.554250   \n",
      "\n",
      "year                       2010       2011       2012       2013  \n",
      "country  city                                                     \n",
      "Egypt    Cairo        23.718250  21.986917  22.484250  22.907000  \n",
      "         Gizeh        23.718250  21.986917  22.484250  22.907000  \n",
      "Ethiopia Addis Abeba  18.298250  18.606750  18.448583  19.539000  \n",
      "France   Paris        10.409833  12.325750  11.219917  11.011625  \n",
      "Germany  Berlin        8.606833  10.556417   9.964333  10.121500  \n",
      "India    Ahmadabad    28.017833  27.290417  27.027250  27.608625  \n",
      "         Bangalore    25.705250  25.362083  26.042333  26.610500  \n",
      "         Bombay       27.765417  27.384917  27.192500  26.713000  \n",
      "         Calcutta     27.288833  26.406917  26.935083  27.369250  \n",
      "         Delhi        26.520250  25.629500  25.889417  26.709250  \n"
     ]
    }
   ],
   "source": [
    "\n",
    "# Subset for Egypt, Cairo to India, Delhi\n",
    "print(temp_by_country_city_vs_year.loc[(\"Egypt\",\"Cairo\"):(\"India\",\"Delhi\")])"
   ]
  },
  {
   "cell_type": "code",
   "execution_count": 78,
   "metadata": {},
   "outputs": [
    {
     "name": "stdout",
     "output_type": "stream",
     "text": [
      "year                       2005       2006       2007       2008       2009  \\\n",
      "country  city                                                                 \n",
      "Egypt    Cairo        22.006500  22.050000  22.361000  22.644500  22.625000   \n",
      "         Gizeh        22.006500  22.050000  22.361000  22.644500  22.625000   \n",
      "Ethiopia Addis Abeba  18.312833  18.427083  18.142583  18.165000  18.765333   \n",
      "France   Paris        11.552917  11.788500  11.750833  11.278250  11.464083   \n",
      "Germany  Berlin        9.919083  10.545333  10.883167  10.657750  10.062500   \n",
      "India    Ahmadabad    26.828083  27.282833  27.511167  27.048500  28.095833   \n",
      "         Bangalore    25.476500  25.418250  25.464333  25.352583  25.725750   \n",
      "         Bombay       27.035750  27.381500  27.634667  27.177750  27.844500   \n",
      "         Calcutta     26.729167  26.986250  26.584583  26.522333  27.153250   \n",
      "         Delhi        25.716083  26.365917  26.145667  25.675000  26.554250   \n",
      "\n",
      "year                       2010  \n",
      "country  city                    \n",
      "Egypt    Cairo        23.718250  \n",
      "         Gizeh        23.718250  \n",
      "Ethiopia Addis Abeba  18.298250  \n",
      "France   Paris        10.409833  \n",
      "Germany  Berlin        8.606833  \n",
      "India    Ahmadabad    28.017833  \n",
      "         Bangalore    25.705250  \n",
      "         Bombay       27.765417  \n",
      "         Calcutta     27.288833  \n",
      "         Delhi        26.520250  \n"
     ]
    }
   ],
   "source": [
    "\n",
    "# Subset for Egypt, Cairo to India, Delhi, and 2005 to 2010\n",
    "print(temp_by_country_city_vs_year.loc[(\"Egypt\",\"Cairo\"):(\"India\",\"Delhi\"),\"2005\":\"2010\"])"
   ]
  },
  {
   "cell_type": "markdown",
   "metadata": {},
   "source": [
    "*Calculating on a pivot table*\n",
    "\n",
    "Pivot tables are filled with summary statistics, but they are only a first step to finding something insightful. Often we'll need to perform further calculations on them. A common thing to do is to find the rows or columns where the highest or lowest value occurs."
   ]
  },
  {
   "cell_type": "code",
   "execution_count": 80,
   "metadata": {},
   "outputs": [
    {
     "name": "stdout",
     "output_type": "stream",
     "text": [
      "year\n",
      "2013    20.312285\n",
      "dtype: float64\n"
     ]
    }
   ],
   "source": [
    "# Get the worldwide mean temp by year\n",
    "mean_temp_by_year = temp_by_country_city_vs_year.mean()\n",
    "\n",
    "# Filter for the year that had the highest mean temp\n",
    "print(mean_temp_by_year[mean_temp_by_year == mean_temp_by_year.max()])"
   ]
  },
  {
   "cell_type": "code",
   "execution_count": 81,
   "metadata": {},
   "outputs": [
    {
     "name": "stdout",
     "output_type": "stream",
     "text": [
      "country  city  \n",
      "China    Harbin    4.876551\n",
      "dtype: float64\n"
     ]
    }
   ],
   "source": [
    "# Get the mean temp by city\n",
    "mean_temp_by_city = temp_by_country_city_vs_year.mean(axis=\"columns\")\n",
    "\n",
    "# Filter for the city that had the lowest mean temp\n",
    "print(mean_temp_by_city[mean_temp_by_city == mean_temp_by_city.min()])"
   ]
  },
  {
   "cell_type": "markdown",
   "metadata": {},
   "source": [
    "With an average temperature just above freezing, Harbin is famous for its ice sculpture festival."
   ]
  },
  {
   "cell_type": "markdown",
   "metadata": {},
   "source": [
    "## Creating and Visualizing DataFrames"
   ]
  },
  {
   "cell_type": "markdown",
   "metadata": {},
   "source": [
    "**Visualizing your data**"
   ]
  },
  {
   "cell_type": "markdown",
   "metadata": {},
   "source": [
    "*Which avocado size is most popular?*\n",
    "\n",
    "Avocados are increasingly popular and delicious in guacamole and on toast. The Hass Avocado Board keeps track of avocado supply and demand across the USA, including the sales of three different sizes of avocado. We'll use bar plot to figure out which size is the most popular.\n",
    "\n",
    "Bar plots are great for revealing relationships between categorical (size) and numeric (number sold) variables, but we'll often have to manipulate the data first in order to get the numbers we need for plotting."
   ]
  },
  {
   "cell_type": "code",
   "execution_count": 85,
   "metadata": {},
   "outputs": [],
   "source": [
    "# Import matplotlib.pyplot with alias plt\n",
    "import matplotlib.pyplot as plt\n",
    "import pandas as pd"
   ]
  },
  {
   "cell_type": "code",
   "execution_count": 83,
   "metadata": {},
   "outputs": [
    {
     "name": "stdout",
     "output_type": "stream",
     "text": [
      "         date          type  year  avg_price   size     nb_sold\n",
      "0  2015-12-27  conventional  2015       0.95  small  9626901.09\n",
      "1  2015-12-20  conventional  2015       0.98  small  8710021.76\n",
      "2  2015-12-13  conventional  2015       0.93  small  9855053.66\n",
      "3  2015-12-06  conventional  2015       0.89  small  9405464.36\n",
      "4  2015-11-29  conventional  2015       0.99  small  8094803.56\n"
     ]
    }
   ],
   "source": [
    "avocados = pd.read_pickle(\"../data/pandas_datasets/avoplotto.pkl\")\n",
    "\n",
    "# Look at the first few rows of data\n",
    "print(avocados.head())"
   ]
  },
  {
   "cell_type": "code",
   "execution_count": 86,
   "metadata": {},
   "outputs": [
    {
     "data": {
      "image/png": "[encoded data removed]",
      "text/plain": [
       "<Figure size 640x480 with 1 Axes>"
      ]
     },
     "metadata": {},
     "output_type": "display_data"
    }
   ],
   "source": [
    "# Get the total number of avocados sold of each size\n",
    "nb_sold_by_size = avocados.groupby(\"size\")[\"nb_sold\"].sum()\n",
    "\n",
    "# Create a bar plot of the number of avocados sold by size\n",
    "nb_sold_by_size.plot(kind=\"bar\")\n",
    "\n",
    "# Show the plot\n",
    "plt.show()"
   ]
  },
  {
   "cell_type": "markdown",
   "metadata": {},
   "source": [
    "It looks like small avocados were the most-purchased size, but large avocados were a close second."
   ]
  },
  {
   "cell_type": "markdown",
   "metadata": {},
   "source": [
    "*Visualize the change in avocado sales over three years: Line Plot*\n",
    "\n",
    "- *Line plots* are designed to visualize the relationship between two numeric variables, where each data values is connected to the next one. \n",
    "- They are especially useful for visualizing the change in a number over time since each time point is naturally connected to the next time point."
   ]
  },
  {
   "cell_type": "code",
   "execution_count": 87,
   "metadata": {},
   "outputs": [
    {
     "data": {
      "image/png": "[encoded data removed]",
      "text/plain": [
       "<Figure size 640x480 with 1 Axes>"
      ]
     },
     "metadata": {},
     "output_type": "display_data"
    }
   ],
   "source": [
    "# Get the total number of avocados sold on each date\n",
    "nb_sold_by_date = avocados.groupby(\"date\")[\"nb_sold\"].sum()\n",
    "\n",
    "# Create a line plot of the number of avocados sold by date\n",
    "nb_sold_by_date.plot(kind=\"line\", rot=45)\n",
    "\n",
    "# Show the plot\n",
    "plt.show()"
   ]
  },
  {
   "cell_type": "markdown",
   "metadata": {},
   "source": [
    "It looks like the number of avocados spikes around the same time each year."
   ]
  },
  {
   "cell_type": "markdown",
   "metadata": {},
   "source": [
    "*Avocado supply and demand: Scatter Plots*\n",
    "\n",
    "- Scatter plots are ideal for visualizing relationships between numerical variables. \n",
    "- Let's compare the *number of avocados sold to average price* and see if they're at all related. If they're related, we may be able to use one number to predict the other."
   ]
  },
  {
   "cell_type": "code",
   "execution_count": 88,
   "metadata": {},
   "outputs": [
    {
     "data": {
      "image/png": "[encoded data removed]",
      "text/plain": [
       "<Figure size 640x480 with 1 Axes>"
      ]
     },
     "metadata": {},
     "output_type": "display_data"
    }
   ],
   "source": [
    "# Scatter plot of avg_price vs. nb_sold with title\n",
    "avocados.plot(kind=\"scatter\", x=\"nb_sold\", y=\"avg_price\", title=\"Number of avocados sold vs. average price\")\n",
    "\n",
    "# Show the plot\n",
    "plt.show()"
   ]
  },
  {
   "cell_type": "markdown",
   "metadata": {},
   "source": [
    " It looks like when more avocados are sold, prices go down. However, this doesn't mean that fewer sales causes higher prices - we can only tell that they're correlated with each other."
   ]
  },
  {
   "cell_type": "markdown",
   "metadata": {},
   "source": [
    "*Price of conventional vs. organic avocados*\n",
    "\n",
    "- Creating* multiple plots* for different subsets of data allows you to compare groups."
   ]
  },
  {
   "cell_type": "code",
   "execution_count": 89,
   "metadata": {},
   "outputs": [
    {
     "data": {
      "image/png": "[encoded data removed]",
      "text/plain": [
       "<Figure size 640x480 with 1 Axes>"
      ]
     },
     "metadata": {},
     "output_type": "display_data"
    }
   ],
   "source": [
    "# Histogram of conventional avg_price \n",
    "avocados[avocados[\"type\"] == \"conventional\"][\"avg_price\"].hist(alpha=0.5, bins=20)\n",
    "\n",
    "# Histogram of organic avg_price\n",
    "avocados[avocados[\"type\"] == \"organic\"][\"avg_price\"].hist(alpha=0.5, bins=20)\n",
    "\n",
    "# Add a legend\n",
    "plt.legend([\"conventional\", \"organic\"])\n",
    "\n",
    "# Show the plot\n",
    "plt.show()"
   ]
  },
  {
   "cell_type": "markdown",
   "metadata": {},
   "source": [
    "We can see that on average, organic avocados are more expensive than conventional ones, but their price distributions have some overlap."
   ]
  },
  {
   "cell_type": "markdown",
   "metadata": {},
   "source": [
    "**Missing values**"
   ]
  },
  {
   "cell_type": "code",
   "execution_count": 93,
   "metadata": {},
   "outputs": [
    {
     "name": "stdout",
     "output_type": "stream",
     "text": [
      "       date   type   year  avg_price   size  nb_sold\n",
      "0     False  False  False      False  False    False\n",
      "1     False  False  False      False  False    False\n",
      "2     False  False  False      False  False    False\n",
      "3     False  False  False      False  False    False\n",
      "4     False  False  False      False  False    False\n",
      "...     ...    ...    ...        ...    ...      ...\n",
      "1009  False  False  False      False  False    False\n",
      "1010  False  False  False      False  False    False\n",
      "1011  False  False  False      False  False    False\n",
      "1012  False  False  False      False  False    False\n",
      "1013  False  False  False      False  False    False\n",
      "\n",
      "[1014 rows x 6 columns]\n",
      "date         False\n",
      "type         False\n",
      "year         False\n",
      "avg_price    False\n",
      "size         False\n",
      "nb_sold      False\n",
      "dtype: bool\n"
     ]
    },
    {
     "data": {
      "image/png": "[encoded data removed]",
      "text/plain": [
       "<Figure size 640x480 with 1 Axes>"
      ]
     },
     "metadata": {},
     "output_type": "display_data"
    }
   ],
   "source": [
    "# Check individual values for missing values\n",
    "print(avocados.isna())\n",
    "\n",
    "# Check each column for missing values\n",
    "print(avocados.isna().any())\n",
    "\n",
    "# Bar plot of missing values by variable\n",
    "avocados.isna().sum().plot(kind=\"bar\")\n",
    "\n",
    "# Show plot\n",
    "plt.show()"
   ]
  },
  {
   "cell_type": "markdown",
   "metadata": {},
   "source": [
    "**Creating DataFrames**"
   ]
  },
  {
   "cell_type": "markdown",
   "metadata": {},
   "source": [
    "*List of dictionaries*"
   ]
  },
  {
   "cell_type": "code",
   "execution_count": 94,
   "metadata": {},
   "outputs": [
    {
     "name": "stdout",
     "output_type": "stream",
     "text": [
      "         date  small_sold  large_sold\n",
      "0  2019-11-03    10376832     7835071\n",
      "1  2019-11-10    10717154     8561348\n"
     ]
    }
   ],
   "source": [
    "# Create a list of dictionaries with new data\n",
    "avocados_list = [\n",
    "    {\"date\": \"2019-11-03\", \"small_sold\": 10376832, \"large_sold\": 7835071},\n",
    "    {\"date\": \"2019-11-10\", \"small_sold\": 10717154, \"large_sold\": 8561348},\n",
    "]\n",
    "\n",
    "# Convert list into DataFrame\n",
    "avocados_2019 = pd.DataFrame(avocados_list)\n",
    "\n",
    "# Print the new DataFrame\n",
    "print(avocados_2019)"
   ]
  },
  {
   "cell_type": "markdown",
   "metadata": {},
   "source": [
    "*Dictionary of lists*"
   ]
  },
  {
   "cell_type": "code",
   "execution_count": 95,
   "metadata": {},
   "outputs": [
    {
     "name": "stdout",
     "output_type": "stream",
     "text": [
      "         date  small_sold  large_sold\n",
      "0  2019-11-17    10859987     7674135\n",
      "1  2019-12-01     9291631     6238096\n"
     ]
    }
   ],
   "source": [
    "# Create a dictionary of lists with new data\n",
    "avocados_dict = {\n",
    "  \"date\": [\"2019-11-17\", \"2019-12-01\"],\n",
    "  \"small_sold\": [10859987,9291631],\n",
    "  \"large_sold\": [7674135, 6238096]\n",
    "}\n",
    "\n",
    "# Convert dictionary into DataFrame\n",
    "avocados_2019 = pd.DataFrame(avocados_dict)\n",
    "\n",
    "# Print the new DataFrame\n",
    "print(avocados_2019)"
   ]
  }
 ],
 "metadata": {
  "kernelspec": {
   "display_name": ".venv-py-datascience",
   "language": "python",
   "name": "python3"
  },
  "language_info": {
   "codemirror_mode": {
    "name": "ipython",
    "version": 3
   },
   "file_extension": ".py",
   "mimetype": "text/x-python",
   "name": "python",
   "nbconvert_exporter": "python",
   "pygments_lexer": "ipython3",
   "version": "3.12.3"
  }
 },
 "nbformat": 4,
 "nbformat_minor": 2
}
