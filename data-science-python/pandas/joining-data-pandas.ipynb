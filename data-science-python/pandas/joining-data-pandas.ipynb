{
 "cells": [
  {
   "cell_type": "markdown",
   "metadata": {},
   "source": [
    "# Data Merging Basics"
   ]
  },
  {
   "cell_type": "markdown",
   "metadata": {},
   "source": [
    "## One-to-One Relationships"
   ]
  },
  {
   "cell_type": "markdown",
   "metadata": {},
   "source": [
    "### Merging Census data with Chicago local gov data\n",
    "\n",
    "The city of Chicago is divided into fifty local neighborhoods called wards. We have a table with data about the local government offices in each ward. \n",
    "\n",
    "- In this example, we will merge the local government data with census data about the population of each ward."
   ]
  },
  {
   "cell_type": "code",
   "execution_count": 1,
   "metadata": {},
   "outputs": [],
   "source": [
    "import pandas as pd"
   ]
  },
  {
   "cell_type": "code",
   "execution_count": 2,
   "metadata": {},
   "outputs": [
    {
     "data": {
      "text/html": [
       "<div>\n",
       "<style scoped>\n",
       "    .dataframe tbody tr th:only-of-type {\n",
       "        vertical-align: middle;\n",
       "    }\n",
       "\n",
       "    .dataframe tbody tr th {\n",
       "        vertical-align: top;\n",
       "    }\n",
       "\n",
       "    .dataframe thead th {\n",
       "        text-align: right;\n",
       "    }\n",
       "</style>\n",
       "<table border=\"1\" class=\"dataframe\">\n",
       "  <thead>\n",
       "    <tr style=\"text-align: right;\">\n",
       "      <th></th>\n",
       "      <th>ward</th>\n",
       "      <th>alderman</th>\n",
       "      <th>address</th>\n",
       "      <th>zip</th>\n",
       "    </tr>\n",
       "  </thead>\n",
       "  <tbody>\n",
       "    <tr>\n",
       "      <th>0</th>\n",
       "      <td>1</td>\n",
       "      <td>Proco \"Joe\" Moreno</td>\n",
       "      <td>2058 NORTH WESTERN AVENUE</td>\n",
       "      <td>60647</td>\n",
       "    </tr>\n",
       "    <tr>\n",
       "      <th>1</th>\n",
       "      <td>2</td>\n",
       "      <td>Brian Hopkins</td>\n",
       "      <td>1400 NORTH  ASHLAND AVENUE</td>\n",
       "      <td>60622</td>\n",
       "    </tr>\n",
       "    <tr>\n",
       "      <th>2</th>\n",
       "      <td>3</td>\n",
       "      <td>Pat Dowell</td>\n",
       "      <td>5046 SOUTH STATE STREET</td>\n",
       "      <td>60609</td>\n",
       "    </tr>\n",
       "    <tr>\n",
       "      <th>3</th>\n",
       "      <td>4</td>\n",
       "      <td>William D. Burns</td>\n",
       "      <td>435 EAST 35TH STREET, 1ST FLOOR</td>\n",
       "      <td>60616</td>\n",
       "    </tr>\n",
       "    <tr>\n",
       "      <th>4</th>\n",
       "      <td>5</td>\n",
       "      <td>Leslie A. Hairston</td>\n",
       "      <td>2325 EAST 71ST STREET</td>\n",
       "      <td>60649</td>\n",
       "    </tr>\n",
       "    <tr>\n",
       "      <th>5</th>\n",
       "      <td>6</td>\n",
       "      <td>Roderick T. Sawyer</td>\n",
       "      <td>8001 S. MARTIN LUTHER KING DRIVE</td>\n",
       "      <td>60619</td>\n",
       "    </tr>\n",
       "    <tr>\n",
       "      <th>6</th>\n",
       "      <td>7</td>\n",
       "      <td>Gregory I. Mitchell</td>\n",
       "      <td>2249 EAST 95TH STREET</td>\n",
       "      <td>60617</td>\n",
       "    </tr>\n",
       "    <tr>\n",
       "      <th>7</th>\n",
       "      <td>8</td>\n",
       "      <td>Michelle A. Harris</td>\n",
       "      <td>8539 SOUTH COTTAGE GROVE AVENUE</td>\n",
       "      <td>60619</td>\n",
       "    </tr>\n",
       "    <tr>\n",
       "      <th>8</th>\n",
       "      <td>9</td>\n",
       "      <td>Anthony A. Beale</td>\n",
       "      <td>34 EAST 112TH PLACE</td>\n",
       "      <td>60628</td>\n",
       "    </tr>\n",
       "    <tr>\n",
       "      <th>9</th>\n",
       "      <td>10</td>\n",
       "      <td>Susan Sadlowski Garza</td>\n",
       "      <td>10500 SOUTH EWING AVENUE</td>\n",
       "      <td>60617</td>\n",
       "    </tr>\n",
       "  </tbody>\n",
       "</table>\n",
       "</div>"
      ],
      "text/plain": [
       "  ward               alderman                           address    zip\n",
       "0    1     Proco \"Joe\" Moreno         2058 NORTH WESTERN AVENUE  60647\n",
       "1    2          Brian Hopkins        1400 NORTH  ASHLAND AVENUE  60622\n",
       "2    3             Pat Dowell           5046 SOUTH STATE STREET  60609\n",
       "3    4       William D. Burns   435 EAST 35TH STREET, 1ST FLOOR  60616\n",
       "4    5     Leslie A. Hairston             2325 EAST 71ST STREET  60649\n",
       "5    6     Roderick T. Sawyer  8001 S. MARTIN LUTHER KING DRIVE  60619\n",
       "6    7    Gregory I. Mitchell             2249 EAST 95TH STREET  60617\n",
       "7    8     Michelle A. Harris   8539 SOUTH COTTAGE GROVE AVENUE  60619\n",
       "8    9       Anthony A. Beale               34 EAST 112TH PLACE  60628\n",
       "9   10  Susan Sadlowski Garza          10500 SOUTH EWING AVENUE  60617"
      ]
     },
     "execution_count": 2,
     "metadata": {},
     "output_type": "execute_result"
    }
   ],
   "source": [
    "wards = pd.read_pickle(\"../data/pandas_datasets/pandas-joins/ward.p\")\n",
    "wards.head(10)"
   ]
  },
  {
   "cell_type": "code",
   "execution_count": 3,
   "metadata": {},
   "outputs": [
    {
     "data": {
      "text/plain": [
       "(50, 4)"
      ]
     },
     "execution_count": 3,
     "metadata": {},
     "output_type": "execute_result"
    }
   ],
   "source": [
    "wards.shape"
   ]
  },
  {
   "cell_type": "markdown",
   "metadata": {},
   "source": [
    "We have information about the local government of each ward, such as the government office address. This table has 50 rows and 4 columns"
   ]
  },
  {
   "cell_type": "code",
   "execution_count": 4,
   "metadata": {},
   "outputs": [
    {
     "data": {
      "text/html": [
       "<div>\n",
       "<style scoped>\n",
       "    .dataframe tbody tr th:only-of-type {\n",
       "        vertical-align: middle;\n",
       "    }\n",
       "\n",
       "    .dataframe tbody tr th {\n",
       "        vertical-align: top;\n",
       "    }\n",
       "\n",
       "    .dataframe thead th {\n",
       "        text-align: right;\n",
       "    }\n",
       "</style>\n",
       "<table border=\"1\" class=\"dataframe\">\n",
       "  <thead>\n",
       "    <tr style=\"text-align: right;\">\n",
       "      <th></th>\n",
       "      <th>ward</th>\n",
       "      <th>pop_2000</th>\n",
       "      <th>pop_2010</th>\n",
       "      <th>change</th>\n",
       "      <th>address</th>\n",
       "      <th>zip</th>\n",
       "    </tr>\n",
       "  </thead>\n",
       "  <tbody>\n",
       "    <tr>\n",
       "      <th>0</th>\n",
       "      <td>1</td>\n",
       "      <td>52951</td>\n",
       "      <td>56149</td>\n",
       "      <td>6%</td>\n",
       "      <td>2765 WEST SAINT MARY STREET</td>\n",
       "      <td>60647</td>\n",
       "    </tr>\n",
       "    <tr>\n",
       "      <th>1</th>\n",
       "      <td>2</td>\n",
       "      <td>54361</td>\n",
       "      <td>55805</td>\n",
       "      <td>3%</td>\n",
       "      <td>WM WASTE MANAGEMENT 1500</td>\n",
       "      <td>60622</td>\n",
       "    </tr>\n",
       "    <tr>\n",
       "      <th>2</th>\n",
       "      <td>3</td>\n",
       "      <td>40385</td>\n",
       "      <td>53039</td>\n",
       "      <td>31%</td>\n",
       "      <td>17 EAST 38TH STREET</td>\n",
       "      <td>60653</td>\n",
       "    </tr>\n",
       "    <tr>\n",
       "      <th>3</th>\n",
       "      <td>4</td>\n",
       "      <td>51953</td>\n",
       "      <td>54589</td>\n",
       "      <td>5%</td>\n",
       "      <td>31ST ST HARBOR BUILDING LAKEFRONT TRAIL</td>\n",
       "      <td>60653</td>\n",
       "    </tr>\n",
       "    <tr>\n",
       "      <th>4</th>\n",
       "      <td>5</td>\n",
       "      <td>55302</td>\n",
       "      <td>51455</td>\n",
       "      <td>-7%</td>\n",
       "      <td>JACKSON PARK LAGOON SOUTH CORNELL DRIVE</td>\n",
       "      <td>60637</td>\n",
       "    </tr>\n",
       "    <tr>\n",
       "      <th>5</th>\n",
       "      <td>6</td>\n",
       "      <td>54989</td>\n",
       "      <td>52341</td>\n",
       "      <td>-5%</td>\n",
       "      <td>150 WEST 74TH STREET</td>\n",
       "      <td>60636</td>\n",
       "    </tr>\n",
       "    <tr>\n",
       "      <th>6</th>\n",
       "      <td>7</td>\n",
       "      <td>54593</td>\n",
       "      <td>51581</td>\n",
       "      <td>-6%</td>\n",
       "      <td>8549 SOUTH OGLESBY AVENUE</td>\n",
       "      <td>60617</td>\n",
       "    </tr>\n",
       "    <tr>\n",
       "      <th>7</th>\n",
       "      <td>8</td>\n",
       "      <td>54039</td>\n",
       "      <td>51687</td>\n",
       "      <td>-4%</td>\n",
       "      <td>1346-1352 EAST 75TH STREET</td>\n",
       "      <td>60649</td>\n",
       "    </tr>\n",
       "    <tr>\n",
       "      <th>8</th>\n",
       "      <td>9</td>\n",
       "      <td>52008</td>\n",
       "      <td>51519</td>\n",
       "      <td>-1%</td>\n",
       "      <td>11039-11059 SOUTH WENTWORTH AVENUE</td>\n",
       "      <td>60628</td>\n",
       "    </tr>\n",
       "    <tr>\n",
       "      <th>9</th>\n",
       "      <td>10</td>\n",
       "      <td>56613</td>\n",
       "      <td>51535</td>\n",
       "      <td>-9%</td>\n",
       "      <td>10534 SOUTH AVENUE F</td>\n",
       "      <td>46394</td>\n",
       "    </tr>\n",
       "  </tbody>\n",
       "</table>\n",
       "</div>"
      ],
      "text/plain": [
       "  ward  pop_2000  pop_2010 change                                  address  \\\n",
       "0    1     52951     56149     6%              2765 WEST SAINT MARY STREET   \n",
       "1    2     54361     55805     3%                 WM WASTE MANAGEMENT 1500   \n",
       "2    3     40385     53039    31%                      17 EAST 38TH STREET   \n",
       "3    4     51953     54589     5%  31ST ST HARBOR BUILDING LAKEFRONT TRAIL   \n",
       "4    5     55302     51455    -7%  JACKSON PARK LAGOON SOUTH CORNELL DRIVE   \n",
       "5    6     54989     52341    -5%                     150 WEST 74TH STREET   \n",
       "6    7     54593     51581    -6%                8549 SOUTH OGLESBY AVENUE   \n",
       "7    8     54039     51687    -4%               1346-1352 EAST 75TH STREET   \n",
       "8    9     52008     51519    -1%       11039-11059 SOUTH WENTWORTH AVENUE   \n",
       "9   10     56613     51535    -9%                     10534 SOUTH AVENUE F   \n",
       "\n",
       "     zip  \n",
       "0  60647  \n",
       "1  60622  \n",
       "2  60653  \n",
       "3  60653  \n",
       "4  60637  \n",
       "5  60636  \n",
       "6  60617  \n",
       "7  60649  \n",
       "8  60628  \n",
       "9  46394  "
      ]
     },
     "execution_count": 4,
     "metadata": {},
     "output_type": "execute_result"
    }
   ],
   "source": [
    "census = pd.read_pickle(\"../data/pandas_datasets/pandas-joins/census.p\")\n",
    "census.head(10)"
   ]
  },
  {
   "cell_type": "code",
   "execution_count": 5,
   "metadata": {},
   "outputs": [
    {
     "data": {
      "text/plain": [
       "(50, 6)"
      ]
     },
     "execution_count": 5,
     "metadata": {},
     "output_type": "execute_result"
    }
   ],
   "source": [
    "census.shape"
   ]
  },
  {
   "cell_type": "markdown",
   "metadata": {},
   "source": [
    "The census table contains the population of each ward in 2000 and 2010, and that change as a percentage. Additionally, it includes the address for the center of each ward. This table has 50 rows and 6 columns."
   ]
  },
  {
   "cell_type": "markdown",
   "metadata": {},
   "source": [
    "The two tables are related by their ward column. We can merge them together, matching the ward number from each row of the wards table to the ward numbers from the census table. For example, the second ward in the wards table with Alderman Brian Hopkins would be matched with row 2 of the census table where the population in 2000 was 54,361."
   ]
  },
  {
   "cell_type": "markdown",
   "metadata": {},
   "source": [
    "***Inner Join***\n",
    "\n",
    "- The pandas package has an excellent DataFrame method for performing this type of merge called merge. The merge method takes the first DataFrame, wards, and merges it with the second DataFrame, census. We use the on argument to tell the method that we want to merge the two DataFrames on the ward column. \n",
    "\n",
    "- Since we listed the wards table first, its columns will appear first in the output, followed by the columns from the census table. In this example, the merge returns a DataFrame with 50 rows and 9 columns, where the returned rows have matching values for the ward column in both tables. This is called an **inner join**."
   ]
  },
  {
   "cell_type": "markdown",
   "metadata": {},
   "source": [
    "<img src=\"../img/inner-join.jpg\" width=\"400\" height=\"300\">"
   ]
  },
  {
   "cell_type": "code",
   "execution_count": 6,
   "metadata": {},
   "outputs": [
    {
     "data": {
      "text/html": [
       "<div>\n",
       "<style scoped>\n",
       "    .dataframe tbody tr th:only-of-type {\n",
       "        vertical-align: middle;\n",
       "    }\n",
       "\n",
       "    .dataframe tbody tr th {\n",
       "        vertical-align: top;\n",
       "    }\n",
       "\n",
       "    .dataframe thead th {\n",
       "        text-align: right;\n",
       "    }\n",
       "</style>\n",
       "<table border=\"1\" class=\"dataframe\">\n",
       "  <thead>\n",
       "    <tr style=\"text-align: right;\">\n",
       "      <th></th>\n",
       "      <th>ward</th>\n",
       "      <th>alderman</th>\n",
       "      <th>address_x</th>\n",
       "      <th>zip_x</th>\n",
       "      <th>pop_2000</th>\n",
       "      <th>pop_2010</th>\n",
       "      <th>change</th>\n",
       "      <th>address_y</th>\n",
       "      <th>zip_y</th>\n",
       "    </tr>\n",
       "  </thead>\n",
       "  <tbody>\n",
       "    <tr>\n",
       "      <th>0</th>\n",
       "      <td>1</td>\n",
       "      <td>Proco \"Joe\" Moreno</td>\n",
       "      <td>2058 NORTH WESTERN AVENUE</td>\n",
       "      <td>60647</td>\n",
       "      <td>52951</td>\n",
       "      <td>56149</td>\n",
       "      <td>6%</td>\n",
       "      <td>2765 WEST SAINT MARY STREET</td>\n",
       "      <td>60647</td>\n",
       "    </tr>\n",
       "    <tr>\n",
       "      <th>1</th>\n",
       "      <td>2</td>\n",
       "      <td>Brian Hopkins</td>\n",
       "      <td>1400 NORTH  ASHLAND AVENUE</td>\n",
       "      <td>60622</td>\n",
       "      <td>54361</td>\n",
       "      <td>55805</td>\n",
       "      <td>3%</td>\n",
       "      <td>WM WASTE MANAGEMENT 1500</td>\n",
       "      <td>60622</td>\n",
       "    </tr>\n",
       "    <tr>\n",
       "      <th>2</th>\n",
       "      <td>3</td>\n",
       "      <td>Pat Dowell</td>\n",
       "      <td>5046 SOUTH STATE STREET</td>\n",
       "      <td>60609</td>\n",
       "      <td>40385</td>\n",
       "      <td>53039</td>\n",
       "      <td>31%</td>\n",
       "      <td>17 EAST 38TH STREET</td>\n",
       "      <td>60653</td>\n",
       "    </tr>\n",
       "    <tr>\n",
       "      <th>3</th>\n",
       "      <td>4</td>\n",
       "      <td>William D. Burns</td>\n",
       "      <td>435 EAST 35TH STREET, 1ST FLOOR</td>\n",
       "      <td>60616</td>\n",
       "      <td>51953</td>\n",
       "      <td>54589</td>\n",
       "      <td>5%</td>\n",
       "      <td>31ST ST HARBOR BUILDING LAKEFRONT TRAIL</td>\n",
       "      <td>60653</td>\n",
       "    </tr>\n",
       "    <tr>\n",
       "      <th>4</th>\n",
       "      <td>5</td>\n",
       "      <td>Leslie A. Hairston</td>\n",
       "      <td>2325 EAST 71ST STREET</td>\n",
       "      <td>60649</td>\n",
       "      <td>55302</td>\n",
       "      <td>51455</td>\n",
       "      <td>-7%</td>\n",
       "      <td>JACKSON PARK LAGOON SOUTH CORNELL DRIVE</td>\n",
       "      <td>60637</td>\n",
       "    </tr>\n",
       "  </tbody>\n",
       "</table>\n",
       "</div>"
      ],
      "text/plain": [
       "  ward            alderman                        address_x  zip_x  pop_2000  \\\n",
       "0    1  Proco \"Joe\" Moreno        2058 NORTH WESTERN AVENUE  60647     52951   \n",
       "1    2       Brian Hopkins       1400 NORTH  ASHLAND AVENUE  60622     54361   \n",
       "2    3          Pat Dowell          5046 SOUTH STATE STREET  60609     40385   \n",
       "3    4    William D. Burns  435 EAST 35TH STREET, 1ST FLOOR  60616     51953   \n",
       "4    5  Leslie A. Hairston            2325 EAST 71ST STREET  60649     55302   \n",
       "\n",
       "   pop_2010 change                                address_y  zip_y  \n",
       "0     56149     6%              2765 WEST SAINT MARY STREET  60647  \n",
       "1     55805     3%                 WM WASTE MANAGEMENT 1500  60622  \n",
       "2     53039    31%                      17 EAST 38TH STREET  60653  \n",
       "3     54589     5%  31ST ST HARBOR BUILDING LAKEFRONT TRAIL  60653  \n",
       "4     51455    -7%  JACKSON PARK LAGOON SOUTH CORNELL DRIVE  60637  "
      ]
     },
     "execution_count": 6,
     "metadata": {},
     "output_type": "execute_result"
    }
   ],
   "source": [
    "wards_census = wards.merge(census, on=\"ward\")\n",
    "wards_census.head(5)"
   ]
  },
  {
   "cell_type": "markdown",
   "metadata": {},
   "source": [
    "An inner join will only return rows that have matching values in both tables."
   ]
  },
  {
   "cell_type": "code",
   "execution_count": 7,
   "metadata": {},
   "outputs": [
    {
     "name": "stdout",
     "output_type": "stream",
     "text": [
      "Index(['ward', 'alderman', 'address_x', 'zip_x', 'pop_2000', 'pop_2010',\n",
      "       'change', 'address_y', 'zip_y'],\n",
      "      dtype='object')\n"
     ]
    }
   ],
   "source": [
    "print(wards_census.columns)"
   ]
  },
  {
   "cell_type": "markdown",
   "metadata": {},
   "source": [
    "The merged table has columns with suffixes of underscore x or y. This is because both the wards and census tables contained address and zip columns. To avoid multiple columns with the same name, they are automatically given a suffix by the merge method."
   ]
  },
  {
   "cell_type": "code",
   "execution_count": 8,
   "metadata": {},
   "outputs": [
    {
     "data": {
      "text/html": [
       "<div>\n",
       "<style scoped>\n",
       "    .dataframe tbody tr th:only-of-type {\n",
       "        vertical-align: middle;\n",
       "    }\n",
       "\n",
       "    .dataframe tbody tr th {\n",
       "        vertical-align: top;\n",
       "    }\n",
       "\n",
       "    .dataframe thead th {\n",
       "        text-align: right;\n",
       "    }\n",
       "</style>\n",
       "<table border=\"1\" class=\"dataframe\">\n",
       "  <thead>\n",
       "    <tr style=\"text-align: right;\">\n",
       "      <th></th>\n",
       "      <th>ward</th>\n",
       "      <th>alderman</th>\n",
       "      <th>address_ward</th>\n",
       "      <th>zip_ward</th>\n",
       "      <th>pop_2000</th>\n",
       "      <th>pop_2010</th>\n",
       "      <th>change</th>\n",
       "      <th>address_cen</th>\n",
       "      <th>zip_cen</th>\n",
       "    </tr>\n",
       "  </thead>\n",
       "  <tbody>\n",
       "    <tr>\n",
       "      <th>0</th>\n",
       "      <td>1</td>\n",
       "      <td>Proco \"Joe\" Moreno</td>\n",
       "      <td>2058 NORTH WESTERN AVENUE</td>\n",
       "      <td>60647</td>\n",
       "      <td>52951</td>\n",
       "      <td>56149</td>\n",
       "      <td>6%</td>\n",
       "      <td>2765 WEST SAINT MARY STREET</td>\n",
       "      <td>60647</td>\n",
       "    </tr>\n",
       "    <tr>\n",
       "      <th>1</th>\n",
       "      <td>2</td>\n",
       "      <td>Brian Hopkins</td>\n",
       "      <td>1400 NORTH  ASHLAND AVENUE</td>\n",
       "      <td>60622</td>\n",
       "      <td>54361</td>\n",
       "      <td>55805</td>\n",
       "      <td>3%</td>\n",
       "      <td>WM WASTE MANAGEMENT 1500</td>\n",
       "      <td>60622</td>\n",
       "    </tr>\n",
       "    <tr>\n",
       "      <th>2</th>\n",
       "      <td>3</td>\n",
       "      <td>Pat Dowell</td>\n",
       "      <td>5046 SOUTH STATE STREET</td>\n",
       "      <td>60609</td>\n",
       "      <td>40385</td>\n",
       "      <td>53039</td>\n",
       "      <td>31%</td>\n",
       "      <td>17 EAST 38TH STREET</td>\n",
       "      <td>60653</td>\n",
       "    </tr>\n",
       "    <tr>\n",
       "      <th>3</th>\n",
       "      <td>4</td>\n",
       "      <td>William D. Burns</td>\n",
       "      <td>435 EAST 35TH STREET, 1ST FLOOR</td>\n",
       "      <td>60616</td>\n",
       "      <td>51953</td>\n",
       "      <td>54589</td>\n",
       "      <td>5%</td>\n",
       "      <td>31ST ST HARBOR BUILDING LAKEFRONT TRAIL</td>\n",
       "      <td>60653</td>\n",
       "    </tr>\n",
       "    <tr>\n",
       "      <th>4</th>\n",
       "      <td>5</td>\n",
       "      <td>Leslie A. Hairston</td>\n",
       "      <td>2325 EAST 71ST STREET</td>\n",
       "      <td>60649</td>\n",
       "      <td>55302</td>\n",
       "      <td>51455</td>\n",
       "      <td>-7%</td>\n",
       "      <td>JACKSON PARK LAGOON SOUTH CORNELL DRIVE</td>\n",
       "      <td>60637</td>\n",
       "    </tr>\n",
       "  </tbody>\n",
       "</table>\n",
       "</div>"
      ],
      "text/plain": [
       "  ward            alderman                     address_ward zip_ward  \\\n",
       "0    1  Proco \"Joe\" Moreno        2058 NORTH WESTERN AVENUE    60647   \n",
       "1    2       Brian Hopkins       1400 NORTH  ASHLAND AVENUE    60622   \n",
       "2    3          Pat Dowell          5046 SOUTH STATE STREET    60609   \n",
       "3    4    William D. Burns  435 EAST 35TH STREET, 1ST FLOOR    60616   \n",
       "4    5  Leslie A. Hairston            2325 EAST 71ST STREET    60649   \n",
       "\n",
       "   pop_2000  pop_2010 change                              address_cen zip_cen  \n",
       "0     52951     56149     6%              2765 WEST SAINT MARY STREET   60647  \n",
       "1     54361     55805     3%                 WM WASTE MANAGEMENT 1500   60622  \n",
       "2     40385     53039    31%                      17 EAST 38TH STREET   60653  \n",
       "3     51953     54589     5%  31ST ST HARBOR BUILDING LAKEFRONT TRAIL   60653  \n",
       "4     55302     51455    -7%  JACKSON PARK LAGOON SOUTH CORNELL DRIVE   60637  "
      ]
     },
     "execution_count": 8,
     "metadata": {},
     "output_type": "execute_result"
    }
   ],
   "source": [
    "wards_census = wards.merge(census, on=\"ward\", suffixes=(\"_ward\", \"_cen\"))\n",
    "wards_census.head(5)"
   ]
  },
  {
   "cell_type": "markdown",
   "metadata": {},
   "source": [
    "We can use the suffix argument of the merge method to control this behavior. We provide a tuple where all of the overlapping columns in the left table are given the suffix '_ward', and those of the right table will be given the suffix '_cen'. This makes it easier for us to tell the difference between the columns."
   ]
  },
  {
   "cell_type": "markdown",
   "metadata": {},
   "source": [
    "### Taxicab owners and vehicle info data\n",
    "\n",
    "Chicago provides a list of taxicab owners and vehicles licensed to operate within the city, for public safety. \n",
    "\n",
    "- We'll merge two tables together. One table is called taxi_owners, with info about the taxi cab company owners, and one is called taxi_veh, with info about each taxi cab vehicle"
   ]
  },
  {
   "cell_type": "markdown",
   "metadata": {},
   "source": [
    "#### 1. Let's figure out what the most popular types of fuel used in Chicago taxis are."
   ]
  },
  {
   "cell_type": "code",
   "execution_count": 9,
   "metadata": {},
   "outputs": [],
   "source": [
    "taxi_owners = pd.read_pickle(\"../data/pandas_datasets/pandas-joins/taxi_owners.p\")\n",
    "taxi_vehicles = pd.read_pickle(\"../data/pandas_datasets/pandas-joins/taxi_vehicles.p\")"
   ]
  },
  {
   "cell_type": "code",
   "execution_count": 10,
   "metadata": {},
   "outputs": [
    {
     "data": {
      "text/html": [
       "<div>\n",
       "<style scoped>\n",
       "    .dataframe tbody tr th:only-of-type {\n",
       "        vertical-align: middle;\n",
       "    }\n",
       "\n",
       "    .dataframe tbody tr th {\n",
       "        vertical-align: top;\n",
       "    }\n",
       "\n",
       "    .dataframe thead th {\n",
       "        text-align: right;\n",
       "    }\n",
       "</style>\n",
       "<table border=\"1\" class=\"dataframe\">\n",
       "  <thead>\n",
       "    <tr style=\"text-align: right;\">\n",
       "      <th></th>\n",
       "      <th>rid</th>\n",
       "      <th>vid</th>\n",
       "      <th>owner</th>\n",
       "      <th>address</th>\n",
       "      <th>zip</th>\n",
       "    </tr>\n",
       "  </thead>\n",
       "  <tbody>\n",
       "    <tr>\n",
       "      <th>0</th>\n",
       "      <td>T6285</td>\n",
       "      <td>6285</td>\n",
       "      <td>AGEAN TAXI LLC</td>\n",
       "      <td>4536 N. ELSTON AVE.</td>\n",
       "      <td>60630</td>\n",
       "    </tr>\n",
       "    <tr>\n",
       "      <th>1</th>\n",
       "      <td>T4862</td>\n",
       "      <td>4862</td>\n",
       "      <td>MANGIB CORP.</td>\n",
       "      <td>5717 N. WASHTENAW AVE.</td>\n",
       "      <td>60659</td>\n",
       "    </tr>\n",
       "    <tr>\n",
       "      <th>2</th>\n",
       "      <td>T1495</td>\n",
       "      <td>1495</td>\n",
       "      <td>FUNRIDE, INC.</td>\n",
       "      <td>3351 W. ADDISON ST.</td>\n",
       "      <td>60618</td>\n",
       "    </tr>\n",
       "    <tr>\n",
       "      <th>3</th>\n",
       "      <td>T4231</td>\n",
       "      <td>4231</td>\n",
       "      <td>ALQUSH CORP.</td>\n",
       "      <td>6611 N. CAMPBELL AVE.</td>\n",
       "      <td>60645</td>\n",
       "    </tr>\n",
       "    <tr>\n",
       "      <th>4</th>\n",
       "      <td>T5971</td>\n",
       "      <td>5971</td>\n",
       "      <td>EUNIFFORD INC.</td>\n",
       "      <td>3351 W. ADDISON ST.</td>\n",
       "      <td>60618</td>\n",
       "    </tr>\n",
       "  </tbody>\n",
       "</table>\n",
       "</div>"
      ],
      "text/plain": [
       "     rid   vid           owner                 address    zip\n",
       "0  T6285  6285  AGEAN TAXI LLC     4536 N. ELSTON AVE.  60630\n",
       "1  T4862  4862    MANGIB CORP.  5717 N. WASHTENAW AVE.  60659\n",
       "2  T1495  1495   FUNRIDE, INC.     3351 W. ADDISON ST.  60618\n",
       "3  T4231  4231    ALQUSH CORP.   6611 N. CAMPBELL AVE.  60645\n",
       "4  T5971  5971  EUNIFFORD INC.     3351 W. ADDISON ST.  60618"
      ]
     },
     "execution_count": 10,
     "metadata": {},
     "output_type": "execute_result"
    }
   ],
   "source": [
    "taxi_owners.head(5)"
   ]
  },
  {
   "cell_type": "code",
   "execution_count": 11,
   "metadata": {},
   "outputs": [
    {
     "data": {
      "text/plain": [
       "(3519, 5)"
      ]
     },
     "execution_count": 11,
     "metadata": {},
     "output_type": "execute_result"
    }
   ],
   "source": [
    "taxi_owners.shape"
   ]
  },
  {
   "cell_type": "code",
   "execution_count": 12,
   "metadata": {},
   "outputs": [
    {
     "data": {
      "text/html": [
       "<div>\n",
       "<style scoped>\n",
       "    .dataframe tbody tr th:only-of-type {\n",
       "        vertical-align: middle;\n",
       "    }\n",
       "\n",
       "    .dataframe tbody tr th {\n",
       "        vertical-align: top;\n",
       "    }\n",
       "\n",
       "    .dataframe thead th {\n",
       "        text-align: right;\n",
       "    }\n",
       "</style>\n",
       "<table border=\"1\" class=\"dataframe\">\n",
       "  <thead>\n",
       "    <tr style=\"text-align: right;\">\n",
       "      <th></th>\n",
       "      <th>vid</th>\n",
       "      <th>make</th>\n",
       "      <th>model</th>\n",
       "      <th>year</th>\n",
       "      <th>fuel_type</th>\n",
       "      <th>owner</th>\n",
       "    </tr>\n",
       "  </thead>\n",
       "  <tbody>\n",
       "    <tr>\n",
       "      <th>0</th>\n",
       "      <td>2767</td>\n",
       "      <td>TOYOTA</td>\n",
       "      <td>CAMRY</td>\n",
       "      <td>2013</td>\n",
       "      <td>HYBRID</td>\n",
       "      <td>SEYED M. BADRI</td>\n",
       "    </tr>\n",
       "    <tr>\n",
       "      <th>1</th>\n",
       "      <td>1411</td>\n",
       "      <td>TOYOTA</td>\n",
       "      <td>RAV4</td>\n",
       "      <td>2017</td>\n",
       "      <td>HYBRID</td>\n",
       "      <td>DESZY CORP.</td>\n",
       "    </tr>\n",
       "    <tr>\n",
       "      <th>2</th>\n",
       "      <td>6500</td>\n",
       "      <td>NISSAN</td>\n",
       "      <td>SENTRA</td>\n",
       "      <td>2019</td>\n",
       "      <td>GASOLINE</td>\n",
       "      <td>AGAPH CAB CORP</td>\n",
       "    </tr>\n",
       "    <tr>\n",
       "      <th>3</th>\n",
       "      <td>2746</td>\n",
       "      <td>TOYOTA</td>\n",
       "      <td>CAMRY</td>\n",
       "      <td>2013</td>\n",
       "      <td>HYBRID</td>\n",
       "      <td>MIDWEST CAB CO, INC</td>\n",
       "    </tr>\n",
       "    <tr>\n",
       "      <th>4</th>\n",
       "      <td>5922</td>\n",
       "      <td>TOYOTA</td>\n",
       "      <td>CAMRY</td>\n",
       "      <td>2013</td>\n",
       "      <td>HYBRID</td>\n",
       "      <td>SUMETTI CAB CO</td>\n",
       "    </tr>\n",
       "  </tbody>\n",
       "</table>\n",
       "</div>"
      ],
      "text/plain": [
       "    vid    make   model  year fuel_type                owner\n",
       "0  2767  TOYOTA   CAMRY  2013    HYBRID       SEYED M. BADRI\n",
       "1  1411  TOYOTA    RAV4  2017    HYBRID          DESZY CORP.\n",
       "2  6500  NISSAN  SENTRA  2019  GASOLINE       AGAPH CAB CORP\n",
       "3  2746  TOYOTA   CAMRY  2013    HYBRID  MIDWEST CAB CO, INC\n",
       "4  5922  TOYOTA   CAMRY  2013    HYBRID       SUMETTI CAB CO"
      ]
     },
     "execution_count": 12,
     "metadata": {},
     "output_type": "execute_result"
    }
   ],
   "source": [
    "taxi_vehicles.head(5)"
   ]
  },
  {
   "cell_type": "code",
   "execution_count": 13,
   "metadata": {},
   "outputs": [
    {
     "data": {
      "text/plain": [
       "(3519, 6)"
      ]
     },
     "execution_count": 13,
     "metadata": {},
     "output_type": "execute_result"
    }
   ],
   "source": [
    "taxi_vehicles.shape"
   ]
  },
  {
   "cell_type": "code",
   "execution_count": 14,
   "metadata": {},
   "outputs": [
    {
     "name": "stdout",
     "output_type": "stream",
     "text": [
      "fuel_type\n",
      "HYBRID                    2792\n",
      "GASOLINE                   611\n",
      "FLEX FUEL                   89\n",
      "COMPRESSED NATURAL GAS      27\n",
      "Name: count, dtype: int64\n"
     ]
    }
   ],
   "source": [
    "# Merge the taxi_owners and taxi_veh tables setting a suffix\n",
    "taxi_own_veh = taxi_owners.merge(taxi_vehicles, on='vid', suffixes=('_own','_veh'))\n",
    "\n",
    "# Print the value_counts to find the most popular fuel_type\n",
    "print(taxi_own_veh['fuel_type'].value_counts())"
   ]
  },
  {
   "cell_type": "markdown",
   "metadata": {},
   "source": [
    "## One-to-Many relationships"
   ]
  },
  {
   "cell_type": "markdown",
   "metadata": {},
   "source": [
    "Let's explore one-to-many merges by merging a table of business owners, called `biz_owners`, to the `licenses` table and find out what is the most common business owner title. (i.e., secretary, CEO, or vice president)."
   ]
  },
  {
   "cell_type": "code",
   "execution_count": 15,
   "metadata": {},
   "outputs": [],
   "source": [
    "licenses = pd.read_pickle(\"../data/pandas_datasets/pandas-joins/licenses.p\")\n",
    "biz_owners = pd.read_pickle(\"../data/pandas_datasets/pandas-joins/business_owners.p\")"
   ]
  },
  {
   "cell_type": "code",
   "execution_count": 16,
   "metadata": {},
   "outputs": [
    {
     "name": "stdout",
     "output_type": "stream",
     "text": [
      "                 account\n",
      "title                   \n",
      "PRESIDENT           6259\n",
      "SECRETARY           5205\n",
      "SOLE PROPRIETOR     1658\n",
      "OTHER               1200\n",
      "VICE PRESIDENT       970\n"
     ]
    }
   ],
   "source": [
    "# Merge the licenses and biz_owners table on account\n",
    "licenses_owners = licenses.merge(biz_owners, on=\"account\")\n",
    "\n",
    "# Group the results by title then count the number of accounts\n",
    "counted_df = licenses_owners.groupby(\"title\").agg({'account':'count'})\n",
    "\n",
    "# Sort the counted_df in descending order\n",
    "sorted_df = counted_df.sort_values(by=\"account\", ascending=False)\n",
    "\n",
    "# Use .head() method to print the first few rows of sorted_df\n",
    "print(sorted_df.head())"
   ]
  },
  {
   "cell_type": "markdown",
   "metadata": {},
   "source": [
    "## Merging Multiple Data Frames\n",
    "\n",
    "Determine the total number of rides provided to passengers passing through the Wilson station `(station_name == 'Wilson')` on weekdays `(day_type == 'Weekday')` in July `(month == 7)` using Chicago's public transportation data. The data is available in three separate tables that need to be merged to obtain the required insights. The `cal`, `ridership`, and `stations` DataFrames have been loaded, and their relationships are shown in the diagram below."
   ]
  },
  {
   "cell_type": "markdown",
   "metadata": {},
   "source": [
    "<img src=\"../img/cta_ridership.jpg\" width=\"400\">"
   ]
  },
  {
   "cell_type": "code",
   "execution_count": 17,
   "metadata": {},
   "outputs": [
    {
     "data": {
      "text/html": [
       "<div>\n",
       "<style scoped>\n",
       "    .dataframe tbody tr th:only-of-type {\n",
       "        vertical-align: middle;\n",
       "    }\n",
       "\n",
       "    .dataframe tbody tr th {\n",
       "        vertical-align: top;\n",
       "    }\n",
       "\n",
       "    .dataframe thead th {\n",
       "        text-align: right;\n",
       "    }\n",
       "</style>\n",
       "<table border=\"1\" class=\"dataframe\">\n",
       "  <thead>\n",
       "    <tr style=\"text-align: right;\">\n",
       "      <th></th>\n",
       "      <th>station_id</th>\n",
       "      <th>year</th>\n",
       "      <th>month</th>\n",
       "      <th>day</th>\n",
       "      <th>rides</th>\n",
       "    </tr>\n",
       "  </thead>\n",
       "  <tbody>\n",
       "    <tr>\n",
       "      <th>0</th>\n",
       "      <td>40010</td>\n",
       "      <td>2019</td>\n",
       "      <td>1</td>\n",
       "      <td>1</td>\n",
       "      <td>576</td>\n",
       "    </tr>\n",
       "    <tr>\n",
       "      <th>1</th>\n",
       "      <td>40010</td>\n",
       "      <td>2019</td>\n",
       "      <td>1</td>\n",
       "      <td>2</td>\n",
       "      <td>1457</td>\n",
       "    </tr>\n",
       "    <tr>\n",
       "      <th>2</th>\n",
       "      <td>40010</td>\n",
       "      <td>2019</td>\n",
       "      <td>1</td>\n",
       "      <td>3</td>\n",
       "      <td>1543</td>\n",
       "    </tr>\n",
       "    <tr>\n",
       "      <th>3</th>\n",
       "      <td>40010</td>\n",
       "      <td>2019</td>\n",
       "      <td>1</td>\n",
       "      <td>4</td>\n",
       "      <td>1621</td>\n",
       "    </tr>\n",
       "    <tr>\n",
       "      <th>4</th>\n",
       "      <td>40010</td>\n",
       "      <td>2019</td>\n",
       "      <td>1</td>\n",
       "      <td>5</td>\n",
       "      <td>719</td>\n",
       "    </tr>\n",
       "    <tr>\n",
       "      <th>...</th>\n",
       "      <td>...</td>\n",
       "      <td>...</td>\n",
       "      <td>...</td>\n",
       "      <td>...</td>\n",
       "      <td>...</td>\n",
       "    </tr>\n",
       "    <tr>\n",
       "      <th>3280</th>\n",
       "      <td>41660</td>\n",
       "      <td>2019</td>\n",
       "      <td>12</td>\n",
       "      <td>27</td>\n",
       "      <td>13898</td>\n",
       "    </tr>\n",
       "    <tr>\n",
       "      <th>3281</th>\n",
       "      <td>41660</td>\n",
       "      <td>2019</td>\n",
       "      <td>12</td>\n",
       "      <td>28</td>\n",
       "      <td>9485</td>\n",
       "    </tr>\n",
       "    <tr>\n",
       "      <th>3282</th>\n",
       "      <td>41660</td>\n",
       "      <td>2019</td>\n",
       "      <td>12</td>\n",
       "      <td>29</td>\n",
       "      <td>7581</td>\n",
       "    </tr>\n",
       "    <tr>\n",
       "      <th>3283</th>\n",
       "      <td>41660</td>\n",
       "      <td>2019</td>\n",
       "      <td>12</td>\n",
       "      <td>30</td>\n",
       "      <td>15332</td>\n",
       "    </tr>\n",
       "    <tr>\n",
       "      <th>3284</th>\n",
       "      <td>41660</td>\n",
       "      <td>2019</td>\n",
       "      <td>12</td>\n",
       "      <td>31</td>\n",
       "      <td>13430</td>\n",
       "    </tr>\n",
       "  </tbody>\n",
       "</table>\n",
       "<p>3285 rows × 5 columns</p>\n",
       "</div>"
      ],
      "text/plain": [
       "     station_id  year  month  day  rides\n",
       "0         40010  2019      1    1    576\n",
       "1         40010  2019      1    2   1457\n",
       "2         40010  2019      1    3   1543\n",
       "3         40010  2019      1    4   1621\n",
       "4         40010  2019      1    5    719\n",
       "...         ...   ...    ...  ...    ...\n",
       "3280      41660  2019     12   27  13898\n",
       "3281      41660  2019     12   28   9485\n",
       "3282      41660  2019     12   29   7581\n",
       "3283      41660  2019     12   30  15332\n",
       "3284      41660  2019     12   31  13430\n",
       "\n",
       "[3285 rows x 5 columns]"
      ]
     },
     "execution_count": 17,
     "metadata": {},
     "output_type": "execute_result"
    }
   ],
   "source": [
    "ridership = pd.read_pickle(\"../data/pandas_datasets/pandas-joins/cta_ridership.p\")\n",
    "ridership"
   ]
  },
  {
   "cell_type": "code",
   "execution_count": 18,
   "metadata": {},
   "outputs": [
    {
     "data": {
      "text/html": [
       "<div>\n",
       "<style scoped>\n",
       "    .dataframe tbody tr th:only-of-type {\n",
       "        vertical-align: middle;\n",
       "    }\n",
       "\n",
       "    .dataframe tbody tr th {\n",
       "        vertical-align: top;\n",
       "    }\n",
       "\n",
       "    .dataframe thead th {\n",
       "        text-align: right;\n",
       "    }\n",
       "</style>\n",
       "<table border=\"1\" class=\"dataframe\">\n",
       "  <thead>\n",
       "    <tr style=\"text-align: right;\">\n",
       "      <th></th>\n",
       "      <th>year</th>\n",
       "      <th>month</th>\n",
       "      <th>day</th>\n",
       "      <th>day_type</th>\n",
       "    </tr>\n",
       "  </thead>\n",
       "  <tbody>\n",
       "    <tr>\n",
       "      <th>0</th>\n",
       "      <td>2019</td>\n",
       "      <td>1</td>\n",
       "      <td>1</td>\n",
       "      <td>Sunday/Holiday</td>\n",
       "    </tr>\n",
       "    <tr>\n",
       "      <th>1</th>\n",
       "      <td>2019</td>\n",
       "      <td>1</td>\n",
       "      <td>2</td>\n",
       "      <td>Weekday</td>\n",
       "    </tr>\n",
       "    <tr>\n",
       "      <th>2</th>\n",
       "      <td>2019</td>\n",
       "      <td>1</td>\n",
       "      <td>3</td>\n",
       "      <td>Weekday</td>\n",
       "    </tr>\n",
       "    <tr>\n",
       "      <th>3</th>\n",
       "      <td>2019</td>\n",
       "      <td>1</td>\n",
       "      <td>4</td>\n",
       "      <td>Weekday</td>\n",
       "    </tr>\n",
       "    <tr>\n",
       "      <th>4</th>\n",
       "      <td>2019</td>\n",
       "      <td>1</td>\n",
       "      <td>5</td>\n",
       "      <td>Saturday</td>\n",
       "    </tr>\n",
       "    <tr>\n",
       "      <th>...</th>\n",
       "      <td>...</td>\n",
       "      <td>...</td>\n",
       "      <td>...</td>\n",
       "      <td>...</td>\n",
       "    </tr>\n",
       "    <tr>\n",
       "      <th>360</th>\n",
       "      <td>2019</td>\n",
       "      <td>12</td>\n",
       "      <td>27</td>\n",
       "      <td>Weekday</td>\n",
       "    </tr>\n",
       "    <tr>\n",
       "      <th>361</th>\n",
       "      <td>2019</td>\n",
       "      <td>12</td>\n",
       "      <td>28</td>\n",
       "      <td>Saturday</td>\n",
       "    </tr>\n",
       "    <tr>\n",
       "      <th>362</th>\n",
       "      <td>2019</td>\n",
       "      <td>12</td>\n",
       "      <td>29</td>\n",
       "      <td>Sunday/Holiday</td>\n",
       "    </tr>\n",
       "    <tr>\n",
       "      <th>363</th>\n",
       "      <td>2019</td>\n",
       "      <td>12</td>\n",
       "      <td>30</td>\n",
       "      <td>Weekday</td>\n",
       "    </tr>\n",
       "    <tr>\n",
       "      <th>364</th>\n",
       "      <td>2019</td>\n",
       "      <td>12</td>\n",
       "      <td>31</td>\n",
       "      <td>Weekday</td>\n",
       "    </tr>\n",
       "  </tbody>\n",
       "</table>\n",
       "<p>365 rows × 4 columns</p>\n",
       "</div>"
      ],
      "text/plain": [
       "     year  month  day        day_type\n",
       "0    2019      1    1  Sunday/Holiday\n",
       "1    2019      1    2         Weekday\n",
       "2    2019      1    3         Weekday\n",
       "3    2019      1    4         Weekday\n",
       "4    2019      1    5        Saturday\n",
       "..    ...    ...  ...             ...\n",
       "360  2019     12   27         Weekday\n",
       "361  2019     12   28        Saturday\n",
       "362  2019     12   29  Sunday/Holiday\n",
       "363  2019     12   30         Weekday\n",
       "364  2019     12   31         Weekday\n",
       "\n",
       "[365 rows x 4 columns]"
      ]
     },
     "execution_count": 18,
     "metadata": {},
     "output_type": "execute_result"
    }
   ],
   "source": [
    "cal = pd.read_pickle(\"../data/pandas_datasets/pandas-joins/cta_calendar.p\")\n",
    "cal"
   ]
  },
  {
   "cell_type": "code",
   "execution_count": 19,
   "metadata": {},
   "outputs": [
    {
     "data": {
      "text/html": [
       "<div>\n",
       "<style scoped>\n",
       "    .dataframe tbody tr th:only-of-type {\n",
       "        vertical-align: middle;\n",
       "    }\n",
       "\n",
       "    .dataframe tbody tr th {\n",
       "        vertical-align: top;\n",
       "    }\n",
       "\n",
       "    .dataframe thead th {\n",
       "        text-align: right;\n",
       "    }\n",
       "</style>\n",
       "<table border=\"1\" class=\"dataframe\">\n",
       "  <thead>\n",
       "    <tr style=\"text-align: right;\">\n",
       "      <th></th>\n",
       "      <th>station_id</th>\n",
       "      <th>station_name</th>\n",
       "      <th>location</th>\n",
       "    </tr>\n",
       "  </thead>\n",
       "  <tbody>\n",
       "    <tr>\n",
       "      <th>0</th>\n",
       "      <td>40010</td>\n",
       "      <td>Austin-Forest Park</td>\n",
       "      <td>(41.870851, -87.776812)</td>\n",
       "    </tr>\n",
       "    <tr>\n",
       "      <th>1</th>\n",
       "      <td>40020</td>\n",
       "      <td>Harlem-Lake</td>\n",
       "      <td>(41.886848, -87.803176)</td>\n",
       "    </tr>\n",
       "    <tr>\n",
       "      <th>2</th>\n",
       "      <td>40030</td>\n",
       "      <td>Pulaski-Lake</td>\n",
       "      <td>(41.885412, -87.725404)</td>\n",
       "    </tr>\n",
       "    <tr>\n",
       "      <th>3</th>\n",
       "      <td>40040</td>\n",
       "      <td>Quincy/Wells</td>\n",
       "      <td>(41.878723, -87.63374)</td>\n",
       "    </tr>\n",
       "    <tr>\n",
       "      <th>4</th>\n",
       "      <td>40050</td>\n",
       "      <td>Davis</td>\n",
       "      <td>(42.04771, -87.683543)</td>\n",
       "    </tr>\n",
       "    <tr>\n",
       "      <th>...</th>\n",
       "      <td>...</td>\n",
       "      <td>...</td>\n",
       "      <td>...</td>\n",
       "    </tr>\n",
       "    <tr>\n",
       "      <th>139</th>\n",
       "      <td>41660</td>\n",
       "      <td>Lake/State</td>\n",
       "      <td>(41.884809, -87.627813)</td>\n",
       "    </tr>\n",
       "    <tr>\n",
       "      <th>140</th>\n",
       "      <td>41670</td>\n",
       "      <td>Conservatory</td>\n",
       "      <td>(41.884904, -87.716523)</td>\n",
       "    </tr>\n",
       "    <tr>\n",
       "      <th>141</th>\n",
       "      <td>41680</td>\n",
       "      <td>Oakton-Skokie</td>\n",
       "      <td>(42.02624348, -87.74722084)</td>\n",
       "    </tr>\n",
       "    <tr>\n",
       "      <th>142</th>\n",
       "      <td>41690</td>\n",
       "      <td>Cermak-McCormick Place</td>\n",
       "      <td>(41.853115, -87.626402)</td>\n",
       "    </tr>\n",
       "    <tr>\n",
       "      <th>143</th>\n",
       "      <td>41700</td>\n",
       "      <td>Washington/Wabash</td>\n",
       "      <td>(41.88322, -87.626189)</td>\n",
       "    </tr>\n",
       "  </tbody>\n",
       "</table>\n",
       "<p>144 rows × 3 columns</p>\n",
       "</div>"
      ],
      "text/plain": [
       "    station_id            station_name                     location\n",
       "0        40010      Austin-Forest Park      (41.870851, -87.776812)\n",
       "1        40020             Harlem-Lake      (41.886848, -87.803176)\n",
       "2        40030            Pulaski-Lake      (41.885412, -87.725404)\n",
       "3        40040            Quincy/Wells       (41.878723, -87.63374)\n",
       "4        40050                   Davis       (42.04771, -87.683543)\n",
       "..         ...                     ...                          ...\n",
       "139      41660              Lake/State      (41.884809, -87.627813)\n",
       "140      41670            Conservatory      (41.884904, -87.716523)\n",
       "141      41680           Oakton-Skokie  (42.02624348, -87.74722084)\n",
       "142      41690  Cermak-McCormick Place      (41.853115, -87.626402)\n",
       "143      41700       Washington/Wabash       (41.88322, -87.626189)\n",
       "\n",
       "[144 rows x 3 columns]"
      ]
     },
     "execution_count": 19,
     "metadata": {},
     "output_type": "execute_result"
    }
   ],
   "source": [
    "stations = pd.read_pickle(\"../data/pandas_datasets/pandas-joins/stations.p\")\n",
    "stations"
   ]
  },
  {
   "cell_type": "code",
   "execution_count": 20,
   "metadata": {},
   "outputs": [],
   "source": [
    "# Total riders in a month\n",
    "# Merge the ridership, cal, and stations tables\n",
    "ridership_cal_stations = ridership.merge(cal, on=['year','month','day']) \\\n",
    "\t\t\t\t\t\t\t.merge(stations, on='station_id')"
   ]
  },
  {
   "cell_type": "code",
   "execution_count": 21,
   "metadata": {},
   "outputs": [],
   "source": [
    "# Create a filter to filter ridership_cal_stations\n",
    "filter_criteria = ((ridership_cal_stations['month'] == 7) \n",
    "                   & (ridership_cal_stations['day_type'] == 'Weekday') \n",
    "                   & (ridership_cal_stations['station_name'] == 'Wilson'))"
   ]
  },
  {
   "cell_type": "code",
   "execution_count": 22,
   "metadata": {},
   "outputs": [
    {
     "name": "stdout",
     "output_type": "stream",
     "text": [
      "140005\n"
     ]
    }
   ],
   "source": [
    "# Use .loc and the filter to select for rides\n",
    "print(ridership_cal_stations.loc[filter_criteria, 'rides'].sum())"
   ]
  },
  {
   "cell_type": "markdown",
   "metadata": {},
   "source": [
    "Wilson station had 140,005 riders during weekdays in July."
   ]
  },
  {
   "cell_type": "code",
   "execution_count": 23,
   "metadata": {},
   "outputs": [
    {
     "data": {
      "text/html": [
       "<div>\n",
       "<style scoped>\n",
       "    .dataframe tbody tr th:only-of-type {\n",
       "        vertical-align: middle;\n",
       "    }\n",
       "\n",
       "    .dataframe tbody tr th {\n",
       "        vertical-align: top;\n",
       "    }\n",
       "\n",
       "    .dataframe thead th {\n",
       "        text-align: right;\n",
       "    }\n",
       "</style>\n",
       "<table border=\"1\" class=\"dataframe\">\n",
       "  <thead>\n",
       "    <tr style=\"text-align: right;\">\n",
       "      <th></th>\n",
       "      <th>zip</th>\n",
       "      <th>income</th>\n",
       "    </tr>\n",
       "  </thead>\n",
       "  <tbody>\n",
       "    <tr>\n",
       "      <th>0</th>\n",
       "      <td>60630</td>\n",
       "      <td>70122</td>\n",
       "    </tr>\n",
       "    <tr>\n",
       "      <th>1</th>\n",
       "      <td>60640</td>\n",
       "      <td>50488</td>\n",
       "    </tr>\n",
       "    <tr>\n",
       "      <th>2</th>\n",
       "      <td>60622</td>\n",
       "      <td>87143</td>\n",
       "    </tr>\n",
       "    <tr>\n",
       "      <th>3</th>\n",
       "      <td>60614</td>\n",
       "      <td>100116</td>\n",
       "    </tr>\n",
       "    <tr>\n",
       "      <th>4</th>\n",
       "      <td>60608</td>\n",
       "      <td>41226</td>\n",
       "    </tr>\n",
       "    <tr>\n",
       "      <th>...</th>\n",
       "      <td>...</td>\n",
       "      <td>...</td>\n",
       "    </tr>\n",
       "    <tr>\n",
       "      <th>61</th>\n",
       "      <td>53045</td>\n",
       "      <td>100438</td>\n",
       "    </tr>\n",
       "    <tr>\n",
       "      <th>62</th>\n",
       "      <td>60076</td>\n",
       "      <td>74964</td>\n",
       "    </tr>\n",
       "    <tr>\n",
       "      <th>63</th>\n",
       "      <td>60126</td>\n",
       "      <td>103454</td>\n",
       "    </tr>\n",
       "    <tr>\n",
       "      <th>64</th>\n",
       "      <td>60458</td>\n",
       "      <td>47411</td>\n",
       "    </tr>\n",
       "    <tr>\n",
       "      <th>65</th>\n",
       "      <td>60423</td>\n",
       "      <td>100098</td>\n",
       "    </tr>\n",
       "  </tbody>\n",
       "</table>\n",
       "<p>66 rows × 2 columns</p>\n",
       "</div>"
      ],
      "text/plain": [
       "      zip  income\n",
       "0   60630   70122\n",
       "1   60640   50488\n",
       "2   60622   87143\n",
       "3   60614  100116\n",
       "4   60608   41226\n",
       "..    ...     ...\n",
       "61  53045  100438\n",
       "62  60076   74964\n",
       "63  60126  103454\n",
       "64  60458   47411\n",
       "65  60423  100098\n",
       "\n",
       "[66 rows x 2 columns]"
      ]
     },
     "execution_count": 23,
     "metadata": {},
     "output_type": "execute_result"
    }
   ],
   "source": [
    "zip_demo = pd.read_pickle(\"../data/pandas_datasets/pandas-joins/zip_demo.p\")\n",
    "zip_demo"
   ]
  },
  {
   "cell_type": "code",
   "execution_count": 24,
   "metadata": {},
   "outputs": [
    {
     "name": "stdout",
     "output_type": "stream",
     "text": [
      "                             income\n",
      "alderman                           \n",
      "Ameya Pawar                 66246.0\n",
      "Anthony A. Beale            38206.0\n",
      "Anthony V. Napolitano       82226.0\n",
      "Ariel E. Reyboras           41307.0\n",
      "Brendan Reilly             110215.0\n",
      "Brian Hopkins               87143.0\n",
      "Carlos Ramirez-Rosa         66246.0\n",
      "Carrie M. Austin            38206.0\n",
      "Chris Taliaferro            55566.0\n",
      "Daniel \"Danny\" Solis        41226.0\n",
      "David H. Moore              33304.0\n",
      "Deborah Mell                66246.0\n",
      "Debra L. Silverstein        50554.0\n",
      "Derrick G. Curtis           65770.0\n",
      "Edward M. Burke             42335.0\n",
      "Emma M. Mitts               36283.0\n",
      "George Cardenas             33959.0\n",
      "Gilbert Villegas            41307.0\n",
      "Gregory I. Mitchell         24941.0\n",
      "Harry Osterman              45442.0\n",
      "Howard B. Brookins, Jr.     33304.0\n",
      "James Cappleman             79565.0\n",
      "Jason C. Ervin              41226.0\n",
      "Joe Moore                   39163.0\n",
      "John S. Arena               70122.0\n",
      "Leslie A. Hairston          28024.0\n",
      "Margaret Laurino            70122.0\n",
      "Marty Quinn                 67045.0\n",
      "Matthew J. O'Shea           59488.0\n",
      "Michael R. Zalewski         42335.0\n",
      "Michael Scott, Jr.          31445.0\n",
      "Michelle A. Harris          32558.0\n",
      "Michelle Smith             100116.0\n",
      "Milagros \"Milly\" Santiago   41307.0\n",
      "Nicholas Sposato            62223.0\n",
      "Pat Dowell                  46340.0\n",
      "Patrick Daley Thompson      41226.0\n",
      "Patrick J. O'Connor         50554.0\n",
      "Proco \"Joe\" Moreno          87143.0\n",
      "Raymond A. Lopez            33959.0\n",
      "Ricardo Munoz               31445.0\n",
      "Roberto Maldonado           68223.0\n",
      "Roderick T. Sawyer          32558.0\n",
      "Scott Waguespack            68223.0\n",
      "Susan Sadlowski Garza       38417.0\n",
      "Tom Tunney                  88708.0\n",
      "Toni L. Foulkes             27573.0\n",
      "Walter Burnett, Jr.         87143.0\n",
      "William D. Burns           107811.0\n",
      "Willie B. Cochran           28024.0\n"
     ]
    }
   ],
   "source": [
    "# Merge licenses and zip_demo, on zip; and merge the wards on ward\n",
    "licenses_zip_ward = licenses.merge(zip_demo, on=\"zip\") \\\n",
    "\t\t\t\t\t\t\t.merge(wards, on=\"ward\")\n",
    "\n",
    "\n",
    "# Print the results by alderman and show median income\n",
    "print(licenses_zip_ward.groupby(\"alderman\").agg({'income':'median'}))"
   ]
  },
  {
   "cell_type": "markdown",
   "metadata": {},
   "source": [
    "We see that only a few aldermen represent businesses in areas where the median income is greater than $62,000, which is the median income for the state of Illinois."
   ]
  },
  {
   "cell_type": "markdown",
   "metadata": {},
   "source": [
    "## One-to-many merge with multiple tables"
   ]
  },
  {
   "cell_type": "markdown",
   "metadata": {},
   "source": [
    "Identifying an optimal location in Chicago for a goat-based lawn mowing business. The ideal location should have ample space and a low density of businesses and residents to minimize potential complaints. To determine the best area, three tables will be merged to analyze space availability and population distribution."
   ]
  },
  {
   "cell_type": "code",
   "execution_count": 25,
   "metadata": {},
   "outputs": [
    {
     "data": {
      "text/html": [
       "<div>\n",
       "<style scoped>\n",
       "    .dataframe tbody tr th:only-of-type {\n",
       "        vertical-align: middle;\n",
       "    }\n",
       "\n",
       "    .dataframe tbody tr th {\n",
       "        vertical-align: top;\n",
       "    }\n",
       "\n",
       "    .dataframe thead th {\n",
       "        text-align: right;\n",
       "    }\n",
       "</style>\n",
       "<table border=\"1\" class=\"dataframe\">\n",
       "  <thead>\n",
       "    <tr style=\"text-align: right;\">\n",
       "      <th></th>\n",
       "      <th>ward</th>\n",
       "      <th>residential</th>\n",
       "      <th>commercial</th>\n",
       "      <th>industrial</th>\n",
       "      <th>vacant</th>\n",
       "      <th>other</th>\n",
       "    </tr>\n",
       "  </thead>\n",
       "  <tbody>\n",
       "    <tr>\n",
       "      <th>0</th>\n",
       "      <td>1</td>\n",
       "      <td>41</td>\n",
       "      <td>9</td>\n",
       "      <td>2</td>\n",
       "      <td>2</td>\n",
       "      <td>46</td>\n",
       "    </tr>\n",
       "    <tr>\n",
       "      <th>1</th>\n",
       "      <td>2</td>\n",
       "      <td>31</td>\n",
       "      <td>11</td>\n",
       "      <td>6</td>\n",
       "      <td>2</td>\n",
       "      <td>50</td>\n",
       "    </tr>\n",
       "  </tbody>\n",
       "</table>\n",
       "</div>"
      ],
      "text/plain": [
       "  ward  residential  commercial  industrial  vacant  other\n",
       "0    1           41           9           2       2     46\n",
       "1    2           31          11           6       2     50"
      ]
     },
     "execution_count": 25,
     "metadata": {},
     "output_type": "execute_result"
    }
   ],
   "source": [
    "land_use = pd.read_pickle(\"../data/pandas_datasets/pandas-joins/land_use.p\")\n",
    "land_use.head(2)"
   ]
  },
  {
   "cell_type": "code",
   "execution_count": 26,
   "metadata": {},
   "outputs": [
    {
     "data": {
      "text/html": [
       "<div>\n",
       "<style scoped>\n",
       "    .dataframe tbody tr th:only-of-type {\n",
       "        vertical-align: middle;\n",
       "    }\n",
       "\n",
       "    .dataframe tbody tr th {\n",
       "        vertical-align: top;\n",
       "    }\n",
       "\n",
       "    .dataframe thead th {\n",
       "        text-align: right;\n",
       "    }\n",
       "</style>\n",
       "<table border=\"1\" class=\"dataframe\">\n",
       "  <thead>\n",
       "    <tr style=\"text-align: right;\">\n",
       "      <th></th>\n",
       "      <th>account</th>\n",
       "      <th>ward</th>\n",
       "      <th>aid</th>\n",
       "      <th>business</th>\n",
       "      <th>address</th>\n",
       "      <th>zip</th>\n",
       "    </tr>\n",
       "  </thead>\n",
       "  <tbody>\n",
       "    <tr>\n",
       "      <th>0</th>\n",
       "      <td>307071</td>\n",
       "      <td>3</td>\n",
       "      <td>743</td>\n",
       "      <td>REGGIE'S BAR &amp; GRILL</td>\n",
       "      <td>2105 S STATE ST</td>\n",
       "      <td>60616</td>\n",
       "    </tr>\n",
       "    <tr>\n",
       "      <th>1</th>\n",
       "      <td>10</td>\n",
       "      <td>10</td>\n",
       "      <td>829</td>\n",
       "      <td>HONEYBEERS</td>\n",
       "      <td>13200 S HOUSTON AVE</td>\n",
       "      <td>60633</td>\n",
       "    </tr>\n",
       "  </tbody>\n",
       "</table>\n",
       "</div>"
      ],
      "text/plain": [
       "  account ward  aid              business              address    zip\n",
       "0  307071    3  743  REGGIE'S BAR & GRILL      2105 S STATE ST  60616\n",
       "1      10   10  829            HONEYBEERS  13200 S HOUSTON AVE  60633"
      ]
     },
     "execution_count": 26,
     "metadata": {},
     "output_type": "execute_result"
    }
   ],
   "source": [
    "licenses.head(2)"
   ]
  },
  {
   "cell_type": "code",
   "execution_count": 27,
   "metadata": {},
   "outputs": [
    {
     "data": {
      "text/html": [
       "<div>\n",
       "<style scoped>\n",
       "    .dataframe tbody tr th:only-of-type {\n",
       "        vertical-align: middle;\n",
       "    }\n",
       "\n",
       "    .dataframe tbody tr th {\n",
       "        vertical-align: top;\n",
       "    }\n",
       "\n",
       "    .dataframe thead th {\n",
       "        text-align: right;\n",
       "    }\n",
       "</style>\n",
       "<table border=\"1\" class=\"dataframe\">\n",
       "  <thead>\n",
       "    <tr style=\"text-align: right;\">\n",
       "      <th></th>\n",
       "      <th>ward</th>\n",
       "      <th>pop_2000</th>\n",
       "      <th>pop_2010</th>\n",
       "      <th>change</th>\n",
       "      <th>address</th>\n",
       "      <th>zip</th>\n",
       "    </tr>\n",
       "  </thead>\n",
       "  <tbody>\n",
       "    <tr>\n",
       "      <th>0</th>\n",
       "      <td>1</td>\n",
       "      <td>52951</td>\n",
       "      <td>56149</td>\n",
       "      <td>6%</td>\n",
       "      <td>2765 WEST SAINT MARY STREET</td>\n",
       "      <td>60647</td>\n",
       "    </tr>\n",
       "    <tr>\n",
       "      <th>1</th>\n",
       "      <td>2</td>\n",
       "      <td>54361</td>\n",
       "      <td>55805</td>\n",
       "      <td>3%</td>\n",
       "      <td>WM WASTE MANAGEMENT 1500</td>\n",
       "      <td>60622</td>\n",
       "    </tr>\n",
       "  </tbody>\n",
       "</table>\n",
       "</div>"
      ],
      "text/plain": [
       "  ward  pop_2000  pop_2010 change                      address    zip\n",
       "0    1     52951     56149     6%  2765 WEST SAINT MARY STREET  60647\n",
       "1    2     54361     55805     3%     WM WASTE MANAGEMENT 1500  60622"
      ]
     },
     "execution_count": 27,
     "metadata": {},
     "output_type": "execute_result"
    }
   ],
   "source": [
    "census.head(2)"
   ]
  },
  {
   "cell_type": "code",
   "execution_count": 28,
   "metadata": {},
   "outputs": [],
   "source": [
    "\n",
    "# Merge land_use and census and merge result with licenses including suffixes\n",
    "land_cen_lic = land_use.merge(census, on='ward') \\\n",
    "                    .merge(licenses, on='ward', suffixes=('_cen','_lic'))\n",
    "\n",
    "# Group by ward, pop_2010, and vacant, then count the # of accounts\n",
    "pop_vac_lic = land_cen_lic.groupby(['ward','pop_2010','vacant'], \n",
    "                                   as_index=False).agg({'account':'count'})"
   ]
  },
  {
   "cell_type": "code",
   "execution_count": 29,
   "metadata": {},
   "outputs": [
    {
     "data": {
      "text/html": [
       "<div>\n",
       "<style scoped>\n",
       "    .dataframe tbody tr th:only-of-type {\n",
       "        vertical-align: middle;\n",
       "    }\n",
       "\n",
       "    .dataframe tbody tr th {\n",
       "        vertical-align: top;\n",
       "    }\n",
       "\n",
       "    .dataframe thead th {\n",
       "        text-align: right;\n",
       "    }\n",
       "</style>\n",
       "<table border=\"1\" class=\"dataframe\">\n",
       "  <thead>\n",
       "    <tr style=\"text-align: right;\">\n",
       "      <th></th>\n",
       "      <th>ward</th>\n",
       "      <th>residential</th>\n",
       "      <th>commercial</th>\n",
       "      <th>industrial</th>\n",
       "      <th>vacant</th>\n",
       "      <th>other</th>\n",
       "      <th>pop_2000</th>\n",
       "      <th>pop_2010</th>\n",
       "      <th>change</th>\n",
       "      <th>address_cen</th>\n",
       "      <th>zip_cen</th>\n",
       "      <th>account</th>\n",
       "      <th>aid</th>\n",
       "      <th>business</th>\n",
       "      <th>address_lic</th>\n",
       "      <th>zip_lic</th>\n",
       "    </tr>\n",
       "  </thead>\n",
       "  <tbody>\n",
       "    <tr>\n",
       "      <th>0</th>\n",
       "      <td>1</td>\n",
       "      <td>41</td>\n",
       "      <td>9</td>\n",
       "      <td>2</td>\n",
       "      <td>2</td>\n",
       "      <td>46</td>\n",
       "      <td>52951</td>\n",
       "      <td>56149</td>\n",
       "      <td>6%</td>\n",
       "      <td>2765 WEST SAINT MARY STREET</td>\n",
       "      <td>60647</td>\n",
       "      <td>12024</td>\n",
       "      <td>NaN</td>\n",
       "      <td>DIGILOG ELECTRONICS</td>\n",
       "      <td>1038 N ASHLAND AVE</td>\n",
       "      <td>60622</td>\n",
       "    </tr>\n",
       "    <tr>\n",
       "      <th>1</th>\n",
       "      <td>1</td>\n",
       "      <td>41</td>\n",
       "      <td>9</td>\n",
       "      <td>2</td>\n",
       "      <td>2</td>\n",
       "      <td>46</td>\n",
       "      <td>52951</td>\n",
       "      <td>56149</td>\n",
       "      <td>6%</td>\n",
       "      <td>2765 WEST SAINT MARY STREET</td>\n",
       "      <td>60647</td>\n",
       "      <td>14446</td>\n",
       "      <td>743</td>\n",
       "      <td>EMPTY BOTTLE INC</td>\n",
       "      <td>1035 N WESTERN AVE 1ST</td>\n",
       "      <td>60622</td>\n",
       "    </tr>\n",
       "    <tr>\n",
       "      <th>2</th>\n",
       "      <td>1</td>\n",
       "      <td>41</td>\n",
       "      <td>9</td>\n",
       "      <td>2</td>\n",
       "      <td>2</td>\n",
       "      <td>46</td>\n",
       "      <td>52951</td>\n",
       "      <td>56149</td>\n",
       "      <td>6%</td>\n",
       "      <td>2765 WEST SAINT MARY STREET</td>\n",
       "      <td>60647</td>\n",
       "      <td>14624</td>\n",
       "      <td>775</td>\n",
       "      <td>LITTLE MEL'S HOT DOG</td>\n",
       "      <td>2205 N CALIFORNIA AVE</td>\n",
       "      <td>60647</td>\n",
       "    </tr>\n",
       "    <tr>\n",
       "      <th>3</th>\n",
       "      <td>1</td>\n",
       "      <td>41</td>\n",
       "      <td>9</td>\n",
       "      <td>2</td>\n",
       "      <td>2</td>\n",
       "      <td>46</td>\n",
       "      <td>52951</td>\n",
       "      <td>56149</td>\n",
       "      <td>6%</td>\n",
       "      <td>2765 WEST SAINT MARY STREET</td>\n",
       "      <td>60647</td>\n",
       "      <td>14987</td>\n",
       "      <td>NaN</td>\n",
       "      <td>MR. BROWN'S LOUNGE</td>\n",
       "      <td>2301 W CHICAGO AVE 1ST</td>\n",
       "      <td>60622</td>\n",
       "    </tr>\n",
       "    <tr>\n",
       "      <th>4</th>\n",
       "      <td>1</td>\n",
       "      <td>41</td>\n",
       "      <td>9</td>\n",
       "      <td>2</td>\n",
       "      <td>2</td>\n",
       "      <td>46</td>\n",
       "      <td>52951</td>\n",
       "      <td>56149</td>\n",
       "      <td>6%</td>\n",
       "      <td>2765 WEST SAINT MARY STREET</td>\n",
       "      <td>60647</td>\n",
       "      <td>15642</td>\n",
       "      <td>814</td>\n",
       "      <td>Beat Kitchen</td>\n",
       "      <td>2000-2100 W DIVISION ST</td>\n",
       "      <td>60622</td>\n",
       "    </tr>\n",
       "  </tbody>\n",
       "</table>\n",
       "</div>"
      ],
      "text/plain": [
       "  ward  residential  commercial  industrial  vacant  other  pop_2000  \\\n",
       "0    1           41           9           2       2     46     52951   \n",
       "1    1           41           9           2       2     46     52951   \n",
       "2    1           41           9           2       2     46     52951   \n",
       "3    1           41           9           2       2     46     52951   \n",
       "4    1           41           9           2       2     46     52951   \n",
       "\n",
       "   pop_2010 change                  address_cen zip_cen account  aid  \\\n",
       "0     56149     6%  2765 WEST SAINT MARY STREET   60647   12024  NaN   \n",
       "1     56149     6%  2765 WEST SAINT MARY STREET   60647   14446  743   \n",
       "2     56149     6%  2765 WEST SAINT MARY STREET   60647   14624  775   \n",
       "3     56149     6%  2765 WEST SAINT MARY STREET   60647   14987  NaN   \n",
       "4     56149     6%  2765 WEST SAINT MARY STREET   60647   15642  814   \n",
       "\n",
       "               business              address_lic zip_lic  \n",
       "0   DIGILOG ELECTRONICS       1038 N ASHLAND AVE   60622  \n",
       "1      EMPTY BOTTLE INC   1035 N WESTERN AVE 1ST   60622  \n",
       "2  LITTLE MEL'S HOT DOG    2205 N CALIFORNIA AVE   60647  \n",
       "3    MR. BROWN'S LOUNGE   2301 W CHICAGO AVE 1ST   60622  \n",
       "4          Beat Kitchen  2000-2100 W DIVISION ST   60622  "
      ]
     },
     "execution_count": 29,
     "metadata": {},
     "output_type": "execute_result"
    }
   ],
   "source": [
    "land_cen_lic.head(5)"
   ]
  },
  {
   "cell_type": "code",
   "execution_count": 30,
   "metadata": {},
   "outputs": [
    {
     "data": {
      "text/html": [
       "<div>\n",
       "<style scoped>\n",
       "    .dataframe tbody tr th:only-of-type {\n",
       "        vertical-align: middle;\n",
       "    }\n",
       "\n",
       "    .dataframe tbody tr th {\n",
       "        vertical-align: top;\n",
       "    }\n",
       "\n",
       "    .dataframe thead th {\n",
       "        text-align: right;\n",
       "    }\n",
       "</style>\n",
       "<table border=\"1\" class=\"dataframe\">\n",
       "  <thead>\n",
       "    <tr style=\"text-align: right;\">\n",
       "      <th></th>\n",
       "      <th>ward</th>\n",
       "      <th>pop_2010</th>\n",
       "      <th>vacant</th>\n",
       "      <th>account</th>\n",
       "    </tr>\n",
       "  </thead>\n",
       "  <tbody>\n",
       "    <tr>\n",
       "      <th>0</th>\n",
       "      <td>1</td>\n",
       "      <td>56149</td>\n",
       "      <td>2</td>\n",
       "      <td>253</td>\n",
       "    </tr>\n",
       "    <tr>\n",
       "      <th>1</th>\n",
       "      <td>10</td>\n",
       "      <td>51535</td>\n",
       "      <td>14</td>\n",
       "      <td>130</td>\n",
       "    </tr>\n",
       "    <tr>\n",
       "      <th>2</th>\n",
       "      <td>11</td>\n",
       "      <td>51497</td>\n",
       "      <td>5</td>\n",
       "      <td>201</td>\n",
       "    </tr>\n",
       "    <tr>\n",
       "      <th>3</th>\n",
       "      <td>12</td>\n",
       "      <td>52235</td>\n",
       "      <td>4</td>\n",
       "      <td>255</td>\n",
       "    </tr>\n",
       "    <tr>\n",
       "      <th>4</th>\n",
       "      <td>13</td>\n",
       "      <td>53722</td>\n",
       "      <td>1</td>\n",
       "      <td>101</td>\n",
       "    </tr>\n",
       "  </tbody>\n",
       "</table>\n",
       "</div>"
      ],
      "text/plain": [
       "  ward  pop_2010  vacant  account\n",
       "0    1     56149       2      253\n",
       "1   10     51535      14      130\n",
       "2   11     51497       5      201\n",
       "3   12     52235       4      255\n",
       "4   13     53722       1      101"
      ]
     },
     "execution_count": 30,
     "metadata": {},
     "output_type": "execute_result"
    }
   ],
   "source": [
    "pop_vac_lic.head(5)"
   ]
  },
  {
   "cell_type": "code",
   "execution_count": 31,
   "metadata": {},
   "outputs": [
    {
     "name": "stdout",
     "output_type": "stream",
     "text": [
      "   ward  pop_2010  vacant  account\n",
      "47    7     51581      19       80\n",
      "12   20     52372      15      123\n",
      "1    10     51535      14      130\n",
      "16   24     54909      13       98\n",
      "7    16     51954      13      156\n"
     ]
    }
   ],
   "source": [
    "# Sort pop_vac_lic and print the results\n",
    "sorted_pop_vac_lic = pop_vac_lic.sort_values([\"vacant\",\"account\",\"pop_2010\"], \n",
    "                                             ascending=(False, True, True))\n",
    "\n",
    "# Print the top few rows of sorted_pop_vac_lic\n",
    "print(sorted_pop_vac_lic.head())"
   ]
  },
  {
   "cell_type": "markdown",
   "metadata": {},
   "source": [
    "The 7th ward would be a good place to build the goat farm!"
   ]
  },
  {
   "cell_type": "markdown",
   "metadata": {},
   "source": [
    "# Merging Tables With Different Join Types"
   ]
  },
  {
   "cell_type": "markdown",
   "metadata": {},
   "source": [
    "***Left Join***\n",
    "\n",
    "A left join returns all rows of data from the left table and only those rows from the right table where key columns match.\n",
    "\n",
    "<img src=\"../img/left-join.jpg\" width=\"300\">"
   ]
  },
  {
   "cell_type": "markdown",
   "metadata": {},
   "source": [
    "Data: The Movie Database, a community-built movie database with info on thousands of movies, their casts, and popularity.\n",
    "\n",
    "Table 1: Named movies, holds information about individual movies such as the title name and its popularity. Additionally, each movie is given an ID number. Our table starts with 4,803 rows of data.\n",
    "\n",
    "Table 2: Named taglines, contains a movie ID number and the tag line for the movie. Notice that this table has almost 4,000 rows of data, so it contains fewer movies than the movies table."
   ]
  },
  {
   "cell_type": "code",
   "execution_count": 32,
   "metadata": {},
   "outputs": [
    {
     "data": {
      "text/html": [
       "<div>\n",
       "<style scoped>\n",
       "    .dataframe tbody tr th:only-of-type {\n",
       "        vertical-align: middle;\n",
       "    }\n",
       "\n",
       "    .dataframe tbody tr th {\n",
       "        vertical-align: top;\n",
       "    }\n",
       "\n",
       "    .dataframe thead th {\n",
       "        text-align: right;\n",
       "    }\n",
       "</style>\n",
       "<table border=\"1\" class=\"dataframe\">\n",
       "  <thead>\n",
       "    <tr style=\"text-align: right;\">\n",
       "      <th></th>\n",
       "      <th>id</th>\n",
       "      <th>title</th>\n",
       "      <th>popularity</th>\n",
       "      <th>release_date</th>\n",
       "    </tr>\n",
       "  </thead>\n",
       "  <tbody>\n",
       "    <tr>\n",
       "      <th>0</th>\n",
       "      <td>257</td>\n",
       "      <td>Oliver Twist</td>\n",
       "      <td>20.415572</td>\n",
       "      <td>2005-09-23</td>\n",
       "    </tr>\n",
       "    <tr>\n",
       "      <th>1</th>\n",
       "      <td>14290</td>\n",
       "      <td>Better Luck Tomorrow</td>\n",
       "      <td>3.877036</td>\n",
       "      <td>2002-01-12</td>\n",
       "    </tr>\n",
       "    <tr>\n",
       "      <th>2</th>\n",
       "      <td>38365</td>\n",
       "      <td>Grown Ups</td>\n",
       "      <td>38.864027</td>\n",
       "      <td>2010-06-24</td>\n",
       "    </tr>\n",
       "    <tr>\n",
       "      <th>3</th>\n",
       "      <td>9672</td>\n",
       "      <td>Infamous</td>\n",
       "      <td>3.680896</td>\n",
       "      <td>2006-11-16</td>\n",
       "    </tr>\n",
       "    <tr>\n",
       "      <th>4</th>\n",
       "      <td>12819</td>\n",
       "      <td>Alpha and Omega</td>\n",
       "      <td>12.300789</td>\n",
       "      <td>2010-09-17</td>\n",
       "    </tr>\n",
       "  </tbody>\n",
       "</table>\n",
       "</div>"
      ],
      "text/plain": [
       "      id                 title  popularity release_date\n",
       "0    257          Oliver Twist   20.415572   2005-09-23\n",
       "1  14290  Better Luck Tomorrow    3.877036   2002-01-12\n",
       "2  38365             Grown Ups   38.864027   2010-06-24\n",
       "3   9672              Infamous    3.680896   2006-11-16\n",
       "4  12819       Alpha and Omega   12.300789   2010-09-17"
      ]
     },
     "execution_count": 32,
     "metadata": {},
     "output_type": "execute_result"
    }
   ],
   "source": [
    "movies = pd.read_pickle(\"../data/pandas_datasets/pandas-joins/movies.p\")\n",
    "movies.head(5)"
   ]
  },
  {
   "cell_type": "code",
   "execution_count": 33,
   "metadata": {},
   "outputs": [
    {
     "data": {
      "text/html": [
       "<div>\n",
       "<style scoped>\n",
       "    .dataframe tbody tr th:only-of-type {\n",
       "        vertical-align: middle;\n",
       "    }\n",
       "\n",
       "    .dataframe tbody tr th {\n",
       "        vertical-align: top;\n",
       "    }\n",
       "\n",
       "    .dataframe thead th {\n",
       "        text-align: right;\n",
       "    }\n",
       "</style>\n",
       "<table border=\"1\" class=\"dataframe\">\n",
       "  <thead>\n",
       "    <tr style=\"text-align: right;\">\n",
       "      <th></th>\n",
       "      <th>id</th>\n",
       "      <th>tagline</th>\n",
       "    </tr>\n",
       "  </thead>\n",
       "  <tbody>\n",
       "    <tr>\n",
       "      <th>0</th>\n",
       "      <td>19995</td>\n",
       "      <td>Enter the World of Pandora.</td>\n",
       "    </tr>\n",
       "    <tr>\n",
       "      <th>1</th>\n",
       "      <td>285</td>\n",
       "      <td>At the end of the world, the adventure begins.</td>\n",
       "    </tr>\n",
       "    <tr>\n",
       "      <th>2</th>\n",
       "      <td>206647</td>\n",
       "      <td>A Plan No One Escapes</td>\n",
       "    </tr>\n",
       "    <tr>\n",
       "      <th>3</th>\n",
       "      <td>49026</td>\n",
       "      <td>The Legend Ends</td>\n",
       "    </tr>\n",
       "    <tr>\n",
       "      <th>4</th>\n",
       "      <td>49529</td>\n",
       "      <td>Lost in our world, found in another.</td>\n",
       "    </tr>\n",
       "  </tbody>\n",
       "</table>\n",
       "</div>"
      ],
      "text/plain": [
       "       id                                         tagline\n",
       "0   19995                     Enter the World of Pandora.\n",
       "1     285  At the end of the world, the adventure begins.\n",
       "2  206647                           A Plan No One Escapes\n",
       "3   49026                                 The Legend Ends\n",
       "4   49529            Lost in our world, found in another."
      ]
     },
     "execution_count": 33,
     "metadata": {},
     "output_type": "execute_result"
    }
   ],
   "source": [
    "taglines = pd.read_pickle(\"../data/pandas_datasets/pandas-joins/taglines.p\")\n",
    "taglines.head(5)"
   ]
  },
  {
   "cell_type": "code",
   "execution_count": 34,
   "metadata": {},
   "outputs": [
    {
     "name": "stdout",
     "output_type": "stream",
     "text": [
      "(4803, 4) \n",
      " (3955, 2)\n"
     ]
    }
   ],
   "source": [
    "print(movies.shape, \"\\n\", taglines.shape)"
   ]
  },
  {
   "cell_type": "code",
   "execution_count": 35,
   "metadata": {},
   "outputs": [
    {
     "data": {
      "text/html": [
       "<div>\n",
       "<style scoped>\n",
       "    .dataframe tbody tr th:only-of-type {\n",
       "        vertical-align: middle;\n",
       "    }\n",
       "\n",
       "    .dataframe tbody tr th {\n",
       "        vertical-align: top;\n",
       "    }\n",
       "\n",
       "    .dataframe thead th {\n",
       "        text-align: right;\n",
       "    }\n",
       "</style>\n",
       "<table border=\"1\" class=\"dataframe\">\n",
       "  <thead>\n",
       "    <tr style=\"text-align: right;\">\n",
       "      <th></th>\n",
       "      <th>id</th>\n",
       "      <th>title</th>\n",
       "      <th>popularity</th>\n",
       "      <th>release_date</th>\n",
       "      <th>tagline</th>\n",
       "    </tr>\n",
       "  </thead>\n",
       "  <tbody>\n",
       "    <tr>\n",
       "      <th>0</th>\n",
       "      <td>257</td>\n",
       "      <td>Oliver Twist</td>\n",
       "      <td>20.415572</td>\n",
       "      <td>2005-09-23</td>\n",
       "      <td>NaN</td>\n",
       "    </tr>\n",
       "    <tr>\n",
       "      <th>1</th>\n",
       "      <td>14290</td>\n",
       "      <td>Better Luck Tomorrow</td>\n",
       "      <td>3.877036</td>\n",
       "      <td>2002-01-12</td>\n",
       "      <td>Never underestimate an overachiever.</td>\n",
       "    </tr>\n",
       "    <tr>\n",
       "      <th>2</th>\n",
       "      <td>38365</td>\n",
       "      <td>Grown Ups</td>\n",
       "      <td>38.864027</td>\n",
       "      <td>2010-06-24</td>\n",
       "      <td>Boys will be boys. . . some longer than others.</td>\n",
       "    </tr>\n",
       "    <tr>\n",
       "      <th>3</th>\n",
       "      <td>9672</td>\n",
       "      <td>Infamous</td>\n",
       "      <td>3.680896</td>\n",
       "      <td>2006-11-16</td>\n",
       "      <td>There's more to the story than you know</td>\n",
       "    </tr>\n",
       "    <tr>\n",
       "      <th>4</th>\n",
       "      <td>12819</td>\n",
       "      <td>Alpha and Omega</td>\n",
       "      <td>12.300789</td>\n",
       "      <td>2010-09-17</td>\n",
       "      <td>A Pawsome 3D Adventure</td>\n",
       "    </tr>\n",
       "  </tbody>\n",
       "</table>\n",
       "</div>"
      ],
      "text/plain": [
       "      id                 title  popularity release_date  \\\n",
       "0    257          Oliver Twist   20.415572   2005-09-23   \n",
       "1  14290  Better Luck Tomorrow    3.877036   2002-01-12   \n",
       "2  38365             Grown Ups   38.864027   2010-06-24   \n",
       "3   9672              Infamous    3.680896   2006-11-16   \n",
       "4  12819       Alpha and Omega   12.300789   2010-09-17   \n",
       "\n",
       "                                           tagline  \n",
       "0                                              NaN  \n",
       "1             Never underestimate an overachiever.  \n",
       "2  Boys will be boys. . . some longer than others.  \n",
       "3          There's more to the story than you know  \n",
       "4                           A Pawsome 3D Adventure  "
      ]
     },
     "execution_count": 35,
     "metadata": {},
     "output_type": "execute_result"
    }
   ],
   "source": [
    "movies_taglines = movies.merge(taglines, on=\"id\", how=\"left\")\n",
    "movies_taglines.head(5)"
   ]
  },
  {
   "cell_type": "markdown",
   "metadata": {},
   "source": [
    "The result of the merge shows a table with all of the rows from the movies table and a value for tag line where the ID column matches in both tables. Wherever there isn't a matching ID in the taglines table, a null value is entered for the tag line. Remember that pandas uses NaN to denote missing data."
   ]
  },
  {
   "cell_type": "code",
   "execution_count": 36,
   "metadata": {},
   "outputs": [
    {
     "name": "stdout",
     "output_type": "stream",
     "text": [
      "(4803, 5)\n"
     ]
    }
   ],
   "source": [
    "print(movies_taglines.shape)"
   ]
  },
  {
   "cell_type": "markdown",
   "metadata": {},
   "source": [
    "After the merge, our resulting table has 4,805 rows. This is because we are returning all of the rows of data from the movies table, and the relationship between the movies table and taglines is one-to-one. Therefore, in a one-to-one merge like this one, a left join will always return the same number rows as the left table."
   ]
  },
  {
   "cell_type": "code",
   "execution_count": 37,
   "metadata": {},
   "outputs": [],
   "source": [
    "financials = pd.read_pickle(\"../data/pandas_datasets/pandas-joins/financials.p\")"
   ]
  },
  {
   "cell_type": "code",
   "execution_count": 38,
   "metadata": {},
   "outputs": [
    {
     "name": "stdout",
     "output_type": "stream",
     "text": [
      "1574\n"
     ]
    }
   ],
   "source": [
    "# Merge the movies table with the financials table with a left join\n",
    "movies_financials = movies.merge(financials, on='id', how='left')\n",
    "\n",
    "# Count the number of rows in the budget column that are missing\n",
    "number_of_missing_fin = movies_financials['budget'].isna().sum()\n",
    "\n",
    "# Print the number of movies missing financials\n",
    "print(number_of_missing_fin)"
   ]
  },
  {
   "cell_type": "markdown",
   "metadata": {},
   "source": [
    "We see that there are at least 1,500 rows missing data."
   ]
  },
  {
   "cell_type": "markdown",
   "metadata": {},
   "source": [
    "**Note**:\n",
    "- If the goal is to enhance or enrich a dataset, then you do not want to lose any of your original data. A left join will do that by returning all of the rows of your left table, while using an inner join may result in lost data if it does not exist in both tables.\n",
    "- A left join will return all of the rows from the left table. If those rows in the left table match multiple rows in the right table, then all of those rows will be returned. Therefore, the returned rows must be equal to if not greater than the left table."
   ]
  },
  {
   "cell_type": "markdown",
   "metadata": {},
   "source": [
    "***Right Join***\n",
    "\n",
    "- It will return all of the rows from the right table and includes only those rows from the left table that have matching values. It is the mirror opposite of the left join.\n",
    "\n",
    "<img src=\"../img/right-join.jpg\" width=\"300\">"
   ]
  },
  {
   "cell_type": "markdown",
   "metadata": {},
   "source": [
    "- The movie_to_genres table contains a list of movies with their associated genres, allowing multiple genres per movie.\n",
    "\n",
    "- Filtering the data to create a subset of movies belonging to the TV Movie genre for use in a right join example.\n",
    "\n",
    "- Merging the filtered data with the movies table, setting movies as the left table and the tv_genre table as the right table. A right join is used to ensure that no data is missing from the movies table. Additionally, the merge method accounts for column name differences, where the movie ID is stored as 'id' in the movies table and 'movie_id' in the tv_genre table.\n"
   ]
  },
  {
   "cell_type": "code",
   "execution_count": 39,
   "metadata": {},
   "outputs": [
    {
     "data": {
      "text/html": [
       "<div>\n",
       "<style scoped>\n",
       "    .dataframe tbody tr th:only-of-type {\n",
       "        vertical-align: middle;\n",
       "    }\n",
       "\n",
       "    .dataframe tbody tr th {\n",
       "        vertical-align: top;\n",
       "    }\n",
       "\n",
       "    .dataframe thead th {\n",
       "        text-align: right;\n",
       "    }\n",
       "</style>\n",
       "<table border=\"1\" class=\"dataframe\">\n",
       "  <thead>\n",
       "    <tr style=\"text-align: right;\">\n",
       "      <th></th>\n",
       "      <th>movie_id</th>\n",
       "      <th>genre</th>\n",
       "    </tr>\n",
       "  </thead>\n",
       "  <tbody>\n",
       "    <tr>\n",
       "      <th>0</th>\n",
       "      <td>5</td>\n",
       "      <td>Crime</td>\n",
       "    </tr>\n",
       "    <tr>\n",
       "      <th>1</th>\n",
       "      <td>5</td>\n",
       "      <td>Comedy</td>\n",
       "    </tr>\n",
       "  </tbody>\n",
       "</table>\n",
       "</div>"
      ],
      "text/plain": [
       "   movie_id   genre\n",
       "0         5   Crime\n",
       "1         5  Comedy"
      ]
     },
     "execution_count": 39,
     "metadata": {},
     "output_type": "execute_result"
    }
   ],
   "source": [
    "tv_genre = pd.read_pickle(\"../data/pandas_datasets/pandas-joins/movie_to_genres.p\")\n",
    "tv_genre.head(2)"
   ]
  },
  {
   "cell_type": "code",
   "execution_count": 40,
   "metadata": {},
   "outputs": [
    {
     "data": {
      "text/html": [
       "<div>\n",
       "<style scoped>\n",
       "    .dataframe tbody tr th:only-of-type {\n",
       "        vertical-align: middle;\n",
       "    }\n",
       "\n",
       "    .dataframe tbody tr th {\n",
       "        vertical-align: top;\n",
       "    }\n",
       "\n",
       "    .dataframe thead th {\n",
       "        text-align: right;\n",
       "    }\n",
       "</style>\n",
       "<table border=\"1\" class=\"dataframe\">\n",
       "  <thead>\n",
       "    <tr style=\"text-align: right;\">\n",
       "      <th></th>\n",
       "      <th>id</th>\n",
       "      <th>title</th>\n",
       "      <th>popularity</th>\n",
       "      <th>release_date</th>\n",
       "      <th>movie_id</th>\n",
       "      <th>genre</th>\n",
       "    </tr>\n",
       "  </thead>\n",
       "  <tbody>\n",
       "    <tr>\n",
       "      <th>0</th>\n",
       "      <td>5</td>\n",
       "      <td>Four Rooms</td>\n",
       "      <td>22.876230</td>\n",
       "      <td>1995-12-09</td>\n",
       "      <td>5</td>\n",
       "      <td>Crime</td>\n",
       "    </tr>\n",
       "    <tr>\n",
       "      <th>1</th>\n",
       "      <td>5</td>\n",
       "      <td>Four Rooms</td>\n",
       "      <td>22.876230</td>\n",
       "      <td>1995-12-09</td>\n",
       "      <td>5</td>\n",
       "      <td>Comedy</td>\n",
       "    </tr>\n",
       "    <tr>\n",
       "      <th>2</th>\n",
       "      <td>11</td>\n",
       "      <td>Star Wars</td>\n",
       "      <td>126.393695</td>\n",
       "      <td>1977-05-25</td>\n",
       "      <td>11</td>\n",
       "      <td>Science Fiction</td>\n",
       "    </tr>\n",
       "    <tr>\n",
       "      <th>3</th>\n",
       "      <td>11</td>\n",
       "      <td>Star Wars</td>\n",
       "      <td>126.393695</td>\n",
       "      <td>1977-05-25</td>\n",
       "      <td>11</td>\n",
       "      <td>Action</td>\n",
       "    </tr>\n",
       "    <tr>\n",
       "      <th>4</th>\n",
       "      <td>11</td>\n",
       "      <td>Star Wars</td>\n",
       "      <td>126.393695</td>\n",
       "      <td>1977-05-25</td>\n",
       "      <td>11</td>\n",
       "      <td>Adventure</td>\n",
       "    </tr>\n",
       "  </tbody>\n",
       "</table>\n",
       "</div>"
      ],
      "text/plain": [
       "   id       title  popularity release_date  movie_id            genre\n",
       "0   5  Four Rooms   22.876230   1995-12-09         5            Crime\n",
       "1   5  Four Rooms   22.876230   1995-12-09         5           Comedy\n",
       "2  11   Star Wars  126.393695   1977-05-25        11  Science Fiction\n",
       "3  11   Star Wars  126.393695   1977-05-25        11           Action\n",
       "4  11   Star Wars  126.393695   1977-05-25        11        Adventure"
      ]
     },
     "execution_count": 40,
     "metadata": {},
     "output_type": "execute_result"
    }
   ],
   "source": [
    "tv_movies = movies.merge(tv_genre, how='right', left_on='id', right_on='movie_id')\n",
    "tv_movies.head(5)"
   ]
  },
  {
   "cell_type": "code",
   "execution_count": 41,
   "metadata": {},
   "outputs": [
    {
     "data": {
      "text/plain": [
       "id              0\n",
       "title           0\n",
       "popularity      0\n",
       "release_date    0\n",
       "movie_id        0\n",
       "genre           0\n",
       "dtype: int64"
      ]
     },
     "execution_count": 41,
     "metadata": {},
     "output_type": "execute_result"
    }
   ],
   "source": [
    "tv_movies.isna().sum()"
   ]
  },
  {
   "cell_type": "code",
   "execution_count": 42,
   "metadata": {},
   "outputs": [
    {
     "data": {
      "text/html": [
       "<div>\n",
       "<style scoped>\n",
       "    .dataframe tbody tr th:only-of-type {\n",
       "        vertical-align: middle;\n",
       "    }\n",
       "\n",
       "    .dataframe tbody tr th {\n",
       "        vertical-align: top;\n",
       "    }\n",
       "\n",
       "    .dataframe thead th {\n",
       "        text-align: right;\n",
       "    }\n",
       "</style>\n",
       "<table border=\"1\" class=\"dataframe\">\n",
       "  <thead>\n",
       "    <tr style=\"text-align: right;\">\n",
       "      <th></th>\n",
       "      <th>movie_id</th>\n",
       "      <th>genre</th>\n",
       "    </tr>\n",
       "  </thead>\n",
       "  <tbody>\n",
       "    <tr>\n",
       "      <th>2</th>\n",
       "      <td>11</td>\n",
       "      <td>Science Fiction</td>\n",
       "    </tr>\n",
       "    <tr>\n",
       "      <th>17</th>\n",
       "      <td>18</td>\n",
       "      <td>Science Fiction</td>\n",
       "    </tr>\n",
       "    <tr>\n",
       "      <th>20</th>\n",
       "      <td>19</td>\n",
       "      <td>Science Fiction</td>\n",
       "    </tr>\n",
       "    <tr>\n",
       "      <th>38</th>\n",
       "      <td>38</td>\n",
       "      <td>Science Fiction</td>\n",
       "    </tr>\n",
       "    <tr>\n",
       "      <th>49</th>\n",
       "      <td>62</td>\n",
       "      <td>Science Fiction</td>\n",
       "    </tr>\n",
       "  </tbody>\n",
       "</table>\n",
       "</div>"
      ],
      "text/plain": [
       "    movie_id            genre\n",
       "2         11  Science Fiction\n",
       "17        18  Science Fiction\n",
       "20        19  Science Fiction\n",
       "38        38  Science Fiction\n",
       "49        62  Science Fiction"
      ]
     },
     "execution_count": 42,
     "metadata": {},
     "output_type": "execute_result"
    }
   ],
   "source": [
    "# Subsetting only science fiction movies from tv_genre dataframe that contains movie id and the genre it belongs to\n",
    "scifi_movies = tv_genre[tv_genre['genre'] == 'Science Fiction']\n",
    "scifi_movies.head(5)"
   ]
  },
  {
   "cell_type": "code",
   "execution_count": 43,
   "metadata": {},
   "outputs": [
    {
     "data": {
      "text/html": [
       "<div>\n",
       "<style scoped>\n",
       "    .dataframe tbody tr th:only-of-type {\n",
       "        vertical-align: middle;\n",
       "    }\n",
       "\n",
       "    .dataframe tbody tr th {\n",
       "        vertical-align: top;\n",
       "    }\n",
       "\n",
       "    .dataframe thead th {\n",
       "        text-align: right;\n",
       "    }\n",
       "</style>\n",
       "<table border=\"1\" class=\"dataframe\">\n",
       "  <thead>\n",
       "    <tr style=\"text-align: right;\">\n",
       "      <th></th>\n",
       "      <th>movie_id</th>\n",
       "      <th>genre</th>\n",
       "    </tr>\n",
       "  </thead>\n",
       "  <tbody>\n",
       "    <tr>\n",
       "      <th>3</th>\n",
       "      <td>11</td>\n",
       "      <td>Action</td>\n",
       "    </tr>\n",
       "    <tr>\n",
       "      <th>14</th>\n",
       "      <td>18</td>\n",
       "      <td>Action</td>\n",
       "    </tr>\n",
       "    <tr>\n",
       "      <th>25</th>\n",
       "      <td>22</td>\n",
       "      <td>Action</td>\n",
       "    </tr>\n",
       "    <tr>\n",
       "      <th>26</th>\n",
       "      <td>24</td>\n",
       "      <td>Action</td>\n",
       "    </tr>\n",
       "    <tr>\n",
       "      <th>42</th>\n",
       "      <td>58</td>\n",
       "      <td>Action</td>\n",
       "    </tr>\n",
       "  </tbody>\n",
       "</table>\n",
       "</div>"
      ],
      "text/plain": [
       "    movie_id   genre\n",
       "3         11  Action\n",
       "14        18  Action\n",
       "25        22  Action\n",
       "26        24  Action\n",
       "42        58  Action"
      ]
     },
     "execution_count": 43,
     "metadata": {},
     "output_type": "execute_result"
    }
   ],
   "source": [
    "# Subsetting only action movies from tv_genre dataframe that contains movie id and the genre it belongs to\n",
    "action_movies = tv_genre[tv_genre['genre'] == 'Action']\n",
    "action_movies.head(5)"
   ]
  },
  {
   "cell_type": "markdown",
   "metadata": {},
   "source": [
    "Perform a **right join** to identify movies that are classified solely as science fiction. The dataset includes two tables: `scifi_movies`, containing science fiction films, and `action_movies`, listing action films. Many big-budget science fiction films also belong to the action genre, so the objective is to find movies that appear only in the `scifi_movies` table. After isolating these movies, merge the result with the movies table to retrieve the corresponding movie names. A **right join** is used to effectively filter and analyze the dataset."
   ]
  },
  {
   "cell_type": "code",
   "execution_count": 44,
   "metadata": {},
   "outputs": [
    {
     "name": "stdout",
     "output_type": "stream",
     "text": [
      "      id                         title  popularity release_date  movie_id  \\\n",
      "0  18841  The Lost Skeleton of Cadavra    1.680525   2001-09-12     18841   \n",
      "1  26672     The Thief and the Cobbler    2.439184   1993-09-23     26672   \n",
      "2  15301      Twilight Zone: The Movie   12.902975   1983-06-24     15301   \n",
      "3   8452                   The 6th Day   18.447479   2000-11-17      8452   \n",
      "4   1649    Bill & Ted's Bogus Journey   11.349664   1991-07-19      1649   \n",
      "\n",
      "  genre_act        genre_sci  \n",
      "0       NaN  Science Fiction  \n",
      "1       NaN  Science Fiction  \n",
      "2       NaN  Science Fiction  \n",
      "3       NaN  Science Fiction  \n",
      "4       NaN  Science Fiction  \n",
      "(258, 7)\n"
     ]
    }
   ],
   "source": [
    "# Merge action_movies to the scifi_movies with right join\n",
    "action_scifi = action_movies.merge(scifi_movies, on='movie_id', how='right',\n",
    "                                   suffixes=('_act','_sci'))\n",
    "\n",
    "# From action_scifi, select only the rows where the genre_act column is null\n",
    "scifi_only = action_scifi[action_scifi['genre_act'].isnull()]\n",
    "\n",
    "# Merge the movies and scifi_only tables with an inner join\n",
    "movies_and_scifi_only = movies.merge(scifi_only, left_on='id', right_on='movie_id', how='inner')\n",
    "\n",
    "# Print the first few rows and shape of movies_and_scifi_only\n",
    "print(movies_and_scifi_only.head())\n",
    "print(movies_and_scifi_only.shape)"
   ]
  },
  {
   "cell_type": "markdown",
   "metadata": {},
   "source": [
    "***Popular genres with right join***\n"
   ]
  },
  {
   "cell_type": "code",
   "execution_count": 45,
   "metadata": {},
   "outputs": [
    {
     "data": {
      "text/html": [
       "<div>\n",
       "<style scoped>\n",
       "    .dataframe tbody tr th:only-of-type {\n",
       "        vertical-align: middle;\n",
       "    }\n",
       "\n",
       "    .dataframe tbody tr th {\n",
       "        vertical-align: top;\n",
       "    }\n",
       "\n",
       "    .dataframe thead th {\n",
       "        text-align: right;\n",
       "    }\n",
       "</style>\n",
       "<table border=\"1\" class=\"dataframe\">\n",
       "  <thead>\n",
       "    <tr style=\"text-align: right;\">\n",
       "      <th></th>\n",
       "      <th>id</th>\n",
       "      <th>title</th>\n",
       "      <th>popularity</th>\n",
       "      <th>release_date</th>\n",
       "    </tr>\n",
       "  </thead>\n",
       "  <tbody>\n",
       "    <tr>\n",
       "      <th>0</th>\n",
       "      <td>211672</td>\n",
       "      <td>Minions</td>\n",
       "      <td>875.581305</td>\n",
       "      <td>2015-06-17</td>\n",
       "    </tr>\n",
       "    <tr>\n",
       "      <th>1</th>\n",
       "      <td>157336</td>\n",
       "      <td>Interstellar</td>\n",
       "      <td>724.247784</td>\n",
       "      <td>2014-11-05</td>\n",
       "    </tr>\n",
       "    <tr>\n",
       "      <th>2</th>\n",
       "      <td>293660</td>\n",
       "      <td>Deadpool</td>\n",
       "      <td>514.569956</td>\n",
       "      <td>2016-02-09</td>\n",
       "    </tr>\n",
       "    <tr>\n",
       "      <th>3</th>\n",
       "      <td>118340</td>\n",
       "      <td>Guardians of the Galaxy</td>\n",
       "      <td>481.098624</td>\n",
       "      <td>2014-07-30</td>\n",
       "    </tr>\n",
       "    <tr>\n",
       "      <th>4</th>\n",
       "      <td>76341</td>\n",
       "      <td>Mad Max: Fury Road</td>\n",
       "      <td>434.278564</td>\n",
       "      <td>2015-05-13</td>\n",
       "    </tr>\n",
       "    <tr>\n",
       "      <th>5</th>\n",
       "      <td>135397</td>\n",
       "      <td>Jurassic World</td>\n",
       "      <td>418.708552</td>\n",
       "      <td>2015-06-09</td>\n",
       "    </tr>\n",
       "    <tr>\n",
       "      <th>6</th>\n",
       "      <td>22</td>\n",
       "      <td>Pirates of the Caribbean: The Curse of the Bla...</td>\n",
       "      <td>271.972889</td>\n",
       "      <td>2003-07-09</td>\n",
       "    </tr>\n",
       "    <tr>\n",
       "      <th>7</th>\n",
       "      <td>119450</td>\n",
       "      <td>Dawn of the Planet of the Apes</td>\n",
       "      <td>243.791743</td>\n",
       "      <td>2014-06-26</td>\n",
       "    </tr>\n",
       "    <tr>\n",
       "      <th>8</th>\n",
       "      <td>131631</td>\n",
       "      <td>The Hunger Games: Mockingjay - Part 1</td>\n",
       "      <td>206.227151</td>\n",
       "      <td>2014-11-18</td>\n",
       "    </tr>\n",
       "    <tr>\n",
       "      <th>9</th>\n",
       "      <td>177572</td>\n",
       "      <td>Big Hero 6</td>\n",
       "      <td>203.734590</td>\n",
       "      <td>2014-10-24</td>\n",
       "    </tr>\n",
       "  </tbody>\n",
       "</table>\n",
       "</div>"
      ],
      "text/plain": [
       "       id                                              title  popularity  \\\n",
       "0  211672                                            Minions  875.581305   \n",
       "1  157336                                       Interstellar  724.247784   \n",
       "2  293660                                           Deadpool  514.569956   \n",
       "3  118340                            Guardians of the Galaxy  481.098624   \n",
       "4   76341                                 Mad Max: Fury Road  434.278564   \n",
       "5  135397                                     Jurassic World  418.708552   \n",
       "6      22  Pirates of the Caribbean: The Curse of the Bla...  271.972889   \n",
       "7  119450                     Dawn of the Planet of the Apes  243.791743   \n",
       "8  131631              The Hunger Games: Mockingjay - Part 1  206.227151   \n",
       "9  177572                                         Big Hero 6  203.734590   \n",
       "\n",
       "  release_date  \n",
       "0   2015-06-17  \n",
       "1   2014-11-05  \n",
       "2   2016-02-09  \n",
       "3   2014-07-30  \n",
       "4   2015-05-13  \n",
       "5   2015-06-09  \n",
       "6   2003-07-09  \n",
       "7   2014-06-26  \n",
       "8   2014-11-18  \n",
       "9   2014-10-24  "
      ]
     },
     "execution_count": 45,
     "metadata": {},
     "output_type": "execute_result"
    }
   ],
   "source": [
    "# the top 10 most popular movies in the movies table have been selected assigned to pop_movies dataframe\n",
    "pop_movies = movies.sort_values(by='popularity', ascending=False).head(10).reset_index(drop=True)\n",
    "pop_movies"
   ]
  },
  {
   "cell_type": "code",
   "execution_count": 46,
   "metadata": {},
   "outputs": [
    {
     "data": {
      "text/html": [
       "<div>\n",
       "<style scoped>\n",
       "    .dataframe tbody tr th:only-of-type {\n",
       "        vertical-align: middle;\n",
       "    }\n",
       "\n",
       "    .dataframe tbody tr th {\n",
       "        vertical-align: top;\n",
       "    }\n",
       "\n",
       "    .dataframe thead th {\n",
       "        text-align: right;\n",
       "    }\n",
       "</style>\n",
       "<table border=\"1\" class=\"dataframe\">\n",
       "  <thead>\n",
       "    <tr style=\"text-align: right;\">\n",
       "      <th></th>\n",
       "      <th>movie_id</th>\n",
       "      <th>genre</th>\n",
       "      <th>id</th>\n",
       "      <th>title</th>\n",
       "      <th>popularity</th>\n",
       "      <th>release_date</th>\n",
       "    </tr>\n",
       "  </thead>\n",
       "  <tbody>\n",
       "    <tr>\n",
       "      <th>0</th>\n",
       "      <td>211672</td>\n",
       "      <td>Comedy</td>\n",
       "      <td>211672</td>\n",
       "      <td>Minions</td>\n",
       "      <td>875.581305</td>\n",
       "      <td>2015-06-17</td>\n",
       "    </tr>\n",
       "    <tr>\n",
       "      <th>1</th>\n",
       "      <td>211672</td>\n",
       "      <td>Adventure</td>\n",
       "      <td>211672</td>\n",
       "      <td>Minions</td>\n",
       "      <td>875.581305</td>\n",
       "      <td>2015-06-17</td>\n",
       "    </tr>\n",
       "    <tr>\n",
       "      <th>2</th>\n",
       "      <td>211672</td>\n",
       "      <td>Animation</td>\n",
       "      <td>211672</td>\n",
       "      <td>Minions</td>\n",
       "      <td>875.581305</td>\n",
       "      <td>2015-06-17</td>\n",
       "    </tr>\n",
       "    <tr>\n",
       "      <th>3</th>\n",
       "      <td>211672</td>\n",
       "      <td>Family</td>\n",
       "      <td>211672</td>\n",
       "      <td>Minions</td>\n",
       "      <td>875.581305</td>\n",
       "      <td>2015-06-17</td>\n",
       "    </tr>\n",
       "    <tr>\n",
       "      <th>4</th>\n",
       "      <td>157336</td>\n",
       "      <td>Drama</td>\n",
       "      <td>157336</td>\n",
       "      <td>Interstellar</td>\n",
       "      <td>724.247784</td>\n",
       "      <td>2014-11-05</td>\n",
       "    </tr>\n",
       "  </tbody>\n",
       "</table>\n",
       "</div>"
      ],
      "text/plain": [
       "   movie_id      genre      id         title  popularity release_date\n",
       "0    211672     Comedy  211672       Minions  875.581305   2015-06-17\n",
       "1    211672  Adventure  211672       Minions  875.581305   2015-06-17\n",
       "2    211672  Animation  211672       Minions  875.581305   2015-06-17\n",
       "3    211672     Family  211672       Minions  875.581305   2015-06-17\n",
       "4    157336      Drama  157336  Interstellar  724.247784   2014-11-05"
      ]
     },
     "execution_count": 46,
     "metadata": {},
     "output_type": "execute_result"
    }
   ],
   "source": [
    "# merging pop_movies with tv_genre using right join to get the genres of the top 10 popular movies\n",
    "genres_movies = tv_genre.merge(pop_movies, how='right', left_on='movie_id', right_on='id')\n",
    "genres_movies.head(5)"
   ]
  },
  {
   "cell_type": "code",
   "execution_count": 47,
   "metadata": {},
   "outputs": [
    {
     "data": {
      "text/html": [
       "<div>\n",
       "<style scoped>\n",
       "    .dataframe tbody tr th:only-of-type {\n",
       "        vertical-align: middle;\n",
       "    }\n",
       "\n",
       "    .dataframe tbody tr th {\n",
       "        vertical-align: top;\n",
       "    }\n",
       "\n",
       "    .dataframe thead th {\n",
       "        text-align: right;\n",
       "    }\n",
       "</style>\n",
       "<table border=\"1\" class=\"dataframe\">\n",
       "  <thead>\n",
       "    <tr style=\"text-align: right;\">\n",
       "      <th></th>\n",
       "      <th>id</th>\n",
       "    </tr>\n",
       "    <tr>\n",
       "      <th>genre</th>\n",
       "      <th></th>\n",
       "    </tr>\n",
       "  </thead>\n",
       "  <tbody>\n",
       "    <tr>\n",
       "      <th>Action</th>\n",
       "      <td>7</td>\n",
       "    </tr>\n",
       "    <tr>\n",
       "      <th>Adventure</th>\n",
       "      <td>9</td>\n",
       "    </tr>\n",
       "    <tr>\n",
       "      <th>Animation</th>\n",
       "      <td>2</td>\n",
       "    </tr>\n",
       "    <tr>\n",
       "      <th>Comedy</th>\n",
       "      <td>3</td>\n",
       "    </tr>\n",
       "    <tr>\n",
       "      <th>Drama</th>\n",
       "      <td>2</td>\n",
       "    </tr>\n",
       "    <tr>\n",
       "      <th>Family</th>\n",
       "      <td>2</td>\n",
       "    </tr>\n",
       "    <tr>\n",
       "      <th>Fantasy</th>\n",
       "      <td>1</td>\n",
       "    </tr>\n",
       "    <tr>\n",
       "      <th>Science Fiction</th>\n",
       "      <td>6</td>\n",
       "    </tr>\n",
       "    <tr>\n",
       "      <th>Thriller</th>\n",
       "      <td>4</td>\n",
       "    </tr>\n",
       "  </tbody>\n",
       "</table>\n",
       "</div>"
      ],
      "text/plain": [
       "                 id\n",
       "genre              \n",
       "Action            7\n",
       "Adventure         9\n",
       "Animation         2\n",
       "Comedy            3\n",
       "Drama             2\n",
       "Family            2\n",
       "Fantasy           1\n",
       "Science Fiction   6\n",
       "Thriller          4"
      ]
     },
     "execution_count": 47,
     "metadata": {},
     "output_type": "execute_result"
    }
   ],
   "source": [
    "# counting the number of popular movies \n",
    "genre_count = genres_movies.groupby('genre').agg({'id':'count'})\n",
    "genre_count"
   ]
  },
  {
   "cell_type": "code",
   "execution_count": 48,
   "metadata": {},
   "outputs": [
    {
     "data": {
      "image/png": "[encoded data removed]",
      "text/plain": [
       "<Figure size 640x480 with 1 Axes>"
      ]
     },
     "metadata": {},
     "output_type": "display_data"
    }
   ],
   "source": [
    "# Plot a bar chart of the genre_count\n",
    "import matplotlib.pyplot as plt\n",
    "genre_count.plot(kind='bar')\n",
    "plt.show()"
   ]
  },
  {
   "cell_type": "markdown",
   "metadata": {},
   "source": [
    "***Outer Join***\n",
    "\n",
    "An outer join will return all of the rows from both tables regardless if there is a match between the tables.\n",
    "\n",
    "<img src=\"../img/outer-join.jpg\" width=\"300\">\n",
    "\n",
    "***Using outer join to select actors***"
   ]
  },
  {
   "cell_type": "markdown",
   "metadata": {},
   "source": [
    "***Self Join***\n",
    "\n",
    "<img src='../img/self-join.jpg' width='700'>\n",
    "\n",
    "When to merge a table to itself\n",
    "\n",
    "- Hierarchical relationships\n",
    "- Sequential relationships\n",
    "- Graph data"
   ]
  },
  {
   "cell_type": "markdown",
   "metadata": {},
   "source": [
    "Merging a table with itself is useful for comparing values within the same column. In this task, a new table is created where each movie is associated with both its director and a crew member in a single row. The dataset consists of a crews table with columns: id, job, and name.\n",
    "\n",
    "The process involves:\n",
    "\n",
    "- Performing a self-merge on the crews table using the movie ID.\n",
    "- Creating a larger dataset where every job is matched with every other job for the same movie.\n",
    "- Filtering the results to retain only rows where the left table contains a director, while ensuring that the director’s job is not repeated in both the left and right tables.\n",
    "\n",
    "This filtering step removes unwanted job combinations that do not involve a director."
   ]
  },
  {
   "cell_type": "code",
   "execution_count": 49,
   "metadata": {},
   "outputs": [
    {
     "data": {
      "text/html": [
       "<div>\n",
       "<style scoped>\n",
       "    .dataframe tbody tr th:only-of-type {\n",
       "        vertical-align: middle;\n",
       "    }\n",
       "\n",
       "    .dataframe tbody tr th {\n",
       "        vertical-align: top;\n",
       "    }\n",
       "\n",
       "    .dataframe thead th {\n",
       "        text-align: right;\n",
       "    }\n",
       "</style>\n",
       "<table border=\"1\" class=\"dataframe\">\n",
       "  <thead>\n",
       "    <tr style=\"text-align: right;\">\n",
       "      <th></th>\n",
       "      <th>id</th>\n",
       "      <th>department</th>\n",
       "      <th>job</th>\n",
       "      <th>name</th>\n",
       "    </tr>\n",
       "  </thead>\n",
       "  <tbody>\n",
       "    <tr>\n",
       "      <th>0</th>\n",
       "      <td>19995</td>\n",
       "      <td>Editing</td>\n",
       "      <td>Editor</td>\n",
       "      <td>Stephen E. Rivkin</td>\n",
       "    </tr>\n",
       "    <tr>\n",
       "      <th>2</th>\n",
       "      <td>19995</td>\n",
       "      <td>Sound</td>\n",
       "      <td>Sound Designer</td>\n",
       "      <td>Christopher Boyes</td>\n",
       "    </tr>\n",
       "    <tr>\n",
       "      <th>4</th>\n",
       "      <td>19995</td>\n",
       "      <td>Production</td>\n",
       "      <td>Casting</td>\n",
       "      <td>Mali Finn</td>\n",
       "    </tr>\n",
       "    <tr>\n",
       "      <th>6</th>\n",
       "      <td>19995</td>\n",
       "      <td>Directing</td>\n",
       "      <td>Director</td>\n",
       "      <td>James Cameron</td>\n",
       "    </tr>\n",
       "    <tr>\n",
       "      <th>7</th>\n",
       "      <td>19995</td>\n",
       "      <td>Writing</td>\n",
       "      <td>Writer</td>\n",
       "      <td>James Cameron</td>\n",
       "    </tr>\n",
       "  </tbody>\n",
       "</table>\n",
       "</div>"
      ],
      "text/plain": [
       "      id  department             job               name\n",
       "0  19995     Editing          Editor  Stephen E. Rivkin\n",
       "2  19995       Sound  Sound Designer  Christopher Boyes\n",
       "4  19995  Production         Casting          Mali Finn\n",
       "6  19995   Directing        Director      James Cameron\n",
       "7  19995     Writing          Writer      James Cameron"
      ]
     },
     "execution_count": 49,
     "metadata": {},
     "output_type": "execute_result"
    }
   ],
   "source": [
    "crews = pd.read_pickle('../data/pandas_datasets/pandas-joins/crews.p')\n",
    "crews.head(5)"
   ]
  },
  {
   "cell_type": "code",
   "execution_count": 50,
   "metadata": {},
   "outputs": [
    {
     "data": {
      "text/html": [
       "<div>\n",
       "<style scoped>\n",
       "    .dataframe tbody tr th:only-of-type {\n",
       "        vertical-align: middle;\n",
       "    }\n",
       "\n",
       "    .dataframe tbody tr th {\n",
       "        vertical-align: top;\n",
       "    }\n",
       "\n",
       "    .dataframe thead th {\n",
       "        text-align: right;\n",
       "    }\n",
       "</style>\n",
       "<table border=\"1\" class=\"dataframe\">\n",
       "  <thead>\n",
       "    <tr style=\"text-align: right;\">\n",
       "      <th></th>\n",
       "      <th>id</th>\n",
       "      <th>job</th>\n",
       "      <th>name</th>\n",
       "    </tr>\n",
       "  </thead>\n",
       "  <tbody>\n",
       "    <tr>\n",
       "      <th>0</th>\n",
       "      <td>19995</td>\n",
       "      <td>Editor</td>\n",
       "      <td>Stephen E. Rivkin</td>\n",
       "    </tr>\n",
       "    <tr>\n",
       "      <th>2</th>\n",
       "      <td>19995</td>\n",
       "      <td>Sound Designer</td>\n",
       "      <td>Christopher Boyes</td>\n",
       "    </tr>\n",
       "    <tr>\n",
       "      <th>4</th>\n",
       "      <td>19995</td>\n",
       "      <td>Casting</td>\n",
       "      <td>Mali Finn</td>\n",
       "    </tr>\n",
       "    <tr>\n",
       "      <th>6</th>\n",
       "      <td>19995</td>\n",
       "      <td>Director</td>\n",
       "      <td>James Cameron</td>\n",
       "    </tr>\n",
       "    <tr>\n",
       "      <th>7</th>\n",
       "      <td>19995</td>\n",
       "      <td>Writer</td>\n",
       "      <td>James Cameron</td>\n",
       "    </tr>\n",
       "    <tr>\n",
       "      <th>...</th>\n",
       "      <td>...</td>\n",
       "      <td>...</td>\n",
       "      <td>...</td>\n",
       "    </tr>\n",
       "    <tr>\n",
       "      <th>129574</th>\n",
       "      <td>126186</td>\n",
       "      <td>Director</td>\n",
       "      <td>Daniel Hsia</td>\n",
       "    </tr>\n",
       "    <tr>\n",
       "      <th>129576</th>\n",
       "      <td>25975</td>\n",
       "      <td>Executive Producer</td>\n",
       "      <td>Clark Peterson</td>\n",
       "    </tr>\n",
       "    <tr>\n",
       "      <th>129578</th>\n",
       "      <td>25975</td>\n",
       "      <td>Director</td>\n",
       "      <td>Brian Herzlinger</td>\n",
       "    </tr>\n",
       "    <tr>\n",
       "      <th>129579</th>\n",
       "      <td>25975</td>\n",
       "      <td>Director</td>\n",
       "      <td>Jon Gunn</td>\n",
       "    </tr>\n",
       "    <tr>\n",
       "      <th>129580</th>\n",
       "      <td>25975</td>\n",
       "      <td>Director</td>\n",
       "      <td>Brett Winn</td>\n",
       "    </tr>\n",
       "  </tbody>\n",
       "</table>\n",
       "<p>42502 rows × 3 columns</p>\n",
       "</div>"
      ],
      "text/plain": [
       "            id                 job               name\n",
       "0        19995              Editor  Stephen E. Rivkin\n",
       "2        19995      Sound Designer  Christopher Boyes\n",
       "4        19995             Casting          Mali Finn\n",
       "6        19995            Director      James Cameron\n",
       "7        19995              Writer      James Cameron\n",
       "...        ...                 ...                ...\n",
       "129574  126186            Director        Daniel Hsia\n",
       "129576   25975  Executive Producer     Clark Peterson\n",
       "129578   25975            Director   Brian Herzlinger\n",
       "129579   25975            Director           Jon Gunn\n",
       "129580   25975            Director         Brett Winn\n",
       "\n",
       "[42502 rows x 3 columns]"
      ]
     },
     "execution_count": 50,
     "metadata": {},
     "output_type": "execute_result"
    }
   ],
   "source": [
    "crews_df = crews.drop(columns=['department'])\n",
    "crews_df"
   ]
  },
  {
   "cell_type": "code",
   "execution_count": 51,
   "metadata": {},
   "outputs": [],
   "source": [
    "# Merge the crews table to itself\n",
    "crews_self_merged = crews_df.merge(crews_df, on='id', how='inner',\n",
    "                                suffixes=('_dir','_crew'))"
   ]
  },
  {
   "cell_type": "code",
   "execution_count": 52,
   "metadata": {},
   "outputs": [
    {
     "data": {
      "text/html": [
       "<div>\n",
       "<style scoped>\n",
       "    .dataframe tbody tr th:only-of-type {\n",
       "        vertical-align: middle;\n",
       "    }\n",
       "\n",
       "    .dataframe tbody tr th {\n",
       "        vertical-align: top;\n",
       "    }\n",
       "\n",
       "    .dataframe thead th {\n",
       "        text-align: right;\n",
       "    }\n",
       "</style>\n",
       "<table border=\"1\" class=\"dataframe\">\n",
       "  <thead>\n",
       "    <tr style=\"text-align: right;\">\n",
       "      <th></th>\n",
       "      <th>id</th>\n",
       "      <th>job_dir</th>\n",
       "      <th>name_dir</th>\n",
       "      <th>job_crew</th>\n",
       "      <th>name_crew</th>\n",
       "    </tr>\n",
       "  </thead>\n",
       "  <tbody>\n",
       "    <tr>\n",
       "      <th>0</th>\n",
       "      <td>19995</td>\n",
       "      <td>Editor</td>\n",
       "      <td>Stephen E. Rivkin</td>\n",
       "      <td>Editor</td>\n",
       "      <td>Stephen E. Rivkin</td>\n",
       "    </tr>\n",
       "    <tr>\n",
       "      <th>1</th>\n",
       "      <td>19995</td>\n",
       "      <td>Editor</td>\n",
       "      <td>Stephen E. Rivkin</td>\n",
       "      <td>Sound Designer</td>\n",
       "      <td>Christopher Boyes</td>\n",
       "    </tr>\n",
       "    <tr>\n",
       "      <th>2</th>\n",
       "      <td>19995</td>\n",
       "      <td>Editor</td>\n",
       "      <td>Stephen E. Rivkin</td>\n",
       "      <td>Casting</td>\n",
       "      <td>Mali Finn</td>\n",
       "    </tr>\n",
       "    <tr>\n",
       "      <th>3</th>\n",
       "      <td>19995</td>\n",
       "      <td>Editor</td>\n",
       "      <td>Stephen E. Rivkin</td>\n",
       "      <td>Director</td>\n",
       "      <td>James Cameron</td>\n",
       "    </tr>\n",
       "    <tr>\n",
       "      <th>4</th>\n",
       "      <td>19995</td>\n",
       "      <td>Editor</td>\n",
       "      <td>Stephen E. Rivkin</td>\n",
       "      <td>Writer</td>\n",
       "      <td>James Cameron</td>\n",
       "    </tr>\n",
       "    <tr>\n",
       "      <th>...</th>\n",
       "      <td>...</td>\n",
       "      <td>...</td>\n",
       "      <td>...</td>\n",
       "      <td>...</td>\n",
       "      <td>...</td>\n",
       "    </tr>\n",
       "    <tr>\n",
       "      <th>834189</th>\n",
       "      <td>25975</td>\n",
       "      <td>Director</td>\n",
       "      <td>Jon Gunn</td>\n",
       "      <td>Director</td>\n",
       "      <td>Brett Winn</td>\n",
       "    </tr>\n",
       "    <tr>\n",
       "      <th>834190</th>\n",
       "      <td>25975</td>\n",
       "      <td>Director</td>\n",
       "      <td>Brett Winn</td>\n",
       "      <td>Executive Producer</td>\n",
       "      <td>Clark Peterson</td>\n",
       "    </tr>\n",
       "    <tr>\n",
       "      <th>834191</th>\n",
       "      <td>25975</td>\n",
       "      <td>Director</td>\n",
       "      <td>Brett Winn</td>\n",
       "      <td>Director</td>\n",
       "      <td>Brian Herzlinger</td>\n",
       "    </tr>\n",
       "    <tr>\n",
       "      <th>834192</th>\n",
       "      <td>25975</td>\n",
       "      <td>Director</td>\n",
       "      <td>Brett Winn</td>\n",
       "      <td>Director</td>\n",
       "      <td>Jon Gunn</td>\n",
       "    </tr>\n",
       "    <tr>\n",
       "      <th>834193</th>\n",
       "      <td>25975</td>\n",
       "      <td>Director</td>\n",
       "      <td>Brett Winn</td>\n",
       "      <td>Director</td>\n",
       "      <td>Brett Winn</td>\n",
       "    </tr>\n",
       "  </tbody>\n",
       "</table>\n",
       "<p>834194 rows × 5 columns</p>\n",
       "</div>"
      ],
      "text/plain": [
       "           id   job_dir           name_dir            job_crew  \\\n",
       "0       19995    Editor  Stephen E. Rivkin              Editor   \n",
       "1       19995    Editor  Stephen E. Rivkin      Sound Designer   \n",
       "2       19995    Editor  Stephen E. Rivkin             Casting   \n",
       "3       19995    Editor  Stephen E. Rivkin            Director   \n",
       "4       19995    Editor  Stephen E. Rivkin              Writer   \n",
       "...       ...       ...                ...                 ...   \n",
       "834189  25975  Director           Jon Gunn            Director   \n",
       "834190  25975  Director         Brett Winn  Executive Producer   \n",
       "834191  25975  Director         Brett Winn            Director   \n",
       "834192  25975  Director         Brett Winn            Director   \n",
       "834193  25975  Director         Brett Winn            Director   \n",
       "\n",
       "                name_crew  \n",
       "0       Stephen E. Rivkin  \n",
       "1       Christopher Boyes  \n",
       "2               Mali Finn  \n",
       "3           James Cameron  \n",
       "4           James Cameron  \n",
       "...                   ...  \n",
       "834189         Brett Winn  \n",
       "834190     Clark Peterson  \n",
       "834191   Brian Herzlinger  \n",
       "834192           Jon Gunn  \n",
       "834193         Brett Winn  \n",
       "\n",
       "[834194 rows x 5 columns]"
      ]
     },
     "execution_count": 52,
     "metadata": {},
     "output_type": "execute_result"
    }
   ],
   "source": [
    "crews_self_merged"
   ]
  },
  {
   "cell_type": "code",
   "execution_count": 53,
   "metadata": {},
   "outputs": [],
   "source": [
    "# Create a boolean index to select the appropriate rows\n",
    "boolean_filter = ((crews_self_merged['job_dir'] == 'Director') & \n",
    "                  (crews_self_merged['job_crew'] != 'Director'))\n",
    "direct_crews = crews_self_merged[boolean_filter]"
   ]
  },
  {
   "cell_type": "code",
   "execution_count": 54,
   "metadata": {},
   "outputs": [
    {
     "name": "stdout",
     "output_type": "stream",
     "text": [
      "        id   job_dir       name_dir        job_crew          name_crew\n",
      "156  19995  Director  James Cameron          Editor  Stephen E. Rivkin\n",
      "157  19995  Director  James Cameron  Sound Designer  Christopher Boyes\n",
      "158  19995  Director  James Cameron         Casting          Mali Finn\n",
      "160  19995  Director  James Cameron          Writer      James Cameron\n",
      "161  19995  Director  James Cameron    Set Designer    Richard F. Mays\n"
     ]
    }
   ],
   "source": [
    "# Print the first few rows of direct_crews\n",
    "print(direct_crews.head())"
   ]
  },
  {
   "cell_type": "markdown",
   "metadata": {},
   "source": [
    "With the output, we can quickly see different movie directors and the people they worked with in the same movie."
   ]
  },
  {
   "cell_type": "markdown",
   "metadata": {},
   "source": [
    "***Merging on Indexes***\n",
    "- Merge tables using their indexes - Often, the DataFrame indexes are given a unique id that we can use when merging two tables together.\n"
   ]
  },
  {
   "cell_type": "code",
   "execution_count": 55,
   "metadata": {},
   "outputs": [
    {
     "data": {
      "text/html": [
       "<div>\n",
       "<style scoped>\n",
       "    .dataframe tbody tr th:only-of-type {\n",
       "        vertical-align: middle;\n",
       "    }\n",
       "\n",
       "    .dataframe tbody tr th {\n",
       "        vertical-align: top;\n",
       "    }\n",
       "\n",
       "    .dataframe thead th {\n",
       "        text-align: right;\n",
       "    }\n",
       "</style>\n",
       "<table border=\"1\" class=\"dataframe\">\n",
       "  <thead>\n",
       "    <tr style=\"text-align: right;\">\n",
       "      <th></th>\n",
       "      <th>vote_average</th>\n",
       "      <th>vote_count</th>\n",
       "    </tr>\n",
       "    <tr>\n",
       "      <th>id</th>\n",
       "      <th></th>\n",
       "      <th></th>\n",
       "    </tr>\n",
       "  </thead>\n",
       "  <tbody>\n",
       "    <tr>\n",
       "      <th>19995</th>\n",
       "      <td>7.2</td>\n",
       "      <td>11800.0</td>\n",
       "    </tr>\n",
       "    <tr>\n",
       "      <th>285</th>\n",
       "      <td>6.9</td>\n",
       "      <td>4500.0</td>\n",
       "    </tr>\n",
       "    <tr>\n",
       "      <th>206647</th>\n",
       "      <td>6.3</td>\n",
       "      <td>4466.0</td>\n",
       "    </tr>\n",
       "    <tr>\n",
       "      <th>49026</th>\n",
       "      <td>7.6</td>\n",
       "      <td>9106.0</td>\n",
       "    </tr>\n",
       "    <tr>\n",
       "      <th>49529</th>\n",
       "      <td>6.1</td>\n",
       "      <td>2124.0</td>\n",
       "    </tr>\n",
       "  </tbody>\n",
       "</table>\n",
       "</div>"
      ],
      "text/plain": [
       "        vote_average  vote_count\n",
       "id                              \n",
       "19995            7.2     11800.0\n",
       "285              6.9      4500.0\n",
       "206647           6.3      4466.0\n",
       "49026            7.6      9106.0\n",
       "49529            6.1      2124.0"
      ]
     },
     "execution_count": 55,
     "metadata": {},
     "output_type": "execute_result"
    }
   ],
   "source": [
    "# Getting the ratings pickle file into pandas dataframe and setting the id column as index.\n",
    "# As it's a pickle file we're using set_index() to set the index. If it was a CSV index_col argument can be used while reading the csv.\n",
    "ratings = pd.read_pickle(\"../data/pandas_datasets/pandas-joins/ratings.p\")\n",
    "ratings = ratings.set_index('id')\n",
    "ratings.head(5)"
   ]
  },
  {
   "cell_type": "code",
   "execution_count": 56,
   "metadata": {},
   "outputs": [
    {
     "data": {
      "text/html": [
       "<div>\n",
       "<style scoped>\n",
       "    .dataframe tbody tr th:only-of-type {\n",
       "        vertical-align: middle;\n",
       "    }\n",
       "\n",
       "    .dataframe tbody tr th {\n",
       "        vertical-align: top;\n",
       "    }\n",
       "\n",
       "    .dataframe thead th {\n",
       "        text-align: right;\n",
       "    }\n",
       "</style>\n",
       "<table border=\"1\" class=\"dataframe\">\n",
       "  <thead>\n",
       "    <tr style=\"text-align: right;\">\n",
       "      <th></th>\n",
       "      <th>title</th>\n",
       "      <th>popularity</th>\n",
       "      <th>release_date</th>\n",
       "    </tr>\n",
       "    <tr>\n",
       "      <th>id</th>\n",
       "      <th></th>\n",
       "      <th></th>\n",
       "      <th></th>\n",
       "    </tr>\n",
       "  </thead>\n",
       "  <tbody>\n",
       "    <tr>\n",
       "      <th>257</th>\n",
       "      <td>Oliver Twist</td>\n",
       "      <td>20.415572</td>\n",
       "      <td>2005-09-23</td>\n",
       "    </tr>\n",
       "    <tr>\n",
       "      <th>14290</th>\n",
       "      <td>Better Luck Tomorrow</td>\n",
       "      <td>3.877036</td>\n",
       "      <td>2002-01-12</td>\n",
       "    </tr>\n",
       "    <tr>\n",
       "      <th>38365</th>\n",
       "      <td>Grown Ups</td>\n",
       "      <td>38.864027</td>\n",
       "      <td>2010-06-24</td>\n",
       "    </tr>\n",
       "    <tr>\n",
       "      <th>9672</th>\n",
       "      <td>Infamous</td>\n",
       "      <td>3.680896</td>\n",
       "      <td>2006-11-16</td>\n",
       "    </tr>\n",
       "    <tr>\n",
       "      <th>12819</th>\n",
       "      <td>Alpha and Omega</td>\n",
       "      <td>12.300789</td>\n",
       "      <td>2010-09-17</td>\n",
       "    </tr>\n",
       "    <tr>\n",
       "      <th>...</th>\n",
       "      <td>...</td>\n",
       "      <td>...</td>\n",
       "      <td>...</td>\n",
       "    </tr>\n",
       "    <tr>\n",
       "      <th>3089</th>\n",
       "      <td>Red River</td>\n",
       "      <td>5.344815</td>\n",
       "      <td>1948-08-26</td>\n",
       "    </tr>\n",
       "    <tr>\n",
       "      <th>11934</th>\n",
       "      <td>The Hudsucker Proxy</td>\n",
       "      <td>14.188982</td>\n",
       "      <td>1994-03-11</td>\n",
       "    </tr>\n",
       "    <tr>\n",
       "      <th>13807</th>\n",
       "      <td>Exiled</td>\n",
       "      <td>8.486390</td>\n",
       "      <td>2006-09-06</td>\n",
       "    </tr>\n",
       "    <tr>\n",
       "      <th>73873</th>\n",
       "      <td>Albert Nobbs</td>\n",
       "      <td>7.802245</td>\n",
       "      <td>2011-12-21</td>\n",
       "    </tr>\n",
       "    <tr>\n",
       "      <th>11622</th>\n",
       "      <td>Blast from the Past</td>\n",
       "      <td>8.737058</td>\n",
       "      <td>1999-02-12</td>\n",
       "    </tr>\n",
       "  </tbody>\n",
       "</table>\n",
       "<p>4803 rows × 3 columns</p>\n",
       "</div>"
      ],
      "text/plain": [
       "                      title  popularity release_date\n",
       "id                                                  \n",
       "257            Oliver Twist   20.415572   2005-09-23\n",
       "14290  Better Luck Tomorrow    3.877036   2002-01-12\n",
       "38365             Grown Ups   38.864027   2010-06-24\n",
       "9672               Infamous    3.680896   2006-11-16\n",
       "12819       Alpha and Omega   12.300789   2010-09-17\n",
       "...                     ...         ...          ...\n",
       "3089              Red River    5.344815   1948-08-26\n",
       "11934   The Hudsucker Proxy   14.188982   1994-03-11\n",
       "13807                Exiled    8.486390   2006-09-06\n",
       "73873          Albert Nobbs    7.802245   2011-12-21\n",
       "11622   Blast from the Past    8.737058   1999-02-12\n",
       "\n",
       "[4803 rows x 3 columns]"
      ]
     },
     "execution_count": 56,
     "metadata": {},
     "output_type": "execute_result"
    }
   ],
   "source": [
    "movies_index = movies.set_index('id')\n",
    "movies_index"
   ]
  },
  {
   "cell_type": "code",
   "execution_count": 57,
   "metadata": {},
   "outputs": [
    {
     "name": "stdout",
     "output_type": "stream",
     "text": [
      "                      title  popularity release_date  vote_average  vote_count\n",
      "id                                                                            \n",
      "257            Oliver Twist   20.415572   2005-09-23           6.7       274.0\n",
      "14290  Better Luck Tomorrow    3.877036   2002-01-12           6.5        27.0\n",
      "38365             Grown Ups   38.864027   2010-06-24           6.0      1705.0\n",
      "9672               Infamous    3.680896   2006-11-16           6.4        60.0\n",
      "12819       Alpha and Omega   12.300789   2010-09-17           5.3       124.0\n"
     ]
    }
   ],
   "source": [
    "# Merge to the movies table the ratings table on the index\n",
    "movies_ratings = movies_index.merge(ratings, on='id')\n",
    "\n",
    "# Print the first few rows of movies_ratings\n",
    "print(movies_ratings.head())"
   ]
  },
  {
   "cell_type": "markdown",
   "metadata": {},
   "source": [
    "Analyzing the revenue difference between movie sequels and their original films. This involves merging a modified version of the sequels and financials tables, where the index is set to the movie ID.\n",
    "- Let's choose a merge type that will retain all rows from the sequels table, while not all rows from the financials table need to be included. \n",
    "- The resulting table is then merged with itself to compare the revenue of the original movie to its sequel. \n",
    "- Finally, the revenue difference is calculated and the dataset is sorted to identify the sequels that earned the most compared to their originals."
   ]
  },
  {
   "cell_type": "code",
   "execution_count": 58,
   "metadata": {},
   "outputs": [
    {
     "data": {
      "text/html": [
       "<div>\n",
       "<style scoped>\n",
       "    .dataframe tbody tr th:only-of-type {\n",
       "        vertical-align: middle;\n",
       "    }\n",
       "\n",
       "    .dataframe tbody tr th {\n",
       "        vertical-align: top;\n",
       "    }\n",
       "\n",
       "    .dataframe thead th {\n",
       "        text-align: right;\n",
       "    }\n",
       "</style>\n",
       "<table border=\"1\" class=\"dataframe\">\n",
       "  <thead>\n",
       "    <tr style=\"text-align: right;\">\n",
       "      <th></th>\n",
       "      <th>title</th>\n",
       "      <th>sequel</th>\n",
       "    </tr>\n",
       "    <tr>\n",
       "      <th>id</th>\n",
       "      <th></th>\n",
       "      <th></th>\n",
       "    </tr>\n",
       "  </thead>\n",
       "  <tbody>\n",
       "    <tr>\n",
       "      <th>19995</th>\n",
       "      <td>Avatar</td>\n",
       "      <td>&lt;NA&gt;</td>\n",
       "    </tr>\n",
       "    <tr>\n",
       "      <th>862</th>\n",
       "      <td>Toy Story</td>\n",
       "      <td>863</td>\n",
       "    </tr>\n",
       "    <tr>\n",
       "      <th>863</th>\n",
       "      <td>Toy Story 2</td>\n",
       "      <td>10193</td>\n",
       "    </tr>\n",
       "    <tr>\n",
       "      <th>597</th>\n",
       "      <td>Titanic</td>\n",
       "      <td>&lt;NA&gt;</td>\n",
       "    </tr>\n",
       "    <tr>\n",
       "      <th>24428</th>\n",
       "      <td>The Avengers</td>\n",
       "      <td>&lt;NA&gt;</td>\n",
       "    </tr>\n",
       "  </tbody>\n",
       "</table>\n",
       "</div>"
      ],
      "text/plain": [
       "              title  sequel\n",
       "id                         \n",
       "19995        Avatar    <NA>\n",
       "862       Toy Story     863\n",
       "863     Toy Story 2   10193\n",
       "597         Titanic    <NA>\n",
       "24428  The Avengers    <NA>"
      ]
     },
     "execution_count": 58,
     "metadata": {},
     "output_type": "execute_result"
    }
   ],
   "source": [
    "sequels = pd.read_pickle(\"../data/pandas_datasets/pandas-joins/sequels.p\")\n",
    "\n",
    "# Setting the `id` column to be the index of the dataframe\n",
    "sequels_index = sequels.set_index('id')\n",
    "sequels_index.head(5)"
   ]
  },
  {
   "cell_type": "code",
   "execution_count": 59,
   "metadata": {},
   "outputs": [
    {
     "data": {
      "text/html": [
       "<div>\n",
       "<style scoped>\n",
       "    .dataframe tbody tr th:only-of-type {\n",
       "        vertical-align: middle;\n",
       "    }\n",
       "\n",
       "    .dataframe tbody tr th {\n",
       "        vertical-align: top;\n",
       "    }\n",
       "\n",
       "    .dataframe thead th {\n",
       "        text-align: right;\n",
       "    }\n",
       "</style>\n",
       "<table border=\"1\" class=\"dataframe\">\n",
       "  <thead>\n",
       "    <tr style=\"text-align: right;\">\n",
       "      <th></th>\n",
       "      <th>budget</th>\n",
       "      <th>revenue</th>\n",
       "    </tr>\n",
       "    <tr>\n",
       "      <th>id</th>\n",
       "      <th></th>\n",
       "      <th></th>\n",
       "    </tr>\n",
       "  </thead>\n",
       "  <tbody>\n",
       "    <tr>\n",
       "      <th>19995</th>\n",
       "      <td>237000000</td>\n",
       "      <td>2.787965e+09</td>\n",
       "    </tr>\n",
       "    <tr>\n",
       "      <th>285</th>\n",
       "      <td>300000000</td>\n",
       "      <td>9.610000e+08</td>\n",
       "    </tr>\n",
       "    <tr>\n",
       "      <th>206647</th>\n",
       "      <td>245000000</td>\n",
       "      <td>8.806746e+08</td>\n",
       "    </tr>\n",
       "    <tr>\n",
       "      <th>49026</th>\n",
       "      <td>250000000</td>\n",
       "      <td>1.084939e+09</td>\n",
       "    </tr>\n",
       "    <tr>\n",
       "      <th>49529</th>\n",
       "      <td>260000000</td>\n",
       "      <td>2.841391e+08</td>\n",
       "    </tr>\n",
       "  </tbody>\n",
       "</table>\n",
       "</div>"
      ],
      "text/plain": [
       "           budget       revenue\n",
       "id                             \n",
       "19995   237000000  2.787965e+09\n",
       "285     300000000  9.610000e+08\n",
       "206647  245000000  8.806746e+08\n",
       "49026   250000000  1.084939e+09\n",
       "49529   260000000  2.841391e+08"
      ]
     },
     "execution_count": 59,
     "metadata": {},
     "output_type": "execute_result"
    }
   ],
   "source": [
    "# Setting the `id` column of financials to be the index column of the financials dataframe\n",
    "financials_index = financials.set_index('id')\n",
    "financials_index.head(5)"
   ]
  },
  {
   "cell_type": "code",
   "execution_count": 60,
   "metadata": {},
   "outputs": [
    {
     "data": {
      "text/html": [
       "<div>\n",
       "<style scoped>\n",
       "    .dataframe tbody tr th:only-of-type {\n",
       "        vertical-align: middle;\n",
       "    }\n",
       "\n",
       "    .dataframe tbody tr th {\n",
       "        vertical-align: top;\n",
       "    }\n",
       "\n",
       "    .dataframe thead th {\n",
       "        text-align: right;\n",
       "    }\n",
       "</style>\n",
       "<table border=\"1\" class=\"dataframe\">\n",
       "  <thead>\n",
       "    <tr style=\"text-align: right;\">\n",
       "      <th></th>\n",
       "      <th>title</th>\n",
       "      <th>sequel</th>\n",
       "      <th>budget</th>\n",
       "      <th>revenue</th>\n",
       "    </tr>\n",
       "    <tr>\n",
       "      <th>id</th>\n",
       "      <th></th>\n",
       "      <th></th>\n",
       "      <th></th>\n",
       "      <th></th>\n",
       "    </tr>\n",
       "  </thead>\n",
       "  <tbody>\n",
       "    <tr>\n",
       "      <th>19995</th>\n",
       "      <td>Avatar</td>\n",
       "      <td>&lt;NA&gt;</td>\n",
       "      <td>237000000.0</td>\n",
       "      <td>2.787965e+09</td>\n",
       "    </tr>\n",
       "    <tr>\n",
       "      <th>862</th>\n",
       "      <td>Toy Story</td>\n",
       "      <td>863</td>\n",
       "      <td>30000000.0</td>\n",
       "      <td>3.735540e+08</td>\n",
       "    </tr>\n",
       "    <tr>\n",
       "      <th>863</th>\n",
       "      <td>Toy Story 2</td>\n",
       "      <td>10193</td>\n",
       "      <td>90000000.0</td>\n",
       "      <td>4.973669e+08</td>\n",
       "    </tr>\n",
       "    <tr>\n",
       "      <th>597</th>\n",
       "      <td>Titanic</td>\n",
       "      <td>&lt;NA&gt;</td>\n",
       "      <td>200000000.0</td>\n",
       "      <td>1.845034e+09</td>\n",
       "    </tr>\n",
       "    <tr>\n",
       "      <th>24428</th>\n",
       "      <td>The Avengers</td>\n",
       "      <td>&lt;NA&gt;</td>\n",
       "      <td>220000000.0</td>\n",
       "      <td>1.519558e+09</td>\n",
       "    </tr>\n",
       "    <tr>\n",
       "      <th>...</th>\n",
       "      <td>...</td>\n",
       "      <td>...</td>\n",
       "      <td>...</td>\n",
       "      <td>...</td>\n",
       "    </tr>\n",
       "    <tr>\n",
       "      <th>133931</th>\n",
       "      <td>Zambezia</td>\n",
       "      <td>&lt;NA&gt;</td>\n",
       "      <td>NaN</td>\n",
       "      <td>NaN</td>\n",
       "    </tr>\n",
       "    <tr>\n",
       "      <th>309503</th>\n",
       "      <td>Zipper</td>\n",
       "      <td>&lt;NA&gt;</td>\n",
       "      <td>NaN</td>\n",
       "      <td>NaN</td>\n",
       "    </tr>\n",
       "    <tr>\n",
       "      <th>34592</th>\n",
       "      <td>ZMD: Zombies of Mass Destruction</td>\n",
       "      <td>&lt;NA&gt;</td>\n",
       "      <td>NaN</td>\n",
       "      <td>NaN</td>\n",
       "    </tr>\n",
       "    <tr>\n",
       "      <th>206213</th>\n",
       "      <td>Zombie Hunter</td>\n",
       "      <td>&lt;NA&gt;</td>\n",
       "      <td>NaN</td>\n",
       "      <td>NaN</td>\n",
       "    </tr>\n",
       "    <tr>\n",
       "      <th>185567</th>\n",
       "      <td>Zulu</td>\n",
       "      <td>&lt;NA&gt;</td>\n",
       "      <td>NaN</td>\n",
       "      <td>NaN</td>\n",
       "    </tr>\n",
       "  </tbody>\n",
       "</table>\n",
       "<p>4803 rows × 4 columns</p>\n",
       "</div>"
      ],
      "text/plain": [
       "                                   title  sequel       budget       revenue\n",
       "id                                                                         \n",
       "19995                             Avatar    <NA>  237000000.0  2.787965e+09\n",
       "862                            Toy Story     863   30000000.0  3.735540e+08\n",
       "863                          Toy Story 2   10193   90000000.0  4.973669e+08\n",
       "597                              Titanic    <NA>  200000000.0  1.845034e+09\n",
       "24428                       The Avengers    <NA>  220000000.0  1.519558e+09\n",
       "...                                  ...     ...          ...           ...\n",
       "133931                          Zambezia    <NA>          NaN           NaN\n",
       "309503                            Zipper    <NA>          NaN           NaN\n",
       "34592   ZMD: Zombies of Mass Destruction    <NA>          NaN           NaN\n",
       "206213                     Zombie Hunter    <NA>          NaN           NaN\n",
       "185567                              Zulu    <NA>          NaN           NaN\n",
       "\n",
       "[4803 rows x 4 columns]"
      ]
     },
     "execution_count": 60,
     "metadata": {},
     "output_type": "execute_result"
    }
   ],
   "source": [
    "# Merge sequels and financials on index id\n",
    "sequels_fin = sequels_index.merge(financials_index, on='id', how='left')\n",
    "sequels_fin"
   ]
  },
  {
   "cell_type": "code",
   "execution_count": 61,
   "metadata": {},
   "outputs": [],
   "source": [
    "# Self merge with suffixes as inner join with left on sequel and right on id\n",
    "orig_seq = sequels_fin.merge(sequels_fin, how='inner', left_on='sequel', \n",
    "                             right_on='id', right_index=True,\n",
    "                             suffixes=('_org','_seq'))"
   ]
  },
  {
   "cell_type": "code",
   "execution_count": 62,
   "metadata": {},
   "outputs": [
    {
     "data": {
      "text/html": [
       "<div>\n",
       "<style scoped>\n",
       "    .dataframe tbody tr th:only-of-type {\n",
       "        vertical-align: middle;\n",
       "    }\n",
       "\n",
       "    .dataframe tbody tr th {\n",
       "        vertical-align: top;\n",
       "    }\n",
       "\n",
       "    .dataframe thead th {\n",
       "        text-align: right;\n",
       "    }\n",
       "</style>\n",
       "<table border=\"1\" class=\"dataframe\">\n",
       "  <thead>\n",
       "    <tr style=\"text-align: right;\">\n",
       "      <th></th>\n",
       "      <th>sequel</th>\n",
       "      <th>title_org</th>\n",
       "      <th>sequel_org</th>\n",
       "      <th>budget_org</th>\n",
       "      <th>revenue_org</th>\n",
       "      <th>title_seq</th>\n",
       "      <th>sequel_seq</th>\n",
       "      <th>budget_seq</th>\n",
       "      <th>revenue_seq</th>\n",
       "    </tr>\n",
       "    <tr>\n",
       "      <th>id</th>\n",
       "      <th></th>\n",
       "      <th></th>\n",
       "      <th></th>\n",
       "      <th></th>\n",
       "      <th></th>\n",
       "      <th></th>\n",
       "      <th></th>\n",
       "      <th></th>\n",
       "      <th></th>\n",
       "    </tr>\n",
       "  </thead>\n",
       "  <tbody>\n",
       "    <tr>\n",
       "      <th>862</th>\n",
       "      <td>863</td>\n",
       "      <td>Toy Story</td>\n",
       "      <td>863</td>\n",
       "      <td>30000000.0</td>\n",
       "      <td>373554033.0</td>\n",
       "      <td>Toy Story 2</td>\n",
       "      <td>10193</td>\n",
       "      <td>90000000.0</td>\n",
       "      <td>4.973669e+08</td>\n",
       "    </tr>\n",
       "    <tr>\n",
       "      <th>863</th>\n",
       "      <td>10193</td>\n",
       "      <td>Toy Story 2</td>\n",
       "      <td>10193</td>\n",
       "      <td>90000000.0</td>\n",
       "      <td>497366869.0</td>\n",
       "      <td>Toy Story 3</td>\n",
       "      <td>&lt;NA&gt;</td>\n",
       "      <td>200000000.0</td>\n",
       "      <td>1.066970e+09</td>\n",
       "    </tr>\n",
       "    <tr>\n",
       "      <th>675</th>\n",
       "      <td>767</td>\n",
       "      <td>Harry Potter and the Order of the Phoenix</td>\n",
       "      <td>767</td>\n",
       "      <td>150000000.0</td>\n",
       "      <td>938212738.0</td>\n",
       "      <td>Harry Potter and the Half-Blood Prince</td>\n",
       "      <td>&lt;NA&gt;</td>\n",
       "      <td>250000000.0</td>\n",
       "      <td>9.339592e+08</td>\n",
       "    </tr>\n",
       "    <tr>\n",
       "      <th>121</th>\n",
       "      <td>122</td>\n",
       "      <td>The Lord of the Rings: The Two Towers</td>\n",
       "      <td>122</td>\n",
       "      <td>79000000.0</td>\n",
       "      <td>926287400.0</td>\n",
       "      <td>The Lord of the Rings: The Return of the King</td>\n",
       "      <td>&lt;NA&gt;</td>\n",
       "      <td>94000000.0</td>\n",
       "      <td>1.118889e+09</td>\n",
       "    </tr>\n",
       "    <tr>\n",
       "      <th>120</th>\n",
       "      <td>121</td>\n",
       "      <td>The Lord of the Rings: The Fellowship of the Ring</td>\n",
       "      <td>121</td>\n",
       "      <td>93000000.0</td>\n",
       "      <td>871368364.0</td>\n",
       "      <td>The Lord of the Rings: The Two Towers</td>\n",
       "      <td>122</td>\n",
       "      <td>79000000.0</td>\n",
       "      <td>9.262874e+08</td>\n",
       "    </tr>\n",
       "    <tr>\n",
       "      <th>...</th>\n",
       "      <td>...</td>\n",
       "      <td>...</td>\n",
       "      <td>...</td>\n",
       "      <td>...</td>\n",
       "      <td>...</td>\n",
       "      <td>...</td>\n",
       "      <td>...</td>\n",
       "      <td>...</td>\n",
       "      <td>...</td>\n",
       "    </tr>\n",
       "    <tr>\n",
       "      <th>76</th>\n",
       "      <td>80</td>\n",
       "      <td>Before Sunrise</td>\n",
       "      <td>80</td>\n",
       "      <td>2500000.0</td>\n",
       "      <td>5535405.0</td>\n",
       "      <td>Before Sunset</td>\n",
       "      <td>132344</td>\n",
       "      <td>2700000.0</td>\n",
       "      <td>1.599262e+07</td>\n",
       "    </tr>\n",
       "    <tr>\n",
       "      <th>2292</th>\n",
       "      <td>2295</td>\n",
       "      <td>Clerks</td>\n",
       "      <td>2295</td>\n",
       "      <td>27000.0</td>\n",
       "      <td>3151130.0</td>\n",
       "      <td>Clerks II</td>\n",
       "      <td>&lt;NA&gt;</td>\n",
       "      <td>5000000.0</td>\n",
       "      <td>2.688838e+07</td>\n",
       "    </tr>\n",
       "    <tr>\n",
       "      <th>9367</th>\n",
       "      <td>8068</td>\n",
       "      <td>El Mariachi</td>\n",
       "      <td>8068</td>\n",
       "      <td>220000.0</td>\n",
       "      <td>2040920.0</td>\n",
       "      <td>Desperado</td>\n",
       "      <td>1428</td>\n",
       "      <td>7000000.0</td>\n",
       "      <td>2.540544e+07</td>\n",
       "    </tr>\n",
       "    <tr>\n",
       "      <th>8374</th>\n",
       "      <td>22821</td>\n",
       "      <td>The Boondock Saints</td>\n",
       "      <td>22821</td>\n",
       "      <td>6000000.0</td>\n",
       "      <td>30471.0</td>\n",
       "      <td>The Boondock Saints II: All Saints Day</td>\n",
       "      <td>&lt;NA&gt;</td>\n",
       "      <td>8000000.0</td>\n",
       "      <td>1.062932e+07</td>\n",
       "    </tr>\n",
       "    <tr>\n",
       "      <th>16186</th>\n",
       "      <td>16781</td>\n",
       "      <td>Diary of a Mad Black Woman</td>\n",
       "      <td>16781</td>\n",
       "      <td>NaN</td>\n",
       "      <td>NaN</td>\n",
       "      <td>Madea's Family Reunion</td>\n",
       "      <td>15670</td>\n",
       "      <td>6000000.0</td>\n",
       "      <td>5.723152e+07</td>\n",
       "    </tr>\n",
       "  </tbody>\n",
       "</table>\n",
       "<p>90 rows × 9 columns</p>\n",
       "</div>"
      ],
      "text/plain": [
       "       sequel                                          title_org  sequel_org  \\\n",
       "id                                                                             \n",
       "862       863                                          Toy Story         863   \n",
       "863     10193                                        Toy Story 2       10193   \n",
       "675       767          Harry Potter and the Order of the Phoenix         767   \n",
       "121       122              The Lord of the Rings: The Two Towers         122   \n",
       "120       121  The Lord of the Rings: The Fellowship of the Ring         121   \n",
       "...       ...                                                ...         ...   \n",
       "76         80                                     Before Sunrise          80   \n",
       "2292     2295                                             Clerks        2295   \n",
       "9367     8068                                        El Mariachi        8068   \n",
       "8374    22821                                The Boondock Saints       22821   \n",
       "16186   16781                         Diary of a Mad Black Woman       16781   \n",
       "\n",
       "        budget_org  revenue_org  \\\n",
       "id                                \n",
       "862     30000000.0  373554033.0   \n",
       "863     90000000.0  497366869.0   \n",
       "675    150000000.0  938212738.0   \n",
       "121     79000000.0  926287400.0   \n",
       "120     93000000.0  871368364.0   \n",
       "...            ...          ...   \n",
       "76       2500000.0    5535405.0   \n",
       "2292       27000.0    3151130.0   \n",
       "9367      220000.0    2040920.0   \n",
       "8374     6000000.0      30471.0   \n",
       "16186          NaN          NaN   \n",
       "\n",
       "                                           title_seq  sequel_seq   budget_seq  \\\n",
       "id                                                                              \n",
       "862                                      Toy Story 2       10193   90000000.0   \n",
       "863                                      Toy Story 3        <NA>  200000000.0   \n",
       "675           Harry Potter and the Half-Blood Prince        <NA>  250000000.0   \n",
       "121    The Lord of the Rings: The Return of the King        <NA>   94000000.0   \n",
       "120            The Lord of the Rings: The Two Towers         122   79000000.0   \n",
       "...                                              ...         ...          ...   \n",
       "76                                     Before Sunset      132344    2700000.0   \n",
       "2292                                       Clerks II        <NA>    5000000.0   \n",
       "9367                                       Desperado        1428    7000000.0   \n",
       "8374          The Boondock Saints II: All Saints Day        <NA>    8000000.0   \n",
       "16186                         Madea's Family Reunion       15670    6000000.0   \n",
       "\n",
       "        revenue_seq  \n",
       "id                   \n",
       "862    4.973669e+08  \n",
       "863    1.066970e+09  \n",
       "675    9.339592e+08  \n",
       "121    1.118889e+09  \n",
       "120    9.262874e+08  \n",
       "...             ...  \n",
       "76     1.599262e+07  \n",
       "2292   2.688838e+07  \n",
       "9367   2.540544e+07  \n",
       "8374   1.062932e+07  \n",
       "16186  5.723152e+07  \n",
       "\n",
       "[90 rows x 9 columns]"
      ]
     },
     "execution_count": 62,
     "metadata": {},
     "output_type": "execute_result"
    }
   ],
   "source": [
    "orig_seq"
   ]
  },
  {
   "cell_type": "code",
   "execution_count": 63,
   "metadata": {},
   "outputs": [
    {
     "name": "stdout",
     "output_type": "stream",
     "text": [
      "               title_org        title_seq          diff\n",
      "id                                                     \n",
      "331    Jurassic Park III   Jurassic World  1.144748e+09\n",
      "272        Batman Begins  The Dark Knight  6.303398e+08\n",
      "10138         Iron Man 2       Iron Man 3  5.915067e+08\n",
      "863          Toy Story 2      Toy Story 3  5.696028e+08\n",
      "10764  Quantum of Solace          Skyfall  5.224703e+08\n"
     ]
    }
   ],
   "source": [
    "# Add calculation to subtract revenue_org from revenue_seq \n",
    "orig_seq['diff'] = orig_seq['revenue_seq'] - orig_seq['revenue_org']\n",
    "\n",
    "# Select the title_org, title_seq, and diff \n",
    "titles_diff = orig_seq[['title_org','title_seq','diff']]\n",
    "\n",
    "# Print the first rows of the sorted titles_diff\n",
    "print(titles_diff.sort_values('diff', ascending=False).head())"
   ]
  },
  {
   "cell_type": "markdown",
   "metadata": {},
   "source": [
    "- To complete this task we needed to merge tables on their index and merge another table to itself. \n",
    "- After the calculations were added and sub-select specific columns, the data was sorted. \n",
    "- We found out that Jurassic World had one of the highest of all, improvement in revenue compared to the original movie."
   ]
  },
  {
   "cell_type": "markdown",
   "metadata": {},
   "source": [
    "# Advanced Merging and Concatenating"
   ]
  },
  {
   "cell_type": "markdown",
   "metadata": {},
   "source": [
    "- Implementing powerful filtering techniques such as semi-joins and anti-joins. \n",
    "- Utilizing the pandas.concat function to vertically combine DataFrames and create new datasets.\n",
    "- Additionally, applying data validation methods to ensure the integrity and cleanliness of the newly combined data structures."
   ]
  },
  {
   "cell_type": "markdown",
   "metadata": {},
   "source": [
    "#### Filtering Joins\n",
    "\n",
    "Mutating Joins\n",
    "- Combines data from 2 tables based on matching observations in 2 tables.\n",
    "\n",
    "Filtering Joins\n",
    "- Filter observations from a table based on whether or not they match an observation in another table"
   ]
  },
  {
   "cell_type": "markdown",
   "metadata": {},
   "source": [
    "**1. Semi Join**\n",
    "\n",
    "<img src=\"../img/semi-join.jpg\" width=\"700\">\n",
    "\n",
    "- A semi join filters the left table down to those observations that have a match in the right table. \n",
    "- It is similar to an inner join where only the intersection between the tables is returned.\n",
    "- Unlike an inner join, only the columns from the left table are shown. \n",
    "- No duplicate rows from the left table are returned, even if there is a one-to-many relationship."
   ]
  },
  {
   "cell_type": "code",
   "execution_count": 64,
   "metadata": {},
   "outputs": [
    {
     "name": "stdout",
     "output_type": "stream",
     "text": [
      "   ilid  iid   tid  uprice  quantity\n",
      "0   470   88  2832    1.99         1\n",
      "1   473   88  2850    1.99         1\n",
      "2   476   88  2868    1.99         1\n",
      "3   527   96  3214    1.99         1\n",
      "4   528   96  3223    1.99         1\n"
     ]
    }
   ],
   "source": [
    "# creating the top_invoices dataframe\n",
    "data = {\n",
    "    'ilid': [470, 473, 476, 527, 528, 533, 1098, 1100, 1668, 1670, 1678, 1686, 2190, 2192, 2194, 2240],\n",
    "    'iid': [88, 88, 88, 96, 96, 99, 201, 202, 306, 307, 310, 312, 404, 404, 404, 412],\n",
    "    'tid': [2832, 2850, 2868, 3214, 3223, 3250, 3200, 3223, 3177, 3200, 3214, 3250, 2832, 2850, 2868, 3177],\n",
    "    'uprice': [1.99] * 16,\n",
    "    'quantity': [1] * 16\n",
    "}\n",
    "\n",
    "# Create DataFrame\n",
    "top_invoices = pd.DataFrame(data)\n",
    "\n",
    "# Show the DataFrame\n",
    "print(top_invoices.head(5))\n"
   ]
  },
  {
   "cell_type": "code",
   "execution_count": 65,
   "metadata": {},
   "outputs": [
    {
     "name": "stdout",
     "output_type": "stream",
     "text": [
      "   gid                name\n",
      "0    1                Rock\n",
      "1    2                Jazz\n",
      "2    3               Metal\n",
      "3    4  Alternative & Punk\n",
      "4    5       Rock And Roll\n"
     ]
    }
   ],
   "source": [
    "# Creating the genres dataframe\n",
    "data = {\n",
    "    'gid': [1, 2, 3, 4, 5, 6, 7, 8, 9, 10, 11, 12, 13, 14, 15, 16, 17, 18, 19, 20, 21, 22, 23, 24, 25],\n",
    "    'name': ['Rock', 'Jazz', 'Metal', 'Alternative & Punk', 'Rock And Roll', 'Blues', 'Latin', 'Reggae', 'Pop', \n",
    "             'Soundtrack', 'Bossa Nova', 'Easy Listening', 'Heavy Metal', 'R&B/Soul', 'Electronica/Dance', 'World', \n",
    "             'Hip Hop/Rap', 'Science Fiction', 'TV Shows', 'Sci Fi & Fantasy', 'Drama', 'Comedy', 'Alternative', \n",
    "             'Classical', 'Opera']\n",
    "}\n",
    "\n",
    "# Create DataFrame\n",
    "genres = pd.DataFrame(data)\n",
    "\n",
    "# Show the DataFrame\n",
    "print(genres.head(5))\n"
   ]
  },
  {
   "cell_type": "markdown",
   "metadata": {},
   "source": [
    "```python\n",
    "`non_mus_tcks` must be created before executing the below cell.\n",
    "\n",
    "<class 'pandas.core.frame.DataFrame'>\n",
    "Int64Index: 200 entries, 2819 to 3428\n",
    "Data columns (total 6 columns):\n",
    " #   Column   Non-Null Count  Dtype  \n",
    "---  ------   --------------  -----  \n",
    " 0   tid      200 non-null    int64  \n",
    " 1   name     200 non-null    object \n",
    " 2   aid      200 non-null    int64  \n",
    " 3   mtid     200 non-null    int64  \n",
    " 4   gid      200 non-null    int64  \n",
    " 5   u_price  200 non-null    float64\n",
    "dtypes: float64(1), int64(4), object(1)\n",
    "memory usage: 10.9+ KB"
   ]
  },
  {
   "cell_type": "code",
   "execution_count": 66,
   "metadata": {},
   "outputs": [],
   "source": [
    "# # Merge the non_mus_tcks and top_invoices tables on tid\n",
    "# tracks_invoices = non_mus_tcks.merge(top_invoices, on='tid')\n",
    "\n",
    "# # Use .isin() to subset non_mus_tcks to rows with tid in tracks_invoices\n",
    "# top_tracks = non_mus_tcks[non_mus_tcks['tid'].isin(tracks_invoices['tid'])]\n",
    "\n",
    "# # Group the top_tracks by gid and count the tid rows\n",
    "# cnt_by_gid = top_tracks.groupby(['gid'], as_index=False).agg({'tid':'count'})\n",
    "\n",
    "# # Merge the genres table to cnt_by_gid on gid and print\n",
    "# print(cnt_by_gid.merge(genres, on='gid'))"
   ]
  },
  {
   "cell_type": "markdown",
   "metadata": {},
   "source": [
    "In this task, we replicated a semi join to filter the table of tracks by the table of invoice items to find the top revenue non-musical tracks. With some additional data manipulation, you discovered that _'TV-shows'_ is the non-musical genre that has the most top revenue-generating tracks"
   ]
  },
  {
   "cell_type": "markdown",
   "metadata": {},
   "source": [
    "**2. Anti Join**\n",
    "\n",
    "<img src=\"../img/anti-join.jpg\" width=\"700\">\n",
    "\n",
    "- An anti join returns the observations in the left table that do not have a matching observation in the right table.\n",
    "- Returns only columns from the left table and **not** the right table."
   ]
  },
  {
   "cell_type": "markdown",
   "metadata": {},
   "source": [
    "- In the music streaming company dataset, each customer is assigned an employee representative to assist them. \n",
    "- In this task, filter the employee table by a table of top customers, returning only those employees who are not assigned to a customer. \n",
    "- The results should resemble the results of an anti join. The company's leadership will assign these employees additional training so that they can work with high valued customers.\n",
    "\n",
    "The `top_cust` and `employees` tables are created below."
   ]
  },
  {
   "cell_type": "code",
   "execution_count": 67,
   "metadata": {},
   "outputs": [
    {
     "name": "stdout",
     "output_type": "stream",
     "text": [
      "   srid     lname     fname                title  hire_date  \\\n",
      "0     1     Adams    Andrew      General Manager 2002-08-14   \n",
      "1     2   Edwards     Nancy        Sales Manager 2002-05-01   \n",
      "2     3   Peacock      Jane  Sales Support Agent 2002-04-01   \n",
      "3     4      Park  Margaret  Sales Support Agent 2003-05-03   \n",
      "4     5   Johnson     Steve  Sales Support Agent 2003-10-17   \n",
      "5     6  Mitchell   Michael           IT Manager 2003-10-17   \n",
      "6     7      King    Robert             IT Staff 2004-01-02   \n",
      "7     8  Callahan     Laura             IT Staff 2004-03-04   \n",
      "\n",
      "                      email  \n",
      "0    andrew@chinookcorp.com  \n",
      "1     nancy@chinookcorp.com  \n",
      "2      jane@chinookcorp.com  \n",
      "3  margaret@chinookcorp.com  \n",
      "4     steve@chinookcorp.com  \n",
      "5   michael@chinookcorp.com  \n",
      "6    robert@chinookcorp.com  \n",
      "7     laura@chinookcorp.com  \n"
     ]
    }
   ],
   "source": [
    "# Creating the DataFrame\n",
    "employees = pd.DataFrame({\n",
    "    \"srid\": [1, 2, 3, 4, 5, 6, 7, 8],\n",
    "    \"lname\": [\"Adams\", \"Edwards\", \"Peacock\", \"Park\", \"Johnson\", \"Mitchell\", \"King\", \"Callahan\"],\n",
    "    \"fname\": [\"Andrew\", \"Nancy\", \"Jane\", \"Margaret\", \"Steve\", \"Michael\", \"Robert\", \"Laura\"],\n",
    "    \"title\": [\"General Manager\", \"Sales Manager\", \"Sales Support Agent\", \"Sales Support Agent\",\n",
    "              \"Sales Support Agent\", \"IT Manager\", \"IT Staff\", \"IT Staff\"],\n",
    "    \"hire_date\": pd.to_datetime([\"2002-08-14\", \"2002-05-01\", \"2002-04-01\", \"2003-05-03\",\n",
    "                                 \"2003-10-17\", \"2003-10-17\", \"2004-01-02\", \"2004-03-04\"]),\n",
    "    \"email\": [\"andrew@chinookcorp.com\", \"nancy@chinookcorp.com\", \"jane@chinookcorp.com\",\n",
    "              \"margaret@chinookcorp.com\", \"steve@chinookcorp.com\", \"michael@chinookcorp.com\",\n",
    "              \"robert@chinookcorp.com\", \"laura@chinookcorp.com\"]\n",
    "})\n",
    "\n",
    "# Display the DataFrame\n",
    "print(employees)\n"
   ]
  },
  {
   "cell_type": "code",
   "execution_count": 68,
   "metadata": {},
   "outputs": [
    {
     "name": "stdout",
     "output_type": "stream",
     "text": [
      "(59, 6)\n",
      "   cid  srid      fname        lname               phone                 fax\n",
      "0    1     3       Luís    Gonçalves  +55 (12) 3923-5555  +55 (12) 3923-5566\n",
      "1    2     5     Leonie       Köhler    +49 0711 2842222                 NaN\n",
      "2    3     3   François     Tremblay   +1 (514) 721-4711                 NaN\n",
      "3    4     4      Bjørn       Hansen     +47 22 44 22 22                 NaN\n",
      "4    5     4  František  Wichterlová    +420 2 4172 5555    +420 2 4172 5555\n"
     ]
    }
   ],
   "source": [
    "# top_cust table\n",
    "data = {\n",
    "    \"cid\": range(1, 60),\n",
    "    \"srid\": [3, 5, 3, 4, 4, 5, 5, 4, 4, 4, 5, 3, 4, 5, 3, 4, 5, 3, 3, 4, 5, 4, 4, 3, 5, 4, 4, 5, 3, 3, 5, 4, 3, 4, 4, 5, 3, 3, 4, 4, 5, 3, 3, 3, 3, 3, 5, 5, 4, 5, 5, 3, 3, 5, 4, 4, 5, 3, 3],\n",
    "    \"fname\": [\n",
    "        \"Luís\", \"Leonie\", \"François\", \"Bjørn\", \"František\", \"Helena\", \"Astrid\", \"Daan\", \"Kara\", \"Eduardo\",\n",
    "        \"Alexandre\", \"Roberto\", \"Fernanda\", \"Mark\", \"Jennifer\", \"Frank\", \"Jack\", \"Michelle\", \"Tim\", \"Dan\",\n",
    "        \"Kathy\", \"Heather\", \"John\", \"Frank\", \"Victor\", \"Richard\", \"Patrick\", \"Julia\", \"Robert\", \"Edward\",\n",
    "        \"Martha\", \"Aaron\", \"Ellie\", \"João\", \"Madalena\", \"Hannah\", \"Fynn\", \"Niklas\", \"Camille\", \"Dominique\",\n",
    "        \"Marc\", \"Wyatt\", \"Isabelle\", \"Terhi\", \"Ladislav\", \"Hugh\", \"Lucas\", \"Johannes\", \"Stanisław\", \"Enrique\",\n",
    "        \"Joakim\", \"Emma\", \"Phil\", \"Steve\", \"Mark\", \"Diego\", \"Luis\", \"Manoj\", \"Puja\"\n",
    "    ],\n",
    "    \"lname\": [\n",
    "        \"Gonçalves\", \"Köhler\", \"Tremblay\", \"Hansen\", \"Wichterlová\", \"Holý\", \"Gruber\", \"Peeters\", \"Nielsen\", \"Martins\",\n",
    "        \"Rocha\", \"Almeida\", \"Ramos\", \"Philips\", \"Peterson\", \"Harris\", \"Smith\", \"Brooks\", \"Goyer\", \"Miller\",\n",
    "        \"Chase\", \"Leacock\", \"Gordon\", \"Ralston\", \"Stevens\", \"Cunningham\", \"Gray\", \"Barnett\", \"Brown\", \"Francis\",\n",
    "        \"Silk\", \"Mitchell\", \"Sullivan\", \"Fernandes\", \"Sampaio\", \"Schneider\", \"Zimmermann\", \"Schröder\", \"Bernard\", \"Lefebvre\",\n",
    "        \"Dubois\", \"Girard\", \"Mercier\", \"Hämäläinen\", \"Kovács\", \"O'Reilly\", \"Mancini\", \"Van der Berg\", \"Wójcik\", \"Muñoz\",\n",
    "        \"Johansson\", \"Jones\", \"Hughes\", \"Murray\", \"Taylor\", \"Gutiérrez\", \"Rojas\", \"Pareek\", \"Srivastava\"\n",
    "    ],\n",
    "    \"phone\": [\n",
    "        \"+55 (12) 3923-5555\", \"+49 0711 2842222\", \"+1 (514) 721-4711\", \"+47 22 44 22 22\", \"+420 2 4172 5555\", \"+420 2 4177 0449\",\n",
    "        \"+43 01 5134505\", \"+32 02 219 03 03\", \"+453 3331 9991\", \"+55 (11) 3033-5446\", \"+55 (11) 3055-3278\", \"+55 (21) 2271-7000\",\n",
    "        \"+55 (61) 3363-5547\", \"+1 (780) 434-4554\", \"+1 (604) 688-2255\", \"+1 (650) 253-0000\", \"+1 (425) 882-8080\", \"+1 (212) 221-3546\",\n",
    "        \"+1 (408) 996-1010\", \"+1 (650) 644-3358\", \"+1 (775) 223-7665\", \"+1 (407) 999-7788\", \"+1 (617) 522-1333\", \"+1 (312) 332-3232\",\n",
    "        \"+1 (608) 257-0597\", \"+1 (817) 924-7272\", \"+1 (520) 622-4200\", \"+1 (801) 531-7272\", \"+1 (416) 363-8888\", \"+1 (613) 234-3322\",\n",
    "        \"+1 (902) 450-0450\", \"+1 (204) 452-6452\", \"+1 (867) 920-2233\", \"+351 (213) 466-111\", \"+351 (225) 022-448\", \"+49 030 26550280\",\n",
    "        \"+49 069 40598889\", \"+49 030 2141444\", \"+33 01 49 70 65 65\", \"+33 01 47 42 71 71\", \"+33 04 78 30 30 30\", \"+33 05 56 96 96 96\",\n",
    "        \"+33 03 80 73 66 99\", \"+358 09 870 2000\", \"NaN\", \"+353 01 6792424\", \"+39 06 39733434\", \"+31 020 6223130\", \"+48 22 828 37 39\",\n",
    "        \"+34 914 454 454\", \"+46 08-651 52 52\", \"+44 020 7707 0707\", \"+44 020 7976 5722\", \"+44 0131 315 3300\", \"+61 (02) 9332 3633\",\n",
    "        \"+54 (0)11 4311 4333\", \"+56 (0)2 635 4444\", \"+91 0124 39883988\", \"+91 080 22289999\"\n",
    "    ],\n",
    "    \"fax\": [\n",
    "        \"+55 (12) 3923-5566\", \"NaN\", \"NaN\", \"NaN\", \"+420 2 4172 5555\", \"NaN\", \"NaN\", \"NaN\", \"NaN\", \"+55 (11) 3033-4564\",\n",
    "        \"+55 (11) 3055-8131\", \"+55 (21) 2271-7070\", \"+55 (61) 3363-7855\", \"+1 (780) 434-5565\", \"+1 (604) 688-8756\", \"+1 (650) 253-0000\",\n",
    "        \"+1 (425) 882-8081\", \"+1 (212) 221-4679\", \"+1 (408) 996-1011\", \"NaN\", \"NaN\", \"NaN\", \"NaN\", \"NaN\", \"NaN\", \"NaN\", \"NaN\",\n",
    "        \"NaN\", \"NaN\", \"NaN\", \"NaN\", \"NaN\", \"NaN\", \"NaN\", \"NaN\", \"NaN\", \"NaN\", \"NaN\", \"NaN\", \"NaN\", \"NaN\", \"NaN\", \"NaN\", \"NaN\",\n",
    "        \"NaN\", \"NaN\", \"NaN\", \"NaN\", \"NaN\", \"NaN\", \"NaN\", \"NaN\", \"NaN\", \"NaN\", \"NaN\", \"NaN\", \"NaN\", \"NaN\", \"NaN\"\n",
    "    ]\n",
    "}\n",
    "\n",
    "top_cust = pd.DataFrame(data)\n",
    "print(top_cust.shape)\n",
    "print(top_cust.head())"
   ]
  },
  {
   "cell_type": "markdown",
   "metadata": {},
   "source": [
    "**Note**: From a *table design perspective*, the *emp* table will include an *srid*, while the *top_cust* table will contain the corresponding *srid*, which represents the employees who assisted a particular customer. Each customer is assigned to one employee, but an employee can assist multiple customers."
   ]
  },
  {
   "cell_type": "code",
   "execution_count": 69,
   "metadata": {},
   "outputs": [],
   "source": [
    "# Step 1: Merge employees and top_cust\n",
    "empl_cust = employees.merge(top_cust, on='srid', \n",
    "                                 how='left', indicator=True)"
   ]
  },
  {
   "cell_type": "code",
   "execution_count": 70,
   "metadata": {},
   "outputs": [],
   "source": [
    "# Step 2: Select the srid column where _merge is left_only\n",
    "srid_list = empl_cust.loc[empl_cust['_merge'] == 'left_only', 'srid']"
   ]
  },
  {
   "cell_type": "code",
   "execution_count": 71,
   "metadata": {},
   "outputs": [
    {
     "name": "stdout",
     "output_type": "stream",
     "text": [
      "   srid     lname    fname            title  hire_date  \\\n",
      "0     1     Adams   Andrew  General Manager 2002-08-14   \n",
      "1     2   Edwards    Nancy    Sales Manager 2002-05-01   \n",
      "5     6  Mitchell  Michael       IT Manager 2003-10-17   \n",
      "6     7      King   Robert         IT Staff 2004-01-02   \n",
      "7     8  Callahan    Laura         IT Staff 2004-03-04   \n",
      "\n",
      "                     email  \n",
      "0   andrew@chinookcorp.com  \n",
      "1    nancy@chinookcorp.com  \n",
      "5  michael@chinookcorp.com  \n",
      "6   robert@chinookcorp.com  \n",
      "7    laura@chinookcorp.com  \n"
     ]
    }
   ],
   "source": [
    "# Step 3: Get employees not working with top customers\n",
    "print(employees[employees['srid'].isin(srid_list)])"
   ]
  },
  {
   "cell_type": "markdown",
   "metadata": {},
   "source": [
    "We performed an anti join by first merging the tables with a left join, selecting the ID of those employees who did not support a top customer, and then subsetting the original employee's table. From that, we can see that **there are five employees not supporting top customers**. Anti joins are a powerful tool to filter a main table (i.e. employees) by another (i.e. customers).\n"
   ]
  },
  {
   "cell_type": "markdown",
   "metadata": {},
   "source": [
    "#### Concatenate DataFrames together vertically"
   ]
  },
  {
   "cell_type": "markdown",
   "metadata": {},
   "source": [
    "- Below are a few tables of data with musical track info for different albums from the metal band, Metallica. \n",
    "- The track info comes from their Ride The Lightning, Master Of Puppets, and St. Anger albums. \n",
    "- We'll try various features of the .concat() method by concatenating the tables vertically together in different ways.\n",
    "\n"
   ]
  },
  {
   "cell_type": "code",
   "execution_count": 72,
   "metadata": {},
   "outputs": [],
   "source": [
    "\n",
    "# Data for tracks_master\n",
    "data_master = {\n",
    "    'tid': [1853, 1854, 1857],\n",
    "    'name': ['Battery', 'Master Of Puppets', 'Disposable Heroes'],\n",
    "    'aid': [152, 152, 152],\n",
    "    'mtid': [1, 1, 1],\n",
    "    'gid': [3, 3, 3],\n",
    "    'composer': ['J.Hetfield/L.Ulrich', 'K.Hammett', 'J.Hetfield/L.Ulrich'],\n",
    "    'u_price': [0.99, 0.99, 0.99]\n",
    "}\n",
    "\n",
    "# Data for tracks_ride\n",
    "data_ride = {\n",
    "    'tid': [1874, 1875, 1876, 1877, 1878],\n",
    "    'name': ['Fight Fire With Fire', 'Ride The Lightning', 'For Whom The Bell Tolls', 'Fade To Black', 'Trapped Under Ice'],\n",
    "    'aid': [154, 154, 154, 154, 154],\n",
    "    'mtid': [1, 1, 1, 1, 1],\n",
    "    'gid': [3, 3, 3, 3, 3],\n",
    "    'u_price': [0.99, 0.99, 0.99, 0.99, 0.99]\n",
    "}\n",
    "\n",
    "# Data for tracks_st\n",
    "data_st = {\n",
    "    'tid': [1882, 1883, 1884, 1885, 1886],\n",
    "    'name': ['Frantic', 'St. Anger', 'Some Kind Of Monster', 'Dirty Window', 'Invisible Kid'],\n",
    "    'aid': [155, 155, 155, 155, 155],\n",
    "    'mtid': [1, 1, 1, 1, 1],\n",
    "    'gid': [3, 3, 3, 3, 3],\n",
    "    'u_price': [0.99, 0.99, 0.99, 0.99, 0.99]\n",
    "}\n",
    "\n",
    "# Creating the DataFrames\n",
    "tracks_master = pd.DataFrame(data_master)\n",
    "tracks_ride = pd.DataFrame(data_ride)\n",
    "tracks_st = pd.DataFrame(data_st)"
   ]
  },
  {
   "cell_type": "code",
   "execution_count": 73,
   "metadata": {},
   "outputs": [
    {
     "name": "stdout",
     "output_type": "stream",
     "text": [
      "   aid             composer  gid  mtid                     name   tid  u_price\n",
      "0  152  J.Hetfield/L.Ulrich    3     1                  Battery  1853     0.99\n",
      "1  152            K.Hammett    3     1        Master Of Puppets  1854     0.99\n",
      "2  152  J.Hetfield/L.Ulrich    3     1        Disposable Heroes  1857     0.99\n",
      "0  154                  NaN    3     1     Fight Fire With Fire  1874     0.99\n",
      "1  154                  NaN    3     1       Ride The Lightning  1875     0.99\n",
      "2  154                  NaN    3     1  For Whom The Bell Tolls  1876     0.99\n",
      "3  154                  NaN    3     1            Fade To Black  1877     0.99\n",
      "4  154                  NaN    3     1        Trapped Under Ice  1878     0.99\n",
      "0  155                  NaN    3     1                  Frantic  1882     0.99\n",
      "1  155                  NaN    3     1                St. Anger  1883     0.99\n",
      "2  155                  NaN    3     1     Some Kind Of Monster  1884     0.99\n",
      "3  155                  NaN    3     1             Dirty Window  1885     0.99\n",
      "4  155                  NaN    3     1            Invisible Kid  1886     0.99\n"
     ]
    }
   ],
   "source": [
    "# 1. Concatenate the tracks\n",
    "tracks_from_albums = pd.concat([tracks_master, tracks_ride, tracks_st],\n",
    "                               sort=True)\n",
    "print(tracks_from_albums)"
   ]
  },
  {
   "cell_type": "code",
   "execution_count": 74,
   "metadata": {},
   "outputs": [
    {
     "name": "stdout",
     "output_type": "stream",
     "text": [
      "   aid             composer  gid  mtid                     name   tid  u_price\n",
      "0  152  J.Hetfield/L.Ulrich    3     1                  Battery  1853     0.99\n",
      "1  152            K.Hammett    3     1        Master Of Puppets  1854     0.99\n",
      "2  152  J.Hetfield/L.Ulrich    3     1        Disposable Heroes  1857     0.99\n",
      "3  154                  NaN    3     1     Fight Fire With Fire  1874     0.99\n",
      "4  154                  NaN    3     1       Ride The Lightning  1875     0.99\n",
      "5  154                  NaN    3     1  For Whom The Bell Tolls  1876     0.99\n",
      "6  154                  NaN    3     1            Fade To Black  1877     0.99\n",
      "7  154                  NaN    3     1        Trapped Under Ice  1878     0.99\n",
      "8  155                  NaN    3     1                  Frantic  1882     0.99\n",
      "9  155                  NaN    3     1                St. Anger  1883     0.99\n"
     ]
    }
   ],
   "source": [
    "# 2. Concatenate the tracks so the index goes from 0 to n-1\n",
    "tracks_from_albums = pd.concat([tracks_master, tracks_ride, tracks_st],\n",
    "                               ignore_index=True,\n",
    "                               sort=True)\n",
    "print(tracks_from_albums.head(10))"
   ]
  },
  {
   "cell_type": "code",
   "execution_count": 75,
   "metadata": {},
   "outputs": [
    {
     "name": "stdout",
     "output_type": "stream",
     "text": [
      "   aid  gid  mtid                     name   tid  u_price\n",
      "0  152    3     1                  Battery  1853     0.99\n",
      "1  152    3     1        Master Of Puppets  1854     0.99\n",
      "2  152    3     1        Disposable Heroes  1857     0.99\n",
      "0  154    3     1     Fight Fire With Fire  1874     0.99\n",
      "1  154    3     1       Ride The Lightning  1875     0.99\n",
      "2  154    3     1  For Whom The Bell Tolls  1876     0.99\n",
      "3  154    3     1            Fade To Black  1877     0.99\n",
      "4  154    3     1        Trapped Under Ice  1878     0.99\n",
      "0  155    3     1                  Frantic  1882     0.99\n",
      "1  155    3     1                St. Anger  1883     0.99\n",
      "2  155    3     1     Some Kind Of Monster  1884     0.99\n",
      "3  155    3     1             Dirty Window  1885     0.99\n",
      "4  155    3     1            Invisible Kid  1886     0.99\n"
     ]
    }
   ],
   "source": [
    "# 3. Concatenate the tracks, show only columns names that are in all tables\n",
    "tracks_from_albums = pd.concat([tracks_master, tracks_ride, tracks_st],\n",
    "                               join='inner',\n",
    "                               sort=True)\n",
    "print(tracks_from_albums)"
   ]
  },
  {
   "cell_type": "markdown",
   "metadata": {},
   "source": [
    "#### Concatenating with keys\n",
    "\n",
    "The leadership of the music streaming company has come to you and asked you for assistance in analyzing sales for a recent business quarter. They would like to know which month in the quarter saw the highest average invoice total. You have been given three tables with invoice data named inv_jul, inv_aug, and inv_sep. Concatenate these tables into one to create a graph of the average monthly invoice total."
   ]
  },
  {
   "cell_type": "markdown",
   "metadata": {},
   "source": [
    "##### Creating dataframes for the task"
   ]
  },
  {
   "cell_type": "code",
   "execution_count": 76,
   "metadata": {},
   "outputs": [],
   "source": [
    "from io import StringIO\n",
    "\n",
    "# Define the raw data for the three months (July, August, September)\n",
    "data_jul = \"\"\"\n",
    "iid,cid,invoice_date,total,bill_ctry\n",
    "42,51,2009-07-06,1.98,Sweden\n",
    "43,53,2009-07-06,1.98,UK\n",
    "44,55,2009-07-07,3.96,Australia\n",
    "45,59,2009-07-08,5.94,India\n",
    "46,6,2009-07-11,8.91,Czech Republic\n",
    "47,15,2009-07-16,13.86,Canada\n",
    "48,29,2009-07-24,0.99,Canada\n",
    "126,35,2010-07-13,1.98,Portugal\n",
    "127,37,2010-07-13,1.98,Germany\n",
    "128,39,2010-07-14,3.96,France\n",
    "129,43,2010-07-15,5.94,France\n",
    "130,49,2010-07-18,8.91,Poland\n",
    "131,58,2010-07-23,13.86,India\n",
    "132,13,2010-07-31,0.99,Brazil\n",
    "209,18,2011-07-07,0.99,USA\n",
    "210,19,2011-07-20,1.98,USA\n",
    "211,21,2011-07-20,1.98,USA\n",
    "212,23,2011-07-21,3.96,USA\n",
    "213,27,2011-07-22,5.94,USA\n",
    "214,33,2011-07-25,8.91,Canada\n",
    "215,42,2011-07-30,13.86,France\n",
    "292,47,2012-07-05,13.86,Italy\n",
    "293,2,2012-07-13,0.99,Germany\n",
    "294,3,2012-07-26,1.98,Canada\n",
    "295,5,2012-07-26,1.98,Czech Republic\n",
    "296,7,2012-07-27,3.96,Austria\n",
    "297,11,2012-07-28,5.94,Brazil\n",
    "298,17,2012-07-31,10.91,USA\n",
    "371,8,2013-07-02,1.98,Belgium\n",
    "372,10,2013-07-02,1.98,Brazil\n",
    "373,12,2013-07-03,3.96,Brazil\n",
    "374,16,2013-07-04,5.94,USA\n",
    "375,22,2013-07-07,8.91,USA\n",
    "376,31,2013-07-12,13.86,Canada\n",
    "377,45,2013-07-20,0.99,Hungary\n",
    "\"\"\"\n",
    "\n",
    "data_aug = \"\"\"\n",
    "iid,cid,invoice_date,total,bill_ctry\n",
    "49,30,2009-08-06,1.98,Canada\n",
    "50,32,2009-08-06,1.98,Canada\n",
    "51,34,2009-08-07,3.96,Portugal\n",
    "52,38,2009-08-08,5.94,Germany\n",
    "53,44,2009-08-11,8.91,Finland\n",
    "54,53,2009-08-16,13.86,UK\n",
    "55,8,2009-08-24,0.99,Belgium\n",
    "133,14,2010-08-13,1.98,Canada\n",
    "134,16,2010-08-13,1.98,USA\n",
    "135,18,2010-08-14,3.96,USA\n",
    "136,22,2010-08-15,5.94,USA\n",
    "137,28,2010-08-18,8.91,USA\n",
    "138,37,2010-08-23,13.86,Germany\n",
    "139,51,2010-08-31,0.99,Sweden\n",
    "216,56,2011-08-07,0.99,Argentina\n",
    "217,57,2011-08-20,1.98,Chile\n",
    "218,59,2011-08-20,1.98,India\n",
    "219,2,2011-08-21,3.96,Germany\n",
    "220,6,2011-08-22,5.94,Czech Republic\n",
    "221,12,2011-08-25,8.91,Brazil\n",
    "222,21,2011-08-30,13.86,USA\n",
    "299,26,2012-08-05,23.86,USA\n",
    "300,40,2012-08-13,0.99,France\n",
    "301,41,2012-08-26,1.98,France\n",
    "302,43,2012-08-26,1.98,France\n",
    "303,45,2012-08-27,3.96,Hungary\n",
    "304,49,2012-08-28,5.94,Poland\n",
    "305,55,2012-08-31,8.91,Australia\n",
    "378,46,2013-08-02,1.98,Ireland\n",
    "379,48,2013-08-02,1.98,Netherlands\n",
    "380,50,2013-08-03,3.96,Spain\n",
    "381,54,2013-08-04,5.94,UK\n",
    "382,1,2013-08-07,8.91,Brazil\n",
    "383,10,2013-08-12,13.86,Brazil\n",
    "384,24,2013-08-20,0.99,USA\n",
    "\"\"\"\n",
    "\n",
    "data_sep = \"\"\"\n",
    "iid,cid,invoice_date,total,bill_ctry\n",
    "56,9,2009-09-06,1.98,Denmark\n",
    "57,11,2009-09-06,1.98,Brazil\n",
    "58,13,2009-09-07,3.96,Brazil\n",
    "59,17,2009-09-08,5.94,USA\n",
    "60,23,2009-09-11,8.91,USA\n",
    "61,32,2009-09-16,13.86,Canada\n",
    "62,46,2009-09-24,0.99,Ireland\n",
    "140,52,2010-09-13,1.98,UK\n",
    "141,54,2010-09-13,1.98,UK\n",
    "142,56,2010-09-14,3.96,Argentina\n",
    "143,1,2010-09-15,5.94,Brazil\n",
    "144,7,2010-09-18,8.91,Austria\n",
    "145,16,2010-09-23,13.86,USA\n",
    "223,35,2011-09-07,0.99,Portugal\n",
    "224,36,2011-09-20,1.98,Germany\n",
    "225,38,2011-09-20,1.98,Germany\n",
    "226,40,2011-09-21,3.96,France\n",
    "227,44,2011-09-22,5.94,Finland\n",
    "228,50,2011-09-25,8.91,Spain\n",
    "229,59,2011-09-30,13.86,India\n",
    "306,5,2012-09-05,16.86,Czech Republic\n",
    "307,19,2012-09-13,1.99,USA\n",
    "308,20,2012-09-26,3.98,USA\n",
    "309,22,2012-09-26,3.98,USA\n",
    "310,24,2012-09-27,7.96,USA\n",
    "311,28,2012-09-28,11.94,USA\n",
    "385,25,2013-09-02,1.98,USA\n",
    "386,27,2013-09-02,1.98,USA\n",
    "387,29,2013-09-03,3.96,Canada\n",
    "388,33,2013-09-04,5.94,Canada\n",
    "389,39,2013-09-07,8.91,France\n",
    "390,48,2013-09-12,13.86,Netherlands\n",
    "391,3,2013-09-20,0.99,Canada\n",
    "\"\"\"\n",
    "\n",
    "# Load the data into DataFrames\n",
    "inv_jul = pd.read_csv(StringIO(data_jul))\n",
    "inv_aug = pd.read_csv(StringIO(data_aug))\n",
    "inv_sep = pd.read_csv(StringIO(data_sep))\n",
    "\n",
    "# Display the dataframes\n",
    "# print(\"Invoice Data for July:\")\n",
    "# print(inv_jul.head())\n",
    "# print(\"\\nInvoice Data for August:\")\n",
    "# print(inv_aug.head())\n",
    "# print(\"\\nInvoice Data for September:\")\n",
    "# print(inv_sep.head())"
   ]
  },
  {
   "cell_type": "markdown",
   "metadata": {},
   "source": [
    "Concatenating the tables with a key provides a hierarchical index that can be used for grouping. Once grouped, you can average the groups and create plots. We were able to find out that September had the highest average invoice total."
   ]
  },
  {
   "cell_type": "markdown",
   "metadata": {},
   "source": [
    "##### Concatenating the tables with keys"
   ]
  },
  {
   "cell_type": "code",
   "execution_count": 77,
   "metadata": {},
   "outputs": [
    {
     "data": {
      "image/png": "[encoded data removed]",
      "text/plain": [
       "<Figure size 640x480 with 1 Axes>"
      ]
     },
     "metadata": {},
     "output_type": "display_data"
    }
   ],
   "source": [
    "# Concatenate the tables and add keys\n",
    "inv_jul_thr_sep = pd.concat([inv_jul,inv_aug,inv_sep], \n",
    "                            keys=('7Jul','8Aug','9Sep'))\n",
    "\n",
    "# Group the invoices by the index keys and find avg of the total column\n",
    "avg_inv_by_month = inv_jul_thr_sep.groupby(level=0).agg({'total':'mean'})\n",
    "\n",
    "# Bar plot of avg_inv_by_month\n",
    "avg_inv_by_month.plot(kind='bar')\n",
    "plt.show()"
   ]
  },
  {
   "cell_type": "markdown",
   "metadata": {},
   "source": [
    "#### Verifying integrity"
   ]
  },
  {
   "cell_type": "markdown",
   "metadata": {},
   "source": [
    "Why verify data integrity?\n",
    "- Real world data is *NOT* clean\n",
    "  \n",
    "What to do?\n",
    "- Fix incorrect data\n",
    "- Drop duplicate rows"
   ]
  },
  {
   "cell_type": "markdown",
   "metadata": {},
   "source": [
    "- `.merge()` and `.concat()` has special features that allow us to verify data structure.\n",
    "  \n",
    "- When ***merging*** two tables, we might expect the tables to have a *one-to-one* relationship. However, one of the columns we are merging on may have a duplicated value, which will turn the relationship into a *one-to-many*. \n",
    "  \n",
    "- When ***concatenating*** tables vertically, we might unintentionally create duplicate records if a record exists in both tables. The `validate` and `verify_integrity` arguments of the merge and concat methods respectively will allow us to verify the data.\n",
    "\n"
   ]
  },
  {
   "cell_type": "markdown",
   "metadata": {},
   "source": [
    "**Concatenate and merge to find common songs**\n",
    "\n",
    "The senior leadership of the streaming service is requesting help again. We are given the historical files for a popular playlist in the classical music genre in 2018 and 2019. Additionally, we are given a similar set of files for the most popular pop music genre playlist on the streaming service in 2018 and 2019. Your goal is to concatenate the respective files to make a large classical playlist table and overall popular music table. Then filter the classical music table using a semi join to return only the most popular classical music tracks.\n",
    "\n",
    "The tables `classic_18`, `classic_19`, and `pop_18`, `pop_19` needs to be created."
   ]
  },
  {
   "cell_type": "code",
   "execution_count": 78,
   "metadata": {},
   "outputs": [],
   "source": [
    "# # Concatenate the classic tables vertically\n",
    "# classic_18_19 = pd.concat([classic_18, classic_19], ignore_index=True)\n",
    "\n",
    "# # Concatenate the pop tables vertically\n",
    "# pop_18_19 = pd.concat([pop_18, pop_19], ignore_index=True)\n",
    "\n",
    "# # Merge classic_18_19 with pop_18_19\n",
    "# classic_pop = classic_18_19.merge(pop_18_19, on='tid',how='inner')\n",
    "\n",
    "# # Using .isin(), filter classic_18_19 rows where tid is in classic_pop\n",
    "# popular_classic = classic_18_19[classic_18_19['tid'].isin(classic_pop['tid'])]\n",
    "\n",
    "# # Print popular chart\n",
    "# print(popular_classic)"
   ]
  },
  {
   "cell_type": "markdown",
   "metadata": {},
   "source": [
    "# Merging Ordered and Time-Series Data"
   ]
  },
  {
   "cell_type": "markdown",
   "metadata": {},
   "source": [
    "#### .merge_ordered()\n",
    "\n",
    "<img src='../img/merge-ordered.jpg' width='500'>\n",
    "\n",
    "The merge_ordered method will allow us to merge the left and right tables shown here. We can see the output of the merge when we merge on the \"C\" column. The results are similar to the standard merge method with an outer join, but here that the results are sorted. The sorted results make this a useful method for ordered or time-series data.\n",
    "\n",
    "<img src='../img/merge_ordered_ex.jpg' width='500'>"
   ]
  },
  {
   "cell_type": "code",
   "execution_count": 79,
   "metadata": {},
   "outputs": [
    {
     "data": {
      "text/html": [
       "<div>\n",
       "<style scoped>\n",
       "    .dataframe tbody tr th:only-of-type {\n",
       "        vertical-align: middle;\n",
       "    }\n",
       "\n",
       "    .dataframe tbody tr th {\n",
       "        vertical-align: top;\n",
       "    }\n",
       "\n",
       "    .dataframe thead th {\n",
       "        text-align: right;\n",
       "    }\n",
       "</style>\n",
       "<table border=\"1\" class=\"dataframe\">\n",
       "  <thead>\n",
       "    <tr style=\"text-align: right;\">\n",
       "      <th></th>\n",
       "      <th>Country Name</th>\n",
       "      <th>Country Code</th>\n",
       "      <th>Indicator Name</th>\n",
       "      <th>Year</th>\n",
       "      <th>GDP</th>\n",
       "    </tr>\n",
       "  </thead>\n",
       "  <tbody>\n",
       "    <tr>\n",
       "      <th>0</th>\n",
       "      <td>China</td>\n",
       "      <td>CHN</td>\n",
       "      <td>GDP (current US$)</td>\n",
       "      <td>2010</td>\n",
       "      <td>6.087160e+12</td>\n",
       "    </tr>\n",
       "    <tr>\n",
       "      <th>1</th>\n",
       "      <td>Germany</td>\n",
       "      <td>DEU</td>\n",
       "      <td>GDP (current US$)</td>\n",
       "      <td>2010</td>\n",
       "      <td>3.417090e+12</td>\n",
       "    </tr>\n",
       "    <tr>\n",
       "      <th>2</th>\n",
       "      <td>Japan</td>\n",
       "      <td>JPN</td>\n",
       "      <td>GDP (current US$)</td>\n",
       "      <td>2010</td>\n",
       "      <td>5.700100e+12</td>\n",
       "    </tr>\n",
       "    <tr>\n",
       "      <th>3</th>\n",
       "      <td>United States</td>\n",
       "      <td>USA</td>\n",
       "      <td>GDP (current US$)</td>\n",
       "      <td>2010</td>\n",
       "      <td>1.499210e+13</td>\n",
       "    </tr>\n",
       "    <tr>\n",
       "      <th>4</th>\n",
       "      <td>China</td>\n",
       "      <td>CHN</td>\n",
       "      <td>GDP (current US$)</td>\n",
       "      <td>2011</td>\n",
       "      <td>7.551500e+12</td>\n",
       "    </tr>\n",
       "  </tbody>\n",
       "</table>\n",
       "</div>"
      ],
      "text/plain": [
       "    Country Name Country Code     Indicator Name  Year           GDP\n",
       "0          China          CHN  GDP (current US$)  2010  6.087160e+12\n",
       "1        Germany          DEU  GDP (current US$)  2010  3.417090e+12\n",
       "2          Japan          JPN  GDP (current US$)  2010  5.700100e+12\n",
       "3  United States          USA  GDP (current US$)  2010  1.499210e+13\n",
       "4          China          CHN  GDP (current US$)  2011  7.551500e+12"
      ]
     },
     "execution_count": 79,
     "metadata": {},
     "output_type": "execute_result"
    }
   ],
   "source": [
    "gdp = pd.read_csv(\"../data/pandas_datasets/pandas-joins/WorldBank_GDP.csv\")\n",
    "gdp.head(5)"
   ]
  },
  {
   "cell_type": "code",
   "execution_count": 80,
   "metadata": {},
   "outputs": [
    {
     "data": {
      "text/html": [
       "<div>\n",
       "<style scoped>\n",
       "    .dataframe tbody tr th:only-of-type {\n",
       "        vertical-align: middle;\n",
       "    }\n",
       "\n",
       "    .dataframe tbody tr th {\n",
       "        vertical-align: top;\n",
       "    }\n",
       "\n",
       "    .dataframe thead th {\n",
       "        text-align: right;\n",
       "    }\n",
       "</style>\n",
       "<table border=\"1\" class=\"dataframe\">\n",
       "  <thead>\n",
       "    <tr style=\"text-align: right;\">\n",
       "      <th></th>\n",
       "      <th>Date</th>\n",
       "      <th>Returns</th>\n",
       "    </tr>\n",
       "  </thead>\n",
       "  <tbody>\n",
       "    <tr>\n",
       "      <th>0</th>\n",
       "      <td>2008</td>\n",
       "      <td>-38.49</td>\n",
       "    </tr>\n",
       "    <tr>\n",
       "      <th>1</th>\n",
       "      <td>2009</td>\n",
       "      <td>23.45</td>\n",
       "    </tr>\n",
       "    <tr>\n",
       "      <th>2</th>\n",
       "      <td>2010</td>\n",
       "      <td>12.78</td>\n",
       "    </tr>\n",
       "    <tr>\n",
       "      <th>3</th>\n",
       "      <td>2011</td>\n",
       "      <td>0.00</td>\n",
       "    </tr>\n",
       "    <tr>\n",
       "      <th>4</th>\n",
       "      <td>2012</td>\n",
       "      <td>13.41</td>\n",
       "    </tr>\n",
       "  </tbody>\n",
       "</table>\n",
       "</div>"
      ],
      "text/plain": [
       "   Date  Returns\n",
       "0  2008   -38.49\n",
       "1  2009    23.45\n",
       "2  2010    12.78\n",
       "3  2011     0.00\n",
       "4  2012    13.41"
      ]
     },
     "execution_count": 80,
     "metadata": {},
     "output_type": "execute_result"
    }
   ],
   "source": [
    "sp500 = pd.read_csv(\"../data/pandas_datasets/pandas-joins/S&P500.csv\")\n",
    "sp500.head(5)"
   ]
  },
  {
   "cell_type": "code",
   "execution_count": 81,
   "metadata": {},
   "outputs": [],
   "source": [
    "# Use merge_ordered() to merge gdp and sp500, and forward fill missing values\n",
    "gdp_sp500 = pd.merge_ordered(gdp, sp500, left_on='Year', right_on='Date', \n",
    "                             how='left',  fill_method='ffill')"
   ]
  },
  {
   "cell_type": "code",
   "execution_count": 82,
   "metadata": {},
   "outputs": [
    {
     "data": {
      "text/html": [
       "<div>\n",
       "<style scoped>\n",
       "    .dataframe tbody tr th:only-of-type {\n",
       "        vertical-align: middle;\n",
       "    }\n",
       "\n",
       "    .dataframe tbody tr th {\n",
       "        vertical-align: top;\n",
       "    }\n",
       "\n",
       "    .dataframe thead th {\n",
       "        text-align: right;\n",
       "    }\n",
       "</style>\n",
       "<table border=\"1\" class=\"dataframe\">\n",
       "  <thead>\n",
       "    <tr style=\"text-align: right;\">\n",
       "      <th></th>\n",
       "      <th>Country Name</th>\n",
       "      <th>Country Code</th>\n",
       "      <th>Indicator Name</th>\n",
       "      <th>Year</th>\n",
       "      <th>GDP</th>\n",
       "      <th>Date</th>\n",
       "      <th>Returns</th>\n",
       "    </tr>\n",
       "  </thead>\n",
       "  <tbody>\n",
       "    <tr>\n",
       "      <th>0</th>\n",
       "      <td>China</td>\n",
       "      <td>CHN</td>\n",
       "      <td>GDP (current US$)</td>\n",
       "      <td>2010</td>\n",
       "      <td>6.087160e+12</td>\n",
       "      <td>2010</td>\n",
       "      <td>12.78</td>\n",
       "    </tr>\n",
       "    <tr>\n",
       "      <th>1</th>\n",
       "      <td>Germany</td>\n",
       "      <td>DEU</td>\n",
       "      <td>GDP (current US$)</td>\n",
       "      <td>2010</td>\n",
       "      <td>3.417090e+12</td>\n",
       "      <td>2010</td>\n",
       "      <td>12.78</td>\n",
       "    </tr>\n",
       "    <tr>\n",
       "      <th>2</th>\n",
       "      <td>Japan</td>\n",
       "      <td>JPN</td>\n",
       "      <td>GDP (current US$)</td>\n",
       "      <td>2010</td>\n",
       "      <td>5.700100e+12</td>\n",
       "      <td>2010</td>\n",
       "      <td>12.78</td>\n",
       "    </tr>\n",
       "    <tr>\n",
       "      <th>3</th>\n",
       "      <td>United States</td>\n",
       "      <td>USA</td>\n",
       "      <td>GDP (current US$)</td>\n",
       "      <td>2010</td>\n",
       "      <td>1.499210e+13</td>\n",
       "      <td>2010</td>\n",
       "      <td>12.78</td>\n",
       "    </tr>\n",
       "    <tr>\n",
       "      <th>4</th>\n",
       "      <td>China</td>\n",
       "      <td>CHN</td>\n",
       "      <td>GDP (current US$)</td>\n",
       "      <td>2011</td>\n",
       "      <td>7.551500e+12</td>\n",
       "      <td>2011</td>\n",
       "      <td>0.00</td>\n",
       "    </tr>\n",
       "  </tbody>\n",
       "</table>\n",
       "</div>"
      ],
      "text/plain": [
       "    Country Name Country Code     Indicator Name  Year           GDP  Date  \\\n",
       "0          China          CHN  GDP (current US$)  2010  6.087160e+12  2010   \n",
       "1        Germany          DEU  GDP (current US$)  2010  3.417090e+12  2010   \n",
       "2          Japan          JPN  GDP (current US$)  2010  5.700100e+12  2010   \n",
       "3  United States          USA  GDP (current US$)  2010  1.499210e+13  2010   \n",
       "4          China          CHN  GDP (current US$)  2011  7.551500e+12  2011   \n",
       "\n",
       "   Returns  \n",
       "0    12.78  \n",
       "1    12.78  \n",
       "2    12.78  \n",
       "3    12.78  \n",
       "4     0.00  "
      ]
     },
     "execution_count": 82,
     "metadata": {},
     "output_type": "execute_result"
    }
   ],
   "source": [
    "gdp_sp500.head(5)"
   ]
  },
  {
   "cell_type": "code",
   "execution_count": 83,
   "metadata": {},
   "outputs": [],
   "source": [
    "# Subset the gdp and returns columns\n",
    "gdp_returns = gdp_sp500[['GDP', 'Returns']]"
   ]
  },
  {
   "cell_type": "code",
   "execution_count": 84,
   "metadata": {},
   "outputs": [
    {
     "name": "stdout",
     "output_type": "stream",
     "text": [
      "              GDP   Returns\n",
      "GDP      1.000000  0.040669\n",
      "Returns  0.040669  1.000000\n"
     ]
    }
   ],
   "source": [
    "\n",
    "# Print gdp_returns correlation\n",
    "print (gdp_returns.corr())"
   ]
  },
  {
   "cell_type": "markdown",
   "metadata": {},
   "source": [
    "Finally, the correlation of 0.04 between the GDP and S&P500 is low to moderate at best. We may want to find another predictor if we plan to play in the stock market."
   ]
  },
  {
   "cell_type": "code",
   "execution_count": 85,
   "metadata": {},
   "outputs": [
    {
     "name": "stdout",
     "output_type": "stream",
     "text": [
      "          date  unemployment_rate\n",
      "0   2013-06-01                7.5\n",
      "1   2014-01-01                6.7\n",
      "2   2014-06-01                6.1\n",
      "3   2015-01-01                5.6\n",
      "4   2015-06-01                5.3\n",
      "5   2016-01-01                5.0\n",
      "6   2016-06-01                4.9\n",
      "7   2017-01-01                4.7\n",
      "8   2017-06-01                4.3\n",
      "9   2018-01-01                4.1\n",
      "10  2018-06-01                4.0\n",
      "11  2019-01-01                3.9\n",
      "12  2019-06-01                3.7\n",
      "13  2020-01-01                3.5\n"
     ]
    }
   ],
   "source": [
    "data = {'date': ['2013-06-01', '2014-01-01', '2014-06-01', '2015-01-01', '2015-06-01', '2016-01-01', '2016-06-01', '2017-01-01', '2017-06-01', '2018-01-01', '2018-06-01', '2019-01-01', '2019-06-01', '2020-01-01'],\n",
    "        'unemployment_rate': [7.5, 6.7, 6.1, 5.6, 5.3, 5.0, 4.9, 4.7, 4.3, 4.1, 4.0, 3.9, 3.7, 3.5]}\n",
    "\n",
    "unemployment = pd.DataFrame(data)\n",
    "\n",
    "print(unemployment)"
   ]
  },
  {
   "cell_type": "code",
   "execution_count": 86,
   "metadata": {},
   "outputs": [
    {
     "name": "stdout",
     "output_type": "stream",
     "text": [
      "          date      cpi     seriesid                  data_type\n",
      "0   2014-01-01  235.288  CUSR0000SA0  SEASONALLY ADJUSTED INDEX\n",
      "1   2014-02-01  235.547  CUSR0000SA0  SEASONALLY ADJUSTED INDEX\n",
      "2   2014-03-01  236.028  CUSR0000SA0  SEASONALLY ADJUSTED INDEX\n",
      "3   2014-04-01  236.468  CUSR0000SA0  SEASONALLY ADJUSTED INDEX\n",
      "4   2014-05-01  236.918  CUSR0000SA0  SEASONALLY ADJUSTED INDEX\n",
      "5   2014-06-01  237.231  CUSR0000SA0  SEASONALLY ADJUSTED INDEX\n",
      "6   2014-07-01  237.498  CUSR0000SA0  SEASONALLY ADJUSTED INDEX\n",
      "7   2014-08-01  237.460  CUSR0000SA0  SEASONALLY ADJUSTED INDEX\n",
      "8   2014-09-01  237.477  CUSR0000SA0  SEASONALLY ADJUSTED INDEX\n",
      "9   2014-10-01  237.430  CUSR0000SA0  SEASONALLY ADJUSTED INDEX\n",
      "10  2014-11-01  236.983  CUSR0000SA0  SEASONALLY ADJUSTED INDEX\n",
      "11  2014-12-01  236.252  CUSR0000SA0  SEASONALLY ADJUSTED INDEX\n",
      "12  2015-01-01  234.718  CUSR0000SA0  SEASONALLY ADJUSTED INDEX\n",
      "13  2015-02-01  235.236  CUSR0000SA0  SEASONALLY ADJUSTED INDEX\n",
      "14  2015-03-01  236.005  CUSR0000SA0  SEASONALLY ADJUSTED INDEX\n",
      "15  2015-04-01  236.156  CUSR0000SA0  SEASONALLY ADJUSTED INDEX\n",
      "16  2015-05-01  236.974  CUSR0000SA0  SEASONALLY ADJUSTED INDEX\n",
      "17  2015-06-01  237.684  CUSR0000SA0  SEASONALLY ADJUSTED INDEX\n",
      "18  2015-07-01  238.053  CUSR0000SA0  SEASONALLY ADJUSTED INDEX\n",
      "19  2015-08-01  238.028  CUSR0000SA0  SEASONALLY ADJUSTED INDEX\n",
      "20  2015-09-01  237.506  CUSR0000SA0  SEASONALLY ADJUSTED INDEX\n",
      "21  2015-10-01  237.781  CUSR0000SA0  SEASONALLY ADJUSTED INDEX\n",
      "22  2015-11-01  238.016  CUSR0000SA0  SEASONALLY ADJUSTED INDEX\n",
      "23  2015-12-01  237.817  CUSR0000SA0  SEASONALLY ADJUSTED INDEX\n",
      "24  2016-01-01  237.833  CUSR0000SA0  SEASONALLY ADJUSTED INDEX\n",
      "25  2016-02-01  237.469  CUSR0000SA0  SEASONALLY ADJUSTED INDEX\n",
      "26  2016-03-01  238.038  CUSR0000SA0  SEASONALLY ADJUSTED INDEX\n",
      "27  2016-04-01  238.827  CUSR0000SA0  SEASONALLY ADJUSTED INDEX\n",
      "28  2016-05-01  239.464  CUSR0000SA0  SEASONALLY ADJUSTED INDEX\n",
      "29  2016-06-01  240.167  CUSR0000SA0  SEASONALLY ADJUSTED INDEX\n",
      "30  2016-07-01  240.150  CUSR0000SA0  SEASONALLY ADJUSTED INDEX\n",
      "31  2016-08-01  240.602  CUSR0000SA0  SEASONALLY ADJUSTED INDEX\n",
      "32  2016-09-01  241.051  CUSR0000SA0  SEASONALLY ADJUSTED INDEX\n",
      "33  2016-10-01  241.691  CUSR0000SA0  SEASONALLY ADJUSTED INDEX\n",
      "34  2016-11-01  242.029  CUSR0000SA0  SEASONALLY ADJUSTED INDEX\n",
      "35  2016-12-01  242.772  CUSR0000SA0  SEASONALLY ADJUSTED INDEX\n",
      "36  2017-01-01  243.780  CUSR0000SA0  SEASONALLY ADJUSTED INDEX\n",
      "37  2017-02-01  243.961  CUSR0000SA0  SEASONALLY ADJUSTED INDEX\n",
      "38  2017-03-01  243.749  CUSR0000SA0  SEASONALLY ADJUSTED INDEX\n",
      "39  2017-04-01  244.051  CUSR0000SA0  SEASONALLY ADJUSTED INDEX\n",
      "40  2017-05-01  243.962  CUSR0000SA0  SEASONALLY ADJUSTED INDEX\n",
      "41  2017-06-01  244.182  CUSR0000SA0  SEASONALLY ADJUSTED INDEX\n",
      "42  2017-07-01  244.390  CUSR0000SA0  SEASONALLY ADJUSTED INDEX\n",
      "43  2017-08-01  245.297  CUSR0000SA0  SEASONALLY ADJUSTED INDEX\n",
      "44  2017-09-01  246.418  CUSR0000SA0  SEASONALLY ADJUSTED INDEX\n",
      "45  2017-10-01  246.587  CUSR0000SA0  SEASONALLY ADJUSTED INDEX\n",
      "46  2017-11-01  247.332  CUSR0000SA0  SEASONALLY ADJUSTED INDEX\n",
      "47  2017-12-01  247.901  CUSR0000SA0  SEASONALLY ADJUSTED INDEX\n",
      "48  2018-01-01  248.884  CUSR0000SA0  SEASONALLY ADJUSTED INDEX\n",
      "49  2018-02-01  249.369  CUSR0000SA0  SEASONALLY ADJUSTED INDEX\n",
      "50  2018-03-01  249.498  CUSR0000SA0  SEASONALLY ADJUSTED INDEX\n",
      "51  2018-04-01  249.956  CUSR0000SA0  SEASONALLY ADJUSTED INDEX\n",
      "52  2018-05-01  250.646  CUSR0000SA0  SEASONALLY ADJUSTED INDEX\n",
      "53  2018-06-01  251.134  CUSR0000SA0  SEASONALLY ADJUSTED INDEX\n",
      "54  2018-07-01  251.597  CUSR0000SA0  SEASONALLY ADJUSTED INDEX\n",
      "55  2018-08-01  251.879  CUSR0000SA0  SEASONALLY ADJUSTED INDEX\n",
      "56  2018-09-01  252.010  CUSR0000SA0  SEASONALLY ADJUSTED INDEX\n",
      "57  2018-10-01  252.794  CUSR0000SA0  SEASONALLY ADJUSTED INDEX\n",
      "58  2018-11-01  252.760  CUSR0000SA0  SEASONALLY ADJUSTED INDEX\n",
      "59  2018-12-01  252.723  CUSR0000SA0  SEASONALLY ADJUSTED INDEX\n"
     ]
    }
   ],
   "source": [
    "data = {\n",
    "    'date': ['2014-01-01', '2014-02-01', '2014-03-01', '2014-04-01', '2014-05-01', '2014-06-01', '2014-07-01', '2014-08-01', '2014-09-01', '2014-10-01', '2014-11-01', '2014-12-01', '2015-01-01', '2015-02-01', '2015-03-01', '2015-04-01', '2015-05-01', '2015-06-01', '2015-07-01', '2015-08-01', '2015-09-01', '2015-10-01', '2015-11-01', '2015-12-01', '2016-01-01', '2016-02-01', '2016-03-01', '2016-04-01', '2016-05-01', '2016-06-01', '2016-07-01', '2016-08-01', '2016-09-01', '2016-10-01', '2016-11-01', '2016-12-01', '2017-01-01', '2017-02-01', '2017-03-01', '2017-04-01', '2017-05-01', '2017-06-01', '2017-07-01', '2017-08-01', '2017-09-01', '2017-10-01', '2017-11-01', '2017-12-01', '2018-01-01', '2018-02-01', '2018-03-01', '2018-04-01', '2018-05-01', '2018-06-01', '2018-07-01', '2018-08-01', '2018-09-01', '2018-10-01', '2018-11-01', '2018-12-01'],\n",
    "    'cpi': [235.288, 235.547, 236.028, 236.468, 236.918, 237.231, 237.498, 237.460, 237.477, 237.430, 236.983, 236.252, 234.718, 235.236, 236.005, 236.156, 236.974, 237.684, 238.053, 238.028, 237.506, 237.781, 238.016, 237.817, 237.833, 237.469, 238.038, 238.827, 239.464, 240.167, 240.150, 240.602, 241.051, 241.691, 242.029, 242.772, 243.780, 243.961, 243.749, 244.051, 243.962, 244.182, 244.390, 245.297, 246.418, 246.587, 247.332, 247.901, 248.884, 249.369, 249.498, 249.956, 250.646, 251.134, 251.597, 251.879, 252.010, 252.794, 252.760, 252.723],\n",
    "    'seriesid': ['CUSR0000SA0'] * 60,  # Efficiently repeat the series ID\n",
    "    'data_type': ['SEASONALLY ADJUSTED INDEX'] * 60  # Efficiently repeat the data type\n",
    "}\n",
    "\n",
    "inflation = pd.DataFrame(data)\n",
    "\n",
    "print(inflation)"
   ]
  },
  {
   "cell_type": "code",
   "execution_count": 87,
   "metadata": {},
   "outputs": [
    {
     "name": "stdout",
     "output_type": "stream",
     "text": [
      "         date      cpi     seriesid                  data_type  \\\n",
      "0  2014-01-01  235.288  CUSR0000SA0  SEASONALLY ADJUSTED INDEX   \n",
      "1  2014-06-01  237.231  CUSR0000SA0  SEASONALLY ADJUSTED INDEX   \n",
      "2  2015-01-01  234.718  CUSR0000SA0  SEASONALLY ADJUSTED INDEX   \n",
      "3  2015-06-01  237.684  CUSR0000SA0  SEASONALLY ADJUSTED INDEX   \n",
      "4  2016-01-01  237.833  CUSR0000SA0  SEASONALLY ADJUSTED INDEX   \n",
      "5  2016-06-01  240.167  CUSR0000SA0  SEASONALLY ADJUSTED INDEX   \n",
      "6  2017-01-01  243.780  CUSR0000SA0  SEASONALLY ADJUSTED INDEX   \n",
      "7  2017-06-01  244.182  CUSR0000SA0  SEASONALLY ADJUSTED INDEX   \n",
      "8  2018-01-01  248.884  CUSR0000SA0  SEASONALLY ADJUSTED INDEX   \n",
      "9  2018-06-01  251.134  CUSR0000SA0  SEASONALLY ADJUSTED INDEX   \n",
      "\n",
      "   unemployment_rate  \n",
      "0                6.7  \n",
      "1                6.1  \n",
      "2                5.6  \n",
      "3                5.3  \n",
      "4                5.0  \n",
      "5                4.9  \n",
      "6                4.7  \n",
      "7                4.3  \n",
      "8                4.1  \n",
      "9                4.0  \n"
     ]
    },
    {
     "data": {
      "image/png": "[encoded data removed]",
      "text/plain": [
       "<Figure size 640x480 with 1 Axes>"
      ]
     },
     "metadata": {},
     "output_type": "display_data"
    }
   ],
   "source": [
    "# Use merge_ordered() to merge inflation, unemployment with inner join\n",
    "inflation_unemploy = pd.merge_ordered(inflation, unemployment, on='date', how='inner')\n",
    "\n",
    "# Print inflation_unemploy \n",
    "print(inflation_unemploy)\n",
    "\n",
    "# Plot a scatter plot of unemployment_rate vs cpi of inflation_unemploy\n",
    "inflation_unemploy.plot(x='unemployment_rate', y='cpi', kind='scatter')\n",
    "plt.show()"
   ]
  },
  {
   "cell_type": "markdown",
   "metadata": {},
   "source": [
    "There are critics of the curve, but what is more important in this example is that we were able to use entries where we had entries in both tables by using an inner join. You might ask why not use the default outer join and use forward fill to fill to estimate the missing variables. we might choose differently. In this case, instead of showing an estimated unemployment rate (which is a continually changing measure) for five periods, that data was dropped from the plot."
   ]
  },
  {
   "cell_type": "code",
   "execution_count": 88,
   "metadata": {},
   "outputs": [
    {
     "data": {
      "text/html": [
       "<div>\n",
       "<style scoped>\n",
       "    .dataframe tbody tr th:only-of-type {\n",
       "        vertical-align: middle;\n",
       "    }\n",
       "\n",
       "    .dataframe tbody tr th {\n",
       "        vertical-align: top;\n",
       "    }\n",
       "\n",
       "    .dataframe thead th {\n",
       "        text-align: right;\n",
       "    }\n",
       "</style>\n",
       "<table border=\"1\" class=\"dataframe\">\n",
       "  <thead>\n",
       "    <tr style=\"text-align: right;\">\n",
       "      <th></th>\n",
       "      <th>date</th>\n",
       "      <th>country</th>\n",
       "      <th>pop</th>\n",
       "      <th>series_code</th>\n",
       "    </tr>\n",
       "  </thead>\n",
       "  <tbody>\n",
       "    <tr>\n",
       "      <th>0</th>\n",
       "      <td>1990-01-01</td>\n",
       "      <td>Australia</td>\n",
       "      <td>17065100</td>\n",
       "      <td>SP.POP.TOTL</td>\n",
       "    </tr>\n",
       "    <tr>\n",
       "      <th>1</th>\n",
       "      <td>1991-01-01</td>\n",
       "      <td>Australia</td>\n",
       "      <td>17284000</td>\n",
       "      <td>SP.POP.TOTL</td>\n",
       "    </tr>\n",
       "  </tbody>\n",
       "</table>\n",
       "</div>"
      ],
      "text/plain": [
       "         date    country       pop  series_code\n",
       "0  1990-01-01  Australia  17065100  SP.POP.TOTL\n",
       "1  1991-01-01  Australia  17284000  SP.POP.TOTL"
      ]
     },
     "execution_count": 88,
     "metadata": {},
     "output_type": "execute_result"
    }
   ],
   "source": [
    "data = {\n",
    "    'date': ['1990-01-01', '1991-01-01', '1992-01-01', '1993-01-01', '1990-01-01', '1991-01-01', '1992-01-01', '1993-01-01'],\n",
    "    'country': ['Australia', 'Australia', 'Australia', 'Australia', 'Sweden', 'Sweden', 'Sweden', 'Sweden'],\n",
    "    'pop': [17065100, 17284000, 17495000, 17667000, 8558835, 8617375, 8668067, 8718561],\n",
    "    'series_code': ['SP.POP.TOTL'] * 8  # Efficiently repeat the series code\n",
    "}\n",
    "\n",
    "pop = pd.DataFrame(data)\n",
    "pop.head(2)"
   ]
  },
  {
   "cell_type": "code",
   "execution_count": 89,
   "metadata": {},
   "outputs": [
    {
     "data": {
      "text/html": [
       "<div>\n",
       "<style scoped>\n",
       "    .dataframe tbody tr th:only-of-type {\n",
       "        vertical-align: middle;\n",
       "    }\n",
       "\n",
       "    .dataframe tbody tr th {\n",
       "        vertical-align: top;\n",
       "    }\n",
       "\n",
       "    .dataframe thead th {\n",
       "        text-align: right;\n",
       "    }\n",
       "</style>\n",
       "<table border=\"1\" class=\"dataframe\">\n",
       "  <thead>\n",
       "    <tr style=\"text-align: right;\">\n",
       "      <th></th>\n",
       "      <th>date</th>\n",
       "      <th>country</th>\n",
       "      <th>gdp</th>\n",
       "      <th>series_code</th>\n",
       "    </tr>\n",
       "  </thead>\n",
       "  <tbody>\n",
       "    <tr>\n",
       "      <th>0</th>\n",
       "      <td>1990-01-01</td>\n",
       "      <td>Australia</td>\n",
       "      <td>158051.132</td>\n",
       "      <td>NYGDPMKTPSAKD</td>\n",
       "    </tr>\n",
       "    <tr>\n",
       "      <th>1</th>\n",
       "      <td>1990-04-01</td>\n",
       "      <td>Australia</td>\n",
       "      <td>158263.582</td>\n",
       "      <td>NYGDPMKTPSAKD</td>\n",
       "    </tr>\n",
       "  </tbody>\n",
       "</table>\n",
       "</div>"
      ],
      "text/plain": [
       "         date    country         gdp    series_code\n",
       "0  1990-01-01  Australia  158051.132  NYGDPMKTPSAKD\n",
       "1  1990-04-01  Australia  158263.582  NYGDPMKTPSAKD"
      ]
     },
     "execution_count": 89,
     "metadata": {},
     "output_type": "execute_result"
    }
   ],
   "source": [
    "data = {\n",
    "    'date': ['1990-01-01', '1990-04-01', '1990-07-01', '1990-09-01', '1991-01-01', '1991-04-01', '1991-07-01', '1991-09-01', '1992-01-01', '1992-04-01', '1992-07-01', '1992-09-01', '1993-01-01', '1993-04-01', '1993-07-01', '1993-09-01', '1990-01-01', '1990-04-01', '1990-07-01', '1990-09-01', '1991-01-01', '1991-04-01', '1991-07-01', '1991-09-01', '1992-01-01', '1992-04-01', '1992-07-01', '1992-09-01', '1993-01-01', '1993-04-01', '1993-07-01', '1993-09-01'],\n",
    "    'country': ['Australia'] * 16 + ['Sweden'] * 16,  # Efficiently repeat country names\n",
    "    'gdp': [158051.132, 158263.582, 157329.279, 158240.678, 156195.954, 155989.033, 156635.858, 156744.057, 157916.081, 159047.827, 160658.176, 163960.221, 165097.495, 166027.059, 166203.179, 169279.348, 79837.846, 80582.286, 79974.360, 80106.497, 79524.242, 79073.059, 79084.770, 79740.606, 79390.922, 79060.283, 78904.605, 76996.837, 75783.588, 76708.548, 77662.018, 77703.304],\n",
    "    'series_code': ['NYGDPMKTPSAKD'] * 32  # Efficiently repeat series code\n",
    "}\n",
    "\n",
    "gdp = pd.DataFrame(data)\n",
    "gdp.head(2)"
   ]
  },
  {
   "cell_type": "code",
   "execution_count": 90,
   "metadata": {},
   "outputs": [
    {
     "data": {
      "text/html": [
       "<div>\n",
       "<style scoped>\n",
       "    .dataframe tbody tr th:only-of-type {\n",
       "        vertical-align: middle;\n",
       "    }\n",
       "\n",
       "    .dataframe tbody tr th {\n",
       "        vertical-align: top;\n",
       "    }\n",
       "\n",
       "    .dataframe thead th {\n",
       "        text-align: right;\n",
       "    }\n",
       "</style>\n",
       "<table border=\"1\" class=\"dataframe\">\n",
       "  <thead>\n",
       "    <tr style=\"text-align: right;\">\n",
       "      <th></th>\n",
       "      <th>date</th>\n",
       "      <th>country</th>\n",
       "      <th>gdp</th>\n",
       "      <th>series_code_x</th>\n",
       "      <th>pop</th>\n",
       "      <th>series_code_y</th>\n",
       "    </tr>\n",
       "  </thead>\n",
       "  <tbody>\n",
       "    <tr>\n",
       "      <th>0</th>\n",
       "      <td>1990-01-01</td>\n",
       "      <td>Australia</td>\n",
       "      <td>158051.132</td>\n",
       "      <td>NYGDPMKTPSAKD</td>\n",
       "      <td>17065100.0</td>\n",
       "      <td>SP.POP.TOTL</td>\n",
       "    </tr>\n",
       "    <tr>\n",
       "      <th>1</th>\n",
       "      <td>1990-01-01</td>\n",
       "      <td>Sweden</td>\n",
       "      <td>79837.846</td>\n",
       "      <td>NYGDPMKTPSAKD</td>\n",
       "      <td>8558835.0</td>\n",
       "      <td>SP.POP.TOTL</td>\n",
       "    </tr>\n",
       "    <tr>\n",
       "      <th>2</th>\n",
       "      <td>1990-04-01</td>\n",
       "      <td>Australia</td>\n",
       "      <td>158263.582</td>\n",
       "      <td>NYGDPMKTPSAKD</td>\n",
       "      <td>NaN</td>\n",
       "      <td>NaN</td>\n",
       "    </tr>\n",
       "    <tr>\n",
       "      <th>3</th>\n",
       "      <td>1990-04-01</td>\n",
       "      <td>Sweden</td>\n",
       "      <td>80582.286</td>\n",
       "      <td>NYGDPMKTPSAKD</td>\n",
       "      <td>NaN</td>\n",
       "      <td>NaN</td>\n",
       "    </tr>\n",
       "    <tr>\n",
       "      <th>4</th>\n",
       "      <td>1990-07-01</td>\n",
       "      <td>Australia</td>\n",
       "      <td>157329.279</td>\n",
       "      <td>NYGDPMKTPSAKD</td>\n",
       "      <td>NaN</td>\n",
       "      <td>NaN</td>\n",
       "    </tr>\n",
       "  </tbody>\n",
       "</table>\n",
       "</div>"
      ],
      "text/plain": [
       "         date    country         gdp  series_code_x         pop series_code_y\n",
       "0  1990-01-01  Australia  158051.132  NYGDPMKTPSAKD  17065100.0   SP.POP.TOTL\n",
       "1  1990-01-01     Sweden   79837.846  NYGDPMKTPSAKD   8558835.0   SP.POP.TOTL\n",
       "2  1990-04-01  Australia  158263.582  NYGDPMKTPSAKD         NaN           NaN\n",
       "3  1990-04-01     Sweden   80582.286  NYGDPMKTPSAKD         NaN           NaN\n",
       "4  1990-07-01  Australia  157329.279  NYGDPMKTPSAKD         NaN           NaN"
      ]
     },
     "execution_count": 90,
     "metadata": {},
     "output_type": "execute_result"
    }
   ],
   "source": [
    "ctry_date = pd.merge_ordered(gdp, pop, on=('date', 'country'))\n",
    "ctry_date.head(5)"
   ]
  },
  {
   "cell_type": "code",
   "execution_count": 91,
   "metadata": {},
   "outputs": [
    {
     "name": "stdout",
     "output_type": "stream",
     "text": [
      "         date    country         gdp  series_code_x       pop series_code_y\n",
      "0  1990-01-01  Australia  158051.132  NYGDPMKTPSAKD  17065100   SP.POP.TOTL\n",
      "1  1990-01-01     Sweden   79837.846  NYGDPMKTPSAKD   8558835   SP.POP.TOTL\n",
      "2  1990-04-01  Australia  158263.582  NYGDPMKTPSAKD   8558835   SP.POP.TOTL\n",
      "3  1990-04-01     Sweden   80582.286  NYGDPMKTPSAKD   8558835   SP.POP.TOTL\n",
      "4  1990-07-01  Australia  157329.279  NYGDPMKTPSAKD   8558835   SP.POP.TOTL\n"
     ]
    }
   ],
   "source": [
    "# Merge gdp and pop on date and country with fill and notice rows 2 and 3\n",
    "ctry_date = pd.merge_ordered(gdp, pop, on=('date', 'country'),\n",
    "                             fill_method='ffill')\n",
    "\n",
    "# Print ctry_date\n",
    "print(ctry_date.head(5))"
   ]
  },
  {
   "cell_type": "code",
   "execution_count": 97,
   "metadata": {},
   "outputs": [
    {
     "name": "stdout",
     "output_type": "stream",
     "text": [
      "          date    country         gdp  series_code_x       pop series_code_y\n",
      "0   1990-01-01  Australia  158051.132  NYGDPMKTPSAKD  17065100   SP.POP.TOTL\n",
      "1   1990-04-01  Australia  158263.582  NYGDPMKTPSAKD  17065100   SP.POP.TOTL\n",
      "2   1990-07-01  Australia  157329.279  NYGDPMKTPSAKD  17065100   SP.POP.TOTL\n",
      "3   1990-09-01  Australia  158240.678  NYGDPMKTPSAKD  17065100   SP.POP.TOTL\n",
      "4   1991-01-01  Australia  156195.954  NYGDPMKTPSAKD  17284000   SP.POP.TOTL\n",
      "5   1991-04-01  Australia  155989.033  NYGDPMKTPSAKD  17284000   SP.POP.TOTL\n",
      "6   1991-07-01  Australia  156635.858  NYGDPMKTPSAKD  17284000   SP.POP.TOTL\n",
      "7   1991-09-01  Australia  156744.057  NYGDPMKTPSAKD  17284000   SP.POP.TOTL\n",
      "8   1992-01-01  Australia  157916.081  NYGDPMKTPSAKD  17495000   SP.POP.TOTL\n",
      "9   1992-04-01  Australia  159047.827  NYGDPMKTPSAKD  17495000   SP.POP.TOTL\n",
      "10  1992-07-01  Australia  160658.176  NYGDPMKTPSAKD  17495000   SP.POP.TOTL\n",
      "11  1992-09-01  Australia  163960.221  NYGDPMKTPSAKD  17495000   SP.POP.TOTL\n",
      "12  1993-01-01  Australia  165097.495  NYGDPMKTPSAKD  17667000   SP.POP.TOTL\n",
      "13  1993-04-01  Australia  166027.059  NYGDPMKTPSAKD  17667000   SP.POP.TOTL\n",
      "14  1993-07-01  Australia  166203.179  NYGDPMKTPSAKD  17667000   SP.POP.TOTL\n",
      "15  1993-09-01  Australia  169279.348  NYGDPMKTPSAKD  17667000   SP.POP.TOTL\n",
      "16  1990-01-01     Sweden   79837.846  NYGDPMKTPSAKD   8558835   SP.POP.TOTL\n",
      "17  1990-04-01     Sweden   80582.286  NYGDPMKTPSAKD   8558835   SP.POP.TOTL\n",
      "18  1990-07-01     Sweden   79974.360  NYGDPMKTPSAKD   8558835   SP.POP.TOTL\n",
      "19  1990-09-01     Sweden   80106.497  NYGDPMKTPSAKD   8558835   SP.POP.TOTL\n"
     ]
    }
   ],
   "source": [
    "# Merge gdp and pop on country and date with fill\n",
    "date_ctry = pd.merge_ordered(gdp, pop, on=('country','date'), fill_method='ffill')\n",
    "\n",
    "# Print date_ctry\n",
    "print(date_ctry.head(20))"
   ]
  },
  {
   "cell_type": "markdown",
   "metadata": {},
   "source": [
    "- When we merge on `date` first, the table is sorted by `date` then `country`.\n",
    "- When forward fill is applied, Sweden's population value in January is used to fill in the missing values for both Australia and Sweden for the remainder of the year. \n",
    "- This is not what we want. The fill forward is using unintended data to fill in the missing values.\n",
    "- However, when we merge on country first, the table is sorted by country then date, so the forward fill is applied appropriately in this situation."
   ]
  },
  {
   "cell_type": "markdown",
   "metadata": {},
   "source": [
    "#### pd.merge_asof method\n",
    "\n",
    "<img src='../img/merge_asof.jpg' width='600'>\n",
    "\n",
    "The merge_asof() method is similar to an ordered left join. It has similar features as merge_ordered().\n",
    "- However, unlike an ordered left join, merge_asof() will match on the nearest value columns rather than equal values. \n",
    "- This brings up an important point - whatever columns you merge on must be sorted. \n",
    "- In the table shown here, when we merge on column \"C\", we bring back all of the rows from the left table.\n",
    "\n",
    "**When to use?**\n",
    "- When working with data sampled from a process and the dates or times may not exactly align.\n",
    "- When working on a time-series training set, where we do not want any events from the future to be visible before that point in time."
   ]
  },
  {
   "cell_type": "markdown",
   "metadata": {},
   "source": [
    "**Using merge_asof() to study stocks**"
   ]
  },
  {
   "cell_type": "code",
   "execution_count": 106,
   "metadata": {},
   "outputs": [
    {
     "data": {
      "text/html": [
       "<div>\n",
       "<style scoped>\n",
       "    .dataframe tbody tr th:only-of-type {\n",
       "        vertical-align: middle;\n",
       "    }\n",
       "\n",
       "    .dataframe tbody tr th {\n",
       "        vertical-align: top;\n",
       "    }\n",
       "\n",
       "    .dataframe thead th {\n",
       "        text-align: right;\n",
       "    }\n",
       "</style>\n",
       "<table border=\"1\" class=\"dataframe\">\n",
       "  <thead>\n",
       "    <tr style=\"text-align: right;\">\n",
       "      <th></th>\n",
       "      <th>date_time</th>\n",
       "      <th>close</th>\n",
       "    </tr>\n",
       "  </thead>\n",
       "  <tbody>\n",
       "    <tr>\n",
       "      <th>0</th>\n",
       "      <td>2017-11-17 15:35:17</td>\n",
       "      <td>98.12</td>\n",
       "    </tr>\n",
       "    <tr>\n",
       "      <th>1</th>\n",
       "      <td>2017-11-17 15:40:04</td>\n",
       "      <td>98.18</td>\n",
       "    </tr>\n",
       "  </tbody>\n",
       "</table>\n",
       "</div>"
      ],
      "text/plain": [
       "            date_time  close\n",
       "0 2017-11-17 15:35:17  98.12\n",
       "1 2017-11-17 15:40:04  98.18"
      ]
     },
     "execution_count": 106,
     "metadata": {},
     "output_type": "execute_result"
    }
   ],
   "source": [
    "data = {\n",
    "    'date_time': ['2017-11-17 15:35:17', '2017-11-17 15:40:04', '2017-11-17 15:45:01', '2017-11-17 15:50:55', '2017-11-17 15:55:00', '2017-11-17 16:00:30', '2017-11-17 16:05:07', '2017-11-17 16:10:08', '2017-11-17 16:15:11', '2017-11-17 16:20:29', '2017-11-17 16:25:25', '2017-11-17 16:30:53', '2017-11-17 16:35:11', '2017-11-17 16:40:44', '2017-11-17 16:45:52', '2017-11-17 16:50:37', '2017-11-17 16:55:02'],\n",
    "    'close': [98.120, 98.180, 97.731, 97.740, 97.815, 98.020, 97.800, 97.840, 97.710, 97.760, 97.820, 97.950, 97.990, 98.060, 98.050, 98.110, 98.180]\n",
    "}\n",
    "\n",
    "jpm = pd.DataFrame(data)\n",
    "# Convert 'date_time' to datetime objects (Absolutely crucial for time series)\n",
    "jpm['date_time'] = pd.to_datetime(jpm['date_time'])\n",
    "\n",
    "jpm.head(2)"
   ]
  },
  {
   "cell_type": "code",
   "execution_count": 108,
   "metadata": {},
   "outputs": [
    {
     "data": {
      "text/html": [
       "<div>\n",
       "<style scoped>\n",
       "    .dataframe tbody tr th:only-of-type {\n",
       "        vertical-align: middle;\n",
       "    }\n",
       "\n",
       "    .dataframe tbody tr th {\n",
       "        vertical-align: top;\n",
       "    }\n",
       "\n",
       "    .dataframe thead th {\n",
       "        text-align: right;\n",
       "    }\n",
       "</style>\n",
       "<table border=\"1\" class=\"dataframe\">\n",
       "  <thead>\n",
       "    <tr style=\"text-align: right;\">\n",
       "      <th></th>\n",
       "      <th>date_time</th>\n",
       "      <th>close</th>\n",
       "    </tr>\n",
       "  </thead>\n",
       "  <tbody>\n",
       "    <tr>\n",
       "      <th>0</th>\n",
       "      <td>2017-11-17 15:35:08</td>\n",
       "      <td>54.323</td>\n",
       "    </tr>\n",
       "    <tr>\n",
       "      <th>1</th>\n",
       "      <td>2017-11-17 15:40:00</td>\n",
       "      <td>54.320</td>\n",
       "    </tr>\n",
       "  </tbody>\n",
       "</table>\n",
       "</div>"
      ],
      "text/plain": [
       "            date_time   close\n",
       "0 2017-11-17 15:35:08  54.323\n",
       "1 2017-11-17 15:40:00  54.320"
      ]
     },
     "execution_count": 108,
     "metadata": {},
     "output_type": "execute_result"
    }
   ],
   "source": [
    "data = {\n",
    "    'date_time': ['2017-11-17 15:35:08', '2017-11-17 15:40:00', '2017-11-17 15:45:32', '2017-11-17 15:50:07', '2017-11-17 15:55:00', '2017-11-17 16:00:30', '2017-11-17 16:05:52', '2017-11-17 16:10:22', '2017-11-17 16:15:43', '2017-11-17 16:20:07', '2017-11-17 16:25:13', '2017-11-17 16:30:04', '2017-11-17 16:35:32', '2017-11-17 16:40:09', '2017-11-17 16:45:24', '2017-11-17 16:50:28', '2017-11-17 16:55:42'],\n",
    "    'close': [54.323, 54.320, 54.190, 54.170, 54.184, 54.265, 54.200, 54.155, 54.190, 54.205, 54.230, 54.220, 54.220, 54.280, 54.240, 54.170, 54.180]\n",
    "}\n",
    "\n",
    "wells = pd.DataFrame(data)\n",
    "wells['date_time'] = pd.to_datetime(wells['date_time'])\n",
    "wells.head(2)"
   ]
  },
  {
   "cell_type": "code",
   "execution_count": 109,
   "metadata": {},
   "outputs": [
    {
     "data": {
      "text/html": [
       "<div>\n",
       "<style scoped>\n",
       "    .dataframe tbody tr th:only-of-type {\n",
       "        vertical-align: middle;\n",
       "    }\n",
       "\n",
       "    .dataframe tbody tr th {\n",
       "        vertical-align: top;\n",
       "    }\n",
       "\n",
       "    .dataframe thead th {\n",
       "        text-align: right;\n",
       "    }\n",
       "</style>\n",
       "<table border=\"1\" class=\"dataframe\">\n",
       "  <thead>\n",
       "    <tr style=\"text-align: right;\">\n",
       "      <th></th>\n",
       "      <th>date_time</th>\n",
       "      <th>close</th>\n",
       "    </tr>\n",
       "  </thead>\n",
       "  <tbody>\n",
       "    <tr>\n",
       "      <th>0</th>\n",
       "      <td>2017-11-17 15:35:17</td>\n",
       "      <td>26.552</td>\n",
       "    </tr>\n",
       "    <tr>\n",
       "      <th>1</th>\n",
       "      <td>2017-11-17 15:40:06</td>\n",
       "      <td>26.552</td>\n",
       "    </tr>\n",
       "  </tbody>\n",
       "</table>\n",
       "</div>"
      ],
      "text/plain": [
       "            date_time   close\n",
       "0 2017-11-17 15:35:17  26.552\n",
       "1 2017-11-17 15:40:06  26.552"
      ]
     },
     "execution_count": 109,
     "metadata": {},
     "output_type": "execute_result"
    }
   ],
   "source": [
    "data = {\n",
    "    'date_time': ['2017-11-17 15:35:17', '2017-11-17 15:40:06', '2017-11-17 15:45:05', '2017-11-17 15:50:34', '2017-11-17 15:55:06', '2017-11-17 16:00:18', '2017-11-17 16:05:20', '2017-11-17 16:10:05', '2017-11-17 16:15:07', '2017-11-17 16:20:29', '2017-11-17 16:25:00', '2017-11-17 16:30:18', '2017-11-17 16:35:08', '2017-11-17 16:40:46', '2017-11-17 16:45:55', '2017-11-17 16:50:05', '2017-11-17 16:55:02'],\n",
    "    'close': [26.552, 26.552, 26.388, 26.378, 26.383, 26.452, 26.373, 26.388, 26.369, 26.388, 26.467, 26.482, 26.492, 26.527, 26.522, 26.547, 26.567]\n",
    "}\n",
    "\n",
    "bac = pd.DataFrame(data)\n",
    "bac['date_time'] = pd.to_datetime(bac['date_time'])\n",
    "bac.head(2)"
   ]
  },
  {
   "cell_type": "code",
   "execution_count": 110,
   "metadata": {},
   "outputs": [],
   "source": [
    "# Use merge_asof() to merge jpm and wells\n",
    "jpm_wells = pd.merge_asof(jpm, wells, on='date_time', suffixes=('', '_wells'), direction='nearest')"
   ]
  },
  {
   "cell_type": "code",
   "execution_count": 111,
   "metadata": {},
   "outputs": [],
   "source": [
    "# Use merge_asof() to merge jpm_wells and bac\n",
    "jpm_wells_bac = pd.merge_asof(jpm_wells, bac, on='date_time', suffixes=('_jpm', '_bac'), direction='nearest')"
   ]
  },
  {
   "cell_type": "code",
   "execution_count": 112,
   "metadata": {},
   "outputs": [],
   "source": [
    "# Compute price diff\n",
    "price_diffs = jpm_wells_bac.diff()"
   ]
  },
  {
   "cell_type": "code",
   "execution_count": 113,
   "metadata": {},
   "outputs": [
    {
     "data": {
      "image/png": "[encoded data removed]",
      "text/plain": [
       "<Figure size 640x480 with 1 Axes>"
      ]
     },
     "metadata": {},
     "output_type": "display_data"
    }
   ],
   "source": [
    "# Plot the price diff of the close of jpm, wells and bac only\n",
    "price_diffs.plot(y=['close_jpm', 'close_wells', 'close_bac'])\n",
    "plt.show()"
   ]
  },
  {
   "cell_type": "markdown",
   "metadata": {},
   "source": [
    "We can see that during this period, the price change for these bank stocks was roughly the same, although the price change for _JP Morgan_ was more variable. The critical point here is that the merge_asof() function is very useful in performing the fuzzy matching between the timestamps of all the tables."
   ]
  },
  {
   "cell_type": "markdown",
   "metadata": {},
   "source": [
    "**Using merge_asof() to create dataset**"
   ]
  },
  {
   "cell_type": "code",
   "execution_count": 115,
   "metadata": {},
   "outputs": [
    {
     "data": {
      "text/html": [
       "<div>\n",
       "<style scoped>\n",
       "    .dataframe tbody tr th:only-of-type {\n",
       "        vertical-align: middle;\n",
       "    }\n",
       "\n",
       "    .dataframe tbody tr th {\n",
       "        vertical-align: top;\n",
       "    }\n",
       "\n",
       "    .dataframe thead th {\n",
       "        text-align: right;\n",
       "    }\n",
       "</style>\n",
       "<table border=\"1\" class=\"dataframe\">\n",
       "  <thead>\n",
       "    <tr style=\"text-align: right;\">\n",
       "      <th></th>\n",
       "      <th>date</th>\n",
       "      <th>gdp</th>\n",
       "    </tr>\n",
       "  </thead>\n",
       "  <tbody>\n",
       "    <tr>\n",
       "      <th>0</th>\n",
       "      <td>1979-01-01</td>\n",
       "      <td>2526.610</td>\n",
       "    </tr>\n",
       "    <tr>\n",
       "      <th>1</th>\n",
       "      <td>1979-04-01</td>\n",
       "      <td>2591.247</td>\n",
       "    </tr>\n",
       "  </tbody>\n",
       "</table>\n",
       "</div>"
      ],
      "text/plain": [
       "        date       gdp\n",
       "0 1979-01-01  2526.610\n",
       "1 1979-04-01  2591.247"
      ]
     },
     "execution_count": 115,
     "metadata": {},
     "output_type": "execute_result"
    }
   ],
   "source": [
    "data = {\n",
    "    'date': ['1979-01-01', '1979-04-01', '1979-07-01', '1979-10-01', '1980-01-01', '1980-04-01', '1980-07-01', '1980-10-01', '1981-01-01', '1981-04-01', '1981-07-01', '1981-10-01', '1982-01-01', '1982-04-01', '1982-07-01', '1982-10-01', '1983-01-01', '1983-04-01', '1983-07-01', '1983-10-01', '1984-01-01', '1984-04-01', '1984-07-01', '1984-10-01'],\n",
    "    'gdp': [2526.610, 2591.247, 2667.565, 2723.883, 2789.842, 2797.352, 2856.483, 2985.557, 3124.206, 3162.532, 3260.609, 3280.818, 3274.302, 3331.972, 3366.322, 3402.561, 3473.413, 3578.848, 3689.179, 3794.706, 3908.054, 4009.601, 4084.250, 4148.551]\n",
    "}\n",
    "\n",
    "gdp = pd.DataFrame(data)\n",
    "\n",
    "# Convert 'date' to datetime objects (Crucial for time series)\n",
    "gdp['date'] = pd.to_datetime(gdp['date'])\n",
    "gdp.head(2)"
   ]
  },
  {
   "cell_type": "code",
   "execution_count": 116,
   "metadata": {},
   "outputs": [
    {
     "data": {
      "text/html": [
       "<div>\n",
       "<style scoped>\n",
       "    .dataframe tbody tr th:only-of-type {\n",
       "        vertical-align: middle;\n",
       "    }\n",
       "\n",
       "    .dataframe tbody tr th {\n",
       "        vertical-align: top;\n",
       "    }\n",
       "\n",
       "    .dataframe thead th {\n",
       "        text-align: right;\n",
       "    }\n",
       "</style>\n",
       "<table border=\"1\" class=\"dataframe\">\n",
       "  <thead>\n",
       "    <tr style=\"text-align: right;\">\n",
       "      <th></th>\n",
       "      <th>date</th>\n",
       "      <th>econ_status</th>\n",
       "    </tr>\n",
       "  </thead>\n",
       "  <tbody>\n",
       "    <tr>\n",
       "      <th>0</th>\n",
       "      <td>1980-01-01</td>\n",
       "      <td>recession</td>\n",
       "    </tr>\n",
       "    <tr>\n",
       "      <th>1</th>\n",
       "      <td>1980-08-01</td>\n",
       "      <td>normal</td>\n",
       "    </tr>\n",
       "  </tbody>\n",
       "</table>\n",
       "</div>"
      ],
      "text/plain": [
       "        date econ_status\n",
       "0 1980-01-01   recession\n",
       "1 1980-08-01      normal"
      ]
     },
     "execution_count": 116,
     "metadata": {},
     "output_type": "execute_result"
    }
   ],
   "source": [
    "data = {\n",
    "    'date': ['1980-01-01', '1980-08-01', '1981-07-01', '1982-12-01', '1990-07-01', '1991-04-01', '2001-03-01', '2001-12-01', '2007-12-01', '2009-07-01'],\n",
    "    'econ_status': ['recession', 'normal', 'recession', 'normal', 'recession', 'normal', 'recession', 'normal', 'recession', 'normal']\n",
    "}\n",
    "\n",
    "recession = pd.DataFrame(data)\n",
    "\n",
    "# Convert 'date' to datetime objects (Essential for time series)\n",
    "recession['date'] = pd.to_datetime(recession['date'])\n",
    "recession.head(2)"
   ]
  },
  {
   "cell_type": "code",
   "execution_count": 117,
   "metadata": {},
   "outputs": [],
   "source": [
    "# Merge gdp and recession on date using merge_asof()\n",
    "gdp_recession = pd.merge_asof(gdp, recession, on='date')"
   ]
  },
  {
   "cell_type": "code",
   "execution_count": 118,
   "metadata": {},
   "outputs": [],
   "source": [
    "# Create a list based on the row value of gdp_recession['econ_status']\n",
    "is_recession = ['r' if s=='recession' else 'g' for s in gdp_recession['econ_status']]"
   ]
  },
  {
   "cell_type": "code",
   "execution_count": 119,
   "metadata": {},
   "outputs": [
    {
     "data": {
      "image/png": "[encoded data removed]",
      "text/plain": [
       "<Figure size 640x480 with 1 Axes>"
      ]
     },
     "metadata": {},
     "output_type": "display_data"
    }
   ],
   "source": [
    "# Plot a bar chart of gdp_recession\n",
    "gdp_recession.plot(kind='bar', y='gdp', x='date', color=is_recession, rot=90)\n",
    "plt.show()"
   ]
  },
  {
   "cell_type": "markdown",
   "metadata": {},
   "source": [
    "- We can see from the chart that there were a number of quarters early in the 1980s where a recession was an issue. merge_asof() allowed you to quickly add a flag to the gdp dataset by matching between two different dates, in one line of code!\n",
    "- If you were to perform the same task using subsetting, it would have taken a lot more code."
   ]
  },
  {
   "cell_type": "markdown",
   "metadata": {},
   "source": [
    "| merge_asof() | Both | merge_ordered() |\n",
    "|-------------|------|----------------|\n",
    "| It can be used to do fuzzy matching of dates between tables. ✅ | This function can be used when working with ordered or time-series data. ✅ | It allows for a right join during the merge. ✅ |\n",
    "| After matching two tables, if there are missing values at the top of the table from the right table, this function can fill them in. ✅ | This function can set the suffix for overlapping column names. ✅ | If it cannot match the rows of the tables exactly, it can use forward fill to interpolate the missing data. ✅ |"
   ]
  },
  {
   "cell_type": "markdown",
   "metadata": {},
   "source": [
    "#### Selecting data with .query()"
   ]
  },
  {
   "cell_type": "markdown",
   "metadata": {},
   "source": [
    "- Pandas provides many methods for selecting data, and query() is one of them.\n",
    "- The query() method accepts an input string that it will use to select rows to return from the table."
   ]
  },
  {
   "cell_type": "code",
   "execution_count": 124,
   "metadata": {},
   "outputs": [
    {
     "name": "stdout",
     "output_type": "stream",
     "text": [
      "         date    country         gdp    series_code\n",
      "0  1990-01-01  Australia  158051.132  NYGDPMKTPSAKD\n",
      "1  1990-04-01  Australia  158263.582  NYGDPMKTPSAKD\n"
     ]
    }
   ],
   "source": [
    "data = {'date': ['1990-01-01', '1990-04-01', '1990-07-01', '1990-09-01', '1991-01-01', '1991-04-01', '1991-07-01', '1991-09-01', '1992-01-01', '1992-04-01', '1992-07-01', '1992-09-01', '1993-01-01', '1993-04-01', '1993-07-01', '1993-09-01', '1990-01-01', '1990-04-01', '1990-07-01', '1990-09-01', '1991-01-01', '1991-04-01', '1991-07-01', '1991-09-01', '1992-01-01', '1992-04-01', '1992-07-01', '1992-09-01', '1993-01-01', '1993-04-01', '1993-07-01', '1993-09-01'],\n",
    "        'country': ['Australia', 'Australia', 'Australia', 'Australia', 'Australia', 'Australia', 'Australia', 'Australia', 'Australia', 'Australia', 'Australia', 'Australia', 'Australia', 'Australia', 'Australia', 'Australia', 'Sweden', 'Sweden', 'Sweden', 'Sweden', 'Sweden', 'Sweden', 'Sweden', 'Sweden', 'Sweden', 'Sweden', 'Sweden', 'Sweden', 'Sweden', 'Sweden', 'Sweden', 'Sweden'],\n",
    "        'gdp': [158051.132, 158263.582, 157329.279, 158240.678, 156195.954, 155989.033, 156635.858, 156744.057, 157916.081, 159047.827, 160658.176, 163960.221, 165097.495, 166027.059, 166203.179, 169279.348, 79837.846, 80582.286, 79974.360, 80106.497, 79524.242, 79073.059, 79084.770, 79740.606, 79390.922, 79060.283, 78904.605, 76996.837, 75783.588, 76708.548, 77662.018, 77703.304],\n",
    "        'series_code': ['NYGDPMKTPSAKD'] * 32}  # Efficiently creates the series_code column\n",
    "\n",
    "gdp = pd.DataFrame(data)\n",
    "\n",
    "print(gdp.head(2))"
   ]
  },
  {
   "cell_type": "code",
   "execution_count": 125,
   "metadata": {},
   "outputs": [],
   "source": [
    "# Merge gdp and pop on date and country with fill\n",
    "gdp_pop = pd.merge_ordered(gdp, pop, on=['country','date'], fill_method='ffill')"
   ]
  },
  {
   "cell_type": "code",
   "execution_count": 126,
   "metadata": {},
   "outputs": [],
   "source": [
    "# Add a column named gdp_per_capita to gdp_pop that divides the gdp by pop\n",
    "gdp_pop['gdp_per_capita'] = gdp_pop['gdp'] / gdp_pop['pop']"
   ]
  },
  {
   "cell_type": "code",
   "execution_count": 127,
   "metadata": {},
   "outputs": [],
   "source": [
    "# Pivot data so gdp_per_capita, where index is date and columns is country\n",
    "gdp_pivot = gdp_pop.pivot_table('gdp_per_capita', 'date', 'country')"
   ]
  },
  {
   "cell_type": "code",
   "execution_count": 128,
   "metadata": {},
   "outputs": [],
   "source": [
    "# Select dates equal to or greater than 1991-01-01\n",
    "recent_gdp_pop = gdp_pivot.query('date >= \"1991-01-01\"')"
   ]
  },
  {
   "cell_type": "code",
   "execution_count": 129,
   "metadata": {},
   "outputs": [
    {
     "data": {
      "image/png": "[encoded data removed]",
      "text/plain": [
       "<Figure size 640x480 with 1 Axes>"
      ]
     },
     "metadata": {},
     "output_type": "display_data"
    }
   ],
   "source": [
    "# Plot recent_gdp_pop\n",
    "recent_gdp_pop.plot(rot=90)\n",
    "plt.show()"
   ]
  },
  {
   "cell_type": "markdown",
   "metadata": {},
   "source": [
    "We can see from the plot that the per capita GDP of Australia passed Sweden in 1992."
   ]
  },
  {
   "cell_type": "markdown",
   "metadata": {},
   "source": [
    "#### Reshaping data with .melt()"
   ]
  },
  {
   "cell_type": "code",
   "execution_count": 155,
   "metadata": {},
   "outputs": [
    {
     "name": "stdout",
     "output_type": "stream",
     "text": [
      "DataFrame Info:\n",
      "<class 'pandas.core.frame.DataFrame'>\n",
      "RangeIndex: 11 entries, 0 to 10\n",
      "Data columns (total 13 columns):\n",
      " #   Column  Non-Null Count  Dtype  \n",
      "---  ------  --------------  -----  \n",
      " 0   year    11 non-null     object \n",
      " 1   jan     11 non-null     float64\n",
      " 2   feb     11 non-null     float64\n",
      " 3   mar     11 non-null     float64\n",
      " 4   apr     10 non-null     float64\n",
      " 5   may     10 non-null     float64\n",
      " 6   jun     10 non-null     float64\n",
      " 7   jul     10 non-null     float64\n",
      " 8   aug     10 non-null     float64\n",
      " 9   sep     10 non-null     float64\n",
      " 10  oct     10 non-null     float64\n",
      " 11  nov     10 non-null     float64\n",
      " 12  dec     10 non-null     float64\n",
      "dtypes: float64(12), object(1)\n",
      "memory usage: 1.2+ KB\n",
      "None\n",
      "\n",
      "First few rows:\n",
      "   year  jan  feb  mar  apr  may  jun  jul  aug  sep  oct  nov  dec\n",
      "0  2010  9.8  9.8  9.9  9.9  9.6  9.4  9.4  9.5  9.5  9.4  9.8  9.3\n",
      "1  2011  9.1  9.0  9.0  9.1  9.0  9.1  9.0  9.0  9.0  8.8  8.6  8.5\n",
      "2  2012  8.3  8.3  8.2  8.2  8.2  8.2  8.2  8.1  7.8  7.8  7.7  7.9\n",
      "3  2013  8.0  7.7  7.5  7.6  7.5  7.5  7.3  7.2  7.2  7.2  6.9  6.7\n",
      "4  2014  6.6  6.7  6.7  6.2  6.3  6.1  6.2  6.1  5.9  5.7  5.8  5.6\n"
     ]
    }
   ],
   "source": [
    "import numpy as np\n",
    "\n",
    "# Create complete data dictionary\n",
    "data = {\n",
    "    'year': ['2010', '2011', '2012', '2013', '2014', '2015', \n",
    "             '2016', '2017', '2018', '2019', '2020'],\n",
    "    'jan': [9.8, 9.1, 8.3, 8.0, 6.6, 5.7, 4.9, 4.7, 4.1, 4.0, 3.6],\n",
    "    'feb': [9.8, 9.0, 8.3, 7.7, 6.7, 5.5, 4.9, 4.6, 4.1, 3.8, 3.5],\n",
    "    'mar': [9.9, 9.0, 8.2, 7.5, 6.7, 5.4, 5.0, 4.4, 4.0, 3.8, 4.4],\n",
    "    'apr': [9.9, 9.1, 8.2, 7.6, 6.2, 5.4, 5.0, 4.4, 4.0, 3.6, np.nan],\n",
    "    'may': [9.6, 9.0, 8.2, 7.5, 6.3, 5.6, 4.8, 4.4, 3.8, 3.6, np.nan],\n",
    "    'jun': [9.4, 9.1, 8.2, 7.5, 6.1, 5.3, 4.9, 4.3, 4.0, 3.7, np.nan],\n",
    "    'jul': [9.4, 9.0, 8.2, 7.3, 6.2, 5.2, 4.8, 4.3, 3.8, 3.7, np.nan],\n",
    "    'aug': [9.5, 9.0, 8.1, 7.2, 6.1, 5.1, 4.9, 4.4, 3.8, 3.7, np.nan],\n",
    "    'sep': [9.5, 9.0, 7.8, 7.2, 5.9, 5.0, 5.0, 4.2, 3.7, 3.5, np.nan],\n",
    "    'oct': [9.4, 8.8, 7.8, 7.2, 5.7, 5.0, 4.9, 4.1, 3.8, 3.6, np.nan],\n",
    "    'nov': [9.8, 8.6, 7.7, 6.9, 5.8, 5.1, 4.7, 4.2, 3.7, 3.5, np.nan],\n",
    "    'dec': [9.3, 8.5, 7.9, 6.7, 5.6, 5.0, 4.7, 4.1, 3.9, 3.5, np.nan]\n",
    "}\n",
    "\n",
    "# Create DataFrame\n",
    "ur_wide = pd.DataFrame(data)\n",
    "\n",
    "# Verify the structure\n",
    "print(\"DataFrame Info:\")\n",
    "print(ur_wide.info())\n",
    "\n",
    "print(\"\\nFirst few rows:\")\n",
    "print(ur_wide.head())"
   ]
  },
  {
   "cell_type": "code",
   "execution_count": 156,
   "metadata": {},
   "outputs": [
    {
     "name": "stderr",
     "output_type": "stream",
     "text": [
      "/var/folders/jn/9nlkdx3s70bfdjtw_1q5jnvm0000gn/T/ipykernel_43965/2147242117.py:6: UserWarning: Could not infer format, so each element will be parsed individually, falling back to `dateutil`. To ensure parsing is consistent and as-expected, please specify a format.\n",
      "  ur_tall['date'] = pd.to_datetime(ur_tall['month'] + '-' + ur_tall['year'])\n"
     ]
    },
    {
     "data": {
      "image/png": "[encoded data removed]",
      "text/plain": [
       "<Figure size 640x480 with 1 Axes>"
      ]
     },
     "metadata": {},
     "output_type": "display_data"
    }
   ],
   "source": [
    "# unpivot everything besides the year column\n",
    "ur_tall = ur_wide.melt(id_vars=['year'], var_name='month', value_name='unempl_rate')\n",
    "\n",
    "\n",
    "# Create a date column using the month and year columns of ur_tall\n",
    "ur_tall['date'] = pd.to_datetime(ur_tall['month'] + '-' + ur_tall['year'])\n",
    "\n",
    "# Sort ur_tall by date in ascending order\n",
    "ur_sorted = ur_tall.sort_values('date')\n",
    "\n",
    "# Plot the unempl_rate by date\n",
    "# Plot the unempl_rate by date\n",
    "ur_sorted.plot(x='date', y='unempl_rate')\n",
    "plt.show()"
   ]
  },
  {
   "cell_type": "markdown",
   "metadata": {},
   "source": [
    "The plot shows a steady decrease in the unemployment rate with an increase near the end. This increase is likely the effect of the COVID-19 pandemic and its impact on shutting down most of the US economy. In general, data is often provided (_especially by governments_) in a format that is easily read by people but not by machines."
   ]
  },
  {
   "cell_type": "markdown",
   "metadata": {},
   "source": [
    "**Using .melt() for stocks vs bond performance**\n",
    "\n",
    "- It is widespread knowledge that the price of bonds is inversely related to the price of stocks.\n",
    "- We have been given a table of percent change of the `US 10-year treasury bond price`. It is in a wide format where there is a separate column for each year. We will need to use the .melt() method to reshape this table.\n",
    "- Additionally, we will use the .query() method to filter out unneeded data. We will merge this table with a table of the `percent change of the Dow Jones Industrial stock index price`. Finally, you will plot data."
   ]
  },
  {
   "cell_type": "code",
   "execution_count": 136,
   "metadata": {},
   "outputs": [
    {
     "name": "stdout",
     "output_type": "stream",
     "text": [
      "  metric  2007-02-01  2007-03-01  2007-04-01  2007-05-01  2007-06-01  \\\n",
      "0   open       0.033      -0.060       0.025      -0.004       0.061   \n",
      "1   high      -0.007      -0.041       0.022       0.031       0.080   \n",
      "2    low      -0.016      -0.008       0.031      -0.002       0.059   \n",
      "3  close      -0.057       0.022      -0.004       0.056       0.029   \n",
      "\n",
      "   2007-07-01  2007-08-01  2007-09-01  2007-10-01  ...  2009-03-01  \\\n",
      "0       0.027      -0.059      -0.046       0.014  ...       0.046   \n",
      "1      -0.022      -0.060      -0.038       0.004  ...      -0.004   \n",
      "2      -0.027      -0.052      -0.043       0.003  ...      -0.062   \n",
      "3      -0.052      -0.049       0.009      -0.023  ...      -0.117   \n",
      "\n",
      "   2009-04-01  2009-05-01  2009-06-01  2009-07-01  2009-08-01  2009-09-01  \\\n",
      "0      -0.103       0.191       0.107       0.024      -0.007      -0.047   \n",
      "1       0.041       0.187       0.068      -0.062       0.032      -0.090   \n",
      "2       0.069       0.168       0.123      -0.055       0.040      -0.036   \n",
      "3       0.164       0.109       0.017      -0.006      -0.029      -0.028   \n",
      "\n",
      "   2009-10-01  2009-11-01  2009-12-01  \n",
      "0      -0.032       0.034      -0.051  \n",
      "1       0.012      -0.004       0.099  \n",
      "2      -0.051       0.030       0.007  \n",
      "3       0.026      -0.056       0.201  \n",
      "\n",
      "[4 rows x 36 columns]\n"
     ]
    }
   ],
   "source": [
    "# Define the data\n",
    "columns = [\"metric\", \"2007-02-01\", \"2007-03-01\", \"2007-04-01\", \"2007-05-01\", \"2007-06-01\", \"2007-07-01\", \n",
    "           \"2007-08-01\", \"2007-09-01\", \"2007-10-01\", \"2007-11-01\", \"2007-12-01\", \"2008-01-01\", \"2008-02-01\", \n",
    "           \"2008-03-01\", \"2008-04-01\", \"2008-05-01\", \"2008-06-01\", \"2008-07-01\", \"2008-08-01\", \"2008-09-01\", \n",
    "           \"2008-10-01\", \"2008-11-01\", \"2008-12-01\", \"2009-01-01\", \"2009-02-01\", \"2009-03-01\", \"2009-04-01\", \n",
    "           \"2009-05-01\", \"2009-06-01\", \"2009-07-01\", \"2009-08-01\", \"2009-09-01\", \"2009-10-01\", \"2009-11-01\", \"2009-12-01\"]\n",
    "\n",
    "data = [\n",
    "    [\"open\", 0.033, -0.060, 0.025, -0.004, 0.061, 0.027, -0.059, -0.046, 0.014, -0.027, -0.115, 0.023, -0.094, -0.025, -0.021, 0.076, 0.073, -0.021, 0.000, -0.024, -0.026, 0.050, -0.268, -0.236, 0.286, 0.046, -0.103, 0.191, 0.107, 0.024, -0.007, -0.047, -0.032, 0.034, -0.051],\n",
    "    [\"high\", -0.007, -0.041, 0.022, 0.031, 0.080, -0.022, -0.060, -0.038, 0.004, -0.056, -0.039, -0.053, -0.023, -0.065, 0.050, 0.065, 0.045, -0.035, -0.020, -0.045, 0.052, -0.035, -0.272, -0.011, 0.069, -0.004, 0.041, 0.187, 0.068, -0.062, 0.032, -0.090, 0.012, -0.004, 0.099],\n",
    "    [\"low\", -0.016, -0.008, 0.031, -0.002, 0.059, -0.027, -0.052, -0.043, 0.003, -0.108, -0.001, -0.146, 0.075, -0.067, 0.043, 0.073, 0.047, -0.023, -0.002, -0.136, 0.046, -0.138, -0.304, 0.059, 0.217, -0.062, 0.069, 0.168, 0.123, -0.055, 0.040, -0.036, -0.051, 0.030, 0.007],\n",
    "    [\"close\", -0.057, 0.022, -0.004, 0.056, 0.029, -0.052, -0.049, 0.009, -0.023, -0.112, 0.016, -0.098, -0.029, -0.029, 0.095, 0.076, -0.017, 0.000, -0.042, 0.004, 0.037, -0.255, -0.241, 0.267, 0.069, -0.117, 0.164, 0.109, 0.017, -0.006, -0.029, -0.028, 0.026, -0.056, 0.201]\n",
    "]\n",
    "\n",
    "# Create DataFrame\n",
    "ten_yr = pd.DataFrame(data, columns=columns)\n",
    "\n",
    "# Display DataFrame\n",
    "print(ten_yr.head(5))"
   ]
  },
  {
   "cell_type": "code",
   "execution_count": 151,
   "metadata": {},
   "outputs": [
    {
     "name": "stdout",
     "output_type": "stream",
     "text": [
      "DataFrame shape: (159, 2)\n"
     ]
    }
   ],
   "source": [
    "import io\n",
    "# Data as string (with proper formatting)\n",
    "data_str = \"\"\"date,close\n",
    "2007-02-01,0.005\n",
    "2007-03-01,-0.026\n",
    "2007-04-01,0.049\n",
    "2007-05-01,0.052\n",
    "2007-06-01,-0.016\n",
    "2007-07-01,0.038\n",
    "2007-08-01,-0.064\n",
    "2007-09-01,0.067\n",
    "2007-10-01,0.002\n",
    "2007-11-01,-0.024\n",
    "2007-12-01,-0.011\n",
    "2008-01-01,-0.059\n",
    "2008-02-01,-0.036\n",
    "2008-03-01,0.013\n",
    "2008-04-01,0.021\n",
    "2008-05-01,-0.001\n",
    "2008-06-01,-0.043\n",
    "2008-07-01,-0.057\n",
    "2008-08-01,0.025\n",
    "2008-09-01,-0.069\n",
    "2008-10-01,-0.154\n",
    "2008-11-01,-0.080\n",
    "2008-12-01,0.058\n",
    "2009-01-01,-0.037\n",
    "2009-02-01,-0.165\n",
    "2009-03-01,0.042\n",
    "2009-04-01,0.065\n",
    "2009-05-01,0.057\n",
    "2009-06-01,0.039\n",
    "2009-07-01,-0.048\n",
    "2009-08-01,0.111\n",
    "2009-09-01,0.058\n",
    "2009-10-01,-0.008\n",
    "2009-11-01,0.077\n",
    "2009-12-01,-0.003\n",
    "2010-01-01,-0.022\n",
    "2010-02-01,0.013\n",
    "2010-03-01,0.051\n",
    "2010-04-01,0.016\n",
    "2010-05-01,-0.080\n",
    "2010-06-01,-0.036\n",
    "2010-07-01,0.078\n",
    "2010-08-01,-0.034\n",
    "2010-09-01,0.067\n",
    "2010-10-01,0.024\n",
    "2010-11-01,-0.002\n",
    "2010-12-01,0.040\n",
    "2011-01-01,0.031\n",
    "2011-02-01,0.014\n",
    "2011-03-01,-0.002\n",
    "2011-04-01,0.03242\n",
    "2011-05-01,0.001199\n",
    "2011-06-01,-0.002194\n",
    "2011-07-01,0.002626\n",
    "2011-08-01,-0.06696\n",
    "2011-09-01,-0.03641\n",
    "2011-10-01,0.02568\n",
    "2011-11-01,0.001359\n",
    "2011-12-01,0.04591\n",
    "2012-01-01,0.05260\n",
    "2012-02-01,0.01774\n",
    "2012-03-01,0.02592\n",
    "2012-04-01,-0.009181\n",
    "2012-05-01,-0.05326\n",
    "2012-06-01,0.03477\n",
    "2012-07-01,-0.0001404\n",
    "2012-08-01,0.03502\n",
    "2012-09-01,0.02425\n",
    "2012-10-01,-0.01827\n",
    "2012-11-01,-0.02697\n",
    "2012-12-01,0.01186\n",
    "2013-01-01,0.02802\n",
    "2013-02-01,0.03652\n",
    "2013-03-01,0.02349\n",
    "2013-04-01,0.03738\n",
    "2013-05-01,0.01685\n",
    "2013-06-01,-0.0002249\n",
    "2013-07-01,0.02563\n",
    "2013-08-01,-0.04249\n",
    "2013-09-01,0.02812\n",
    "2013-10-01,0.007576\n",
    "2013-11-01,0.03268\n",
    "2013-12-01,0.01838\n",
    "2014-01-01,0.01590\n",
    "2014-02-01,-0.01494\n",
    "2014-03-01,0.01477\n",
    "2014-04-01,0.007108\n",
    "2014-05-01,0.01099\n",
    "2014-06-01,0.006544\n",
    "2014-07-01,-0.9930\n",
    "2014-08-01,144.5\n",
    "2014-09-01,-0.003246\n",
    "2014-10-01,0.02040\n",
    "2014-11-01,0.02517\n",
    "2014-12-01,-0.000286\n",
    "2015-01-01,-0.03693\n",
    "2015-02-01,0.05638\n",
    "2015-03-01,-0.01967\n",
    "2015-04-01,0.01475\n",
    "2015-05-01,-0.001530\n",
    "2015-06-01,-0.02172\n",
    "2015-07-01,0.006379\n",
    "2015-08-01,-0.06789\n",
    "2015-09-01,-0.02575\n",
    "2015-10-01,0.09695\n",
    "2015-11-01,0.003193\n",
    "2015-12-01,-0.01664\n",
    "2016-01-01,-0.05502\n",
    "2016-02-01,0.003049\n",
    "2016-03-01,0.07075\n",
    "2016-04-01,0.005004\n",
    "2016-05-01,0.0007652\n",
    "2016-06-01,0.008028\n",
    "2016-07-01,0.02801\n",
    "2016-08-01,-0.001698\n",
    "2016-09-01,-0.005038\n",
    "2016-10-01,-0.009056\n",
    "2016-11-01,0.05408\n",
    "2016-12-01,0.03341\n",
    "2017-01-01,0.005136\n",
    "2017-02-01,0.04773\n",
    "2017-03-01,-0.007159\n",
    "2017-04-01,0.01342\n",
    "2017-05-01,0.003257\n",
    "2017-06-01,0.01623\n",
    "2017-07-01,0.02536\n",
    "2017-08-01,0.002604\n",
    "2017-09-01,0.02082\n",
    "2017-10-01,0.04339\n",
    "2017-11-01,0.03829\n",
    "2017-12-01,0.01841\n",
    "2018-01-01,0.05786\n",
    "2018-02-01,-0.04284\n",
    "2018-03-01,-0.03466\n",
    "2018-04-01,0.00006208\n",
    "2018-05-01,0.01046\n",
    "2018-06-01,-0.005914\n",
    "2018-07-01,0.04713\n",
    "2018-08-01,0.02162\n",
    "2018-09-01,0.01901\n",
    "2018-10-01,-0.05074\n",
    "2018-11-01,0.01683\n",
    "2018-12-01,-0.08658\n",
    "2019-01-01,0.07168\n",
    "2019-02-01,0.03665\n",
    "2019-03-01,0.000490\n",
    "2019-04-01,0.02562\n",
    "2019-05-01,-0.06686\n",
    "2019-06-01,0.07811\n",
    "2019-07-01,NaN\n",
    "2019-08-01,NaN\n",
    "2019-09-01,NaN\n",
    "2019-10-01,0.006779\n",
    "2019-11-01,NaN\n",
    "2019-12-01,NaN\n",
    "2020-01-01,NaN\n",
    "2020-02-01,-0.01045\n",
    "2020-03-01,-0.2161\n",
    "2020-04-01,0.03480\"\"\"\n",
    "\n",
    "# Create DataFrame\n",
    "dji = pd.read_csv(io.StringIO(data_str))\n",
    "\n",
    "# Verify the shape\n",
    "print(f\"DataFrame shape: {dji.shape}\")"
   ]
  },
  {
   "cell_type": "code",
   "execution_count": 153,
   "metadata": {},
   "outputs": [
    {
     "data": {
      "image/png": "[encoded data removed]",
      "text/plain": [
       "<Figure size 640x480 with 1 Axes>"
      ]
     },
     "metadata": {},
     "output_type": "display_data"
    }
   ],
   "source": [
    "# Use melt on ten_yr, unpivot everything besides the metric column\n",
    "bond_perc = ten_yr.melt(id_vars='metric', var_name='date', value_name='close')\n",
    "\n",
    "# Use query on bond_perc to select only the rows where metric=close\n",
    "bond_perc_close = bond_perc.query('metric == \"close\"')\n",
    "\n",
    "# Merge (ordered) dji and bond_perc_close on date with an inner join\n",
    "dow_bond = pd.merge_ordered(dji, bond_perc_close, on='date', how='inner', suffixes=('_dow', '_bond'))\n",
    "\n",
    "# Plot only the close_dow and close_bond columns\n",
    "dow_bond.plot(y=['close_dow', 'close_bond'], x='date', rot=90)\n",
    "plt.show()"
   ]
  },
  {
   "cell_type": "markdown",
   "metadata": {},
   "source": [
    "The plot confirms that the bond and stock prices are inversely correlated. Often as the price of stocks increases, the price for bonds decreases."
   ]
  }
 ],
 "metadata": {
  "kernelspec": {
   "display_name": ".venv-py-datascience",
   "language": "python",
   "name": "python3"
  },
  "language_info": {
   "codemirror_mode": {
    "name": "ipython",
    "version": 3
   },
   "file_extension": ".py",
   "mimetype": "text/x-python",
   "name": "python",
   "nbconvert_exporter": "python",
   "pygments_lexer": "ipython3",
   "version": "3.12.3"
  }
 },
 "nbformat": 4,
 "nbformat_minor": 2
}
